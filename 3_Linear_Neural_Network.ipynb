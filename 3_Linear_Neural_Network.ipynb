{
  "nbformat": 4,
  "nbformat_minor": 0,
  "metadata": {
    "colab": {
      "name": "3 Linear Neural Network.ipynb",
      "provenance": [],
      "authorship_tag": "ABX9TyMYaUrIcamm8vJW0++5sIhd",
      "include_colab_link": true
    },
    "kernelspec": {
      "name": "python3",
      "display_name": "Python 3"
    },
    "language_info": {
      "name": "python"
    },
    "widgets": {
      "application/vnd.jupyter.widget-state+json": {
        "e39910a4c6ca40cbb04da9161be7f375": {
          "model_module": "@jupyter-widgets/controls",
          "model_name": "HBoxModel",
          "model_module_version": "1.5.0",
          "state": {
            "_view_name": "HBoxView",
            "_dom_classes": [],
            "_model_name": "HBoxModel",
            "_view_module": "@jupyter-widgets/controls",
            "_model_module_version": "1.5.0",
            "_view_count": null,
            "_view_module_version": "1.5.0",
            "box_style": "",
            "layout": "IPY_MODEL_ed9f8c1507384c739521f23d9284e963",
            "_model_module": "@jupyter-widgets/controls",
            "children": [
              "IPY_MODEL_3dbec8945eaf4aafb36fc2fe816e58ba",
              "IPY_MODEL_934a88badf53439fb2c16e1166a6641d",
              "IPY_MODEL_427413d854214a558a007738a7fce427"
            ]
          }
        },
        "ed9f8c1507384c739521f23d9284e963": {
          "model_module": "@jupyter-widgets/base",
          "model_name": "LayoutModel",
          "model_module_version": "1.2.0",
          "state": {
            "_view_name": "LayoutView",
            "grid_template_rows": null,
            "right": null,
            "justify_content": null,
            "_view_module": "@jupyter-widgets/base",
            "overflow": null,
            "_model_module_version": "1.2.0",
            "_view_count": null,
            "flex_flow": null,
            "width": null,
            "min_width": null,
            "border": null,
            "align_items": null,
            "bottom": null,
            "_model_module": "@jupyter-widgets/base",
            "top": null,
            "grid_column": null,
            "overflow_y": null,
            "overflow_x": null,
            "grid_auto_flow": null,
            "grid_area": null,
            "grid_template_columns": null,
            "flex": null,
            "_model_name": "LayoutModel",
            "justify_items": null,
            "grid_row": null,
            "max_height": null,
            "align_content": null,
            "visibility": null,
            "align_self": null,
            "height": null,
            "min_height": null,
            "padding": null,
            "grid_auto_rows": null,
            "grid_gap": null,
            "max_width": null,
            "order": null,
            "_view_module_version": "1.2.0",
            "grid_template_areas": null,
            "object_position": null,
            "object_fit": null,
            "grid_auto_columns": null,
            "margin": null,
            "display": null,
            "left": null
          }
        },
        "3dbec8945eaf4aafb36fc2fe816e58ba": {
          "model_module": "@jupyter-widgets/controls",
          "model_name": "HTMLModel",
          "model_module_version": "1.5.0",
          "state": {
            "_view_name": "HTMLView",
            "style": "IPY_MODEL_91d6203ae43a44f98dafd4fac51a5630",
            "_dom_classes": [],
            "description": "",
            "_model_name": "HTMLModel",
            "placeholder": "​",
            "_view_module": "@jupyter-widgets/controls",
            "_model_module_version": "1.5.0",
            "value": "",
            "_view_count": null,
            "_view_module_version": "1.5.0",
            "description_tooltip": null,
            "_model_module": "@jupyter-widgets/controls",
            "layout": "IPY_MODEL_4cc5b02dee90486399383a5a42ad90ae"
          }
        },
        "934a88badf53439fb2c16e1166a6641d": {
          "model_module": "@jupyter-widgets/controls",
          "model_name": "FloatProgressModel",
          "model_module_version": "1.5.0",
          "state": {
            "_view_name": "ProgressView",
            "style": "IPY_MODEL_e9c355ff086e4529bef7ee1c695e0e5c",
            "_dom_classes": [],
            "description": "",
            "_model_name": "FloatProgressModel",
            "bar_style": "success",
            "max": 26421880,
            "_view_module": "@jupyter-widgets/controls",
            "_model_module_version": "1.5.0",
            "value": 26421880,
            "_view_count": null,
            "_view_module_version": "1.5.0",
            "orientation": "horizontal",
            "min": 0,
            "description_tooltip": null,
            "_model_module": "@jupyter-widgets/controls",
            "layout": "IPY_MODEL_8cd2f1897d344987be77f8051681032d"
          }
        },
        "427413d854214a558a007738a7fce427": {
          "model_module": "@jupyter-widgets/controls",
          "model_name": "HTMLModel",
          "model_module_version": "1.5.0",
          "state": {
            "_view_name": "HTMLView",
            "style": "IPY_MODEL_075bdb24610b4caf91d52e9d1f12160c",
            "_dom_classes": [],
            "description": "",
            "_model_name": "HTMLModel",
            "placeholder": "​",
            "_view_module": "@jupyter-widgets/controls",
            "_model_module_version": "1.5.0",
            "value": " 26422272/? [00:01&lt;00:00, 25639420.86it/s]",
            "_view_count": null,
            "_view_module_version": "1.5.0",
            "description_tooltip": null,
            "_model_module": "@jupyter-widgets/controls",
            "layout": "IPY_MODEL_954ccebc42cb4371b54f8c8ef37faa18"
          }
        },
        "91d6203ae43a44f98dafd4fac51a5630": {
          "model_module": "@jupyter-widgets/controls",
          "model_name": "DescriptionStyleModel",
          "model_module_version": "1.5.0",
          "state": {
            "_view_name": "StyleView",
            "_model_name": "DescriptionStyleModel",
            "description_width": "",
            "_view_module": "@jupyter-widgets/base",
            "_model_module_version": "1.5.0",
            "_view_count": null,
            "_view_module_version": "1.2.0",
            "_model_module": "@jupyter-widgets/controls"
          }
        },
        "4cc5b02dee90486399383a5a42ad90ae": {
          "model_module": "@jupyter-widgets/base",
          "model_name": "LayoutModel",
          "model_module_version": "1.2.0",
          "state": {
            "_view_name": "LayoutView",
            "grid_template_rows": null,
            "right": null,
            "justify_content": null,
            "_view_module": "@jupyter-widgets/base",
            "overflow": null,
            "_model_module_version": "1.2.0",
            "_view_count": null,
            "flex_flow": null,
            "width": null,
            "min_width": null,
            "border": null,
            "align_items": null,
            "bottom": null,
            "_model_module": "@jupyter-widgets/base",
            "top": null,
            "grid_column": null,
            "overflow_y": null,
            "overflow_x": null,
            "grid_auto_flow": null,
            "grid_area": null,
            "grid_template_columns": null,
            "flex": null,
            "_model_name": "LayoutModel",
            "justify_items": null,
            "grid_row": null,
            "max_height": null,
            "align_content": null,
            "visibility": null,
            "align_self": null,
            "height": null,
            "min_height": null,
            "padding": null,
            "grid_auto_rows": null,
            "grid_gap": null,
            "max_width": null,
            "order": null,
            "_view_module_version": "1.2.0",
            "grid_template_areas": null,
            "object_position": null,
            "object_fit": null,
            "grid_auto_columns": null,
            "margin": null,
            "display": null,
            "left": null
          }
        },
        "e9c355ff086e4529bef7ee1c695e0e5c": {
          "model_module": "@jupyter-widgets/controls",
          "model_name": "ProgressStyleModel",
          "model_module_version": "1.5.0",
          "state": {
            "_view_name": "StyleView",
            "_model_name": "ProgressStyleModel",
            "description_width": "",
            "_view_module": "@jupyter-widgets/base",
            "_model_module_version": "1.5.0",
            "_view_count": null,
            "_view_module_version": "1.2.0",
            "bar_color": null,
            "_model_module": "@jupyter-widgets/controls"
          }
        },
        "8cd2f1897d344987be77f8051681032d": {
          "model_module": "@jupyter-widgets/base",
          "model_name": "LayoutModel",
          "model_module_version": "1.2.0",
          "state": {
            "_view_name": "LayoutView",
            "grid_template_rows": null,
            "right": null,
            "justify_content": null,
            "_view_module": "@jupyter-widgets/base",
            "overflow": null,
            "_model_module_version": "1.2.0",
            "_view_count": null,
            "flex_flow": null,
            "width": null,
            "min_width": null,
            "border": null,
            "align_items": null,
            "bottom": null,
            "_model_module": "@jupyter-widgets/base",
            "top": null,
            "grid_column": null,
            "overflow_y": null,
            "overflow_x": null,
            "grid_auto_flow": null,
            "grid_area": null,
            "grid_template_columns": null,
            "flex": null,
            "_model_name": "LayoutModel",
            "justify_items": null,
            "grid_row": null,
            "max_height": null,
            "align_content": null,
            "visibility": null,
            "align_self": null,
            "height": null,
            "min_height": null,
            "padding": null,
            "grid_auto_rows": null,
            "grid_gap": null,
            "max_width": null,
            "order": null,
            "_view_module_version": "1.2.0",
            "grid_template_areas": null,
            "object_position": null,
            "object_fit": null,
            "grid_auto_columns": null,
            "margin": null,
            "display": null,
            "left": null
          }
        },
        "075bdb24610b4caf91d52e9d1f12160c": {
          "model_module": "@jupyter-widgets/controls",
          "model_name": "DescriptionStyleModel",
          "model_module_version": "1.5.0",
          "state": {
            "_view_name": "StyleView",
            "_model_name": "DescriptionStyleModel",
            "description_width": "",
            "_view_module": "@jupyter-widgets/base",
            "_model_module_version": "1.5.0",
            "_view_count": null,
            "_view_module_version": "1.2.0",
            "_model_module": "@jupyter-widgets/controls"
          }
        },
        "954ccebc42cb4371b54f8c8ef37faa18": {
          "model_module": "@jupyter-widgets/base",
          "model_name": "LayoutModel",
          "model_module_version": "1.2.0",
          "state": {
            "_view_name": "LayoutView",
            "grid_template_rows": null,
            "right": null,
            "justify_content": null,
            "_view_module": "@jupyter-widgets/base",
            "overflow": null,
            "_model_module_version": "1.2.0",
            "_view_count": null,
            "flex_flow": null,
            "width": null,
            "min_width": null,
            "border": null,
            "align_items": null,
            "bottom": null,
            "_model_module": "@jupyter-widgets/base",
            "top": null,
            "grid_column": null,
            "overflow_y": null,
            "overflow_x": null,
            "grid_auto_flow": null,
            "grid_area": null,
            "grid_template_columns": null,
            "flex": null,
            "_model_name": "LayoutModel",
            "justify_items": null,
            "grid_row": null,
            "max_height": null,
            "align_content": null,
            "visibility": null,
            "align_self": null,
            "height": null,
            "min_height": null,
            "padding": null,
            "grid_auto_rows": null,
            "grid_gap": null,
            "max_width": null,
            "order": null,
            "_view_module_version": "1.2.0",
            "grid_template_areas": null,
            "object_position": null,
            "object_fit": null,
            "grid_auto_columns": null,
            "margin": null,
            "display": null,
            "left": null
          }
        },
        "d94340bae5884ae083482fd7abfab5c3": {
          "model_module": "@jupyter-widgets/controls",
          "model_name": "HBoxModel",
          "model_module_version": "1.5.0",
          "state": {
            "_view_name": "HBoxView",
            "_dom_classes": [],
            "_model_name": "HBoxModel",
            "_view_module": "@jupyter-widgets/controls",
            "_model_module_version": "1.5.0",
            "_view_count": null,
            "_view_module_version": "1.5.0",
            "box_style": "",
            "layout": "IPY_MODEL_2a30a1c3981b41818c474ea0ab242583",
            "_model_module": "@jupyter-widgets/controls",
            "children": [
              "IPY_MODEL_11dd5167ebea4dfda7eb9cfe73a01aa8",
              "IPY_MODEL_c01050eec85b44c0ac6127a43f3d601e",
              "IPY_MODEL_a17a9d145d4a41f9aa81454d12ee1471"
            ]
          }
        },
        "2a30a1c3981b41818c474ea0ab242583": {
          "model_module": "@jupyter-widgets/base",
          "model_name": "LayoutModel",
          "model_module_version": "1.2.0",
          "state": {
            "_view_name": "LayoutView",
            "grid_template_rows": null,
            "right": null,
            "justify_content": null,
            "_view_module": "@jupyter-widgets/base",
            "overflow": null,
            "_model_module_version": "1.2.0",
            "_view_count": null,
            "flex_flow": null,
            "width": null,
            "min_width": null,
            "border": null,
            "align_items": null,
            "bottom": null,
            "_model_module": "@jupyter-widgets/base",
            "top": null,
            "grid_column": null,
            "overflow_y": null,
            "overflow_x": null,
            "grid_auto_flow": null,
            "grid_area": null,
            "grid_template_columns": null,
            "flex": null,
            "_model_name": "LayoutModel",
            "justify_items": null,
            "grid_row": null,
            "max_height": null,
            "align_content": null,
            "visibility": null,
            "align_self": null,
            "height": null,
            "min_height": null,
            "padding": null,
            "grid_auto_rows": null,
            "grid_gap": null,
            "max_width": null,
            "order": null,
            "_view_module_version": "1.2.0",
            "grid_template_areas": null,
            "object_position": null,
            "object_fit": null,
            "grid_auto_columns": null,
            "margin": null,
            "display": null,
            "left": null
          }
        },
        "11dd5167ebea4dfda7eb9cfe73a01aa8": {
          "model_module": "@jupyter-widgets/controls",
          "model_name": "HTMLModel",
          "model_module_version": "1.5.0",
          "state": {
            "_view_name": "HTMLView",
            "style": "IPY_MODEL_ba75426b69e142b5a10e950883de1be1",
            "_dom_classes": [],
            "description": "",
            "_model_name": "HTMLModel",
            "placeholder": "​",
            "_view_module": "@jupyter-widgets/controls",
            "_model_module_version": "1.5.0",
            "value": "",
            "_view_count": null,
            "_view_module_version": "1.5.0",
            "description_tooltip": null,
            "_model_module": "@jupyter-widgets/controls",
            "layout": "IPY_MODEL_19a4e4ced277477dae815f19a017f2e9"
          }
        },
        "c01050eec85b44c0ac6127a43f3d601e": {
          "model_module": "@jupyter-widgets/controls",
          "model_name": "FloatProgressModel",
          "model_module_version": "1.5.0",
          "state": {
            "_view_name": "ProgressView",
            "style": "IPY_MODEL_0e89b3c2f5474cf6a1bce915b53fe926",
            "_dom_classes": [],
            "description": "",
            "_model_name": "FloatProgressModel",
            "bar_style": "success",
            "max": 29515,
            "_view_module": "@jupyter-widgets/controls",
            "_model_module_version": "1.5.0",
            "value": 29515,
            "_view_count": null,
            "_view_module_version": "1.5.0",
            "orientation": "horizontal",
            "min": 0,
            "description_tooltip": null,
            "_model_module": "@jupyter-widgets/controls",
            "layout": "IPY_MODEL_f8946540f017454e99317cf9975d223f"
          }
        },
        "a17a9d145d4a41f9aa81454d12ee1471": {
          "model_module": "@jupyter-widgets/controls",
          "model_name": "HTMLModel",
          "model_module_version": "1.5.0",
          "state": {
            "_view_name": "HTMLView",
            "style": "IPY_MODEL_a1d54a36b8074cdcb1728b3d50a80895",
            "_dom_classes": [],
            "description": "",
            "_model_name": "HTMLModel",
            "placeholder": "​",
            "_view_module": "@jupyter-widgets/controls",
            "_model_module_version": "1.5.0",
            "value": " 29696/? [00:00&lt;00:00, 297944.12it/s]",
            "_view_count": null,
            "_view_module_version": "1.5.0",
            "description_tooltip": null,
            "_model_module": "@jupyter-widgets/controls",
            "layout": "IPY_MODEL_4bc0a94725364775aaa2a336ab68dc79"
          }
        },
        "ba75426b69e142b5a10e950883de1be1": {
          "model_module": "@jupyter-widgets/controls",
          "model_name": "DescriptionStyleModel",
          "model_module_version": "1.5.0",
          "state": {
            "_view_name": "StyleView",
            "_model_name": "DescriptionStyleModel",
            "description_width": "",
            "_view_module": "@jupyter-widgets/base",
            "_model_module_version": "1.5.0",
            "_view_count": null,
            "_view_module_version": "1.2.0",
            "_model_module": "@jupyter-widgets/controls"
          }
        },
        "19a4e4ced277477dae815f19a017f2e9": {
          "model_module": "@jupyter-widgets/base",
          "model_name": "LayoutModel",
          "model_module_version": "1.2.0",
          "state": {
            "_view_name": "LayoutView",
            "grid_template_rows": null,
            "right": null,
            "justify_content": null,
            "_view_module": "@jupyter-widgets/base",
            "overflow": null,
            "_model_module_version": "1.2.0",
            "_view_count": null,
            "flex_flow": null,
            "width": null,
            "min_width": null,
            "border": null,
            "align_items": null,
            "bottom": null,
            "_model_module": "@jupyter-widgets/base",
            "top": null,
            "grid_column": null,
            "overflow_y": null,
            "overflow_x": null,
            "grid_auto_flow": null,
            "grid_area": null,
            "grid_template_columns": null,
            "flex": null,
            "_model_name": "LayoutModel",
            "justify_items": null,
            "grid_row": null,
            "max_height": null,
            "align_content": null,
            "visibility": null,
            "align_self": null,
            "height": null,
            "min_height": null,
            "padding": null,
            "grid_auto_rows": null,
            "grid_gap": null,
            "max_width": null,
            "order": null,
            "_view_module_version": "1.2.0",
            "grid_template_areas": null,
            "object_position": null,
            "object_fit": null,
            "grid_auto_columns": null,
            "margin": null,
            "display": null,
            "left": null
          }
        },
        "0e89b3c2f5474cf6a1bce915b53fe926": {
          "model_module": "@jupyter-widgets/controls",
          "model_name": "ProgressStyleModel",
          "model_module_version": "1.5.0",
          "state": {
            "_view_name": "StyleView",
            "_model_name": "ProgressStyleModel",
            "description_width": "",
            "_view_module": "@jupyter-widgets/base",
            "_model_module_version": "1.5.0",
            "_view_count": null,
            "_view_module_version": "1.2.0",
            "bar_color": null,
            "_model_module": "@jupyter-widgets/controls"
          }
        },
        "f8946540f017454e99317cf9975d223f": {
          "model_module": "@jupyter-widgets/base",
          "model_name": "LayoutModel",
          "model_module_version": "1.2.0",
          "state": {
            "_view_name": "LayoutView",
            "grid_template_rows": null,
            "right": null,
            "justify_content": null,
            "_view_module": "@jupyter-widgets/base",
            "overflow": null,
            "_model_module_version": "1.2.0",
            "_view_count": null,
            "flex_flow": null,
            "width": null,
            "min_width": null,
            "border": null,
            "align_items": null,
            "bottom": null,
            "_model_module": "@jupyter-widgets/base",
            "top": null,
            "grid_column": null,
            "overflow_y": null,
            "overflow_x": null,
            "grid_auto_flow": null,
            "grid_area": null,
            "grid_template_columns": null,
            "flex": null,
            "_model_name": "LayoutModel",
            "justify_items": null,
            "grid_row": null,
            "max_height": null,
            "align_content": null,
            "visibility": null,
            "align_self": null,
            "height": null,
            "min_height": null,
            "padding": null,
            "grid_auto_rows": null,
            "grid_gap": null,
            "max_width": null,
            "order": null,
            "_view_module_version": "1.2.0",
            "grid_template_areas": null,
            "object_position": null,
            "object_fit": null,
            "grid_auto_columns": null,
            "margin": null,
            "display": null,
            "left": null
          }
        },
        "a1d54a36b8074cdcb1728b3d50a80895": {
          "model_module": "@jupyter-widgets/controls",
          "model_name": "DescriptionStyleModel",
          "model_module_version": "1.5.0",
          "state": {
            "_view_name": "StyleView",
            "_model_name": "DescriptionStyleModel",
            "description_width": "",
            "_view_module": "@jupyter-widgets/base",
            "_model_module_version": "1.5.0",
            "_view_count": null,
            "_view_module_version": "1.2.0",
            "_model_module": "@jupyter-widgets/controls"
          }
        },
        "4bc0a94725364775aaa2a336ab68dc79": {
          "model_module": "@jupyter-widgets/base",
          "model_name": "LayoutModel",
          "model_module_version": "1.2.0",
          "state": {
            "_view_name": "LayoutView",
            "grid_template_rows": null,
            "right": null,
            "justify_content": null,
            "_view_module": "@jupyter-widgets/base",
            "overflow": null,
            "_model_module_version": "1.2.0",
            "_view_count": null,
            "flex_flow": null,
            "width": null,
            "min_width": null,
            "border": null,
            "align_items": null,
            "bottom": null,
            "_model_module": "@jupyter-widgets/base",
            "top": null,
            "grid_column": null,
            "overflow_y": null,
            "overflow_x": null,
            "grid_auto_flow": null,
            "grid_area": null,
            "grid_template_columns": null,
            "flex": null,
            "_model_name": "LayoutModel",
            "justify_items": null,
            "grid_row": null,
            "max_height": null,
            "align_content": null,
            "visibility": null,
            "align_self": null,
            "height": null,
            "min_height": null,
            "padding": null,
            "grid_auto_rows": null,
            "grid_gap": null,
            "max_width": null,
            "order": null,
            "_view_module_version": "1.2.0",
            "grid_template_areas": null,
            "object_position": null,
            "object_fit": null,
            "grid_auto_columns": null,
            "margin": null,
            "display": null,
            "left": null
          }
        },
        "ac961c6badd74fc8a515cae78eb62c9d": {
          "model_module": "@jupyter-widgets/controls",
          "model_name": "HBoxModel",
          "model_module_version": "1.5.0",
          "state": {
            "_view_name": "HBoxView",
            "_dom_classes": [],
            "_model_name": "HBoxModel",
            "_view_module": "@jupyter-widgets/controls",
            "_model_module_version": "1.5.0",
            "_view_count": null,
            "_view_module_version": "1.5.0",
            "box_style": "",
            "layout": "IPY_MODEL_cbf98226d160421ca5dc6d8c5ab11d05",
            "_model_module": "@jupyter-widgets/controls",
            "children": [
              "IPY_MODEL_70c2bec14aa74355967bc67a7734a4c6",
              "IPY_MODEL_0b63b22240b94456bce139aa6c477ec2",
              "IPY_MODEL_0b8cda029efd4e148714f7a6f2644e9f"
            ]
          }
        },
        "cbf98226d160421ca5dc6d8c5ab11d05": {
          "model_module": "@jupyter-widgets/base",
          "model_name": "LayoutModel",
          "model_module_version": "1.2.0",
          "state": {
            "_view_name": "LayoutView",
            "grid_template_rows": null,
            "right": null,
            "justify_content": null,
            "_view_module": "@jupyter-widgets/base",
            "overflow": null,
            "_model_module_version": "1.2.0",
            "_view_count": null,
            "flex_flow": null,
            "width": null,
            "min_width": null,
            "border": null,
            "align_items": null,
            "bottom": null,
            "_model_module": "@jupyter-widgets/base",
            "top": null,
            "grid_column": null,
            "overflow_y": null,
            "overflow_x": null,
            "grid_auto_flow": null,
            "grid_area": null,
            "grid_template_columns": null,
            "flex": null,
            "_model_name": "LayoutModel",
            "justify_items": null,
            "grid_row": null,
            "max_height": null,
            "align_content": null,
            "visibility": null,
            "align_self": null,
            "height": null,
            "min_height": null,
            "padding": null,
            "grid_auto_rows": null,
            "grid_gap": null,
            "max_width": null,
            "order": null,
            "_view_module_version": "1.2.0",
            "grid_template_areas": null,
            "object_position": null,
            "object_fit": null,
            "grid_auto_columns": null,
            "margin": null,
            "display": null,
            "left": null
          }
        },
        "70c2bec14aa74355967bc67a7734a4c6": {
          "model_module": "@jupyter-widgets/controls",
          "model_name": "HTMLModel",
          "model_module_version": "1.5.0",
          "state": {
            "_view_name": "HTMLView",
            "style": "IPY_MODEL_46dd6e7bd62c4be1ae8622a76638c954",
            "_dom_classes": [],
            "description": "",
            "_model_name": "HTMLModel",
            "placeholder": "​",
            "_view_module": "@jupyter-widgets/controls",
            "_model_module_version": "1.5.0",
            "value": "",
            "_view_count": null,
            "_view_module_version": "1.5.0",
            "description_tooltip": null,
            "_model_module": "@jupyter-widgets/controls",
            "layout": "IPY_MODEL_fc363eda0b754e5bb73f51b2e8f54959"
          }
        },
        "0b63b22240b94456bce139aa6c477ec2": {
          "model_module": "@jupyter-widgets/controls",
          "model_name": "FloatProgressModel",
          "model_module_version": "1.5.0",
          "state": {
            "_view_name": "ProgressView",
            "style": "IPY_MODEL_cc985087e21b441790346f378eab3880",
            "_dom_classes": [],
            "description": "",
            "_model_name": "FloatProgressModel",
            "bar_style": "success",
            "max": 4422102,
            "_view_module": "@jupyter-widgets/controls",
            "_model_module_version": "1.5.0",
            "value": 4422102,
            "_view_count": null,
            "_view_module_version": "1.5.0",
            "orientation": "horizontal",
            "min": 0,
            "description_tooltip": null,
            "_model_module": "@jupyter-widgets/controls",
            "layout": "IPY_MODEL_a02d2cc10bef435e9fc5b88f200409aa"
          }
        },
        "0b8cda029efd4e148714f7a6f2644e9f": {
          "model_module": "@jupyter-widgets/controls",
          "model_name": "HTMLModel",
          "model_module_version": "1.5.0",
          "state": {
            "_view_name": "HTMLView",
            "style": "IPY_MODEL_1eecf79bd9f244c29148b78f65db6d99",
            "_dom_classes": [],
            "description": "",
            "_model_name": "HTMLModel",
            "placeholder": "​",
            "_view_module": "@jupyter-widgets/controls",
            "_model_module_version": "1.5.0",
            "value": " 4422656/? [00:00&lt;00:00, 8289632.64it/s]",
            "_view_count": null,
            "_view_module_version": "1.5.0",
            "description_tooltip": null,
            "_model_module": "@jupyter-widgets/controls",
            "layout": "IPY_MODEL_d59e11644ff041ec9a805242640dfc55"
          }
        },
        "46dd6e7bd62c4be1ae8622a76638c954": {
          "model_module": "@jupyter-widgets/controls",
          "model_name": "DescriptionStyleModel",
          "model_module_version": "1.5.0",
          "state": {
            "_view_name": "StyleView",
            "_model_name": "DescriptionStyleModel",
            "description_width": "",
            "_view_module": "@jupyter-widgets/base",
            "_model_module_version": "1.5.0",
            "_view_count": null,
            "_view_module_version": "1.2.0",
            "_model_module": "@jupyter-widgets/controls"
          }
        },
        "fc363eda0b754e5bb73f51b2e8f54959": {
          "model_module": "@jupyter-widgets/base",
          "model_name": "LayoutModel",
          "model_module_version": "1.2.0",
          "state": {
            "_view_name": "LayoutView",
            "grid_template_rows": null,
            "right": null,
            "justify_content": null,
            "_view_module": "@jupyter-widgets/base",
            "overflow": null,
            "_model_module_version": "1.2.0",
            "_view_count": null,
            "flex_flow": null,
            "width": null,
            "min_width": null,
            "border": null,
            "align_items": null,
            "bottom": null,
            "_model_module": "@jupyter-widgets/base",
            "top": null,
            "grid_column": null,
            "overflow_y": null,
            "overflow_x": null,
            "grid_auto_flow": null,
            "grid_area": null,
            "grid_template_columns": null,
            "flex": null,
            "_model_name": "LayoutModel",
            "justify_items": null,
            "grid_row": null,
            "max_height": null,
            "align_content": null,
            "visibility": null,
            "align_self": null,
            "height": null,
            "min_height": null,
            "padding": null,
            "grid_auto_rows": null,
            "grid_gap": null,
            "max_width": null,
            "order": null,
            "_view_module_version": "1.2.0",
            "grid_template_areas": null,
            "object_position": null,
            "object_fit": null,
            "grid_auto_columns": null,
            "margin": null,
            "display": null,
            "left": null
          }
        },
        "cc985087e21b441790346f378eab3880": {
          "model_module": "@jupyter-widgets/controls",
          "model_name": "ProgressStyleModel",
          "model_module_version": "1.5.0",
          "state": {
            "_view_name": "StyleView",
            "_model_name": "ProgressStyleModel",
            "description_width": "",
            "_view_module": "@jupyter-widgets/base",
            "_model_module_version": "1.5.0",
            "_view_count": null,
            "_view_module_version": "1.2.0",
            "bar_color": null,
            "_model_module": "@jupyter-widgets/controls"
          }
        },
        "a02d2cc10bef435e9fc5b88f200409aa": {
          "model_module": "@jupyter-widgets/base",
          "model_name": "LayoutModel",
          "model_module_version": "1.2.0",
          "state": {
            "_view_name": "LayoutView",
            "grid_template_rows": null,
            "right": null,
            "justify_content": null,
            "_view_module": "@jupyter-widgets/base",
            "overflow": null,
            "_model_module_version": "1.2.0",
            "_view_count": null,
            "flex_flow": null,
            "width": null,
            "min_width": null,
            "border": null,
            "align_items": null,
            "bottom": null,
            "_model_module": "@jupyter-widgets/base",
            "top": null,
            "grid_column": null,
            "overflow_y": null,
            "overflow_x": null,
            "grid_auto_flow": null,
            "grid_area": null,
            "grid_template_columns": null,
            "flex": null,
            "_model_name": "LayoutModel",
            "justify_items": null,
            "grid_row": null,
            "max_height": null,
            "align_content": null,
            "visibility": null,
            "align_self": null,
            "height": null,
            "min_height": null,
            "padding": null,
            "grid_auto_rows": null,
            "grid_gap": null,
            "max_width": null,
            "order": null,
            "_view_module_version": "1.2.0",
            "grid_template_areas": null,
            "object_position": null,
            "object_fit": null,
            "grid_auto_columns": null,
            "margin": null,
            "display": null,
            "left": null
          }
        },
        "1eecf79bd9f244c29148b78f65db6d99": {
          "model_module": "@jupyter-widgets/controls",
          "model_name": "DescriptionStyleModel",
          "model_module_version": "1.5.0",
          "state": {
            "_view_name": "StyleView",
            "_model_name": "DescriptionStyleModel",
            "description_width": "",
            "_view_module": "@jupyter-widgets/base",
            "_model_module_version": "1.5.0",
            "_view_count": null,
            "_view_module_version": "1.2.0",
            "_model_module": "@jupyter-widgets/controls"
          }
        },
        "d59e11644ff041ec9a805242640dfc55": {
          "model_module": "@jupyter-widgets/base",
          "model_name": "LayoutModel",
          "model_module_version": "1.2.0",
          "state": {
            "_view_name": "LayoutView",
            "grid_template_rows": null,
            "right": null,
            "justify_content": null,
            "_view_module": "@jupyter-widgets/base",
            "overflow": null,
            "_model_module_version": "1.2.0",
            "_view_count": null,
            "flex_flow": null,
            "width": null,
            "min_width": null,
            "border": null,
            "align_items": null,
            "bottom": null,
            "_model_module": "@jupyter-widgets/base",
            "top": null,
            "grid_column": null,
            "overflow_y": null,
            "overflow_x": null,
            "grid_auto_flow": null,
            "grid_area": null,
            "grid_template_columns": null,
            "flex": null,
            "_model_name": "LayoutModel",
            "justify_items": null,
            "grid_row": null,
            "max_height": null,
            "align_content": null,
            "visibility": null,
            "align_self": null,
            "height": null,
            "min_height": null,
            "padding": null,
            "grid_auto_rows": null,
            "grid_gap": null,
            "max_width": null,
            "order": null,
            "_view_module_version": "1.2.0",
            "grid_template_areas": null,
            "object_position": null,
            "object_fit": null,
            "grid_auto_columns": null,
            "margin": null,
            "display": null,
            "left": null
          }
        },
        "69646edeeec34c36a0eb002add12389d": {
          "model_module": "@jupyter-widgets/controls",
          "model_name": "HBoxModel",
          "model_module_version": "1.5.0",
          "state": {
            "_view_name": "HBoxView",
            "_dom_classes": [],
            "_model_name": "HBoxModel",
            "_view_module": "@jupyter-widgets/controls",
            "_model_module_version": "1.5.0",
            "_view_count": null,
            "_view_module_version": "1.5.0",
            "box_style": "",
            "layout": "IPY_MODEL_34feb220ace746ca91cbd2c52405a0f1",
            "_model_module": "@jupyter-widgets/controls",
            "children": [
              "IPY_MODEL_f78f14774c4c4fd5a1009918bb5f3761",
              "IPY_MODEL_211abb2ed8ba4fd492f24dd30b9e1d99",
              "IPY_MODEL_715831be2c5a4dd985c380a8162539db"
            ]
          }
        },
        "34feb220ace746ca91cbd2c52405a0f1": {
          "model_module": "@jupyter-widgets/base",
          "model_name": "LayoutModel",
          "model_module_version": "1.2.0",
          "state": {
            "_view_name": "LayoutView",
            "grid_template_rows": null,
            "right": null,
            "justify_content": null,
            "_view_module": "@jupyter-widgets/base",
            "overflow": null,
            "_model_module_version": "1.2.0",
            "_view_count": null,
            "flex_flow": null,
            "width": null,
            "min_width": null,
            "border": null,
            "align_items": null,
            "bottom": null,
            "_model_module": "@jupyter-widgets/base",
            "top": null,
            "grid_column": null,
            "overflow_y": null,
            "overflow_x": null,
            "grid_auto_flow": null,
            "grid_area": null,
            "grid_template_columns": null,
            "flex": null,
            "_model_name": "LayoutModel",
            "justify_items": null,
            "grid_row": null,
            "max_height": null,
            "align_content": null,
            "visibility": null,
            "align_self": null,
            "height": null,
            "min_height": null,
            "padding": null,
            "grid_auto_rows": null,
            "grid_gap": null,
            "max_width": null,
            "order": null,
            "_view_module_version": "1.2.0",
            "grid_template_areas": null,
            "object_position": null,
            "object_fit": null,
            "grid_auto_columns": null,
            "margin": null,
            "display": null,
            "left": null
          }
        },
        "f78f14774c4c4fd5a1009918bb5f3761": {
          "model_module": "@jupyter-widgets/controls",
          "model_name": "HTMLModel",
          "model_module_version": "1.5.0",
          "state": {
            "_view_name": "HTMLView",
            "style": "IPY_MODEL_41f6eeecd8e3466c8362c839180a0e40",
            "_dom_classes": [],
            "description": "",
            "_model_name": "HTMLModel",
            "placeholder": "​",
            "_view_module": "@jupyter-widgets/controls",
            "_model_module_version": "1.5.0",
            "value": "",
            "_view_count": null,
            "_view_module_version": "1.5.0",
            "description_tooltip": null,
            "_model_module": "@jupyter-widgets/controls",
            "layout": "IPY_MODEL_73a08e9fda6a4effa5432e55a31b7b1e"
          }
        },
        "211abb2ed8ba4fd492f24dd30b9e1d99": {
          "model_module": "@jupyter-widgets/controls",
          "model_name": "FloatProgressModel",
          "model_module_version": "1.5.0",
          "state": {
            "_view_name": "ProgressView",
            "style": "IPY_MODEL_8104ea4518ad42aabfac2afe7efe8dbb",
            "_dom_classes": [],
            "description": "",
            "_model_name": "FloatProgressModel",
            "bar_style": "success",
            "max": 5148,
            "_view_module": "@jupyter-widgets/controls",
            "_model_module_version": "1.5.0",
            "value": 5148,
            "_view_count": null,
            "_view_module_version": "1.5.0",
            "orientation": "horizontal",
            "min": 0,
            "description_tooltip": null,
            "_model_module": "@jupyter-widgets/controls",
            "layout": "IPY_MODEL_ba01378c0dad486cb94e798f92ec8d54"
          }
        },
        "715831be2c5a4dd985c380a8162539db": {
          "model_module": "@jupyter-widgets/controls",
          "model_name": "HTMLModel",
          "model_module_version": "1.5.0",
          "state": {
            "_view_name": "HTMLView",
            "style": "IPY_MODEL_df311619e904483a8171d87875496ea4",
            "_dom_classes": [],
            "description": "",
            "_model_name": "HTMLModel",
            "placeholder": "​",
            "_view_module": "@jupyter-widgets/controls",
            "_model_module_version": "1.5.0",
            "value": " 6144/? [00:00&lt;00:00, 106246.20it/s]",
            "_view_count": null,
            "_view_module_version": "1.5.0",
            "description_tooltip": null,
            "_model_module": "@jupyter-widgets/controls",
            "layout": "IPY_MODEL_9a3fb8543a614a22a39f73f14aecbae6"
          }
        },
        "41f6eeecd8e3466c8362c839180a0e40": {
          "model_module": "@jupyter-widgets/controls",
          "model_name": "DescriptionStyleModel",
          "model_module_version": "1.5.0",
          "state": {
            "_view_name": "StyleView",
            "_model_name": "DescriptionStyleModel",
            "description_width": "",
            "_view_module": "@jupyter-widgets/base",
            "_model_module_version": "1.5.0",
            "_view_count": null,
            "_view_module_version": "1.2.0",
            "_model_module": "@jupyter-widgets/controls"
          }
        },
        "73a08e9fda6a4effa5432e55a31b7b1e": {
          "model_module": "@jupyter-widgets/base",
          "model_name": "LayoutModel",
          "model_module_version": "1.2.0",
          "state": {
            "_view_name": "LayoutView",
            "grid_template_rows": null,
            "right": null,
            "justify_content": null,
            "_view_module": "@jupyter-widgets/base",
            "overflow": null,
            "_model_module_version": "1.2.0",
            "_view_count": null,
            "flex_flow": null,
            "width": null,
            "min_width": null,
            "border": null,
            "align_items": null,
            "bottom": null,
            "_model_module": "@jupyter-widgets/base",
            "top": null,
            "grid_column": null,
            "overflow_y": null,
            "overflow_x": null,
            "grid_auto_flow": null,
            "grid_area": null,
            "grid_template_columns": null,
            "flex": null,
            "_model_name": "LayoutModel",
            "justify_items": null,
            "grid_row": null,
            "max_height": null,
            "align_content": null,
            "visibility": null,
            "align_self": null,
            "height": null,
            "min_height": null,
            "padding": null,
            "grid_auto_rows": null,
            "grid_gap": null,
            "max_width": null,
            "order": null,
            "_view_module_version": "1.2.0",
            "grid_template_areas": null,
            "object_position": null,
            "object_fit": null,
            "grid_auto_columns": null,
            "margin": null,
            "display": null,
            "left": null
          }
        },
        "8104ea4518ad42aabfac2afe7efe8dbb": {
          "model_module": "@jupyter-widgets/controls",
          "model_name": "ProgressStyleModel",
          "model_module_version": "1.5.0",
          "state": {
            "_view_name": "StyleView",
            "_model_name": "ProgressStyleModel",
            "description_width": "",
            "_view_module": "@jupyter-widgets/base",
            "_model_module_version": "1.5.0",
            "_view_count": null,
            "_view_module_version": "1.2.0",
            "bar_color": null,
            "_model_module": "@jupyter-widgets/controls"
          }
        },
        "ba01378c0dad486cb94e798f92ec8d54": {
          "model_module": "@jupyter-widgets/base",
          "model_name": "LayoutModel",
          "model_module_version": "1.2.0",
          "state": {
            "_view_name": "LayoutView",
            "grid_template_rows": null,
            "right": null,
            "justify_content": null,
            "_view_module": "@jupyter-widgets/base",
            "overflow": null,
            "_model_module_version": "1.2.0",
            "_view_count": null,
            "flex_flow": null,
            "width": null,
            "min_width": null,
            "border": null,
            "align_items": null,
            "bottom": null,
            "_model_module": "@jupyter-widgets/base",
            "top": null,
            "grid_column": null,
            "overflow_y": null,
            "overflow_x": null,
            "grid_auto_flow": null,
            "grid_area": null,
            "grid_template_columns": null,
            "flex": null,
            "_model_name": "LayoutModel",
            "justify_items": null,
            "grid_row": null,
            "max_height": null,
            "align_content": null,
            "visibility": null,
            "align_self": null,
            "height": null,
            "min_height": null,
            "padding": null,
            "grid_auto_rows": null,
            "grid_gap": null,
            "max_width": null,
            "order": null,
            "_view_module_version": "1.2.0",
            "grid_template_areas": null,
            "object_position": null,
            "object_fit": null,
            "grid_auto_columns": null,
            "margin": null,
            "display": null,
            "left": null
          }
        },
        "df311619e904483a8171d87875496ea4": {
          "model_module": "@jupyter-widgets/controls",
          "model_name": "DescriptionStyleModel",
          "model_module_version": "1.5.0",
          "state": {
            "_view_name": "StyleView",
            "_model_name": "DescriptionStyleModel",
            "description_width": "",
            "_view_module": "@jupyter-widgets/base",
            "_model_module_version": "1.5.0",
            "_view_count": null,
            "_view_module_version": "1.2.0",
            "_model_module": "@jupyter-widgets/controls"
          }
        },
        "9a3fb8543a614a22a39f73f14aecbae6": {
          "model_module": "@jupyter-widgets/base",
          "model_name": "LayoutModel",
          "model_module_version": "1.2.0",
          "state": {
            "_view_name": "LayoutView",
            "grid_template_rows": null,
            "right": null,
            "justify_content": null,
            "_view_module": "@jupyter-widgets/base",
            "overflow": null,
            "_model_module_version": "1.2.0",
            "_view_count": null,
            "flex_flow": null,
            "width": null,
            "min_width": null,
            "border": null,
            "align_items": null,
            "bottom": null,
            "_model_module": "@jupyter-widgets/base",
            "top": null,
            "grid_column": null,
            "overflow_y": null,
            "overflow_x": null,
            "grid_auto_flow": null,
            "grid_area": null,
            "grid_template_columns": null,
            "flex": null,
            "_model_name": "LayoutModel",
            "justify_items": null,
            "grid_row": null,
            "max_height": null,
            "align_content": null,
            "visibility": null,
            "align_self": null,
            "height": null,
            "min_height": null,
            "padding": null,
            "grid_auto_rows": null,
            "grid_gap": null,
            "max_width": null,
            "order": null,
            "_view_module_version": "1.2.0",
            "grid_template_areas": null,
            "object_position": null,
            "object_fit": null,
            "grid_auto_columns": null,
            "margin": null,
            "display": null,
            "left": null
          }
        }
      }
    }
  },
  "cells": [
    {
      "cell_type": "markdown",
      "metadata": {
        "id": "view-in-github",
        "colab_type": "text"
      },
      "source": [
        "<a href=\"https://colab.research.google.com/github/Tongxi-Hu/deep-learning/blob/main/3_Linear_Neural_Network.ipynb\" target=\"_parent\"><img src=\"https://colab.research.google.com/assets/colab-badge.svg\" alt=\"Open In Colab\"/></a>"
      ]
    },
    {
      "cell_type": "markdown",
      "source": [
        "#3-1 Linear Regression\n"
      ],
      "metadata": {
        "id": "5sXUnmav6NLH"
      }
    },
    {
      "cell_type": "code",
      "source": [
        "!pip3 install d2l"
      ],
      "metadata": {
        "id": "E71RQyf2-W-h"
      },
      "execution_count": null,
      "outputs": []
    },
    {
      "cell_type": "code",
      "source": [
        "%matplotlib inline\n",
        "import random\n",
        "import torch\n",
        "from d2l import torch as d2l"
      ],
      "metadata": {
        "id": "YTWcNvad9fnh"
      },
      "execution_count": 2,
      "outputs": []
    },
    {
      "cell_type": "markdown",
      "source": [
        "### 3-1-0 generate fake data"
      ],
      "metadata": {
        "id": "JrUnXGjdSb9Q"
      }
    },
    {
      "cell_type": "code",
      "source": [
        "# generating raw data:\n",
        "def synthetic_data(w,b,num_example):\n",
        "    # generating y=Xw+b+noise\n",
        "    X=torch.normal(0,1,(num_example,len(w)))\n",
        "    y=torch.matmul(X,w)+b\n",
        "    y=y+torch.normal(0,0.01,y.shape);\n",
        "    return X,y.reshape((-1,1));\n",
        "\n",
        "# target value:\n",
        "true_w=torch.tensor([2,-3.4])\n",
        "true_b=4.2\n",
        "features,labels=synthetic_data(true_w,true_b,1000)\n",
        "print('features:',features[0],'\\nlabel:',labels[0])"
      ],
      "metadata": {
        "colab": {
          "base_uri": "https://localhost:8080/"
        },
        "id": "5dfnVh6d-ry2",
        "outputId": "171ea572-297c-427b-c896-63bccc886826"
      },
      "execution_count": 3,
      "outputs": [
        {
          "output_type": "stream",
          "name": "stdout",
          "text": [
            "features: tensor([ 0.9784, -2.0513]) \n",
            "label: tensor([13.1264])\n"
          ]
        }
      ]
    },
    {
      "cell_type": "code",
      "source": [
        "# plot of y vs x1:\n",
        "d2l.set_figsize()\n",
        "d2l.plt.scatter(features[:,1].detach().numpy(),labels.detach().numpy(),1)"
      ],
      "metadata": {
        "colab": {
          "base_uri": "https://localhost:8080/",
          "height": 261
        },
        "id": "yTUvG2A7AkUs",
        "outputId": "ce9d095b-d61a-4ff1-f3d7-fa315007b120"
      },
      "execution_count": 4,
      "outputs": [
        {
          "output_type": "execute_result",
          "data": {
            "text/plain": [
              "<matplotlib.collections.PathCollection at 0x7f630ce36450>"
            ]
          },
          "metadata": {},
          "execution_count": 4
        },
        {
          "output_type": "display_data",
          "data": {
            "text/plain": [
              "<Figure size 252x180 with 1 Axes>"
            ],
            "image/svg+xml": "<?xml version=\"1.0\" encoding=\"utf-8\" standalone=\"no\"?>\n<!DOCTYPE svg PUBLIC \"-//W3C//DTD SVG 1.1//EN\"\n  \"http://www.w3.org/Graphics/SVG/1.1/DTD/svg11.dtd\">\n<!-- Created with matplotlib (https://matplotlib.org/) -->\n<svg height=\"166.978125pt\" version=\"1.1\" viewBox=\"0 0 237.804688 166.978125\" width=\"237.804688pt\" xmlns=\"http://www.w3.org/2000/svg\" xmlns:xlink=\"http://www.w3.org/1999/xlink\">\n <metadata>\n  <rdf:RDF xmlns:cc=\"http://creativecommons.org/ns#\" xmlns:dc=\"http://purl.org/dc/elements/1.1/\" xmlns:rdf=\"http://www.w3.org/1999/02/22-rdf-syntax-ns#\">\n   <cc:Work>\n    <dc:type rdf:resource=\"http://purl.org/dc/dcmitype/StillImage\"/>\n    <dc:date>2022-02-03T23:59:01.415641</dc:date>\n    <dc:format>image/svg+xml</dc:format>\n    <dc:creator>\n     <cc:Agent>\n      <dc:title>Matplotlib v3.3.3, https://matplotlib.org/</dc:title>\n     </cc:Agent>\n    </dc:creator>\n   </cc:Work>\n  </rdf:RDF>\n </metadata>\n <defs>\n  <style type=\"text/css\">*{stroke-linecap:butt;stroke-linejoin:round;}</style>\n </defs>\n <g id=\"figure_1\">\n  <g id=\"patch_1\">\n   <path d=\"M 0 166.978125 \nL 237.804688 166.978125 \nL 237.804688 0 \nL 0 0 \nz\n\" style=\"fill:none;\"/>\n  </g>\n  <g id=\"axes_1\">\n   <g id=\"patch_2\">\n    <path d=\"M 35.304688 143.1 \nL 230.604688 143.1 \nL 230.604688 7.2 \nL 35.304688 7.2 \nz\n\" style=\"fill:#ffffff;\"/>\n   </g>\n   <g id=\"PathCollection_1\">\n    <defs>\n     <path d=\"M 0 0.5 \nC 0.132602 0.5 0.25979 0.447317 0.353553 0.353553 \nC 0.447317 0.25979 0.5 0.132602 0.5 0 \nC 0.5 -0.132602 0.447317 -0.25979 0.353553 -0.353553 \nC 0.25979 -0.447317 0.132602 -0.5 0 -0.5 \nC -0.132602 -0.5 -0.25979 -0.447317 -0.353553 -0.353553 \nC -0.447317 -0.25979 -0.5 -0.132602 -0.5 0 \nC -0.5 0.132602 -0.447317 0.25979 -0.353553 0.353553 \nC -0.25979 0.447317 -0.132602 0.5 0 0.5 \nz\n\" id=\"m527f568b28\" style=\"stroke:#1f77b4;\"/>\n    </defs>\n    <g clip-path=\"url(#p751c5296ff)\">\n     <use style=\"fill:#1f77b4;stroke:#1f77b4;\" x=\"73.82641\" xlink:href=\"#m527f568b28\" y=\"31.294115\"/>\n     <use style=\"fill:#1f77b4;stroke:#1f77b4;\" x=\"130.169092\" xlink:href=\"#m527f568b28\" y=\"72.4449\"/>\n     <use style=\"fill:#1f77b4;stroke:#1f77b4;\" x=\"70.476298\" xlink:href=\"#m527f568b28\" y=\"31.341203\"/>\n     <use style=\"fill:#1f77b4;stroke:#1f77b4;\" x=\"87.754465\" xlink:href=\"#m527f568b28\" y=\"40.575343\"/>\n     <use style=\"fill:#1f77b4;stroke:#1f77b4;\" x=\"120.396242\" xlink:href=\"#m527f568b28\" y=\"72.571459\"/>\n     <use style=\"fill:#1f77b4;stroke:#1f77b4;\" x=\"89.794147\" xlink:href=\"#m527f568b28\" y=\"54.526243\"/>\n     <use style=\"fill:#1f77b4;stroke:#1f77b4;\" x=\"130.477773\" xlink:href=\"#m527f568b28\" y=\"87.499011\"/>\n     <use style=\"fill:#1f77b4;stroke:#1f77b4;\" x=\"63.671453\" xlink:href=\"#m527f568b28\" y=\"40.305072\"/>\n     <use style=\"fill:#1f77b4;stroke:#1f77b4;\" x=\"171.553804\" xlink:href=\"#m527f568b28\" y=\"95.134294\"/>\n     <use style=\"fill:#1f77b4;stroke:#1f77b4;\" x=\"126.453059\" xlink:href=\"#m527f568b28\" y=\"71.523833\"/>\n     <use style=\"fill:#1f77b4;stroke:#1f77b4;\" x=\"119.263042\" xlink:href=\"#m527f568b28\" y=\"62.783405\"/>\n     <use style=\"fill:#1f77b4;stroke:#1f77b4;\" x=\"97.710574\" xlink:href=\"#m527f568b28\" y=\"56.623267\"/>\n     <use style=\"fill:#1f77b4;stroke:#1f77b4;\" x=\"153.656707\" xlink:href=\"#m527f568b28\" y=\"72.619159\"/>\n     <use style=\"fill:#1f77b4;stroke:#1f77b4;\" x=\"129.898878\" xlink:href=\"#m527f568b28\" y=\"74.311342\"/>\n     <use style=\"fill:#1f77b4;stroke:#1f77b4;\" x=\"140.996268\" xlink:href=\"#m527f568b28\" y=\"74.727104\"/>\n     <use style=\"fill:#1f77b4;stroke:#1f77b4;\" x=\"161.889256\" xlink:href=\"#m527f568b28\" y=\"78.368621\"/>\n     <use style=\"fill:#1f77b4;stroke:#1f77b4;\" x=\"122.46029\" xlink:href=\"#m527f568b28\" y=\"60.710966\"/>\n     <use style=\"fill:#1f77b4;stroke:#1f77b4;\" x=\"135.935789\" xlink:href=\"#m527f568b28\" y=\"60.312196\"/>\n     <use style=\"fill:#1f77b4;stroke:#1f77b4;\" x=\"113.083174\" xlink:href=\"#m527f568b28\" y=\"53.308974\"/>\n     <use style=\"fill:#1f77b4;stroke:#1f77b4;\" x=\"91.986547\" xlink:href=\"#m527f568b28\" y=\"45.229624\"/>\n     <use style=\"fill:#1f77b4;stroke:#1f77b4;\" x=\"159.585599\" xlink:href=\"#m527f568b28\" y=\"88.205134\"/>\n     <use style=\"fill:#1f77b4;stroke:#1f77b4;\" x=\"109.771363\" xlink:href=\"#m527f568b28\" y=\"50.011613\"/>\n     <use style=\"fill:#1f77b4;stroke:#1f77b4;\" x=\"131.959748\" xlink:href=\"#m527f568b28\" y=\"69.388863\"/>\n     <use style=\"fill:#1f77b4;stroke:#1f77b4;\" x=\"122.540696\" xlink:href=\"#m527f568b28\" y=\"55.366629\"/>\n     <use style=\"fill:#1f77b4;stroke:#1f77b4;\" x=\"156.212915\" xlink:href=\"#m527f568b28\" y=\"87.929321\"/>\n     <use style=\"fill:#1f77b4;stroke:#1f77b4;\" x=\"154.423767\" xlink:href=\"#m527f568b28\" y=\"88.756888\"/>\n     <use style=\"fill:#1f77b4;stroke:#1f77b4;\" x=\"166.586692\" xlink:href=\"#m527f568b28\" y=\"97.916996\"/>\n     <use style=\"fill:#1f77b4;stroke:#1f77b4;\" x=\"160.301472\" xlink:href=\"#m527f568b28\" y=\"76.977541\"/>\n     <use style=\"fill:#1f77b4;stroke:#1f77b4;\" x=\"101.762645\" xlink:href=\"#m527f568b28\" y=\"59.585696\"/>\n     <use style=\"fill:#1f77b4;stroke:#1f77b4;\" x=\"183.372054\" xlink:href=\"#m527f568b28\" y=\"91.599046\"/>\n     <use style=\"fill:#1f77b4;stroke:#1f77b4;\" x=\"110.817683\" xlink:href=\"#m527f568b28\" y=\"61.014959\"/>\n     <use style=\"fill:#1f77b4;stroke:#1f77b4;\" x=\"132.290144\" xlink:href=\"#m527f568b28\" y=\"77.306129\"/>\n     <use style=\"fill:#1f77b4;stroke:#1f77b4;\" x=\"128.516989\" xlink:href=\"#m527f568b28\" y=\"59.355031\"/>\n     <use style=\"fill:#1f77b4;stroke:#1f77b4;\" x=\"161.690971\" xlink:href=\"#m527f568b28\" y=\"90.952621\"/>\n     <use style=\"fill:#1f77b4;stroke:#1f77b4;\" x=\"143.849791\" xlink:href=\"#m527f568b28\" y=\"88.750042\"/>\n     <use style=\"fill:#1f77b4;stroke:#1f77b4;\" x=\"79.631581\" xlink:href=\"#m527f568b28\" y=\"48.550753\"/>\n     <use style=\"fill:#1f77b4;stroke:#1f77b4;\" x=\"161.487726\" xlink:href=\"#m527f568b28\" y=\"77.828652\"/>\n     <use style=\"fill:#1f77b4;stroke:#1f77b4;\" x=\"140.980882\" xlink:href=\"#m527f568b28\" y=\"88.378576\"/>\n     <use style=\"fill:#1f77b4;stroke:#1f77b4;\" x=\"177.978945\" xlink:href=\"#m527f568b28\" y=\"100.960573\"/>\n     <use style=\"fill:#1f77b4;stroke:#1f77b4;\" x=\"161.37131\" xlink:href=\"#m527f568b28\" y=\"94.165626\"/>\n     <use style=\"fill:#1f77b4;stroke:#1f77b4;\" x=\"180.813186\" xlink:href=\"#m527f568b28\" y=\"100.439804\"/>\n     <use style=\"fill:#1f77b4;stroke:#1f77b4;\" x=\"138.805789\" xlink:href=\"#m527f568b28\" y=\"74.657991\"/>\n     <use style=\"fill:#1f77b4;stroke:#1f77b4;\" x=\"125.13621\" xlink:href=\"#m527f568b28\" y=\"60.92051\"/>\n     <use style=\"fill:#1f77b4;stroke:#1f77b4;\" x=\"107.040264\" xlink:href=\"#m527f568b28\" y=\"73.899107\"/>\n     <use style=\"fill:#1f77b4;stroke:#1f77b4;\" x=\"121.749605\" xlink:href=\"#m527f568b28\" y=\"72.04391\"/>\n     <use style=\"fill:#1f77b4;stroke:#1f77b4;\" x=\"118.367286\" xlink:href=\"#m527f568b28\" y=\"55.045767\"/>\n     <use style=\"fill:#1f77b4;stroke:#1f77b4;\" x=\"131.929412\" xlink:href=\"#m527f568b28\" y=\"76.201216\"/>\n     <use style=\"fill:#1f77b4;stroke:#1f77b4;\" x=\"95.405943\" xlink:href=\"#m527f568b28\" y=\"43.778465\"/>\n     <use style=\"fill:#1f77b4;stroke:#1f77b4;\" x=\"139.917088\" xlink:href=\"#m527f568b28\" y=\"72.792073\"/>\n     <use style=\"fill:#1f77b4;stroke:#1f77b4;\" x=\"117.953067\" xlink:href=\"#m527f568b28\" y=\"64.121726\"/>\n     <use style=\"fill:#1f77b4;stroke:#1f77b4;\" x=\"142.174502\" xlink:href=\"#m527f568b28\" y=\"77.67674\"/>\n     <use style=\"fill:#1f77b4;stroke:#1f77b4;\" x=\"104.372339\" xlink:href=\"#m527f568b28\" y=\"47.362602\"/>\n     <use style=\"fill:#1f77b4;stroke:#1f77b4;\" x=\"115.009582\" xlink:href=\"#m527f568b28\" y=\"53.330799\"/>\n     <use style=\"fill:#1f77b4;stroke:#1f77b4;\" x=\"193.486213\" xlink:href=\"#m527f568b28\" y=\"112.781218\"/>\n     <use style=\"fill:#1f77b4;stroke:#1f77b4;\" x=\"125.631297\" xlink:href=\"#m527f568b28\" y=\"78.62015\"/>\n     <use style=\"fill:#1f77b4;stroke:#1f77b4;\" x=\"129.845457\" xlink:href=\"#m527f568b28\" y=\"59.842784\"/>\n     <use style=\"fill:#1f77b4;stroke:#1f77b4;\" x=\"110.786695\" xlink:href=\"#m527f568b28\" y=\"52.825204\"/>\n     <use style=\"fill:#1f77b4;stroke:#1f77b4;\" x=\"120.650052\" xlink:href=\"#m527f568b28\" y=\"69.93782\"/>\n     <use style=\"fill:#1f77b4;stroke:#1f77b4;\" x=\"97.92332\" xlink:href=\"#m527f568b28\" y=\"49.370448\"/>\n     <use style=\"fill:#1f77b4;stroke:#1f77b4;\" x=\"126.135822\" xlink:href=\"#m527f568b28\" y=\"77.102896\"/>\n     <use style=\"fill:#1f77b4;stroke:#1f77b4;\" x=\"98.36251\" xlink:href=\"#m527f568b28\" y=\"54.35335\"/>\n     <use style=\"fill:#1f77b4;stroke:#1f77b4;\" x=\"103.189614\" xlink:href=\"#m527f568b28\" y=\"50.459886\"/>\n     <use style=\"fill:#1f77b4;stroke:#1f77b4;\" x=\"171.033729\" xlink:href=\"#m527f568b28\" y=\"105.868595\"/>\n     <use style=\"fill:#1f77b4;stroke:#1f77b4;\" x=\"95.000433\" xlink:href=\"#m527f568b28\" y=\"72.930938\"/>\n     <use style=\"fill:#1f77b4;stroke:#1f77b4;\" x=\"77.465299\" xlink:href=\"#m527f568b28\" y=\"51.169759\"/>\n     <use style=\"fill:#1f77b4;stroke:#1f77b4;\" x=\"137.403712\" xlink:href=\"#m527f568b28\" y=\"66.540772\"/>\n     <use style=\"fill:#1f77b4;stroke:#1f77b4;\" x=\"106.408939\" xlink:href=\"#m527f568b28\" y=\"49.597971\"/>\n     <use style=\"fill:#1f77b4;stroke:#1f77b4;\" x=\"179.303396\" xlink:href=\"#m527f568b28\" y=\"98.72623\"/>\n     <use style=\"fill:#1f77b4;stroke:#1f77b4;\" x=\"137.723663\" xlink:href=\"#m527f568b28\" y=\"67.67985\"/>\n     <use style=\"fill:#1f77b4;stroke:#1f77b4;\" x=\"162.530375\" xlink:href=\"#m527f568b28\" y=\"98.331697\"/>\n     <use style=\"fill:#1f77b4;stroke:#1f77b4;\" x=\"149.32058\" xlink:href=\"#m527f568b28\" y=\"71.166528\"/>\n     <use style=\"fill:#1f77b4;stroke:#1f77b4;\" x=\"154.780735\" xlink:href=\"#m527f568b28\" y=\"83.300414\"/>\n     <use style=\"fill:#1f77b4;stroke:#1f77b4;\" x=\"135.626771\" xlink:href=\"#m527f568b28\" y=\"82.400484\"/>\n     <use style=\"fill:#1f77b4;stroke:#1f77b4;\" x=\"105.750531\" xlink:href=\"#m527f568b28\" y=\"56.819452\"/>\n     <use style=\"fill:#1f77b4;stroke:#1f77b4;\" x=\"112.716985\" xlink:href=\"#m527f568b28\" y=\"65.78051\"/>\n     <use style=\"fill:#1f77b4;stroke:#1f77b4;\" x=\"114.107885\" xlink:href=\"#m527f568b28\" y=\"59.642965\"/>\n     <use style=\"fill:#1f77b4;stroke:#1f77b4;\" x=\"109.103106\" xlink:href=\"#m527f568b28\" y=\"52.950622\"/>\n     <use style=\"fill:#1f77b4;stroke:#1f77b4;\" x=\"106.717806\" xlink:href=\"#m527f568b28\" y=\"60.074756\"/>\n     <use style=\"fill:#1f77b4;stroke:#1f77b4;\" x=\"128.008895\" xlink:href=\"#m527f568b28\" y=\"76.876226\"/>\n     <use style=\"fill:#1f77b4;stroke:#1f77b4;\" x=\"127.870638\" xlink:href=\"#m527f568b28\" y=\"65.301763\"/>\n     <use style=\"fill:#1f77b4;stroke:#1f77b4;\" x=\"143.300432\" xlink:href=\"#m527f568b28\" y=\"78.460925\"/>\n     <use style=\"fill:#1f77b4;stroke:#1f77b4;\" x=\"196.202817\" xlink:href=\"#m527f568b28\" y=\"108.594401\"/>\n     <use style=\"fill:#1f77b4;stroke:#1f77b4;\" x=\"143.033115\" xlink:href=\"#m527f568b28\" y=\"95.684872\"/>\n     <use style=\"fill:#1f77b4;stroke:#1f77b4;\" x=\"116.911422\" xlink:href=\"#m527f568b28\" y=\"80.843696\"/>\n     <use style=\"fill:#1f77b4;stroke:#1f77b4;\" x=\"135.624399\" xlink:href=\"#m527f568b28\" y=\"72.728935\"/>\n     <use style=\"fill:#1f77b4;stroke:#1f77b4;\" x=\"128.34816\" xlink:href=\"#m527f568b28\" y=\"74.586664\"/>\n     <use style=\"fill:#1f77b4;stroke:#1f77b4;\" x=\"200.298835\" xlink:href=\"#m527f568b28\" y=\"108.043556\"/>\n     <use style=\"fill:#1f77b4;stroke:#1f77b4;\" x=\"105.419838\" xlink:href=\"#m527f568b28\" y=\"57.793885\"/>\n     <use style=\"fill:#1f77b4;stroke:#1f77b4;\" x=\"160.929482\" xlink:href=\"#m527f568b28\" y=\"104.595679\"/>\n     <use style=\"fill:#1f77b4;stroke:#1f77b4;\" x=\"129.401433\" xlink:href=\"#m527f568b28\" y=\"81.576917\"/>\n     <use style=\"fill:#1f77b4;stroke:#1f77b4;\" x=\"119.13257\" xlink:href=\"#m527f568b28\" y=\"41.369615\"/>\n     <use style=\"fill:#1f77b4;stroke:#1f77b4;\" x=\"117.468827\" xlink:href=\"#m527f568b28\" y=\"71.927027\"/>\n     <use style=\"fill:#1f77b4;stroke:#1f77b4;\" x=\"160.931025\" xlink:href=\"#m527f568b28\" y=\"87.656826\"/>\n     <use style=\"fill:#1f77b4;stroke:#1f77b4;\" x=\"85.788755\" xlink:href=\"#m527f568b28\" y=\"44.077004\"/>\n     <use style=\"fill:#1f77b4;stroke:#1f77b4;\" x=\"120.61267\" xlink:href=\"#m527f568b28\" y=\"59.927931\"/>\n     <use style=\"fill:#1f77b4;stroke:#1f77b4;\" x=\"94.683635\" xlink:href=\"#m527f568b28\" y=\"56.210049\"/>\n     <use style=\"fill:#1f77b4;stroke:#1f77b4;\" x=\"117.46328\" xlink:href=\"#m527f568b28\" y=\"59.608121\"/>\n     <use style=\"fill:#1f77b4;stroke:#1f77b4;\" x=\"103.036986\" xlink:href=\"#m527f568b28\" y=\"57.966313\"/>\n     <use style=\"fill:#1f77b4;stroke:#1f77b4;\" x=\"107.972913\" xlink:href=\"#m527f568b28\" y=\"53.82741\"/>\n     <use style=\"fill:#1f77b4;stroke:#1f77b4;\" x=\"135.962957\" xlink:href=\"#m527f568b28\" y=\"67.130278\"/>\n     <use style=\"fill:#1f77b4;stroke:#1f77b4;\" x=\"150.557171\" xlink:href=\"#m527f568b28\" y=\"80.638293\"/>\n     <use style=\"fill:#1f77b4;stroke:#1f77b4;\" x=\"132.840399\" xlink:href=\"#m527f568b28\" y=\"74.821523\"/>\n     <use style=\"fill:#1f77b4;stroke:#1f77b4;\" x=\"146.294024\" xlink:href=\"#m527f568b28\" y=\"80.515016\"/>\n     <use style=\"fill:#1f77b4;stroke:#1f77b4;\" x=\"125.342094\" xlink:href=\"#m527f568b28\" y=\"71.489626\"/>\n     <use style=\"fill:#1f77b4;stroke:#1f77b4;\" x=\"81.02679\" xlink:href=\"#m527f568b28\" y=\"23.680497\"/>\n     <use style=\"fill:#1f77b4;stroke:#1f77b4;\" x=\"104.506417\" xlink:href=\"#m527f568b28\" y=\"63.642185\"/>\n     <use style=\"fill:#1f77b4;stroke:#1f77b4;\" x=\"118.756927\" xlink:href=\"#m527f568b28\" y=\"59.472062\"/>\n     <use style=\"fill:#1f77b4;stroke:#1f77b4;\" x=\"130.231815\" xlink:href=\"#m527f568b28\" y=\"75.30322\"/>\n     <use style=\"fill:#1f77b4;stroke:#1f77b4;\" x=\"111.108465\" xlink:href=\"#m527f568b28\" y=\"59.119917\"/>\n     <use style=\"fill:#1f77b4;stroke:#1f77b4;\" x=\"101.631088\" xlink:href=\"#m527f568b28\" y=\"43.366243\"/>\n     <use style=\"fill:#1f77b4;stroke:#1f77b4;\" x=\"118.392722\" xlink:href=\"#m527f568b28\" y=\"73.942326\"/>\n     <use style=\"fill:#1f77b4;stroke:#1f77b4;\" x=\"110.216367\" xlink:href=\"#m527f568b28\" y=\"56.517435\"/>\n     <use style=\"fill:#1f77b4;stroke:#1f77b4;\" x=\"139.051533\" xlink:href=\"#m527f568b28\" y=\"64.011119\"/>\n     <use style=\"fill:#1f77b4;stroke:#1f77b4;\" x=\"119.787342\" xlink:href=\"#m527f568b28\" y=\"67.254652\"/>\n     <use style=\"fill:#1f77b4;stroke:#1f77b4;\" x=\"131.123247\" xlink:href=\"#m527f568b28\" y=\"78.66882\"/>\n     <use style=\"fill:#1f77b4;stroke:#1f77b4;\" x=\"110.496472\" xlink:href=\"#m527f568b28\" y=\"76.151481\"/>\n     <use style=\"fill:#1f77b4;stroke:#1f77b4;\" x=\"163.774011\" xlink:href=\"#m527f568b28\" y=\"76.831992\"/>\n     <use style=\"fill:#1f77b4;stroke:#1f77b4;\" x=\"131.235505\" xlink:href=\"#m527f568b28\" y=\"67.834108\"/>\n     <use style=\"fill:#1f77b4;stroke:#1f77b4;\" x=\"164.237719\" xlink:href=\"#m527f568b28\" y=\"104.94212\"/>\n     <use style=\"fill:#1f77b4;stroke:#1f77b4;\" x=\"115.265062\" xlink:href=\"#m527f568b28\" y=\"61.882906\"/>\n     <use style=\"fill:#1f77b4;stroke:#1f77b4;\" x=\"120.409831\" xlink:href=\"#m527f568b28\" y=\"69.79385\"/>\n     <use style=\"fill:#1f77b4;stroke:#1f77b4;\" x=\"126.199347\" xlink:href=\"#m527f568b28\" y=\"71.311476\"/>\n     <use style=\"fill:#1f77b4;stroke:#1f77b4;\" x=\"116.454969\" xlink:href=\"#m527f568b28\" y=\"68.391153\"/>\n     <use style=\"fill:#1f77b4;stroke:#1f77b4;\" x=\"122.358959\" xlink:href=\"#m527f568b28\" y=\"69.2983\"/>\n     <use style=\"fill:#1f77b4;stroke:#1f77b4;\" x=\"121.981416\" xlink:href=\"#m527f568b28\" y=\"66.002831\"/>\n     <use style=\"fill:#1f77b4;stroke:#1f77b4;\" x=\"125.106569\" xlink:href=\"#m527f568b28\" y=\"67.523947\"/>\n     <use style=\"fill:#1f77b4;stroke:#1f77b4;\" x=\"105.73281\" xlink:href=\"#m527f568b28\" y=\"47.933959\"/>\n     <use style=\"fill:#1f77b4;stroke:#1f77b4;\" x=\"161.162503\" xlink:href=\"#m527f568b28\" y=\"97.763581\"/>\n     <use style=\"fill:#1f77b4;stroke:#1f77b4;\" x=\"149.968122\" xlink:href=\"#m527f568b28\" y=\"92.371753\"/>\n     <use style=\"fill:#1f77b4;stroke:#1f77b4;\" x=\"111.214082\" xlink:href=\"#m527f568b28\" y=\"66.876749\"/>\n     <use style=\"fill:#1f77b4;stroke:#1f77b4;\" x=\"122.354458\" xlink:href=\"#m527f568b28\" y=\"66.397347\"/>\n     <use style=\"fill:#1f77b4;stroke:#1f77b4;\" x=\"186.478097\" xlink:href=\"#m527f568b28\" y=\"112.117913\"/>\n     <use style=\"fill:#1f77b4;stroke:#1f77b4;\" x=\"123.410708\" xlink:href=\"#m527f568b28\" y=\"58.819144\"/>\n     <use style=\"fill:#1f77b4;stroke:#1f77b4;\" x=\"59.139599\" xlink:href=\"#m527f568b28\" y=\"37.353204\"/>\n     <use style=\"fill:#1f77b4;stroke:#1f77b4;\" x=\"141.618632\" xlink:href=\"#m527f568b28\" y=\"82.332525\"/>\n     <use style=\"fill:#1f77b4;stroke:#1f77b4;\" x=\"124.20199\" xlink:href=\"#m527f568b28\" y=\"81.946483\"/>\n     <use style=\"fill:#1f77b4;stroke:#1f77b4;\" x=\"124.690691\" xlink:href=\"#m527f568b28\" y=\"58.765035\"/>\n     <use style=\"fill:#1f77b4;stroke:#1f77b4;\" x=\"92.116706\" xlink:href=\"#m527f568b28\" y=\"65.575501\"/>\n     <use style=\"fill:#1f77b4;stroke:#1f77b4;\" x=\"116.925078\" xlink:href=\"#m527f568b28\" y=\"57.029172\"/>\n     <use style=\"fill:#1f77b4;stroke:#1f77b4;\" x=\"126.072832\" xlink:href=\"#m527f568b28\" y=\"77.466449\"/>\n     <use style=\"fill:#1f77b4;stroke:#1f77b4;\" x=\"158.015475\" xlink:href=\"#m527f568b28\" y=\"73.219495\"/>\n     <use style=\"fill:#1f77b4;stroke:#1f77b4;\" x=\"125.971008\" xlink:href=\"#m527f568b28\" y=\"73.803028\"/>\n     <use style=\"fill:#1f77b4;stroke:#1f77b4;\" x=\"118.458426\" xlink:href=\"#m527f568b28\" y=\"63.901898\"/>\n     <use style=\"fill:#1f77b4;stroke:#1f77b4;\" x=\"121.267392\" xlink:href=\"#m527f568b28\" y=\"51.549747\"/>\n     <use style=\"fill:#1f77b4;stroke:#1f77b4;\" x=\"154.910609\" xlink:href=\"#m527f568b28\" y=\"97.508263\"/>\n     <use style=\"fill:#1f77b4;stroke:#1f77b4;\" x=\"108.582107\" xlink:href=\"#m527f568b28\" y=\"67.302182\"/>\n     <use style=\"fill:#1f77b4;stroke:#1f77b4;\" x=\"147.698482\" xlink:href=\"#m527f568b28\" y=\"79.792532\"/>\n     <use style=\"fill:#1f77b4;stroke:#1f77b4;\" x=\"125.712221\" xlink:href=\"#m527f568b28\" y=\"84.692634\"/>\n     <use style=\"fill:#1f77b4;stroke:#1f77b4;\" x=\"130.002753\" xlink:href=\"#m527f568b28\" y=\"58.751637\"/>\n     <use style=\"fill:#1f77b4;stroke:#1f77b4;\" x=\"157.7568\" xlink:href=\"#m527f568b28\" y=\"73.569151\"/>\n     <use style=\"fill:#1f77b4;stroke:#1f77b4;\" x=\"127.110513\" xlink:href=\"#m527f568b28\" y=\"56.858569\"/>\n     <use style=\"fill:#1f77b4;stroke:#1f77b4;\" x=\"184.828249\" xlink:href=\"#m527f568b28\" y=\"114.951697\"/>\n     <use style=\"fill:#1f77b4;stroke:#1f77b4;\" x=\"131.116445\" xlink:href=\"#m527f568b28\" y=\"76.173306\"/>\n     <use style=\"fill:#1f77b4;stroke:#1f77b4;\" x=\"94.642343\" xlink:href=\"#m527f568b28\" y=\"49.442414\"/>\n     <use style=\"fill:#1f77b4;stroke:#1f77b4;\" x=\"182.995144\" xlink:href=\"#m527f568b28\" y=\"120.951799\"/>\n     <use style=\"fill:#1f77b4;stroke:#1f77b4;\" x=\"158.763238\" xlink:href=\"#m527f568b28\" y=\"81.77749\"/>\n     <use style=\"fill:#1f77b4;stroke:#1f77b4;\" x=\"92.586941\" xlink:href=\"#m527f568b28\" y=\"58.986746\"/>\n     <use style=\"fill:#1f77b4;stroke:#1f77b4;\" x=\"145.558696\" xlink:href=\"#m527f568b28\" y=\"82.667639\"/>\n     <use style=\"fill:#1f77b4;stroke:#1f77b4;\" x=\"132.961835\" xlink:href=\"#m527f568b28\" y=\"67.365695\"/>\n     <use style=\"fill:#1f77b4;stroke:#1f77b4;\" x=\"124.083623\" xlink:href=\"#m527f568b28\" y=\"53.839822\"/>\n     <use style=\"fill:#1f77b4;stroke:#1f77b4;\" x=\"146.775816\" xlink:href=\"#m527f568b28\" y=\"89.920699\"/>\n     <use style=\"fill:#1f77b4;stroke:#1f77b4;\" x=\"61.522318\" xlink:href=\"#m527f568b28\" y=\"29.396171\"/>\n     <use style=\"fill:#1f77b4;stroke:#1f77b4;\" x=\"99.334502\" xlink:href=\"#m527f568b28\" y=\"56.751262\"/>\n     <use style=\"fill:#1f77b4;stroke:#1f77b4;\" x=\"120.367248\" xlink:href=\"#m527f568b28\" y=\"69.279335\"/>\n     <use style=\"fill:#1f77b4;stroke:#1f77b4;\" x=\"167.320766\" xlink:href=\"#m527f568b28\" y=\"89.339975\"/>\n     <use style=\"fill:#1f77b4;stroke:#1f77b4;\" x=\"147.78627\" xlink:href=\"#m527f568b28\" y=\"74.86184\"/>\n     <use style=\"fill:#1f77b4;stroke:#1f77b4;\" x=\"140.499295\" xlink:href=\"#m527f568b28\" y=\"70.481383\"/>\n     <use style=\"fill:#1f77b4;stroke:#1f77b4;\" x=\"191.710174\" xlink:href=\"#m527f568b28\" y=\"100.322018\"/>\n     <use style=\"fill:#1f77b4;stroke:#1f77b4;\" x=\"137.794077\" xlink:href=\"#m527f568b28\" y=\"85.107786\"/>\n     <use style=\"fill:#1f77b4;stroke:#1f77b4;\" x=\"130.352041\" xlink:href=\"#m527f568b28\" y=\"70.535274\"/>\n     <use style=\"fill:#1f77b4;stroke:#1f77b4;\" x=\"167.606873\" xlink:href=\"#m527f568b28\" y=\"90.650006\"/>\n     <use style=\"fill:#1f77b4;stroke:#1f77b4;\" x=\"85.025336\" xlink:href=\"#m527f568b28\" y=\"31.447452\"/>\n     <use style=\"fill:#1f77b4;stroke:#1f77b4;\" x=\"160.927197\" xlink:href=\"#m527f568b28\" y=\"84.701011\"/>\n     <use style=\"fill:#1f77b4;stroke:#1f77b4;\" x=\"143.590832\" xlink:href=\"#m527f568b28\" y=\"63.856341\"/>\n     <use style=\"fill:#1f77b4;stroke:#1f77b4;\" x=\"107.735907\" xlink:href=\"#m527f568b28\" y=\"55.176483\"/>\n     <use style=\"fill:#1f77b4;stroke:#1f77b4;\" x=\"130.301028\" xlink:href=\"#m527f568b28\" y=\"89.776892\"/>\n     <use style=\"fill:#1f77b4;stroke:#1f77b4;\" x=\"113.571807\" xlink:href=\"#m527f568b28\" y=\"70.074692\"/>\n     <use style=\"fill:#1f77b4;stroke:#1f77b4;\" x=\"76.21185\" xlink:href=\"#m527f568b28\" y=\"48.51988\"/>\n     <use style=\"fill:#1f77b4;stroke:#1f77b4;\" x=\"125.110315\" xlink:href=\"#m527f568b28\" y=\"63.526381\"/>\n     <use style=\"fill:#1f77b4;stroke:#1f77b4;\" x=\"111.581639\" xlink:href=\"#m527f568b28\" y=\"72.132481\"/>\n     <use style=\"fill:#1f77b4;stroke:#1f77b4;\" x=\"115.885491\" xlink:href=\"#m527f568b28\" y=\"70.957474\"/>\n     <use style=\"fill:#1f77b4;stroke:#1f77b4;\" x=\"92.670452\" xlink:href=\"#m527f568b28\" y=\"56.27383\"/>\n     <use style=\"fill:#1f77b4;stroke:#1f77b4;\" x=\"151.431066\" xlink:href=\"#m527f568b28\" y=\"73.222222\"/>\n     <use style=\"fill:#1f77b4;stroke:#1f77b4;\" x=\"129.290677\" xlink:href=\"#m527f568b28\" y=\"64.002085\"/>\n     <use style=\"fill:#1f77b4;stroke:#1f77b4;\" x=\"82.806844\" xlink:href=\"#m527f568b28\" y=\"26.540012\"/>\n     <use style=\"fill:#1f77b4;stroke:#1f77b4;\" x=\"136.263512\" xlink:href=\"#m527f568b28\" y=\"98.009055\"/>\n     <use style=\"fill:#1f77b4;stroke:#1f77b4;\" x=\"156.474925\" xlink:href=\"#m527f568b28\" y=\"88.824211\"/>\n     <use style=\"fill:#1f77b4;stroke:#1f77b4;\" x=\"124.085582\" xlink:href=\"#m527f568b28\" y=\"64.316456\"/>\n     <use style=\"fill:#1f77b4;stroke:#1f77b4;\" x=\"161.294196\" xlink:href=\"#m527f568b28\" y=\"95.21859\"/>\n     <use style=\"fill:#1f77b4;stroke:#1f77b4;\" x=\"67.376418\" xlink:href=\"#m527f568b28\" y=\"40.989681\"/>\n     <use style=\"fill:#1f77b4;stroke:#1f77b4;\" x=\"103.557227\" xlink:href=\"#m527f568b28\" y=\"39.896217\"/>\n     <use style=\"fill:#1f77b4;stroke:#1f77b4;\" x=\"127.884373\" xlink:href=\"#m527f568b28\" y=\"67.504646\"/>\n     <use style=\"fill:#1f77b4;stroke:#1f77b4;\" x=\"114.024601\" xlink:href=\"#m527f568b28\" y=\"66.275796\"/>\n     <use style=\"fill:#1f77b4;stroke:#1f77b4;\" x=\"119.884475\" xlink:href=\"#m527f568b28\" y=\"52.669819\"/>\n     <use style=\"fill:#1f77b4;stroke:#1f77b4;\" x=\"138.152458\" xlink:href=\"#m527f568b28\" y=\"68.665517\"/>\n     <use style=\"fill:#1f77b4;stroke:#1f77b4;\" x=\"147.369748\" xlink:href=\"#m527f568b28\" y=\"77.539384\"/>\n     <use style=\"fill:#1f77b4;stroke:#1f77b4;\" x=\"75.122505\" xlink:href=\"#m527f568b28\" y=\"19.710055\"/>\n     <use style=\"fill:#1f77b4;stroke:#1f77b4;\" x=\"130.555662\" xlink:href=\"#m527f568b28\" y=\"70.676955\"/>\n     <use style=\"fill:#1f77b4;stroke:#1f77b4;\" x=\"151.821565\" xlink:href=\"#m527f568b28\" y=\"88.069105\"/>\n     <use style=\"fill:#1f77b4;stroke:#1f77b4;\" x=\"124.59933\" xlink:href=\"#m527f568b28\" y=\"66.902761\"/>\n     <use style=\"fill:#1f77b4;stroke:#1f77b4;\" x=\"106.093809\" xlink:href=\"#m527f568b28\" y=\"57.089592\"/>\n     <use style=\"fill:#1f77b4;stroke:#1f77b4;\" x=\"92.151728\" xlink:href=\"#m527f568b28\" y=\"46.22711\"/>\n     <use style=\"fill:#1f77b4;stroke:#1f77b4;\" x=\"91.99272\" xlink:href=\"#m527f568b28\" y=\"53.893296\"/>\n     <use style=\"fill:#1f77b4;stroke:#1f77b4;\" x=\"184.436659\" xlink:href=\"#m527f568b28\" y=\"96.705139\"/>\n     <use style=\"fill:#1f77b4;stroke:#1f77b4;\" x=\"154.095842\" xlink:href=\"#m527f568b28\" y=\"103.039731\"/>\n     <use style=\"fill:#1f77b4;stroke:#1f77b4;\" x=\"138.219703\" xlink:href=\"#m527f568b28\" y=\"70.04327\"/>\n     <use style=\"fill:#1f77b4;stroke:#1f77b4;\" x=\"104.04916\" xlink:href=\"#m527f568b28\" y=\"62.113862\"/>\n     <use style=\"fill:#1f77b4;stroke:#1f77b4;\" x=\"159.199622\" xlink:href=\"#m527f568b28\" y=\"86.982409\"/>\n     <use style=\"fill:#1f77b4;stroke:#1f77b4;\" x=\"176.371974\" xlink:href=\"#m527f568b28\" y=\"91.892031\"/>\n     <use style=\"fill:#1f77b4;stroke:#1f77b4;\" x=\"125.158374\" xlink:href=\"#m527f568b28\" y=\"62.189583\"/>\n     <use style=\"fill:#1f77b4;stroke:#1f77b4;\" x=\"119.613251\" xlink:href=\"#m527f568b28\" y=\"51.830005\"/>\n     <use style=\"fill:#1f77b4;stroke:#1f77b4;\" x=\"147.124019\" xlink:href=\"#m527f568b28\" y=\"81.963866\"/>\n     <use style=\"fill:#1f77b4;stroke:#1f77b4;\" x=\"154.449326\" xlink:href=\"#m527f568b28\" y=\"98.950203\"/>\n     <use style=\"fill:#1f77b4;stroke:#1f77b4;\" x=\"110.582243\" xlink:href=\"#m527f568b28\" y=\"53.063941\"/>\n     <use style=\"fill:#1f77b4;stroke:#1f77b4;\" x=\"95.155088\" xlink:href=\"#m527f568b28\" y=\"68.633817\"/>\n     <use style=\"fill:#1f77b4;stroke:#1f77b4;\" x=\"124.961005\" xlink:href=\"#m527f568b28\" y=\"78.983991\"/>\n     <use style=\"fill:#1f77b4;stroke:#1f77b4;\" x=\"189.713539\" xlink:href=\"#m527f568b28\" y=\"105.44293\"/>\n     <use style=\"fill:#1f77b4;stroke:#1f77b4;\" x=\"164.921447\" xlink:href=\"#m527f568b28\" y=\"73.943961\"/>\n     <use style=\"fill:#1f77b4;stroke:#1f77b4;\" x=\"105.569047\" xlink:href=\"#m527f568b28\" y=\"60.559898\"/>\n     <use style=\"fill:#1f77b4;stroke:#1f77b4;\" x=\"162.044192\" xlink:href=\"#m527f568b28\" y=\"91.185684\"/>\n     <use style=\"fill:#1f77b4;stroke:#1f77b4;\" x=\"140.876481\" xlink:href=\"#m527f568b28\" y=\"84.260282\"/>\n     <use style=\"fill:#1f77b4;stroke:#1f77b4;\" x=\"128.852681\" xlink:href=\"#m527f568b28\" y=\"68.533479\"/>\n     <use style=\"fill:#1f77b4;stroke:#1f77b4;\" x=\"145.265972\" xlink:href=\"#m527f568b28\" y=\"77.382325\"/>\n     <use style=\"fill:#1f77b4;stroke:#1f77b4;\" x=\"98.767618\" xlink:href=\"#m527f568b28\" y=\"59.369845\"/>\n     <use style=\"fill:#1f77b4;stroke:#1f77b4;\" x=\"105.639444\" xlink:href=\"#m527f568b28\" y=\"59.246248\"/>\n     <use style=\"fill:#1f77b4;stroke:#1f77b4;\" x=\"112.408116\" xlink:href=\"#m527f568b28\" y=\"56.588922\"/>\n     <use style=\"fill:#1f77b4;stroke:#1f77b4;\" x=\"138.207078\" xlink:href=\"#m527f568b28\" y=\"83.192885\"/>\n     <use style=\"fill:#1f77b4;stroke:#1f77b4;\" x=\"120.730608\" xlink:href=\"#m527f568b28\" y=\"62.184846\"/>\n     <use style=\"fill:#1f77b4;stroke:#1f77b4;\" x=\"178.686969\" xlink:href=\"#m527f568b28\" y=\"90.159186\"/>\n     <use style=\"fill:#1f77b4;stroke:#1f77b4;\" x=\"130.926848\" xlink:href=\"#m527f568b28\" y=\"67.885244\"/>\n     <use style=\"fill:#1f77b4;stroke:#1f77b4;\" x=\"126.020147\" xlink:href=\"#m527f568b28\" y=\"73.663034\"/>\n     <use style=\"fill:#1f77b4;stroke:#1f77b4;\" x=\"126.252107\" xlink:href=\"#m527f568b28\" y=\"55.551829\"/>\n     <use style=\"fill:#1f77b4;stroke:#1f77b4;\" x=\"83.44125\" xlink:href=\"#m527f568b28\" y=\"45.643107\"/>\n     <use style=\"fill:#1f77b4;stroke:#1f77b4;\" x=\"124.701356\" xlink:href=\"#m527f568b28\" y=\"90.293549\"/>\n     <use style=\"fill:#1f77b4;stroke:#1f77b4;\" x=\"121.008314\" xlink:href=\"#m527f568b28\" y=\"73.331307\"/>\n     <use style=\"fill:#1f77b4;stroke:#1f77b4;\" x=\"158.780005\" xlink:href=\"#m527f568b28\" y=\"82.81431\"/>\n     <use style=\"fill:#1f77b4;stroke:#1f77b4;\" x=\"136.456032\" xlink:href=\"#m527f568b28\" y=\"98.096471\"/>\n     <use style=\"fill:#1f77b4;stroke:#1f77b4;\" x=\"87.888088\" xlink:href=\"#m527f568b28\" y=\"42.014647\"/>\n     <use style=\"fill:#1f77b4;stroke:#1f77b4;\" x=\"163.863972\" xlink:href=\"#m527f568b28\" y=\"95.359877\"/>\n     <use style=\"fill:#1f77b4;stroke:#1f77b4;\" x=\"112.600447\" xlink:href=\"#m527f568b28\" y=\"72.951552\"/>\n     <use style=\"fill:#1f77b4;stroke:#1f77b4;\" x=\"153.539619\" xlink:href=\"#m527f568b28\" y=\"81.209685\"/>\n     <use style=\"fill:#1f77b4;stroke:#1f77b4;\" x=\"129.139836\" xlink:href=\"#m527f568b28\" y=\"69.62603\"/>\n     <use style=\"fill:#1f77b4;stroke:#1f77b4;\" x=\"153.683657\" xlink:href=\"#m527f568b28\" y=\"79.293533\"/>\n     <use style=\"fill:#1f77b4;stroke:#1f77b4;\" x=\"139.34503\" xlink:href=\"#m527f568b28\" y=\"63.084941\"/>\n     <use style=\"fill:#1f77b4;stroke:#1f77b4;\" x=\"94.816107\" xlink:href=\"#m527f568b28\" y=\"51.123387\"/>\n     <use style=\"fill:#1f77b4;stroke:#1f77b4;\" x=\"176.087508\" xlink:href=\"#m527f568b28\" y=\"113.146207\"/>\n     <use style=\"fill:#1f77b4;stroke:#1f77b4;\" x=\"138.282612\" xlink:href=\"#m527f568b28\" y=\"74.618478\"/>\n     <use style=\"fill:#1f77b4;stroke:#1f77b4;\" x=\"90.098942\" xlink:href=\"#m527f568b28\" y=\"47.224806\"/>\n     <use style=\"fill:#1f77b4;stroke:#1f77b4;\" x=\"168.215533\" xlink:href=\"#m527f568b28\" y=\"87.444852\"/>\n     <use style=\"fill:#1f77b4;stroke:#1f77b4;\" x=\"91.907735\" xlink:href=\"#m527f568b28\" y=\"30.950449\"/>\n     <use style=\"fill:#1f77b4;stroke:#1f77b4;\" x=\"134.519933\" xlink:href=\"#m527f568b28\" y=\"74.573003\"/>\n     <use style=\"fill:#1f77b4;stroke:#1f77b4;\" x=\"143.874792\" xlink:href=\"#m527f568b28\" y=\"70.582982\"/>\n     <use style=\"fill:#1f77b4;stroke:#1f77b4;\" x=\"141.464568\" xlink:href=\"#m527f568b28\" y=\"78.546466\"/>\n     <use style=\"fill:#1f77b4;stroke:#1f77b4;\" x=\"132.991085\" xlink:href=\"#m527f568b28\" y=\"69.716609\"/>\n     <use style=\"fill:#1f77b4;stroke:#1f77b4;\" x=\"112.959656\" xlink:href=\"#m527f568b28\" y=\"60.745806\"/>\n     <use style=\"fill:#1f77b4;stroke:#1f77b4;\" x=\"142.497512\" xlink:href=\"#m527f568b28\" y=\"75.676428\"/>\n     <use style=\"fill:#1f77b4;stroke:#1f77b4;\" x=\"97.173843\" xlink:href=\"#m527f568b28\" y=\"58.554008\"/>\n     <use style=\"fill:#1f77b4;stroke:#1f77b4;\" x=\"127.961179\" xlink:href=\"#m527f568b28\" y=\"61.302005\"/>\n     <use style=\"fill:#1f77b4;stroke:#1f77b4;\" x=\"123.500816\" xlink:href=\"#m527f568b28\" y=\"63.229083\"/>\n     <use style=\"fill:#1f77b4;stroke:#1f77b4;\" x=\"128.406599\" xlink:href=\"#m527f568b28\" y=\"72.063566\"/>\n     <use style=\"fill:#1f77b4;stroke:#1f77b4;\" x=\"134.320363\" xlink:href=\"#m527f568b28\" y=\"83.761456\"/>\n     <use style=\"fill:#1f77b4;stroke:#1f77b4;\" x=\"88.934356\" xlink:href=\"#m527f568b28\" y=\"47.288227\"/>\n     <use style=\"fill:#1f77b4;stroke:#1f77b4;\" x=\"120.458701\" xlink:href=\"#m527f568b28\" y=\"63.878346\"/>\n     <use style=\"fill:#1f77b4;stroke:#1f77b4;\" x=\"99.618588\" xlink:href=\"#m527f568b28\" y=\"59.17322\"/>\n     <use style=\"fill:#1f77b4;stroke:#1f77b4;\" x=\"166.628405\" xlink:href=\"#m527f568b28\" y=\"76.127298\"/>\n     <use style=\"fill:#1f77b4;stroke:#1f77b4;\" x=\"159.318303\" xlink:href=\"#m527f568b28\" y=\"82.129285\"/>\n     <use style=\"fill:#1f77b4;stroke:#1f77b4;\" x=\"169.160755\" xlink:href=\"#m527f568b28\" y=\"90.625626\"/>\n     <use style=\"fill:#1f77b4;stroke:#1f77b4;\" x=\"115.292969\" xlink:href=\"#m527f568b28\" y=\"50.36274\"/>\n     <use style=\"fill:#1f77b4;stroke:#1f77b4;\" x=\"154.769188\" xlink:href=\"#m527f568b28\" y=\"80.613894\"/>\n     <use style=\"fill:#1f77b4;stroke:#1f77b4;\" x=\"139.926611\" xlink:href=\"#m527f568b28\" y=\"70.145906\"/>\n     <use style=\"fill:#1f77b4;stroke:#1f77b4;\" x=\"107.027227\" xlink:href=\"#m527f568b28\" y=\"46.977336\"/>\n     <use style=\"fill:#1f77b4;stroke:#1f77b4;\" x=\"156.636733\" xlink:href=\"#m527f568b28\" y=\"90.49104\"/>\n     <use style=\"fill:#1f77b4;stroke:#1f77b4;\" x=\"97.25717\" xlink:href=\"#m527f568b28\" y=\"75.376777\"/>\n     <use style=\"fill:#1f77b4;stroke:#1f77b4;\" x=\"101.415476\" xlink:href=\"#m527f568b28\" y=\"45.349252\"/>\n     <use style=\"fill:#1f77b4;stroke:#1f77b4;\" x=\"130.937361\" xlink:href=\"#m527f568b28\" y=\"62.517434\"/>\n     <use style=\"fill:#1f77b4;stroke:#1f77b4;\" x=\"118.802764\" xlink:href=\"#m527f568b28\" y=\"59.99942\"/>\n     <use style=\"fill:#1f77b4;stroke:#1f77b4;\" x=\"175.299599\" xlink:href=\"#m527f568b28\" y=\"83.130994\"/>\n     <use style=\"fill:#1f77b4;stroke:#1f77b4;\" x=\"112.72136\" xlink:href=\"#m527f568b28\" y=\"52.948611\"/>\n     <use style=\"fill:#1f77b4;stroke:#1f77b4;\" x=\"119.577102\" xlink:href=\"#m527f568b28\" y=\"68.036091\"/>\n     <use style=\"fill:#1f77b4;stroke:#1f77b4;\" x=\"155.303237\" xlink:href=\"#m527f568b28\" y=\"80.253301\"/>\n     <use style=\"fill:#1f77b4;stroke:#1f77b4;\" x=\"162.901376\" xlink:href=\"#m527f568b28\" y=\"91.659871\"/>\n     <use style=\"fill:#1f77b4;stroke:#1f77b4;\" x=\"137.539595\" xlink:href=\"#m527f568b28\" y=\"86.512863\"/>\n     <use style=\"fill:#1f77b4;stroke:#1f77b4;\" x=\"83.704355\" xlink:href=\"#m527f568b28\" y=\"69.954651\"/>\n     <use style=\"fill:#1f77b4;stroke:#1f77b4;\" x=\"105.995218\" xlink:href=\"#m527f568b28\" y=\"75.753605\"/>\n     <use style=\"fill:#1f77b4;stroke:#1f77b4;\" x=\"94.138612\" xlink:href=\"#m527f568b28\" y=\"47.682475\"/>\n     <use style=\"fill:#1f77b4;stroke:#1f77b4;\" x=\"160.519884\" xlink:href=\"#m527f568b28\" y=\"83.386578\"/>\n     <use style=\"fill:#1f77b4;stroke:#1f77b4;\" x=\"93.255907\" xlink:href=\"#m527f568b28\" y=\"62.102099\"/>\n     <use style=\"fill:#1f77b4;stroke:#1f77b4;\" x=\"149.485234\" xlink:href=\"#m527f568b28\" y=\"94.756907\"/>\n     <use style=\"fill:#1f77b4;stroke:#1f77b4;\" x=\"120.617364\" xlink:href=\"#m527f568b28\" y=\"67.859051\"/>\n     <use style=\"fill:#1f77b4;stroke:#1f77b4;\" x=\"200.378742\" xlink:href=\"#m527f568b28\" y=\"113.530508\"/>\n     <use style=\"fill:#1f77b4;stroke:#1f77b4;\" x=\"133.52812\" xlink:href=\"#m527f568b28\" y=\"70.860649\"/>\n     <use style=\"fill:#1f77b4;stroke:#1f77b4;\" x=\"117.992574\" xlink:href=\"#m527f568b28\" y=\"59.189573\"/>\n     <use style=\"fill:#1f77b4;stroke:#1f77b4;\" x=\"134.557359\" xlink:href=\"#m527f568b28\" y=\"80.466312\"/>\n     <use style=\"fill:#1f77b4;stroke:#1f77b4;\" x=\"138.631776\" xlink:href=\"#m527f568b28\" y=\"62.2237\"/>\n     <use style=\"fill:#1f77b4;stroke:#1f77b4;\" x=\"97.129207\" xlink:href=\"#m527f568b28\" y=\"45.796599\"/>\n     <use style=\"fill:#1f77b4;stroke:#1f77b4;\" x=\"125.328342\" xlink:href=\"#m527f568b28\" y=\"68.776185\"/>\n     <use style=\"fill:#1f77b4;stroke:#1f77b4;\" x=\"131.764003\" xlink:href=\"#m527f568b28\" y=\"65.283824\"/>\n     <use style=\"fill:#1f77b4;stroke:#1f77b4;\" x=\"96.031317\" xlink:href=\"#m527f568b28\" y=\"58.228571\"/>\n     <use style=\"fill:#1f77b4;stroke:#1f77b4;\" x=\"154.168206\" xlink:href=\"#m527f568b28\" y=\"77.404871\"/>\n     <use style=\"fill:#1f77b4;stroke:#1f77b4;\" x=\"119.46731\" xlink:href=\"#m527f568b28\" y=\"71.780093\"/>\n     <use style=\"fill:#1f77b4;stroke:#1f77b4;\" x=\"123.198752\" xlink:href=\"#m527f568b28\" y=\"71.329522\"/>\n     <use style=\"fill:#1f77b4;stroke:#1f77b4;\" x=\"115.827724\" xlink:href=\"#m527f568b28\" y=\"72.751038\"/>\n     <use style=\"fill:#1f77b4;stroke:#1f77b4;\" x=\"82.111503\" xlink:href=\"#m527f568b28\" y=\"46.18551\"/>\n     <use style=\"fill:#1f77b4;stroke:#1f77b4;\" x=\"153.609765\" xlink:href=\"#m527f568b28\" y=\"81.86602\"/>\n     <use style=\"fill:#1f77b4;stroke:#1f77b4;\" x=\"104.429841\" xlink:href=\"#m527f568b28\" y=\"64.963411\"/>\n     <use style=\"fill:#1f77b4;stroke:#1f77b4;\" x=\"102.232058\" xlink:href=\"#m527f568b28\" y=\"43.094585\"/>\n     <use style=\"fill:#1f77b4;stroke:#1f77b4;\" x=\"108.569194\" xlink:href=\"#m527f568b28\" y=\"71.157428\"/>\n     <use style=\"fill:#1f77b4;stroke:#1f77b4;\" x=\"116.606434\" xlink:href=\"#m527f568b28\" y=\"65.563659\"/>\n     <use style=\"fill:#1f77b4;stroke:#1f77b4;\" x=\"145.857261\" xlink:href=\"#m527f568b28\" y=\"79.592952\"/>\n     <use style=\"fill:#1f77b4;stroke:#1f77b4;\" x=\"136.426659\" xlink:href=\"#m527f568b28\" y=\"72.059812\"/>\n     <use style=\"fill:#1f77b4;stroke:#1f77b4;\" x=\"108.065991\" xlink:href=\"#m527f568b28\" y=\"47.094367\"/>\n     <use style=\"fill:#1f77b4;stroke:#1f77b4;\" x=\"139.086535\" xlink:href=\"#m527f568b28\" y=\"77.666563\"/>\n     <use style=\"fill:#1f77b4;stroke:#1f77b4;\" x=\"139.807299\" xlink:href=\"#m527f568b28\" y=\"83.760217\"/>\n     <use style=\"fill:#1f77b4;stroke:#1f77b4;\" x=\"116.963033\" xlink:href=\"#m527f568b28\" y=\"71.338382\"/>\n     <use style=\"fill:#1f77b4;stroke:#1f77b4;\" x=\"160.92888\" xlink:href=\"#m527f568b28\" y=\"83.884383\"/>\n     <use style=\"fill:#1f77b4;stroke:#1f77b4;\" x=\"152.940482\" xlink:href=\"#m527f568b28\" y=\"101.942786\"/>\n     <use style=\"fill:#1f77b4;stroke:#1f77b4;\" x=\"141.140738\" xlink:href=\"#m527f568b28\" y=\"89.286687\"/>\n     <use style=\"fill:#1f77b4;stroke:#1f77b4;\" x=\"147.935876\" xlink:href=\"#m527f568b28\" y=\"84.346161\"/>\n     <use style=\"fill:#1f77b4;stroke:#1f77b4;\" x=\"104.878087\" xlink:href=\"#m527f568b28\" y=\"60.909826\"/>\n     <use style=\"fill:#1f77b4;stroke:#1f77b4;\" x=\"109.81663\" xlink:href=\"#m527f568b28\" y=\"54.74539\"/>\n     <use style=\"fill:#1f77b4;stroke:#1f77b4;\" x=\"129.065441\" xlink:href=\"#m527f568b28\" y=\"55.321547\"/>\n     <use style=\"fill:#1f77b4;stroke:#1f77b4;\" x=\"142.934535\" xlink:href=\"#m527f568b28\" y=\"79.666279\"/>\n     <use style=\"fill:#1f77b4;stroke:#1f77b4;\" x=\"127.765723\" xlink:href=\"#m527f568b28\" y=\"68.178247\"/>\n     <use style=\"fill:#1f77b4;stroke:#1f77b4;\" x=\"99.881462\" xlink:href=\"#m527f568b28\" y=\"54.799103\"/>\n     <use style=\"fill:#1f77b4;stroke:#1f77b4;\" x=\"147.350456\" xlink:href=\"#m527f568b28\" y=\"81.960416\"/>\n     <use style=\"fill:#1f77b4;stroke:#1f77b4;\" x=\"148.355795\" xlink:href=\"#m527f568b28\" y=\"77.740022\"/>\n     <use style=\"fill:#1f77b4;stroke:#1f77b4;\" x=\"141.243094\" xlink:href=\"#m527f568b28\" y=\"74.682678\"/>\n     <use style=\"fill:#1f77b4;stroke:#1f77b4;\" x=\"117.012952\" xlink:href=\"#m527f568b28\" y=\"71.135787\"/>\n     <use style=\"fill:#1f77b4;stroke:#1f77b4;\" x=\"129.405968\" xlink:href=\"#m527f568b28\" y=\"81.851382\"/>\n     <use style=\"fill:#1f77b4;stroke:#1f77b4;\" x=\"136.716103\" xlink:href=\"#m527f568b28\" y=\"74.192885\"/>\n     <use style=\"fill:#1f77b4;stroke:#1f77b4;\" x=\"140.160717\" xlink:href=\"#m527f568b28\" y=\"77.72033\"/>\n     <use style=\"fill:#1f77b4;stroke:#1f77b4;\" x=\"109.984785\" xlink:href=\"#m527f568b28\" y=\"68.972649\"/>\n     <use style=\"fill:#1f77b4;stroke:#1f77b4;\" x=\"120.681252\" xlink:href=\"#m527f568b28\" y=\"58.196789\"/>\n     <use style=\"fill:#1f77b4;stroke:#1f77b4;\" x=\"105.351139\" xlink:href=\"#m527f568b28\" y=\"71.713228\"/>\n     <use style=\"fill:#1f77b4;stroke:#1f77b4;\" x=\"156.476494\" xlink:href=\"#m527f568b28\" y=\"69.722403\"/>\n     <use style=\"fill:#1f77b4;stroke:#1f77b4;\" x=\"110.824857\" xlink:href=\"#m527f568b28\" y=\"66.039417\"/>\n     <use style=\"fill:#1f77b4;stroke:#1f77b4;\" x=\"131.057771\" xlink:href=\"#m527f568b28\" y=\"60.202253\"/>\n     <use style=\"fill:#1f77b4;stroke:#1f77b4;\" x=\"124.937068\" xlink:href=\"#m527f568b28\" y=\"67.512394\"/>\n     <use style=\"fill:#1f77b4;stroke:#1f77b4;\" x=\"112.19502\" xlink:href=\"#m527f568b28\" y=\"50.021558\"/>\n     <use style=\"fill:#1f77b4;stroke:#1f77b4;\" x=\"142.649704\" xlink:href=\"#m527f568b28\" y=\"82.597571\"/>\n     <use style=\"fill:#1f77b4;stroke:#1f77b4;\" x=\"97.946427\" xlink:href=\"#m527f568b28\" y=\"66.128657\"/>\n     <use style=\"fill:#1f77b4;stroke:#1f77b4;\" x=\"109.209779\" xlink:href=\"#m527f568b28\" y=\"52.270365\"/>\n     <use style=\"fill:#1f77b4;stroke:#1f77b4;\" x=\"176.826027\" xlink:href=\"#m527f568b28\" y=\"81.611675\"/>\n     <use style=\"fill:#1f77b4;stroke:#1f77b4;\" x=\"137.491501\" xlink:href=\"#m527f568b28\" y=\"89.037504\"/>\n     <use style=\"fill:#1f77b4;stroke:#1f77b4;\" x=\"168.72626\" xlink:href=\"#m527f568b28\" y=\"108.080285\"/>\n     <use style=\"fill:#1f77b4;stroke:#1f77b4;\" x=\"132.749336\" xlink:href=\"#m527f568b28\" y=\"71.256274\"/>\n     <use style=\"fill:#1f77b4;stroke:#1f77b4;\" x=\"80.359783\" xlink:href=\"#m527f568b28\" y=\"32.765925\"/>\n     <use style=\"fill:#1f77b4;stroke:#1f77b4;\" x=\"75.866098\" xlink:href=\"#m527f568b28\" y=\"44.320315\"/>\n     <use style=\"fill:#1f77b4;stroke:#1f77b4;\" x=\"116.187182\" xlink:href=\"#m527f568b28\" y=\"54.520826\"/>\n     <use style=\"fill:#1f77b4;stroke:#1f77b4;\" x=\"152.376223\" xlink:href=\"#m527f568b28\" y=\"85.93762\"/>\n     <use style=\"fill:#1f77b4;stroke:#1f77b4;\" x=\"140.452614\" xlink:href=\"#m527f568b28\" y=\"86.166614\"/>\n     <use style=\"fill:#1f77b4;stroke:#1f77b4;\" x=\"124.96364\" xlink:href=\"#m527f568b28\" y=\"73.768776\"/>\n     <use style=\"fill:#1f77b4;stroke:#1f77b4;\" x=\"108.070031\" xlink:href=\"#m527f568b28\" y=\"61.982791\"/>\n     <use style=\"fill:#1f77b4;stroke:#1f77b4;\" x=\"152.859412\" xlink:href=\"#m527f568b28\" y=\"80.21379\"/>\n     <use style=\"fill:#1f77b4;stroke:#1f77b4;\" x=\"106.802\" xlink:href=\"#m527f568b28\" y=\"65.459993\"/>\n     <use style=\"fill:#1f77b4;stroke:#1f77b4;\" x=\"112.620248\" xlink:href=\"#m527f568b28\" y=\"60.916338\"/>\n     <use style=\"fill:#1f77b4;stroke:#1f77b4;\" x=\"114.746317\" xlink:href=\"#m527f568b28\" y=\"49.623884\"/>\n     <use style=\"fill:#1f77b4;stroke:#1f77b4;\" x=\"122.727761\" xlink:href=\"#m527f568b28\" y=\"74.470585\"/>\n     <use style=\"fill:#1f77b4;stroke:#1f77b4;\" x=\"65.625257\" xlink:href=\"#m527f568b28\" y=\"13.377273\"/>\n     <use style=\"fill:#1f77b4;stroke:#1f77b4;\" x=\"154.907452\" xlink:href=\"#m527f568b28\" y=\"88.461138\"/>\n     <use style=\"fill:#1f77b4;stroke:#1f77b4;\" x=\"113.940122\" xlink:href=\"#m527f568b28\" y=\"62.389181\"/>\n     <use style=\"fill:#1f77b4;stroke:#1f77b4;\" x=\"112.768494\" xlink:href=\"#m527f568b28\" y=\"62.2721\"/>\n     <use style=\"fill:#1f77b4;stroke:#1f77b4;\" x=\"148.160767\" xlink:href=\"#m527f568b28\" y=\"68.861193\"/>\n     <use style=\"fill:#1f77b4;stroke:#1f77b4;\" x=\"137.489133\" xlink:href=\"#m527f568b28\" y=\"90.398123\"/>\n     <use style=\"fill:#1f77b4;stroke:#1f77b4;\" x=\"164.147859\" xlink:href=\"#m527f568b28\" y=\"90.096123\"/>\n     <use style=\"fill:#1f77b4;stroke:#1f77b4;\" x=\"83.737064\" xlink:href=\"#m527f568b28\" y=\"56.93955\"/>\n     <use style=\"fill:#1f77b4;stroke:#1f77b4;\" x=\"134.668412\" xlink:href=\"#m527f568b28\" y=\"81.919433\"/>\n     <use style=\"fill:#1f77b4;stroke:#1f77b4;\" x=\"162.894641\" xlink:href=\"#m527f568b28\" y=\"93.933669\"/>\n     <use style=\"fill:#1f77b4;stroke:#1f77b4;\" x=\"136.620592\" xlink:href=\"#m527f568b28\" y=\"64.905987\"/>\n     <use style=\"fill:#1f77b4;stroke:#1f77b4;\" x=\"143.557155\" xlink:href=\"#m527f568b28\" y=\"60.9182\"/>\n     <use style=\"fill:#1f77b4;stroke:#1f77b4;\" x=\"128.892239\" xlink:href=\"#m527f568b28\" y=\"57.398458\"/>\n     <use style=\"fill:#1f77b4;stroke:#1f77b4;\" x=\"145.146335\" xlink:href=\"#m527f568b28\" y=\"65.837985\"/>\n     <use style=\"fill:#1f77b4;stroke:#1f77b4;\" x=\"164.887257\" xlink:href=\"#m527f568b28\" y=\"86.672783\"/>\n     <use style=\"fill:#1f77b4;stroke:#1f77b4;\" x=\"148.761113\" xlink:href=\"#m527f568b28\" y=\"75.764553\"/>\n     <use style=\"fill:#1f77b4;stroke:#1f77b4;\" x=\"134.739441\" xlink:href=\"#m527f568b28\" y=\"77.801784\"/>\n     <use style=\"fill:#1f77b4;stroke:#1f77b4;\" x=\"146.813188\" xlink:href=\"#m527f568b28\" y=\"82.720191\"/>\n     <use style=\"fill:#1f77b4;stroke:#1f77b4;\" x=\"113.945071\" xlink:href=\"#m527f568b28\" y=\"61.320474\"/>\n     <use style=\"fill:#1f77b4;stroke:#1f77b4;\" x=\"75.381317\" xlink:href=\"#m527f568b28\" y=\"19.067708\"/>\n     <use style=\"fill:#1f77b4;stroke:#1f77b4;\" x=\"82.644473\" xlink:href=\"#m527f568b28\" y=\"42.053383\"/>\n     <use style=\"fill:#1f77b4;stroke:#1f77b4;\" x=\"206.468578\" xlink:href=\"#m527f568b28\" y=\"131.885371\"/>\n     <use style=\"fill:#1f77b4;stroke:#1f77b4;\" x=\"141.247713\" xlink:href=\"#m527f568b28\" y=\"65.782917\"/>\n     <use style=\"fill:#1f77b4;stroke:#1f77b4;\" x=\"129.939614\" xlink:href=\"#m527f568b28\" y=\"57.004985\"/>\n     <use style=\"fill:#1f77b4;stroke:#1f77b4;\" x=\"103.328143\" xlink:href=\"#m527f568b28\" y=\"57.366241\"/>\n     <use style=\"fill:#1f77b4;stroke:#1f77b4;\" x=\"98.698246\" xlink:href=\"#m527f568b28\" y=\"58.206752\"/>\n     <use style=\"fill:#1f77b4;stroke:#1f77b4;\" x=\"103.77505\" xlink:href=\"#m527f568b28\" y=\"56.75853\"/>\n     <use style=\"fill:#1f77b4;stroke:#1f77b4;\" x=\"147.485857\" xlink:href=\"#m527f568b28\" y=\"88.369329\"/>\n     <use style=\"fill:#1f77b4;stroke:#1f77b4;\" x=\"120.981672\" xlink:href=\"#m527f568b28\" y=\"66.924973\"/>\n     <use style=\"fill:#1f77b4;stroke:#1f77b4;\" x=\"111.030552\" xlink:href=\"#m527f568b28\" y=\"76.713809\"/>\n     <use style=\"fill:#1f77b4;stroke:#1f77b4;\" x=\"189.066548\" xlink:href=\"#m527f568b28\" y=\"99.220893\"/>\n     <use style=\"fill:#1f77b4;stroke:#1f77b4;\" x=\"135.461415\" xlink:href=\"#m527f568b28\" y=\"69.466958\"/>\n     <use style=\"fill:#1f77b4;stroke:#1f77b4;\" x=\"121.796804\" xlink:href=\"#m527f568b28\" y=\"64.926975\"/>\n     <use style=\"fill:#1f77b4;stroke:#1f77b4;\" x=\"127.657077\" xlink:href=\"#m527f568b28\" y=\"73.528392\"/>\n     <use style=\"fill:#1f77b4;stroke:#1f77b4;\" x=\"182.488207\" xlink:href=\"#m527f568b28\" y=\"95.929994\"/>\n     <use style=\"fill:#1f77b4;stroke:#1f77b4;\" x=\"116.72083\" xlink:href=\"#m527f568b28\" y=\"66.803522\"/>\n     <use style=\"fill:#1f77b4;stroke:#1f77b4;\" x=\"140.606317\" xlink:href=\"#m527f568b28\" y=\"67.819857\"/>\n     <use style=\"fill:#1f77b4;stroke:#1f77b4;\" x=\"141.04618\" xlink:href=\"#m527f568b28\" y=\"78.696573\"/>\n     <use style=\"fill:#1f77b4;stroke:#1f77b4;\" x=\"116.164899\" xlink:href=\"#m527f568b28\" y=\"75.579017\"/>\n     <use style=\"fill:#1f77b4;stroke:#1f77b4;\" x=\"117.329782\" xlink:href=\"#m527f568b28\" y=\"68.966608\"/>\n     <use style=\"fill:#1f77b4;stroke:#1f77b4;\" x=\"108.966941\" xlink:href=\"#m527f568b28\" y=\"60.055294\"/>\n     <use style=\"fill:#1f77b4;stroke:#1f77b4;\" x=\"131.645549\" xlink:href=\"#m527f568b28\" y=\"86.942327\"/>\n     <use style=\"fill:#1f77b4;stroke:#1f77b4;\" x=\"107.168673\" xlink:href=\"#m527f568b28\" y=\"52.703716\"/>\n     <use style=\"fill:#1f77b4;stroke:#1f77b4;\" x=\"94.614924\" xlink:href=\"#m527f568b28\" y=\"53.62408\"/>\n     <use style=\"fill:#1f77b4;stroke:#1f77b4;\" x=\"92.702133\" xlink:href=\"#m527f568b28\" y=\"41.817084\"/>\n     <use style=\"fill:#1f77b4;stroke:#1f77b4;\" x=\"83.405979\" xlink:href=\"#m527f568b28\" y=\"40.142235\"/>\n     <use style=\"fill:#1f77b4;stroke:#1f77b4;\" x=\"110.241425\" xlink:href=\"#m527f568b28\" y=\"60.794553\"/>\n     <use style=\"fill:#1f77b4;stroke:#1f77b4;\" x=\"135.823242\" xlink:href=\"#m527f568b28\" y=\"56.425846\"/>\n     <use style=\"fill:#1f77b4;stroke:#1f77b4;\" x=\"133.982981\" xlink:href=\"#m527f568b28\" y=\"77.399266\"/>\n     <use style=\"fill:#1f77b4;stroke:#1f77b4;\" x=\"132.258459\" xlink:href=\"#m527f568b28\" y=\"76.258837\"/>\n     <use style=\"fill:#1f77b4;stroke:#1f77b4;\" x=\"120.775758\" xlink:href=\"#m527f568b28\" y=\"72.775893\"/>\n     <use style=\"fill:#1f77b4;stroke:#1f77b4;\" x=\"140.790715\" xlink:href=\"#m527f568b28\" y=\"73.542015\"/>\n     <use style=\"fill:#1f77b4;stroke:#1f77b4;\" x=\"126.257751\" xlink:href=\"#m527f568b28\" y=\"68.690942\"/>\n     <use style=\"fill:#1f77b4;stroke:#1f77b4;\" x=\"145.049662\" xlink:href=\"#m527f568b28\" y=\"88.548548\"/>\n     <use style=\"fill:#1f77b4;stroke:#1f77b4;\" x=\"134.319194\" xlink:href=\"#m527f568b28\" y=\"63.505518\"/>\n     <use style=\"fill:#1f77b4;stroke:#1f77b4;\" x=\"152.441288\" xlink:href=\"#m527f568b28\" y=\"80.319154\"/>\n     <use style=\"fill:#1f77b4;stroke:#1f77b4;\" x=\"105.935634\" xlink:href=\"#m527f568b28\" y=\"73.143939\"/>\n     <use style=\"fill:#1f77b4;stroke:#1f77b4;\" x=\"133.103301\" xlink:href=\"#m527f568b28\" y=\"68.73285\"/>\n     <use style=\"fill:#1f77b4;stroke:#1f77b4;\" x=\"122.580089\" xlink:href=\"#m527f568b28\" y=\"70.357896\"/>\n     <use style=\"fill:#1f77b4;stroke:#1f77b4;\" x=\"132.055581\" xlink:href=\"#m527f568b28\" y=\"73.417627\"/>\n     <use style=\"fill:#1f77b4;stroke:#1f77b4;\" x=\"128.321014\" xlink:href=\"#m527f568b28\" y=\"64.57166\"/>\n     <use style=\"fill:#1f77b4;stroke:#1f77b4;\" x=\"115.082382\" xlink:href=\"#m527f568b28\" y=\"63.772862\"/>\n     <use style=\"fill:#1f77b4;stroke:#1f77b4;\" x=\"115.096756\" xlink:href=\"#m527f568b28\" y=\"63.809842\"/>\n     <use style=\"fill:#1f77b4;stroke:#1f77b4;\" x=\"94.137552\" xlink:href=\"#m527f568b28\" y=\"35.706672\"/>\n     <use style=\"fill:#1f77b4;stroke:#1f77b4;\" x=\"147.512025\" xlink:href=\"#m527f568b28\" y=\"104.664046\"/>\n     <use style=\"fill:#1f77b4;stroke:#1f77b4;\" x=\"150.938148\" xlink:href=\"#m527f568b28\" y=\"93.537245\"/>\n     <use style=\"fill:#1f77b4;stroke:#1f77b4;\" x=\"120.746282\" xlink:href=\"#m527f568b28\" y=\"75.453036\"/>\n     <use style=\"fill:#1f77b4;stroke:#1f77b4;\" x=\"160.18946\" xlink:href=\"#m527f568b28\" y=\"88.860451\"/>\n     <use style=\"fill:#1f77b4;stroke:#1f77b4;\" x=\"164.383048\" xlink:href=\"#m527f568b28\" y=\"89.700439\"/>\n     <use style=\"fill:#1f77b4;stroke:#1f77b4;\" x=\"114.257638\" xlink:href=\"#m527f568b28\" y=\"60.66552\"/>\n     <use style=\"fill:#1f77b4;stroke:#1f77b4;\" x=\"98.173261\" xlink:href=\"#m527f568b28\" y=\"45.277663\"/>\n     <use style=\"fill:#1f77b4;stroke:#1f77b4;\" x=\"121.316623\" xlink:href=\"#m527f568b28\" y=\"72.760531\"/>\n     <use style=\"fill:#1f77b4;stroke:#1f77b4;\" x=\"107.193138\" xlink:href=\"#m527f568b28\" y=\"58.638416\"/>\n     <use style=\"fill:#1f77b4;stroke:#1f77b4;\" x=\"181.338912\" xlink:href=\"#m527f568b28\" y=\"115.211352\"/>\n     <use style=\"fill:#1f77b4;stroke:#1f77b4;\" x=\"60.503061\" xlink:href=\"#m527f568b28\" y=\"35.451531\"/>\n     <use style=\"fill:#1f77b4;stroke:#1f77b4;\" x=\"141.610601\" xlink:href=\"#m527f568b28\" y=\"77.099461\"/>\n     <use style=\"fill:#1f77b4;stroke:#1f77b4;\" x=\"111.10813\" xlink:href=\"#m527f568b28\" y=\"77.727369\"/>\n     <use style=\"fill:#1f77b4;stroke:#1f77b4;\" x=\"111.451983\" xlink:href=\"#m527f568b28\" y=\"47.255612\"/>\n     <use style=\"fill:#1f77b4;stroke:#1f77b4;\" x=\"133.664093\" xlink:href=\"#m527f568b28\" y=\"63.322895\"/>\n     <use style=\"fill:#1f77b4;stroke:#1f77b4;\" x=\"89.789847\" xlink:href=\"#m527f568b28\" y=\"53.791634\"/>\n     <use style=\"fill:#1f77b4;stroke:#1f77b4;\" x=\"135.051711\" xlink:href=\"#m527f568b28\" y=\"90.263781\"/>\n     <use style=\"fill:#1f77b4;stroke:#1f77b4;\" x=\"155.659666\" xlink:href=\"#m527f568b28\" y=\"76.992208\"/>\n     <use style=\"fill:#1f77b4;stroke:#1f77b4;\" x=\"137.805125\" xlink:href=\"#m527f568b28\" y=\"72.570257\"/>\n     <use style=\"fill:#1f77b4;stroke:#1f77b4;\" x=\"118.324358\" xlink:href=\"#m527f568b28\" y=\"62.908299\"/>\n     <use style=\"fill:#1f77b4;stroke:#1f77b4;\" x=\"131.367178\" xlink:href=\"#m527f568b28\" y=\"80.177654\"/>\n     <use style=\"fill:#1f77b4;stroke:#1f77b4;\" x=\"128.854329\" xlink:href=\"#m527f568b28\" y=\"85.76228\"/>\n     <use style=\"fill:#1f77b4;stroke:#1f77b4;\" x=\"161.00812\" xlink:href=\"#m527f568b28\" y=\"90.049106\"/>\n     <use style=\"fill:#1f77b4;stroke:#1f77b4;\" x=\"71.790236\" xlink:href=\"#m527f568b28\" y=\"30.082891\"/>\n     <use style=\"fill:#1f77b4;stroke:#1f77b4;\" x=\"85.102718\" xlink:href=\"#m527f568b28\" y=\"30.244593\"/>\n     <use style=\"fill:#1f77b4;stroke:#1f77b4;\" x=\"123.93619\" xlink:href=\"#m527f568b28\" y=\"71.670294\"/>\n     <use style=\"fill:#1f77b4;stroke:#1f77b4;\" x=\"105.009613\" xlink:href=\"#m527f568b28\" y=\"63.269812\"/>\n     <use style=\"fill:#1f77b4;stroke:#1f77b4;\" x=\"113.63446\" xlink:href=\"#m527f568b28\" y=\"71.464564\"/>\n     <use style=\"fill:#1f77b4;stroke:#1f77b4;\" x=\"135.657128\" xlink:href=\"#m527f568b28\" y=\"75.507413\"/>\n     <use style=\"fill:#1f77b4;stroke:#1f77b4;\" x=\"151.259215\" xlink:href=\"#m527f568b28\" y=\"89.664607\"/>\n     <use style=\"fill:#1f77b4;stroke:#1f77b4;\" x=\"138.793321\" xlink:href=\"#m527f568b28\" y=\"71.602983\"/>\n     <use style=\"fill:#1f77b4;stroke:#1f77b4;\" x=\"129.02298\" xlink:href=\"#m527f568b28\" y=\"71.066519\"/>\n     <use style=\"fill:#1f77b4;stroke:#1f77b4;\" x=\"112.663598\" xlink:href=\"#m527f568b28\" y=\"49.825305\"/>\n     <use style=\"fill:#1f77b4;stroke:#1f77b4;\" x=\"135.414379\" xlink:href=\"#m527f568b28\" y=\"61.346483\"/>\n     <use style=\"fill:#1f77b4;stroke:#1f77b4;\" x=\"116.661123\" xlink:href=\"#m527f568b28\" y=\"54.796024\"/>\n     <use style=\"fill:#1f77b4;stroke:#1f77b4;\" x=\"152.93289\" xlink:href=\"#m527f568b28\" y=\"86.192368\"/>\n     <use style=\"fill:#1f77b4;stroke:#1f77b4;\" x=\"111.437296\" xlink:href=\"#m527f568b28\" y=\"51.087308\"/>\n     <use style=\"fill:#1f77b4;stroke:#1f77b4;\" x=\"129.255267\" xlink:href=\"#m527f568b28\" y=\"68.822249\"/>\n     <use style=\"fill:#1f77b4;stroke:#1f77b4;\" x=\"130.904325\" xlink:href=\"#m527f568b28\" y=\"61.62079\"/>\n     <use style=\"fill:#1f77b4;stroke:#1f77b4;\" x=\"104.856453\" xlink:href=\"#m527f568b28\" y=\"70.49831\"/>\n     <use style=\"fill:#1f77b4;stroke:#1f77b4;\" x=\"136.277448\" xlink:href=\"#m527f568b28\" y=\"68.569491\"/>\n     <use style=\"fill:#1f77b4;stroke:#1f77b4;\" x=\"99.225521\" xlink:href=\"#m527f568b28\" y=\"59.791788\"/>\n     <use style=\"fill:#1f77b4;stroke:#1f77b4;\" x=\"165.813687\" xlink:href=\"#m527f568b28\" y=\"92.95496\"/>\n     <use style=\"fill:#1f77b4;stroke:#1f77b4;\" x=\"113.84444\" xlink:href=\"#m527f568b28\" y=\"65.069075\"/>\n     <use style=\"fill:#1f77b4;stroke:#1f77b4;\" x=\"126.8403\" xlink:href=\"#m527f568b28\" y=\"83.994669\"/>\n     <use style=\"fill:#1f77b4;stroke:#1f77b4;\" x=\"69.497763\" xlink:href=\"#m527f568b28\" y=\"32.835424\"/>\n     <use style=\"fill:#1f77b4;stroke:#1f77b4;\" x=\"124.130574\" xlink:href=\"#m527f568b28\" y=\"59.755183\"/>\n     <use style=\"fill:#1f77b4;stroke:#1f77b4;\" x=\"136.359121\" xlink:href=\"#m527f568b28\" y=\"74.292388\"/>\n     <use style=\"fill:#1f77b4;stroke:#1f77b4;\" x=\"107.284237\" xlink:href=\"#m527f568b28\" y=\"68.878437\"/>\n     <use style=\"fill:#1f77b4;stroke:#1f77b4;\" x=\"104.344562\" xlink:href=\"#m527f568b28\" y=\"72.262053\"/>\n     <use style=\"fill:#1f77b4;stroke:#1f77b4;\" x=\"104.753506\" xlink:href=\"#m527f568b28\" y=\"60.184373\"/>\n     <use style=\"fill:#1f77b4;stroke:#1f77b4;\" x=\"98.352848\" xlink:href=\"#m527f568b28\" y=\"64.335344\"/>\n     <use style=\"fill:#1f77b4;stroke:#1f77b4;\" x=\"169.125828\" xlink:href=\"#m527f568b28\" y=\"99.558917\"/>\n     <use style=\"fill:#1f77b4;stroke:#1f77b4;\" x=\"101.928351\" xlink:href=\"#m527f568b28\" y=\"64.237394\"/>\n     <use style=\"fill:#1f77b4;stroke:#1f77b4;\" x=\"68.998097\" xlink:href=\"#m527f568b28\" y=\"41.102963\"/>\n     <use style=\"fill:#1f77b4;stroke:#1f77b4;\" x=\"149.446886\" xlink:href=\"#m527f568b28\" y=\"82.903583\"/>\n     <use style=\"fill:#1f77b4;stroke:#1f77b4;\" x=\"164.077234\" xlink:href=\"#m527f568b28\" y=\"84.391318\"/>\n     <use style=\"fill:#1f77b4;stroke:#1f77b4;\" x=\"127.908526\" xlink:href=\"#m527f568b28\" y=\"74.569798\"/>\n     <use style=\"fill:#1f77b4;stroke:#1f77b4;\" x=\"129.130341\" xlink:href=\"#m527f568b28\" y=\"58.019073\"/>\n     <use style=\"fill:#1f77b4;stroke:#1f77b4;\" x=\"116.537525\" xlink:href=\"#m527f568b28\" y=\"59.244794\"/>\n     <use style=\"fill:#1f77b4;stroke:#1f77b4;\" x=\"138.592419\" xlink:href=\"#m527f568b28\" y=\"64.953012\"/>\n     <use style=\"fill:#1f77b4;stroke:#1f77b4;\" x=\"177.145637\" xlink:href=\"#m527f568b28\" y=\"107.025732\"/>\n     <use style=\"fill:#1f77b4;stroke:#1f77b4;\" x=\"144.745378\" xlink:href=\"#m527f568b28\" y=\"92.894976\"/>\n     <use style=\"fill:#1f77b4;stroke:#1f77b4;\" x=\"140.440388\" xlink:href=\"#m527f568b28\" y=\"69.589753\"/>\n     <use style=\"fill:#1f77b4;stroke:#1f77b4;\" x=\"145.379033\" xlink:href=\"#m527f568b28\" y=\"65.601525\"/>\n     <use style=\"fill:#1f77b4;stroke:#1f77b4;\" x=\"126.215225\" xlink:href=\"#m527f568b28\" y=\"84.784892\"/>\n     <use style=\"fill:#1f77b4;stroke:#1f77b4;\" x=\"134.981577\" xlink:href=\"#m527f568b28\" y=\"79.357705\"/>\n     <use style=\"fill:#1f77b4;stroke:#1f77b4;\" x=\"131.530774\" xlink:href=\"#m527f568b28\" y=\"70.250561\"/>\n     <use style=\"fill:#1f77b4;stroke:#1f77b4;\" x=\"126.784572\" xlink:href=\"#m527f568b28\" y=\"60.668119\"/>\n     <use style=\"fill:#1f77b4;stroke:#1f77b4;\" x=\"109.648953\" xlink:href=\"#m527f568b28\" y=\"53.735401\"/>\n     <use style=\"fill:#1f77b4;stroke:#1f77b4;\" x=\"149.91114\" xlink:href=\"#m527f568b28\" y=\"73.278856\"/>\n     <use style=\"fill:#1f77b4;stroke:#1f77b4;\" x=\"143.341224\" xlink:href=\"#m527f568b28\" y=\"83.171253\"/>\n     <use style=\"fill:#1f77b4;stroke:#1f77b4;\" x=\"147.112621\" xlink:href=\"#m527f568b28\" y=\"79.557579\"/>\n     <use style=\"fill:#1f77b4;stroke:#1f77b4;\" x=\"141.222524\" xlink:href=\"#m527f568b28\" y=\"84.600705\"/>\n     <use style=\"fill:#1f77b4;stroke:#1f77b4;\" x=\"117.125099\" xlink:href=\"#m527f568b28\" y=\"72.16907\"/>\n     <use style=\"fill:#1f77b4;stroke:#1f77b4;\" x=\"126.598435\" xlink:href=\"#m527f568b28\" y=\"83.341685\"/>\n     <use style=\"fill:#1f77b4;stroke:#1f77b4;\" x=\"146.157423\" xlink:href=\"#m527f568b28\" y=\"81.189146\"/>\n     <use style=\"fill:#1f77b4;stroke:#1f77b4;\" x=\"119.912152\" xlink:href=\"#m527f568b28\" y=\"63.708821\"/>\n     <use style=\"fill:#1f77b4;stroke:#1f77b4;\" x=\"158.143318\" xlink:href=\"#m527f568b28\" y=\"82.045742\"/>\n     <use style=\"fill:#1f77b4;stroke:#1f77b4;\" x=\"157.8599\" xlink:href=\"#m527f568b28\" y=\"91.237136\"/>\n     <use style=\"fill:#1f77b4;stroke:#1f77b4;\" x=\"80.24437\" xlink:href=\"#m527f568b28\" y=\"43.657078\"/>\n     <use style=\"fill:#1f77b4;stroke:#1f77b4;\" x=\"130.913471\" xlink:href=\"#m527f568b28\" y=\"71.182245\"/>\n     <use style=\"fill:#1f77b4;stroke:#1f77b4;\" x=\"144.423059\" xlink:href=\"#m527f568b28\" y=\"79.470184\"/>\n     <use style=\"fill:#1f77b4;stroke:#1f77b4;\" x=\"112.620426\" xlink:href=\"#m527f568b28\" y=\"76.477529\"/>\n     <use style=\"fill:#1f77b4;stroke:#1f77b4;\" x=\"169.501942\" xlink:href=\"#m527f568b28\" y=\"73.845194\"/>\n     <use style=\"fill:#1f77b4;stroke:#1f77b4;\" x=\"166.842612\" xlink:href=\"#m527f568b28\" y=\"77.61556\"/>\n     <use style=\"fill:#1f77b4;stroke:#1f77b4;\" x=\"133.964253\" xlink:href=\"#m527f568b28\" y=\"77.524299\"/>\n     <use style=\"fill:#1f77b4;stroke:#1f77b4;\" x=\"144.040518\" xlink:href=\"#m527f568b28\" y=\"79.131056\"/>\n     <use style=\"fill:#1f77b4;stroke:#1f77b4;\" x=\"181.864893\" xlink:href=\"#m527f568b28\" y=\"101.678271\"/>\n     <use style=\"fill:#1f77b4;stroke:#1f77b4;\" x=\"170.616112\" xlink:href=\"#m527f568b28\" y=\"102.547749\"/>\n     <use style=\"fill:#1f77b4;stroke:#1f77b4;\" x=\"129.555289\" xlink:href=\"#m527f568b28\" y=\"78.237483\"/>\n     <use style=\"fill:#1f77b4;stroke:#1f77b4;\" x=\"127.802016\" xlink:href=\"#m527f568b28\" y=\"63.655504\"/>\n     <use style=\"fill:#1f77b4;stroke:#1f77b4;\" x=\"135.176903\" xlink:href=\"#m527f568b28\" y=\"85.043881\"/>\n     <use style=\"fill:#1f77b4;stroke:#1f77b4;\" x=\"92.803692\" xlink:href=\"#m527f568b28\" y=\"54.494373\"/>\n     <use style=\"fill:#1f77b4;stroke:#1f77b4;\" x=\"95.577185\" xlink:href=\"#m527f568b28\" y=\"59.498733\"/>\n     <use style=\"fill:#1f77b4;stroke:#1f77b4;\" x=\"106.63049\" xlink:href=\"#m527f568b28\" y=\"52.934255\"/>\n     <use style=\"fill:#1f77b4;stroke:#1f77b4;\" x=\"87.867255\" xlink:href=\"#m527f568b28\" y=\"38.741159\"/>\n     <use style=\"fill:#1f77b4;stroke:#1f77b4;\" x=\"66.864337\" xlink:href=\"#m527f568b28\" y=\"51.447223\"/>\n     <use style=\"fill:#1f77b4;stroke:#1f77b4;\" x=\"114.381556\" xlink:href=\"#m527f568b28\" y=\"68.587307\"/>\n     <use style=\"fill:#1f77b4;stroke:#1f77b4;\" x=\"107.900097\" xlink:href=\"#m527f568b28\" y=\"66.941044\"/>\n     <use style=\"fill:#1f77b4;stroke:#1f77b4;\" x=\"191.541033\" xlink:href=\"#m527f568b28\" y=\"102.085336\"/>\n     <use style=\"fill:#1f77b4;stroke:#1f77b4;\" x=\"85.607826\" xlink:href=\"#m527f568b28\" y=\"61.032334\"/>\n     <use style=\"fill:#1f77b4;stroke:#1f77b4;\" x=\"131.330575\" xlink:href=\"#m527f568b28\" y=\"81.381681\"/>\n     <use style=\"fill:#1f77b4;stroke:#1f77b4;\" x=\"142.75687\" xlink:href=\"#m527f568b28\" y=\"71.291242\"/>\n     <use style=\"fill:#1f77b4;stroke:#1f77b4;\" x=\"151.652251\" xlink:href=\"#m527f568b28\" y=\"77.785408\"/>\n     <use style=\"fill:#1f77b4;stroke:#1f77b4;\" x=\"110.034496\" xlink:href=\"#m527f568b28\" y=\"46.5955\"/>\n     <use style=\"fill:#1f77b4;stroke:#1f77b4;\" x=\"121.026071\" xlink:href=\"#m527f568b28\" y=\"63.802922\"/>\n     <use style=\"fill:#1f77b4;stroke:#1f77b4;\" x=\"117.474047\" xlink:href=\"#m527f568b28\" y=\"77.537261\"/>\n     <use style=\"fill:#1f77b4;stroke:#1f77b4;\" x=\"141.121455\" xlink:href=\"#m527f568b28\" y=\"69.00144\"/>\n     <use style=\"fill:#1f77b4;stroke:#1f77b4;\" x=\"86.645683\" xlink:href=\"#m527f568b28\" y=\"45.367487\"/>\n     <use style=\"fill:#1f77b4;stroke:#1f77b4;\" x=\"68.785164\" xlink:href=\"#m527f568b28\" y=\"38.056248\"/>\n     <use style=\"fill:#1f77b4;stroke:#1f77b4;\" x=\"120.856207\" xlink:href=\"#m527f568b28\" y=\"61.64268\"/>\n     <use style=\"fill:#1f77b4;stroke:#1f77b4;\" x=\"153.168016\" xlink:href=\"#m527f568b28\" y=\"89.256757\"/>\n     <use style=\"fill:#1f77b4;stroke:#1f77b4;\" x=\"131.589794\" xlink:href=\"#m527f568b28\" y=\"87.998538\"/>\n     <use style=\"fill:#1f77b4;stroke:#1f77b4;\" x=\"77.391659\" xlink:href=\"#m527f568b28\" y=\"32.011884\"/>\n     <use style=\"fill:#1f77b4;stroke:#1f77b4;\" x=\"149.530056\" xlink:href=\"#m527f568b28\" y=\"82.930313\"/>\n     <use style=\"fill:#1f77b4;stroke:#1f77b4;\" x=\"136.679616\" xlink:href=\"#m527f568b28\" y=\"84.562144\"/>\n     <use style=\"fill:#1f77b4;stroke:#1f77b4;\" x=\"79.052355\" xlink:href=\"#m527f568b28\" y=\"29.487029\"/>\n     <use style=\"fill:#1f77b4;stroke:#1f77b4;\" x=\"175.696532\" xlink:href=\"#m527f568b28\" y=\"89.769546\"/>\n     <use style=\"fill:#1f77b4;stroke:#1f77b4;\" x=\"99.491941\" xlink:href=\"#m527f568b28\" y=\"37.778412\"/>\n     <use style=\"fill:#1f77b4;stroke:#1f77b4;\" x=\"91.288049\" xlink:href=\"#m527f568b28\" y=\"43.57758\"/>\n     <use style=\"fill:#1f77b4;stroke:#1f77b4;\" x=\"147.556707\" xlink:href=\"#m527f568b28\" y=\"84.873946\"/>\n     <use style=\"fill:#1f77b4;stroke:#1f77b4;\" x=\"95.964108\" xlink:href=\"#m527f568b28\" y=\"52.412077\"/>\n     <use style=\"fill:#1f77b4;stroke:#1f77b4;\" x=\"141.106943\" xlink:href=\"#m527f568b28\" y=\"56.986763\"/>\n     <use style=\"fill:#1f77b4;stroke:#1f77b4;\" x=\"170.920742\" xlink:href=\"#m527f568b28\" y=\"85.943639\"/>\n     <use style=\"fill:#1f77b4;stroke:#1f77b4;\" x=\"104.722177\" xlink:href=\"#m527f568b28\" y=\"63.948148\"/>\n     <use style=\"fill:#1f77b4;stroke:#1f77b4;\" x=\"118.079519\" xlink:href=\"#m527f568b28\" y=\"76.579479\"/>\n     <use style=\"fill:#1f77b4;stroke:#1f77b4;\" x=\"136.285192\" xlink:href=\"#m527f568b28\" y=\"79.221003\"/>\n     <use style=\"fill:#1f77b4;stroke:#1f77b4;\" x=\"101.69736\" xlink:href=\"#m527f568b28\" y=\"47.01109\"/>\n     <use style=\"fill:#1f77b4;stroke:#1f77b4;\" x=\"170.782823\" xlink:href=\"#m527f568b28\" y=\"92.743209\"/>\n     <use style=\"fill:#1f77b4;stroke:#1f77b4;\" x=\"44.18196\" xlink:href=\"#m527f568b28\" y=\"18.070402\"/>\n     <use style=\"fill:#1f77b4;stroke:#1f77b4;\" x=\"111.222869\" xlink:href=\"#m527f568b28\" y=\"69.614011\"/>\n     <use style=\"fill:#1f77b4;stroke:#1f77b4;\" x=\"80.054852\" xlink:href=\"#m527f568b28\" y=\"44.589074\"/>\n     <use style=\"fill:#1f77b4;stroke:#1f77b4;\" x=\"103.749069\" xlink:href=\"#m527f568b28\" y=\"56.254201\"/>\n     <use style=\"fill:#1f77b4;stroke:#1f77b4;\" x=\"141.968859\" xlink:href=\"#m527f568b28\" y=\"87.719861\"/>\n     <use style=\"fill:#1f77b4;stroke:#1f77b4;\" x=\"165.808353\" xlink:href=\"#m527f568b28\" y=\"96.01672\"/>\n     <use style=\"fill:#1f77b4;stroke:#1f77b4;\" x=\"114.148113\" xlink:href=\"#m527f568b28\" y=\"78.65486\"/>\n     <use style=\"fill:#1f77b4;stroke:#1f77b4;\" x=\"117.726297\" xlink:href=\"#m527f568b28\" y=\"52.789728\"/>\n     <use style=\"fill:#1f77b4;stroke:#1f77b4;\" x=\"118.62119\" xlink:href=\"#m527f568b28\" y=\"76.597537\"/>\n     <use style=\"fill:#1f77b4;stroke:#1f77b4;\" x=\"166.191866\" xlink:href=\"#m527f568b28\" y=\"76.544887\"/>\n     <use style=\"fill:#1f77b4;stroke:#1f77b4;\" x=\"131.309426\" xlink:href=\"#m527f568b28\" y=\"61.368464\"/>\n     <use style=\"fill:#1f77b4;stroke:#1f77b4;\" x=\"119.014052\" xlink:href=\"#m527f568b28\" y=\"54.440157\"/>\n     <use style=\"fill:#1f77b4;stroke:#1f77b4;\" x=\"115.055632\" xlink:href=\"#m527f568b28\" y=\"76.128826\"/>\n     <use style=\"fill:#1f77b4;stroke:#1f77b4;\" x=\"188.907525\" xlink:href=\"#m527f568b28\" y=\"100.556037\"/>\n     <use style=\"fill:#1f77b4;stroke:#1f77b4;\" x=\"123.247923\" xlink:href=\"#m527f568b28\" y=\"63.885806\"/>\n     <use style=\"fill:#1f77b4;stroke:#1f77b4;\" x=\"147.946322\" xlink:href=\"#m527f568b28\" y=\"76.960316\"/>\n     <use style=\"fill:#1f77b4;stroke:#1f77b4;\" x=\"168.337539\" xlink:href=\"#m527f568b28\" y=\"92.519786\"/>\n     <use style=\"fill:#1f77b4;stroke:#1f77b4;\" x=\"157.144893\" xlink:href=\"#m527f568b28\" y=\"87.781956\"/>\n     <use style=\"fill:#1f77b4;stroke:#1f77b4;\" x=\"103.001686\" xlink:href=\"#m527f568b28\" y=\"67.367226\"/>\n     <use style=\"fill:#1f77b4;stroke:#1f77b4;\" x=\"137.657348\" xlink:href=\"#m527f568b28\" y=\"76.487484\"/>\n     <use style=\"fill:#1f77b4;stroke:#1f77b4;\" x=\"141.732957\" xlink:href=\"#m527f568b28\" y=\"77.705445\"/>\n     <use style=\"fill:#1f77b4;stroke:#1f77b4;\" x=\"143.71196\" xlink:href=\"#m527f568b28\" y=\"83.654405\"/>\n     <use style=\"fill:#1f77b4;stroke:#1f77b4;\" x=\"106.595332\" xlink:href=\"#m527f568b28\" y=\"66.887002\"/>\n     <use style=\"fill:#1f77b4;stroke:#1f77b4;\" x=\"111.739108\" xlink:href=\"#m527f568b28\" y=\"64.973961\"/>\n     <use style=\"fill:#1f77b4;stroke:#1f77b4;\" x=\"138.017333\" xlink:href=\"#m527f568b28\" y=\"62.940294\"/>\n     <use style=\"fill:#1f77b4;stroke:#1f77b4;\" x=\"151.390238\" xlink:href=\"#m527f568b28\" y=\"82.911383\"/>\n     <use style=\"fill:#1f77b4;stroke:#1f77b4;\" x=\"93.050551\" xlink:href=\"#m527f568b28\" y=\"56.21047\"/>\n     <use style=\"fill:#1f77b4;stroke:#1f77b4;\" x=\"119.498733\" xlink:href=\"#m527f568b28\" y=\"65.822959\"/>\n     <use style=\"fill:#1f77b4;stroke:#1f77b4;\" x=\"115.223574\" xlink:href=\"#m527f568b28\" y=\"55.642381\"/>\n     <use style=\"fill:#1f77b4;stroke:#1f77b4;\" x=\"134.580394\" xlink:href=\"#m527f568b28\" y=\"81.612359\"/>\n     <use style=\"fill:#1f77b4;stroke:#1f77b4;\" x=\"164.213951\" xlink:href=\"#m527f568b28\" y=\"102.473843\"/>\n     <use style=\"fill:#1f77b4;stroke:#1f77b4;\" x=\"123.604346\" xlink:href=\"#m527f568b28\" y=\"65.158704\"/>\n     <use style=\"fill:#1f77b4;stroke:#1f77b4;\" x=\"144.652051\" xlink:href=\"#m527f568b28\" y=\"74.651842\"/>\n     <use style=\"fill:#1f77b4;stroke:#1f77b4;\" x=\"120.7345\" xlink:href=\"#m527f568b28\" y=\"62.814471\"/>\n     <use style=\"fill:#1f77b4;stroke:#1f77b4;\" x=\"93.701839\" xlink:href=\"#m527f568b28\" y=\"51.280724\"/>\n     <use style=\"fill:#1f77b4;stroke:#1f77b4;\" x=\"107.864687\" xlink:href=\"#m527f568b28\" y=\"62.049519\"/>\n     <use style=\"fill:#1f77b4;stroke:#1f77b4;\" x=\"148.095411\" xlink:href=\"#m527f568b28\" y=\"79.188485\"/>\n     <use style=\"fill:#1f77b4;stroke:#1f77b4;\" x=\"141.965843\" xlink:href=\"#m527f568b28\" y=\"88.566644\"/>\n     <use style=\"fill:#1f77b4;stroke:#1f77b4;\" x=\"127.445002\" xlink:href=\"#m527f568b28\" y=\"72.672913\"/>\n     <use style=\"fill:#1f77b4;stroke:#1f77b4;\" x=\"114.028805\" xlink:href=\"#m527f568b28\" y=\"64.81933\"/>\n     <use style=\"fill:#1f77b4;stroke:#1f77b4;\" x=\"140.542206\" xlink:href=\"#m527f568b28\" y=\"80.428107\"/>\n     <use style=\"fill:#1f77b4;stroke:#1f77b4;\" x=\"93.167533\" xlink:href=\"#m527f568b28\" y=\"53.000646\"/>\n     <use style=\"fill:#1f77b4;stroke:#1f77b4;\" x=\"116.209326\" xlink:href=\"#m527f568b28\" y=\"62.171898\"/>\n     <use style=\"fill:#1f77b4;stroke:#1f77b4;\" x=\"104.432975\" xlink:href=\"#m527f568b28\" y=\"51.121259\"/>\n     <use style=\"fill:#1f77b4;stroke:#1f77b4;\" x=\"125.152501\" xlink:href=\"#m527f568b28\" y=\"72.71347\"/>\n     <use style=\"fill:#1f77b4;stroke:#1f77b4;\" x=\"138.250399\" xlink:href=\"#m527f568b28\" y=\"81.384066\"/>\n     <use style=\"fill:#1f77b4;stroke:#1f77b4;\" x=\"159.192551\" xlink:href=\"#m527f568b28\" y=\"100.603321\"/>\n     <use style=\"fill:#1f77b4;stroke:#1f77b4;\" x=\"161.475878\" xlink:href=\"#m527f568b28\" y=\"101.218255\"/>\n     <use style=\"fill:#1f77b4;stroke:#1f77b4;\" x=\"97.734532\" xlink:href=\"#m527f568b28\" y=\"52.4539\"/>\n     <use style=\"fill:#1f77b4;stroke:#1f77b4;\" x=\"164.359336\" xlink:href=\"#m527f568b28\" y=\"95.468857\"/>\n     <use style=\"fill:#1f77b4;stroke:#1f77b4;\" x=\"88.767021\" xlink:href=\"#m527f568b28\" y=\"58.350442\"/>\n     <use style=\"fill:#1f77b4;stroke:#1f77b4;\" x=\"152.911074\" xlink:href=\"#m527f568b28\" y=\"63.831344\"/>\n     <use style=\"fill:#1f77b4;stroke:#1f77b4;\" x=\"161.10657\" xlink:href=\"#m527f568b28\" y=\"86.241806\"/>\n     <use style=\"fill:#1f77b4;stroke:#1f77b4;\" x=\"84.004582\" xlink:href=\"#m527f568b28\" y=\"37.514629\"/>\n     <use style=\"fill:#1f77b4;stroke:#1f77b4;\" x=\"100.079471\" xlink:href=\"#m527f568b28\" y=\"69.769323\"/>\n     <use style=\"fill:#1f77b4;stroke:#1f77b4;\" x=\"98.682975\" xlink:href=\"#m527f568b28\" y=\"73.142386\"/>\n     <use style=\"fill:#1f77b4;stroke:#1f77b4;\" x=\"131.124591\" xlink:href=\"#m527f568b28\" y=\"89.449739\"/>\n     <use style=\"fill:#1f77b4;stroke:#1f77b4;\" x=\"138.847248\" xlink:href=\"#m527f568b28\" y=\"63.74321\"/>\n     <use style=\"fill:#1f77b4;stroke:#1f77b4;\" x=\"130.678845\" xlink:href=\"#m527f568b28\" y=\"61.130415\"/>\n     <use style=\"fill:#1f77b4;stroke:#1f77b4;\" x=\"147.335837\" xlink:href=\"#m527f568b28\" y=\"91.376252\"/>\n     <use style=\"fill:#1f77b4;stroke:#1f77b4;\" x=\"144.711027\" xlink:href=\"#m527f568b28\" y=\"80.343425\"/>\n     <use style=\"fill:#1f77b4;stroke:#1f77b4;\" x=\"125.450979\" xlink:href=\"#m527f568b28\" y=\"46.153934\"/>\n     <use style=\"fill:#1f77b4;stroke:#1f77b4;\" x=\"100.430586\" xlink:href=\"#m527f568b28\" y=\"65.262789\"/>\n     <use style=\"fill:#1f77b4;stroke:#1f77b4;\" x=\"147.037296\" xlink:href=\"#m527f568b28\" y=\"75.513557\"/>\n     <use style=\"fill:#1f77b4;stroke:#1f77b4;\" x=\"111.216575\" xlink:href=\"#m527f568b28\" y=\"69.6533\"/>\n     <use style=\"fill:#1f77b4;stroke:#1f77b4;\" x=\"147.097565\" xlink:href=\"#m527f568b28\" y=\"87.73747\"/>\n     <use style=\"fill:#1f77b4;stroke:#1f77b4;\" x=\"93.283487\" xlink:href=\"#m527f568b28\" y=\"36.460077\"/>\n     <use style=\"fill:#1f77b4;stroke:#1f77b4;\" x=\"168.049277\" xlink:href=\"#m527f568b28\" y=\"94.308709\"/>\n     <use style=\"fill:#1f77b4;stroke:#1f77b4;\" x=\"114.261774\" xlink:href=\"#m527f568b28\" y=\"54.177146\"/>\n     <use style=\"fill:#1f77b4;stroke:#1f77b4;\" x=\"123.492382\" xlink:href=\"#m527f568b28\" y=\"77.546849\"/>\n     <use style=\"fill:#1f77b4;stroke:#1f77b4;\" x=\"65.248024\" xlink:href=\"#m527f568b28\" y=\"45.23646\"/>\n     <use style=\"fill:#1f77b4;stroke:#1f77b4;\" x=\"116.407125\" xlink:href=\"#m527f568b28\" y=\"53.090855\"/>\n     <use style=\"fill:#1f77b4;stroke:#1f77b4;\" x=\"115.444092\" xlink:href=\"#m527f568b28\" y=\"53.6506\"/>\n     <use style=\"fill:#1f77b4;stroke:#1f77b4;\" x=\"142.191237\" xlink:href=\"#m527f568b28\" y=\"75.859866\"/>\n     <use style=\"fill:#1f77b4;stroke:#1f77b4;\" x=\"107.324187\" xlink:href=\"#m527f568b28\" y=\"64.828162\"/>\n     <use style=\"fill:#1f77b4;stroke:#1f77b4;\" x=\"104.078\" xlink:href=\"#m527f568b28\" y=\"56.254693\"/>\n     <use style=\"fill:#1f77b4;stroke:#1f77b4;\" x=\"112.429258\" xlink:href=\"#m527f568b28\" y=\"51.977661\"/>\n     <use style=\"fill:#1f77b4;stroke:#1f77b4;\" x=\"143.115458\" xlink:href=\"#m527f568b28\" y=\"89.867956\"/>\n     <use style=\"fill:#1f77b4;stroke:#1f77b4;\" x=\"139.971563\" xlink:href=\"#m527f568b28\" y=\"81.553634\"/>\n     <use style=\"fill:#1f77b4;stroke:#1f77b4;\" x=\"148.837591\" xlink:href=\"#m527f568b28\" y=\"75.831806\"/>\n     <use style=\"fill:#1f77b4;stroke:#1f77b4;\" x=\"139.705139\" xlink:href=\"#m527f568b28\" y=\"78.65332\"/>\n     <use style=\"fill:#1f77b4;stroke:#1f77b4;\" x=\"145.146963\" xlink:href=\"#m527f568b28\" y=\"70.370798\"/>\n     <use style=\"fill:#1f77b4;stroke:#1f77b4;\" x=\"127.821198\" xlink:href=\"#m527f568b28\" y=\"55.476695\"/>\n     <use style=\"fill:#1f77b4;stroke:#1f77b4;\" x=\"140.837868\" xlink:href=\"#m527f568b28\" y=\"78.559675\"/>\n     <use style=\"fill:#1f77b4;stroke:#1f77b4;\" x=\"177.236257\" xlink:href=\"#m527f568b28\" y=\"86.063842\"/>\n     <use style=\"fill:#1f77b4;stroke:#1f77b4;\" x=\"118.41222\" xlink:href=\"#m527f568b28\" y=\"69.908926\"/>\n     <use style=\"fill:#1f77b4;stroke:#1f77b4;\" x=\"114.250336\" xlink:href=\"#m527f568b28\" y=\"45.011807\"/>\n     <use style=\"fill:#1f77b4;stroke:#1f77b4;\" x=\"123.345585\" xlink:href=\"#m527f568b28\" y=\"58.808735\"/>\n     <use style=\"fill:#1f77b4;stroke:#1f77b4;\" x=\"136.55694\" xlink:href=\"#m527f568b28\" y=\"76.464605\"/>\n     <use style=\"fill:#1f77b4;stroke:#1f77b4;\" x=\"112.56652\" xlink:href=\"#m527f568b28\" y=\"58.382123\"/>\n     <use style=\"fill:#1f77b4;stroke:#1f77b4;\" x=\"124.89475\" xlink:href=\"#m527f568b28\" y=\"69.425471\"/>\n     <use style=\"fill:#1f77b4;stroke:#1f77b4;\" x=\"111.103588\" xlink:href=\"#m527f568b28\" y=\"53.287497\"/>\n     <use style=\"fill:#1f77b4;stroke:#1f77b4;\" x=\"181.661319\" xlink:href=\"#m527f568b28\" y=\"116.99228\"/>\n     <use style=\"fill:#1f77b4;stroke:#1f77b4;\" x=\"122.186523\" xlink:href=\"#m527f568b28\" y=\"51.185714\"/>\n     <use style=\"fill:#1f77b4;stroke:#1f77b4;\" x=\"142.459296\" xlink:href=\"#m527f568b28\" y=\"79.494057\"/>\n     <use style=\"fill:#1f77b4;stroke:#1f77b4;\" x=\"103.545463\" xlink:href=\"#m527f568b28\" y=\"50.91587\"/>\n     <use style=\"fill:#1f77b4;stroke:#1f77b4;\" x=\"111.709933\" xlink:href=\"#m527f568b28\" y=\"51.557878\"/>\n     <use style=\"fill:#1f77b4;stroke:#1f77b4;\" x=\"153.443755\" xlink:href=\"#m527f568b28\" y=\"82.519717\"/>\n     <use style=\"fill:#1f77b4;stroke:#1f77b4;\" x=\"102.53171\" xlink:href=\"#m527f568b28\" y=\"46.457595\"/>\n     <use style=\"fill:#1f77b4;stroke:#1f77b4;\" x=\"92.140899\" xlink:href=\"#m527f568b28\" y=\"50.211623\"/>\n     <use style=\"fill:#1f77b4;stroke:#1f77b4;\" x=\"111.423512\" xlink:href=\"#m527f568b28\" y=\"50.910119\"/>\n     <use style=\"fill:#1f77b4;stroke:#1f77b4;\" x=\"77.811358\" xlink:href=\"#m527f568b28\" y=\"39.311125\"/>\n     <use style=\"fill:#1f77b4;stroke:#1f77b4;\" x=\"91.256732\" xlink:href=\"#m527f568b28\" y=\"38.275993\"/>\n     <use style=\"fill:#1f77b4;stroke:#1f77b4;\" x=\"108.251401\" xlink:href=\"#m527f568b28\" y=\"61.084579\"/>\n     <use style=\"fill:#1f77b4;stroke:#1f77b4;\" x=\"124.327155\" xlink:href=\"#m527f568b28\" y=\"62.590186\"/>\n     <use style=\"fill:#1f77b4;stroke:#1f77b4;\" x=\"116.615947\" xlink:href=\"#m527f568b28\" y=\"61.96964\"/>\n     <use style=\"fill:#1f77b4;stroke:#1f77b4;\" x=\"112.990333\" xlink:href=\"#m527f568b28\" y=\"55.098064\"/>\n     <use style=\"fill:#1f77b4;stroke:#1f77b4;\" x=\"172.856514\" xlink:href=\"#m527f568b28\" y=\"111.35775\"/>\n     <use style=\"fill:#1f77b4;stroke:#1f77b4;\" x=\"141.335911\" xlink:href=\"#m527f568b28\" y=\"75.593466\"/>\n     <use style=\"fill:#1f77b4;stroke:#1f77b4;\" x=\"111.804478\" xlink:href=\"#m527f568b28\" y=\"65.241802\"/>\n     <use style=\"fill:#1f77b4;stroke:#1f77b4;\" x=\"163.979832\" xlink:href=\"#m527f568b28\" y=\"103.226191\"/>\n     <use style=\"fill:#1f77b4;stroke:#1f77b4;\" x=\"130.265304\" xlink:href=\"#m527f568b28\" y=\"90.121998\"/>\n     <use style=\"fill:#1f77b4;stroke:#1f77b4;\" x=\"123.689282\" xlink:href=\"#m527f568b28\" y=\"71.025237\"/>\n     <use style=\"fill:#1f77b4;stroke:#1f77b4;\" x=\"130.682882\" xlink:href=\"#m527f568b28\" y=\"68.250012\"/>\n     <use style=\"fill:#1f77b4;stroke:#1f77b4;\" x=\"129.595033\" xlink:href=\"#m527f568b28\" y=\"87.48218\"/>\n     <use style=\"fill:#1f77b4;stroke:#1f77b4;\" x=\"65.113234\" xlink:href=\"#m527f568b28\" y=\"44.555118\"/>\n     <use style=\"fill:#1f77b4;stroke:#1f77b4;\" x=\"98.870841\" xlink:href=\"#m527f568b28\" y=\"66.996604\"/>\n     <use style=\"fill:#1f77b4;stroke:#1f77b4;\" x=\"150.737529\" xlink:href=\"#m527f568b28\" y=\"70.589407\"/>\n     <use style=\"fill:#1f77b4;stroke:#1f77b4;\" x=\"139.32755\" xlink:href=\"#m527f568b28\" y=\"70.387217\"/>\n     <use style=\"fill:#1f77b4;stroke:#1f77b4;\" x=\"171.151416\" xlink:href=\"#m527f568b28\" y=\"77.165345\"/>\n     <use style=\"fill:#1f77b4;stroke:#1f77b4;\" x=\"179.245147\" xlink:href=\"#m527f568b28\" y=\"96.628732\"/>\n     <use style=\"fill:#1f77b4;stroke:#1f77b4;\" x=\"97.123844\" xlink:href=\"#m527f568b28\" y=\"51.335587\"/>\n     <use style=\"fill:#1f77b4;stroke:#1f77b4;\" x=\"113.874177\" xlink:href=\"#m527f568b28\" y=\"81.316289\"/>\n     <use style=\"fill:#1f77b4;stroke:#1f77b4;\" x=\"115.720525\" xlink:href=\"#m527f568b28\" y=\"52.917257\"/>\n     <use style=\"fill:#1f77b4;stroke:#1f77b4;\" x=\"130.09476\" xlink:href=\"#m527f568b28\" y=\"81.964962\"/>\n     <use style=\"fill:#1f77b4;stroke:#1f77b4;\" x=\"100.792425\" xlink:href=\"#m527f568b28\" y=\"54.932087\"/>\n     <use style=\"fill:#1f77b4;stroke:#1f77b4;\" x=\"135.374667\" xlink:href=\"#m527f568b28\" y=\"67.176846\"/>\n     <use style=\"fill:#1f77b4;stroke:#1f77b4;\" x=\"129.651587\" xlink:href=\"#m527f568b28\" y=\"72.778994\"/>\n     <use style=\"fill:#1f77b4;stroke:#1f77b4;\" x=\"116.919476\" xlink:href=\"#m527f568b28\" y=\"66.462221\"/>\n     <use style=\"fill:#1f77b4;stroke:#1f77b4;\" x=\"133.422285\" xlink:href=\"#m527f568b28\" y=\"75.813028\"/>\n     <use style=\"fill:#1f77b4;stroke:#1f77b4;\" x=\"100.428842\" xlink:href=\"#m527f568b28\" y=\"50.410988\"/>\n     <use style=\"fill:#1f77b4;stroke:#1f77b4;\" x=\"153.191612\" xlink:href=\"#m527f568b28\" y=\"81.664778\"/>\n     <use style=\"fill:#1f77b4;stroke:#1f77b4;\" x=\"120.687435\" xlink:href=\"#m527f568b28\" y=\"56.189547\"/>\n     <use style=\"fill:#1f77b4;stroke:#1f77b4;\" x=\"82.636956\" xlink:href=\"#m527f568b28\" y=\"40.13823\"/>\n     <use style=\"fill:#1f77b4;stroke:#1f77b4;\" x=\"144.544678\" xlink:href=\"#m527f568b28\" y=\"67.905418\"/>\n     <use style=\"fill:#1f77b4;stroke:#1f77b4;\" x=\"145.374721\" xlink:href=\"#m527f568b28\" y=\"84.072685\"/>\n     <use style=\"fill:#1f77b4;stroke:#1f77b4;\" x=\"137.943417\" xlink:href=\"#m527f568b28\" y=\"59.123082\"/>\n     <use style=\"fill:#1f77b4;stroke:#1f77b4;\" x=\"139.027652\" xlink:href=\"#m527f568b28\" y=\"81.770052\"/>\n     <use style=\"fill:#1f77b4;stroke:#1f77b4;\" x=\"98.283102\" xlink:href=\"#m527f568b28\" y=\"45.195723\"/>\n     <use style=\"fill:#1f77b4;stroke:#1f77b4;\" x=\"167.398465\" xlink:href=\"#m527f568b28\" y=\"100.376967\"/>\n     <use style=\"fill:#1f77b4;stroke:#1f77b4;\" x=\"120.955326\" xlink:href=\"#m527f568b28\" y=\"63.551113\"/>\n     <use style=\"fill:#1f77b4;stroke:#1f77b4;\" x=\"168.497082\" xlink:href=\"#m527f568b28\" y=\"87.761396\"/>\n     <use style=\"fill:#1f77b4;stroke:#1f77b4;\" x=\"208.386533\" xlink:href=\"#m527f568b28\" y=\"118.792095\"/>\n     <use style=\"fill:#1f77b4;stroke:#1f77b4;\" x=\"116.779547\" xlink:href=\"#m527f568b28\" y=\"72.085789\"/>\n     <use style=\"fill:#1f77b4;stroke:#1f77b4;\" x=\"106.209967\" xlink:href=\"#m527f568b28\" y=\"60.11161\"/>\n     <use style=\"fill:#1f77b4;stroke:#1f77b4;\" x=\"95.148299\" xlink:href=\"#m527f568b28\" y=\"40.606513\"/>\n     <use style=\"fill:#1f77b4;stroke:#1f77b4;\" x=\"88.013909\" xlink:href=\"#m527f568b28\" y=\"60.837085\"/>\n     <use style=\"fill:#1f77b4;stroke:#1f77b4;\" x=\"176.59615\" xlink:href=\"#m527f568b28\" y=\"98.356928\"/>\n     <use style=\"fill:#1f77b4;stroke:#1f77b4;\" x=\"132.113303\" xlink:href=\"#m527f568b28\" y=\"81.566837\"/>\n     <use style=\"fill:#1f77b4;stroke:#1f77b4;\" x=\"180.430828\" xlink:href=\"#m527f568b28\" y=\"83.784929\"/>\n     <use style=\"fill:#1f77b4;stroke:#1f77b4;\" x=\"148.202111\" xlink:href=\"#m527f568b28\" y=\"97.245922\"/>\n     <use style=\"fill:#1f77b4;stroke:#1f77b4;\" x=\"141.847775\" xlink:href=\"#m527f568b28\" y=\"88.167545\"/>\n     <use style=\"fill:#1f77b4;stroke:#1f77b4;\" x=\"70.491794\" xlink:href=\"#m527f568b28\" y=\"38.044084\"/>\n     <use style=\"fill:#1f77b4;stroke:#1f77b4;\" x=\"107.365658\" xlink:href=\"#m527f568b28\" y=\"64.893219\"/>\n     <use style=\"fill:#1f77b4;stroke:#1f77b4;\" x=\"135.155003\" xlink:href=\"#m527f568b28\" y=\"74.904079\"/>\n     <use style=\"fill:#1f77b4;stroke:#1f77b4;\" x=\"115.08957\" xlink:href=\"#m527f568b28\" y=\"44.991989\"/>\n     <use style=\"fill:#1f77b4;stroke:#1f77b4;\" x=\"127.903324\" xlink:href=\"#m527f568b28\" y=\"64.438273\"/>\n     <use style=\"fill:#1f77b4;stroke:#1f77b4;\" x=\"113.730924\" xlink:href=\"#m527f568b28\" y=\"79.825135\"/>\n     <use style=\"fill:#1f77b4;stroke:#1f77b4;\" x=\"126.106136\" xlink:href=\"#m527f568b28\" y=\"64.723777\"/>\n     <use style=\"fill:#1f77b4;stroke:#1f77b4;\" x=\"143.921183\" xlink:href=\"#m527f568b28\" y=\"86.991638\"/>\n     <use style=\"fill:#1f77b4;stroke:#1f77b4;\" x=\"117.184718\" xlink:href=\"#m527f568b28\" y=\"59.190583\"/>\n     <use style=\"fill:#1f77b4;stroke:#1f77b4;\" x=\"93.093811\" xlink:href=\"#m527f568b28\" y=\"57.992073\"/>\n     <use style=\"fill:#1f77b4;stroke:#1f77b4;\" x=\"144.041587\" xlink:href=\"#m527f568b28\" y=\"74.509819\"/>\n     <use style=\"fill:#1f77b4;stroke:#1f77b4;\" x=\"125.562213\" xlink:href=\"#m527f568b28\" y=\"70.971568\"/>\n     <use style=\"fill:#1f77b4;stroke:#1f77b4;\" x=\"118.778365\" xlink:href=\"#m527f568b28\" y=\"70.72315\"/>\n     <use style=\"fill:#1f77b4;stroke:#1f77b4;\" x=\"131.356413\" xlink:href=\"#m527f568b28\" y=\"76.893235\"/>\n     <use style=\"fill:#1f77b4;stroke:#1f77b4;\" x=\"147.44289\" xlink:href=\"#m527f568b28\" y=\"81.647269\"/>\n     <use style=\"fill:#1f77b4;stroke:#1f77b4;\" x=\"120.741469\" xlink:href=\"#m527f568b28\" y=\"72.851783\"/>\n     <use style=\"fill:#1f77b4;stroke:#1f77b4;\" x=\"113.501935\" xlink:href=\"#m527f568b28\" y=\"57.246171\"/>\n     <use style=\"fill:#1f77b4;stroke:#1f77b4;\" x=\"95.321809\" xlink:href=\"#m527f568b28\" y=\"58.990799\"/>\n     <use style=\"fill:#1f77b4;stroke:#1f77b4;\" x=\"155.318682\" xlink:href=\"#m527f568b28\" y=\"92.801642\"/>\n     <use style=\"fill:#1f77b4;stroke:#1f77b4;\" x=\"75.836037\" xlink:href=\"#m527f568b28\" y=\"40.094167\"/>\n     <use style=\"fill:#1f77b4;stroke:#1f77b4;\" x=\"124.534502\" xlink:href=\"#m527f568b28\" y=\"87.37124\"/>\n     <use style=\"fill:#1f77b4;stroke:#1f77b4;\" x=\"128.42126\" xlink:href=\"#m527f568b28\" y=\"75.554108\"/>\n     <use style=\"fill:#1f77b4;stroke:#1f77b4;\" x=\"122.989342\" xlink:href=\"#m527f568b28\" y=\"74.456477\"/>\n     <use style=\"fill:#1f77b4;stroke:#1f77b4;\" x=\"116.053141\" xlink:href=\"#m527f568b28\" y=\"67.785346\"/>\n     <use style=\"fill:#1f77b4;stroke:#1f77b4;\" x=\"90.373866\" xlink:href=\"#m527f568b28\" y=\"47.797512\"/>\n     <use style=\"fill:#1f77b4;stroke:#1f77b4;\" x=\"137.966139\" xlink:href=\"#m527f568b28\" y=\"75.588631\"/>\n     <use style=\"fill:#1f77b4;stroke:#1f77b4;\" x=\"165.288097\" xlink:href=\"#m527f568b28\" y=\"98.594563\"/>\n     <use style=\"fill:#1f77b4;stroke:#1f77b4;\" x=\"122.357256\" xlink:href=\"#m527f568b28\" y=\"69.387619\"/>\n     <use style=\"fill:#1f77b4;stroke:#1f77b4;\" x=\"124.661113\" xlink:href=\"#m527f568b28\" y=\"64.643318\"/>\n     <use style=\"fill:#1f77b4;stroke:#1f77b4;\" x=\"155.945675\" xlink:href=\"#m527f568b28\" y=\"97.07396\"/>\n     <use style=\"fill:#1f77b4;stroke:#1f77b4;\" x=\"120.916238\" xlink:href=\"#m527f568b28\" y=\"63.384862\"/>\n     <use style=\"fill:#1f77b4;stroke:#1f77b4;\" x=\"81.09547\" xlink:href=\"#m527f568b28\" y=\"38.225298\"/>\n     <use style=\"fill:#1f77b4;stroke:#1f77b4;\" x=\"138.063331\" xlink:href=\"#m527f568b28\" y=\"77.614155\"/>\n     <use style=\"fill:#1f77b4;stroke:#1f77b4;\" x=\"140.330719\" xlink:href=\"#m527f568b28\" y=\"81.263003\"/>\n     <use style=\"fill:#1f77b4;stroke:#1f77b4;\" x=\"118.272566\" xlink:href=\"#m527f568b28\" y=\"65.730455\"/>\n     <use style=\"fill:#1f77b4;stroke:#1f77b4;\" x=\"126.078599\" xlink:href=\"#m527f568b28\" y=\"67.236447\"/>\n     <use style=\"fill:#1f77b4;stroke:#1f77b4;\" x=\"166.937098\" xlink:href=\"#m527f568b28\" y=\"95.959543\"/>\n     <use style=\"fill:#1f77b4;stroke:#1f77b4;\" x=\"114.44756\" xlink:href=\"#m527f568b28\" y=\"69.84676\"/>\n     <use style=\"fill:#1f77b4;stroke:#1f77b4;\" x=\"152.826722\" xlink:href=\"#m527f568b28\" y=\"92.994871\"/>\n     <use style=\"fill:#1f77b4;stroke:#1f77b4;\" x=\"131.50696\" xlink:href=\"#m527f568b28\" y=\"77.819884\"/>\n     <use style=\"fill:#1f77b4;stroke:#1f77b4;\" x=\"101.520136\" xlink:href=\"#m527f568b28\" y=\"59.229852\"/>\n     <use style=\"fill:#1f77b4;stroke:#1f77b4;\" x=\"141.206607\" xlink:href=\"#m527f568b28\" y=\"83.059691\"/>\n     <use style=\"fill:#1f77b4;stroke:#1f77b4;\" x=\"119.966013\" xlink:href=\"#m527f568b28\" y=\"45.876231\"/>\n     <use style=\"fill:#1f77b4;stroke:#1f77b4;\" x=\"154.985939\" xlink:href=\"#m527f568b28\" y=\"81.765479\"/>\n     <use style=\"fill:#1f77b4;stroke:#1f77b4;\" x=\"152.663604\" xlink:href=\"#m527f568b28\" y=\"77.964021\"/>\n     <use style=\"fill:#1f77b4;stroke:#1f77b4;\" x=\"109.943017\" xlink:href=\"#m527f568b28\" y=\"63.779369\"/>\n     <use style=\"fill:#1f77b4;stroke:#1f77b4;\" x=\"111.278867\" xlink:href=\"#m527f568b28\" y=\"55.973172\"/>\n     <use style=\"fill:#1f77b4;stroke:#1f77b4;\" x=\"140.779246\" xlink:href=\"#m527f568b28\" y=\"86.722027\"/>\n     <use style=\"fill:#1f77b4;stroke:#1f77b4;\" x=\"109.773727\" xlink:href=\"#m527f568b28\" y=\"63.854517\"/>\n     <use style=\"fill:#1f77b4;stroke:#1f77b4;\" x=\"100.637732\" xlink:href=\"#m527f568b28\" y=\"64.632726\"/>\n     <use style=\"fill:#1f77b4;stroke:#1f77b4;\" x=\"121.86552\" xlink:href=\"#m527f568b28\" y=\"61.346537\"/>\n     <use style=\"fill:#1f77b4;stroke:#1f77b4;\" x=\"149.700123\" xlink:href=\"#m527f568b28\" y=\"87.035682\"/>\n     <use style=\"fill:#1f77b4;stroke:#1f77b4;\" x=\"144.264145\" xlink:href=\"#m527f568b28\" y=\"70.535297\"/>\n     <use style=\"fill:#1f77b4;stroke:#1f77b4;\" x=\"150.944523\" xlink:href=\"#m527f568b28\" y=\"75.543804\"/>\n     <use style=\"fill:#1f77b4;stroke:#1f77b4;\" x=\"165.91765\" xlink:href=\"#m527f568b28\" y=\"94.531351\"/>\n     <use style=\"fill:#1f77b4;stroke:#1f77b4;\" x=\"122.27428\" xlink:href=\"#m527f568b28\" y=\"85.574783\"/>\n     <use style=\"fill:#1f77b4;stroke:#1f77b4;\" x=\"87.525837\" xlink:href=\"#m527f568b28\" y=\"45.066783\"/>\n     <use style=\"fill:#1f77b4;stroke:#1f77b4;\" x=\"132.230715\" xlink:href=\"#m527f568b28\" y=\"75.262273\"/>\n     <use style=\"fill:#1f77b4;stroke:#1f77b4;\" x=\"115.15712\" xlink:href=\"#m527f568b28\" y=\"52.296014\"/>\n     <use style=\"fill:#1f77b4;stroke:#1f77b4;\" x=\"120.916211\" xlink:href=\"#m527f568b28\" y=\"72.107034\"/>\n     <use style=\"fill:#1f77b4;stroke:#1f77b4;\" x=\"105.938519\" xlink:href=\"#m527f568b28\" y=\"54.05323\"/>\n     <use style=\"fill:#1f77b4;stroke:#1f77b4;\" x=\"88.463229\" xlink:href=\"#m527f568b28\" y=\"42.839113\"/>\n     <use style=\"fill:#1f77b4;stroke:#1f77b4;\" x=\"153.14677\" xlink:href=\"#m527f568b28\" y=\"85.636339\"/>\n     <use style=\"fill:#1f77b4;stroke:#1f77b4;\" x=\"127.092797\" xlink:href=\"#m527f568b28\" y=\"61.365612\"/>\n     <use style=\"fill:#1f77b4;stroke:#1f77b4;\" x=\"119.743997\" xlink:href=\"#m527f568b28\" y=\"52.502131\"/>\n     <use style=\"fill:#1f77b4;stroke:#1f77b4;\" x=\"91.594809\" xlink:href=\"#m527f568b28\" y=\"66.283952\"/>\n     <use style=\"fill:#1f77b4;stroke:#1f77b4;\" x=\"106.155194\" xlink:href=\"#m527f568b28\" y=\"72.643298\"/>\n     <use style=\"fill:#1f77b4;stroke:#1f77b4;\" x=\"101.502562\" xlink:href=\"#m527f568b28\" y=\"54.125422\"/>\n     <use style=\"fill:#1f77b4;stroke:#1f77b4;\" x=\"143.079538\" xlink:href=\"#m527f568b28\" y=\"74.81378\"/>\n     <use style=\"fill:#1f77b4;stroke:#1f77b4;\" x=\"134.099311\" xlink:href=\"#m527f568b28\" y=\"85.211059\"/>\n     <use style=\"fill:#1f77b4;stroke:#1f77b4;\" x=\"146.289401\" xlink:href=\"#m527f568b28\" y=\"67.363424\"/>\n     <use style=\"fill:#1f77b4;stroke:#1f77b4;\" x=\"131.19193\" xlink:href=\"#m527f568b28\" y=\"79.278613\"/>\n     <use style=\"fill:#1f77b4;stroke:#1f77b4;\" x=\"122.980087\" xlink:href=\"#m527f568b28\" y=\"78.693857\"/>\n     <use style=\"fill:#1f77b4;stroke:#1f77b4;\" x=\"127.660971\" xlink:href=\"#m527f568b28\" y=\"69.991495\"/>\n     <use style=\"fill:#1f77b4;stroke:#1f77b4;\" x=\"124.875909\" xlink:href=\"#m527f568b28\" y=\"59.63602\"/>\n     <use style=\"fill:#1f77b4;stroke:#1f77b4;\" x=\"140.941059\" xlink:href=\"#m527f568b28\" y=\"66.416262\"/>\n     <use style=\"fill:#1f77b4;stroke:#1f77b4;\" x=\"123.379676\" xlink:href=\"#m527f568b28\" y=\"75.427581\"/>\n     <use style=\"fill:#1f77b4;stroke:#1f77b4;\" x=\"116.999282\" xlink:href=\"#m527f568b28\" y=\"73.641107\"/>\n     <use style=\"fill:#1f77b4;stroke:#1f77b4;\" x=\"140.559955\" xlink:href=\"#m527f568b28\" y=\"73.87076\"/>\n     <use style=\"fill:#1f77b4;stroke:#1f77b4;\" x=\"119.854418\" xlink:href=\"#m527f568b28\" y=\"66.097899\"/>\n     <use style=\"fill:#1f77b4;stroke:#1f77b4;\" x=\"152.136074\" xlink:href=\"#m527f568b28\" y=\"84.658834\"/>\n     <use style=\"fill:#1f77b4;stroke:#1f77b4;\" x=\"91.040911\" xlink:href=\"#m527f568b28\" y=\"40.074935\"/>\n     <use style=\"fill:#1f77b4;stroke:#1f77b4;\" x=\"165.201866\" xlink:href=\"#m527f568b28\" y=\"89.269584\"/>\n     <use style=\"fill:#1f77b4;stroke:#1f77b4;\" x=\"157.961785\" xlink:href=\"#m527f568b28\" y=\"92.500345\"/>\n     <use style=\"fill:#1f77b4;stroke:#1f77b4;\" x=\"137.141244\" xlink:href=\"#m527f568b28\" y=\"70.870568\"/>\n     <use style=\"fill:#1f77b4;stroke:#1f77b4;\" x=\"149.597352\" xlink:href=\"#m527f568b28\" y=\"82.975511\"/>\n     <use style=\"fill:#1f77b4;stroke:#1f77b4;\" x=\"110.419239\" xlink:href=\"#m527f568b28\" y=\"60.363337\"/>\n     <use style=\"fill:#1f77b4;stroke:#1f77b4;\" x=\"163.466198\" xlink:href=\"#m527f568b28\" y=\"87.01623\"/>\n     <use style=\"fill:#1f77b4;stroke:#1f77b4;\" x=\"128.81706\" xlink:href=\"#m527f568b28\" y=\"61.841601\"/>\n     <use style=\"fill:#1f77b4;stroke:#1f77b4;\" x=\"129.717362\" xlink:href=\"#m527f568b28\" y=\"90.334993\"/>\n     <use style=\"fill:#1f77b4;stroke:#1f77b4;\" x=\"126.245668\" xlink:href=\"#m527f568b28\" y=\"84.37647\"/>\n     <use style=\"fill:#1f77b4;stroke:#1f77b4;\" x=\"157.202804\" xlink:href=\"#m527f568b28\" y=\"90.951288\"/>\n     <use style=\"fill:#1f77b4;stroke:#1f77b4;\" x=\"126.030536\" xlink:href=\"#m527f568b28\" y=\"72.649784\"/>\n     <use style=\"fill:#1f77b4;stroke:#1f77b4;\" x=\"183.506516\" xlink:href=\"#m527f568b28\" y=\"113.513147\"/>\n     <use style=\"fill:#1f77b4;stroke:#1f77b4;\" x=\"173.038756\" xlink:href=\"#m527f568b28\" y=\"85.585128\"/>\n     <use style=\"fill:#1f77b4;stroke:#1f77b4;\" x=\"81.109561\" xlink:href=\"#m527f568b28\" y=\"32.362923\"/>\n     <use style=\"fill:#1f77b4;stroke:#1f77b4;\" x=\"135.208914\" xlink:href=\"#m527f568b28\" y=\"92.873236\"/>\n     <use style=\"fill:#1f77b4;stroke:#1f77b4;\" x=\"164.864729\" xlink:href=\"#m527f568b28\" y=\"89.90091\"/>\n     <use style=\"fill:#1f77b4;stroke:#1f77b4;\" x=\"107.336508\" xlink:href=\"#m527f568b28\" y=\"54.164861\"/>\n     <use style=\"fill:#1f77b4;stroke:#1f77b4;\" x=\"109.853421\" xlink:href=\"#m527f568b28\" y=\"55.618818\"/>\n     <use style=\"fill:#1f77b4;stroke:#1f77b4;\" x=\"156.759542\" xlink:href=\"#m527f568b28\" y=\"83.498873\"/>\n     <use style=\"fill:#1f77b4;stroke:#1f77b4;\" x=\"82.260834\" xlink:href=\"#m527f568b28\" y=\"35.9532\"/>\n     <use style=\"fill:#1f77b4;stroke:#1f77b4;\" x=\"170.031761\" xlink:href=\"#m527f568b28\" y=\"99.843862\"/>\n     <use style=\"fill:#1f77b4;stroke:#1f77b4;\" x=\"140.857282\" xlink:href=\"#m527f568b28\" y=\"74.09886\"/>\n     <use style=\"fill:#1f77b4;stroke:#1f77b4;\" x=\"164.224625\" xlink:href=\"#m527f568b28\" y=\"93.342384\"/>\n     <use style=\"fill:#1f77b4;stroke:#1f77b4;\" x=\"116.551404\" xlink:href=\"#m527f568b28\" y=\"64.092144\"/>\n     <use style=\"fill:#1f77b4;stroke:#1f77b4;\" x=\"128.172968\" xlink:href=\"#m527f568b28\" y=\"59.038283\"/>\n     <use style=\"fill:#1f77b4;stroke:#1f77b4;\" x=\"178.386622\" xlink:href=\"#m527f568b28\" y=\"105.295329\"/>\n     <use style=\"fill:#1f77b4;stroke:#1f77b4;\" x=\"114.811838\" xlink:href=\"#m527f568b28\" y=\"71.200124\"/>\n     <use style=\"fill:#1f77b4;stroke:#1f77b4;\" x=\"129.502697\" xlink:href=\"#m527f568b28\" y=\"63.679306\"/>\n     <use style=\"fill:#1f77b4;stroke:#1f77b4;\" x=\"88.057431\" xlink:href=\"#m527f568b28\" y=\"52.931847\"/>\n     <use style=\"fill:#1f77b4;stroke:#1f77b4;\" x=\"124.888348\" xlink:href=\"#m527f568b28\" y=\"78.990216\"/>\n     <use style=\"fill:#1f77b4;stroke:#1f77b4;\" x=\"136.885419\" xlink:href=\"#m527f568b28\" y=\"85.191912\"/>\n     <use style=\"fill:#1f77b4;stroke:#1f77b4;\" x=\"113.309974\" xlink:href=\"#m527f568b28\" y=\"62.849432\"/>\n     <use style=\"fill:#1f77b4;stroke:#1f77b4;\" x=\"171.12196\" xlink:href=\"#m527f568b28\" y=\"89.241583\"/>\n     <use style=\"fill:#1f77b4;stroke:#1f77b4;\" x=\"168.73265\" xlink:href=\"#m527f568b28\" y=\"91.460346\"/>\n     <use style=\"fill:#1f77b4;stroke:#1f77b4;\" x=\"149.009728\" xlink:href=\"#m527f568b28\" y=\"79.918366\"/>\n     <use style=\"fill:#1f77b4;stroke:#1f77b4;\" x=\"136.711481\" xlink:href=\"#m527f568b28\" y=\"98.55261\"/>\n     <use style=\"fill:#1f77b4;stroke:#1f77b4;\" x=\"156.994231\" xlink:href=\"#m527f568b28\" y=\"67.975586\"/>\n     <use style=\"fill:#1f77b4;stroke:#1f77b4;\" x=\"160.480895\" xlink:href=\"#m527f568b28\" y=\"97.226402\"/>\n     <use style=\"fill:#1f77b4;stroke:#1f77b4;\" x=\"150.341529\" xlink:href=\"#m527f568b28\" y=\"81.489899\"/>\n     <use style=\"fill:#1f77b4;stroke:#1f77b4;\" x=\"142.983072\" xlink:href=\"#m527f568b28\" y=\"83.460276\"/>\n     <use style=\"fill:#1f77b4;stroke:#1f77b4;\" x=\"144.877967\" xlink:href=\"#m527f568b28\" y=\"87.61331\"/>\n     <use style=\"fill:#1f77b4;stroke:#1f77b4;\" x=\"86.98728\" xlink:href=\"#m527f568b28\" y=\"51.255804\"/>\n     <use style=\"fill:#1f77b4;stroke:#1f77b4;\" x=\"135.89874\" xlink:href=\"#m527f568b28\" y=\"72.411326\"/>\n     <use style=\"fill:#1f77b4;stroke:#1f77b4;\" x=\"143.312786\" xlink:href=\"#m527f568b28\" y=\"89.30418\"/>\n     <use style=\"fill:#1f77b4;stroke:#1f77b4;\" x=\"184.218671\" xlink:href=\"#m527f568b28\" y=\"97.4205\"/>\n     <use style=\"fill:#1f77b4;stroke:#1f77b4;\" x=\"137.80365\" xlink:href=\"#m527f568b28\" y=\"76.651753\"/>\n     <use style=\"fill:#1f77b4;stroke:#1f77b4;\" x=\"129.521913\" xlink:href=\"#m527f568b28\" y=\"60.890676\"/>\n     <use style=\"fill:#1f77b4;stroke:#1f77b4;\" x=\"114.804495\" xlink:href=\"#m527f568b28\" y=\"75.274928\"/>\n     <use style=\"fill:#1f77b4;stroke:#1f77b4;\" x=\"96.833425\" xlink:href=\"#m527f568b28\" y=\"46.260195\"/>\n     <use style=\"fill:#1f77b4;stroke:#1f77b4;\" x=\"89.2181\" xlink:href=\"#m527f568b28\" y=\"62.257428\"/>\n     <use style=\"fill:#1f77b4;stroke:#1f77b4;\" x=\"125.925273\" xlink:href=\"#m527f568b28\" y=\"56.44058\"/>\n     <use style=\"fill:#1f77b4;stroke:#1f77b4;\" x=\"190.228758\" xlink:href=\"#m527f568b28\" y=\"132.661295\"/>\n     <use style=\"fill:#1f77b4;stroke:#1f77b4;\" x=\"154.02161\" xlink:href=\"#m527f568b28\" y=\"98.287284\"/>\n     <use style=\"fill:#1f77b4;stroke:#1f77b4;\" x=\"187.458758\" xlink:href=\"#m527f568b28\" y=\"103.899968\"/>\n     <use style=\"fill:#1f77b4;stroke:#1f77b4;\" x=\"125.430992\" xlink:href=\"#m527f568b28\" y=\"54.235001\"/>\n     <use style=\"fill:#1f77b4;stroke:#1f77b4;\" x=\"82.416096\" xlink:href=\"#m527f568b28\" y=\"56.515653\"/>\n     <use style=\"fill:#1f77b4;stroke:#1f77b4;\" x=\"142.262283\" xlink:href=\"#m527f568b28\" y=\"76.178215\"/>\n     <use style=\"fill:#1f77b4;stroke:#1f77b4;\" x=\"149.048879\" xlink:href=\"#m527f568b28\" y=\"89.196414\"/>\n     <use style=\"fill:#1f77b4;stroke:#1f77b4;\" x=\"145.725569\" xlink:href=\"#m527f568b28\" y=\"77.856166\"/>\n     <use style=\"fill:#1f77b4;stroke:#1f77b4;\" x=\"129.003816\" xlink:href=\"#m527f568b28\" y=\"66.959638\"/>\n     <use style=\"fill:#1f77b4;stroke:#1f77b4;\" x=\"136.355971\" xlink:href=\"#m527f568b28\" y=\"77.890967\"/>\n     <use style=\"fill:#1f77b4;stroke:#1f77b4;\" x=\"130.922147\" xlink:href=\"#m527f568b28\" y=\"75.343903\"/>\n     <use style=\"fill:#1f77b4;stroke:#1f77b4;\" x=\"163.923367\" xlink:href=\"#m527f568b28\" y=\"73.250477\"/>\n     <use style=\"fill:#1f77b4;stroke:#1f77b4;\" x=\"124.551365\" xlink:href=\"#m527f568b28\" y=\"66.933543\"/>\n     <use style=\"fill:#1f77b4;stroke:#1f77b4;\" x=\"141.590667\" xlink:href=\"#m527f568b28\" y=\"83.989053\"/>\n     <use style=\"fill:#1f77b4;stroke:#1f77b4;\" x=\"155.568373\" xlink:href=\"#m527f568b28\" y=\"71.860278\"/>\n     <use style=\"fill:#1f77b4;stroke:#1f77b4;\" x=\"137.667255\" xlink:href=\"#m527f568b28\" y=\"84.082464\"/>\n     <use style=\"fill:#1f77b4;stroke:#1f77b4;\" x=\"150.1877\" xlink:href=\"#m527f568b28\" y=\"83.525018\"/>\n     <use style=\"fill:#1f77b4;stroke:#1f77b4;\" x=\"152.27806\" xlink:href=\"#m527f568b28\" y=\"87.663693\"/>\n     <use style=\"fill:#1f77b4;stroke:#1f77b4;\" x=\"123.250107\" xlink:href=\"#m527f568b28\" y=\"55.134355\"/>\n     <use style=\"fill:#1f77b4;stroke:#1f77b4;\" x=\"90.420217\" xlink:href=\"#m527f568b28\" y=\"44.249208\"/>\n     <use style=\"fill:#1f77b4;stroke:#1f77b4;\" x=\"84.308773\" xlink:href=\"#m527f568b28\" y=\"56.567028\"/>\n     <use style=\"fill:#1f77b4;stroke:#1f77b4;\" x=\"221.727415\" xlink:href=\"#m527f568b28\" y=\"136.922727\"/>\n     <use style=\"fill:#1f77b4;stroke:#1f77b4;\" x=\"112.835598\" xlink:href=\"#m527f568b28\" y=\"53.28051\"/>\n     <use style=\"fill:#1f77b4;stroke:#1f77b4;\" x=\"143.852784\" xlink:href=\"#m527f568b28\" y=\"79.443672\"/>\n     <use style=\"fill:#1f77b4;stroke:#1f77b4;\" x=\"165.907985\" xlink:href=\"#m527f568b28\" y=\"100.493239\"/>\n     <use style=\"fill:#1f77b4;stroke:#1f77b4;\" x=\"107.535525\" xlink:href=\"#m527f568b28\" y=\"58.414749\"/>\n     <use style=\"fill:#1f77b4;stroke:#1f77b4;\" x=\"113.790181\" xlink:href=\"#m527f568b28\" y=\"50.954216\"/>\n     <use style=\"fill:#1f77b4;stroke:#1f77b4;\" x=\"132.440139\" xlink:href=\"#m527f568b28\" y=\"84.543465\"/>\n     <use style=\"fill:#1f77b4;stroke:#1f77b4;\" x=\"135.922942\" xlink:href=\"#m527f568b28\" y=\"64.691876\"/>\n     <use style=\"fill:#1f77b4;stroke:#1f77b4;\" x=\"132.196455\" xlink:href=\"#m527f568b28\" y=\"69.913966\"/>\n     <use style=\"fill:#1f77b4;stroke:#1f77b4;\" x=\"134.914382\" xlink:href=\"#m527f568b28\" y=\"86.573137\"/>\n     <use style=\"fill:#1f77b4;stroke:#1f77b4;\" x=\"104.673053\" xlink:href=\"#m527f568b28\" y=\"53.024251\"/>\n     <use style=\"fill:#1f77b4;stroke:#1f77b4;\" x=\"168.045532\" xlink:href=\"#m527f568b28\" y=\"91.151648\"/>\n     <use style=\"fill:#1f77b4;stroke:#1f77b4;\" x=\"119.1637\" xlink:href=\"#m527f568b28\" y=\"61.629585\"/>\n     <use style=\"fill:#1f77b4;stroke:#1f77b4;\" x=\"124.178247\" xlink:href=\"#m527f568b28\" y=\"64.933173\"/>\n     <use style=\"fill:#1f77b4;stroke:#1f77b4;\" x=\"142.124895\" xlink:href=\"#m527f568b28\" y=\"83.86113\"/>\n     <use style=\"fill:#1f77b4;stroke:#1f77b4;\" x=\"141.20998\" xlink:href=\"#m527f568b28\" y=\"71.713903\"/>\n     <use style=\"fill:#1f77b4;stroke:#1f77b4;\" x=\"136.240779\" xlink:href=\"#m527f568b28\" y=\"53.981739\"/>\n     <use style=\"fill:#1f77b4;stroke:#1f77b4;\" x=\"94.483977\" xlink:href=\"#m527f568b28\" y=\"37.504814\"/>\n     <use style=\"fill:#1f77b4;stroke:#1f77b4;\" x=\"115.589653\" xlink:href=\"#m527f568b28\" y=\"64.660038\"/>\n     <use style=\"fill:#1f77b4;stroke:#1f77b4;\" x=\"106.042728\" xlink:href=\"#m527f568b28\" y=\"45.596664\"/>\n     <use style=\"fill:#1f77b4;stroke:#1f77b4;\" x=\"126.386482\" xlink:href=\"#m527f568b28\" y=\"68.500541\"/>\n     <use style=\"fill:#1f77b4;stroke:#1f77b4;\" x=\"161.636705\" xlink:href=\"#m527f568b28\" y=\"95.881227\"/>\n     <use style=\"fill:#1f77b4;stroke:#1f77b4;\" x=\"132.161122\" xlink:href=\"#m527f568b28\" y=\"62.663501\"/>\n     <use style=\"fill:#1f77b4;stroke:#1f77b4;\" x=\"169.225477\" xlink:href=\"#m527f568b28\" y=\"80.875407\"/>\n     <use style=\"fill:#1f77b4;stroke:#1f77b4;\" x=\"145.375145\" xlink:href=\"#m527f568b28\" y=\"72.562899\"/>\n     <use style=\"fill:#1f77b4;stroke:#1f77b4;\" x=\"96.707069\" xlink:href=\"#m527f568b28\" y=\"46.720796\"/>\n     <use style=\"fill:#1f77b4;stroke:#1f77b4;\" x=\"147.239398\" xlink:href=\"#m527f568b28\" y=\"90.438481\"/>\n     <use style=\"fill:#1f77b4;stroke:#1f77b4;\" x=\"130.75062\" xlink:href=\"#m527f568b28\" y=\"73.544691\"/>\n     <use style=\"fill:#1f77b4;stroke:#1f77b4;\" x=\"118.413321\" xlink:href=\"#m527f568b28\" y=\"68.84276\"/>\n     <use style=\"fill:#1f77b4;stroke:#1f77b4;\" x=\"116.778925\" xlink:href=\"#m527f568b28\" y=\"64.901703\"/>\n     <use style=\"fill:#1f77b4;stroke:#1f77b4;\" x=\"119.88669\" xlink:href=\"#m527f568b28\" y=\"76.671065\"/>\n     <use style=\"fill:#1f77b4;stroke:#1f77b4;\" x=\"133.929562\" xlink:href=\"#m527f568b28\" y=\"82.313836\"/>\n     <use style=\"fill:#1f77b4;stroke:#1f77b4;\" x=\"165.088962\" xlink:href=\"#m527f568b28\" y=\"106.340879\"/>\n     <use style=\"fill:#1f77b4;stroke:#1f77b4;\" x=\"135.960731\" xlink:href=\"#m527f568b28\" y=\"66.768358\"/>\n     <use style=\"fill:#1f77b4;stroke:#1f77b4;\" x=\"123.34067\" xlink:href=\"#m527f568b28\" y=\"77.324407\"/>\n     <use style=\"fill:#1f77b4;stroke:#1f77b4;\" x=\"147.293885\" xlink:href=\"#m527f568b28\" y=\"95.270351\"/>\n     <use style=\"fill:#1f77b4;stroke:#1f77b4;\" x=\"94.061956\" xlink:href=\"#m527f568b28\" y=\"42.389927\"/>\n     <use style=\"fill:#1f77b4;stroke:#1f77b4;\" x=\"157.869897\" xlink:href=\"#m527f568b28\" y=\"85.335662\"/>\n     <use style=\"fill:#1f77b4;stroke:#1f77b4;\" x=\"109.92006\" xlink:href=\"#m527f568b28\" y=\"66.719081\"/>\n     <use style=\"fill:#1f77b4;stroke:#1f77b4;\" x=\"105.244044\" xlink:href=\"#m527f568b28\" y=\"54.466514\"/>\n     <use style=\"fill:#1f77b4;stroke:#1f77b4;\" x=\"146.677858\" xlink:href=\"#m527f568b28\" y=\"73.435977\"/>\n     <use style=\"fill:#1f77b4;stroke:#1f77b4;\" x=\"126.215549\" xlink:href=\"#m527f568b28\" y=\"73.205003\"/>\n     <use style=\"fill:#1f77b4;stroke:#1f77b4;\" x=\"205.944514\" xlink:href=\"#m527f568b28\" y=\"118.690771\"/>\n     <use style=\"fill:#1f77b4;stroke:#1f77b4;\" x=\"74.391114\" xlink:href=\"#m527f568b28\" y=\"23.455525\"/>\n     <use style=\"fill:#1f77b4;stroke:#1f77b4;\" x=\"160.544915\" xlink:href=\"#m527f568b28\" y=\"92.140072\"/>\n     <use style=\"fill:#1f77b4;stroke:#1f77b4;\" x=\"102.35311\" xlink:href=\"#m527f568b28\" y=\"58.497041\"/>\n     <use style=\"fill:#1f77b4;stroke:#1f77b4;\" x=\"132.254033\" xlink:href=\"#m527f568b28\" y=\"83.160291\"/>\n     <use style=\"fill:#1f77b4;stroke:#1f77b4;\" x=\"79.71798\" xlink:href=\"#m527f568b28\" y=\"50.992708\"/>\n     <use style=\"fill:#1f77b4;stroke:#1f77b4;\" x=\"106.92913\" xlink:href=\"#m527f568b28\" y=\"45.668752\"/>\n     <use style=\"fill:#1f77b4;stroke:#1f77b4;\" x=\"151.520215\" xlink:href=\"#m527f568b28\" y=\"84.30654\"/>\n     <use style=\"fill:#1f77b4;stroke:#1f77b4;\" x=\"120.052147\" xlink:href=\"#m527f568b28\" y=\"60.284912\"/>\n     <use style=\"fill:#1f77b4;stroke:#1f77b4;\" x=\"91.405778\" xlink:href=\"#m527f568b28\" y=\"35.448239\"/>\n     <use style=\"fill:#1f77b4;stroke:#1f77b4;\" x=\"105.253063\" xlink:href=\"#m527f568b28\" y=\"59.029947\"/>\n     <use style=\"fill:#1f77b4;stroke:#1f77b4;\" x=\"159.134932\" xlink:href=\"#m527f568b28\" y=\"86.980938\"/>\n     <use style=\"fill:#1f77b4;stroke:#1f77b4;\" x=\"107.473149\" xlink:href=\"#m527f568b28\" y=\"44.260053\"/>\n     <use style=\"fill:#1f77b4;stroke:#1f77b4;\" x=\"154.82154\" xlink:href=\"#m527f568b28\" y=\"94.51101\"/>\n     <use style=\"fill:#1f77b4;stroke:#1f77b4;\" x=\"167.914345\" xlink:href=\"#m527f568b28\" y=\"79.690898\"/>\n     <use style=\"fill:#1f77b4;stroke:#1f77b4;\" x=\"147.58092\" xlink:href=\"#m527f568b28\" y=\"80.923161\"/>\n     <use style=\"fill:#1f77b4;stroke:#1f77b4;\" x=\"80.540405\" xlink:href=\"#m527f568b28\" y=\"33.662747\"/>\n     <use style=\"fill:#1f77b4;stroke:#1f77b4;\" x=\"125.982202\" xlink:href=\"#m527f568b28\" y=\"52.018466\"/>\n     <use style=\"fill:#1f77b4;stroke:#1f77b4;\" x=\"108.135664\" xlink:href=\"#m527f568b28\" y=\"59.11661\"/>\n     <use style=\"fill:#1f77b4;stroke:#1f77b4;\" x=\"143.033762\" xlink:href=\"#m527f568b28\" y=\"77.87014\"/>\n     <use style=\"fill:#1f77b4;stroke:#1f77b4;\" x=\"112.395139\" xlink:href=\"#m527f568b28\" y=\"46.506191\"/>\n     <use style=\"fill:#1f77b4;stroke:#1f77b4;\" x=\"169.033402\" xlink:href=\"#m527f568b28\" y=\"101.550143\"/>\n     <use style=\"fill:#1f77b4;stroke:#1f77b4;\" x=\"116.448949\" xlink:href=\"#m527f568b28\" y=\"56.340877\"/>\n     <use style=\"fill:#1f77b4;stroke:#1f77b4;\" x=\"133.699189\" xlink:href=\"#m527f568b28\" y=\"68.417457\"/>\n     <use style=\"fill:#1f77b4;stroke:#1f77b4;\" x=\"115.892914\" xlink:href=\"#m527f568b28\" y=\"61.87551\"/>\n     <use style=\"fill:#1f77b4;stroke:#1f77b4;\" x=\"140.25963\" xlink:href=\"#m527f568b28\" y=\"63.854502\"/>\n     <use style=\"fill:#1f77b4;stroke:#1f77b4;\" x=\"116.369347\" xlink:href=\"#m527f568b28\" y=\"55.422723\"/>\n     <use style=\"fill:#1f77b4;stroke:#1f77b4;\" x=\"118.907118\" xlink:href=\"#m527f568b28\" y=\"77.334817\"/>\n     <use style=\"fill:#1f77b4;stroke:#1f77b4;\" x=\"95.548405\" xlink:href=\"#m527f568b28\" y=\"42.761643\"/>\n     <use style=\"fill:#1f77b4;stroke:#1f77b4;\" x=\"190.939497\" xlink:href=\"#m527f568b28\" y=\"96.276259\"/>\n     <use style=\"fill:#1f77b4;stroke:#1f77b4;\" x=\"119.787606\" xlink:href=\"#m527f568b28\" y=\"62.013432\"/>\n     <use style=\"fill:#1f77b4;stroke:#1f77b4;\" x=\"118.14492\" xlink:href=\"#m527f568b28\" y=\"61.694539\"/>\n     <use style=\"fill:#1f77b4;stroke:#1f77b4;\" x=\"118.797447\" xlink:href=\"#m527f568b28\" y=\"46.486273\"/>\n     <use style=\"fill:#1f77b4;stroke:#1f77b4;\" x=\"164.6866\" xlink:href=\"#m527f568b28\" y=\"94.856498\"/>\n     <use style=\"fill:#1f77b4;stroke:#1f77b4;\" x=\"149.484086\" xlink:href=\"#m527f568b28\" y=\"74.96106\"/>\n     <use style=\"fill:#1f77b4;stroke:#1f77b4;\" x=\"112.896349\" xlink:href=\"#m527f568b28\" y=\"76.302459\"/>\n     <use style=\"fill:#1f77b4;stroke:#1f77b4;\" x=\"138.875002\" xlink:href=\"#m527f568b28\" y=\"80.972066\"/>\n     <use style=\"fill:#1f77b4;stroke:#1f77b4;\" x=\"108.759852\" xlink:href=\"#m527f568b28\" y=\"66.973336\"/>\n     <use style=\"fill:#1f77b4;stroke:#1f77b4;\" x=\"166.844877\" xlink:href=\"#m527f568b28\" y=\"91.851143\"/>\n     <use style=\"fill:#1f77b4;stroke:#1f77b4;\" x=\"138.074247\" xlink:href=\"#m527f568b28\" y=\"81.631426\"/>\n     <use style=\"fill:#1f77b4;stroke:#1f77b4;\" x=\"104.226063\" xlink:href=\"#m527f568b28\" y=\"66.411962\"/>\n     <use style=\"fill:#1f77b4;stroke:#1f77b4;\" x=\"97.90754\" xlink:href=\"#m527f568b28\" y=\"54.118374\"/>\n     <use style=\"fill:#1f77b4;stroke:#1f77b4;\" x=\"92.306509\" xlink:href=\"#m527f568b28\" y=\"42.124658\"/>\n     <use style=\"fill:#1f77b4;stroke:#1f77b4;\" x=\"143.468969\" xlink:href=\"#m527f568b28\" y=\"74.670992\"/>\n     <use style=\"fill:#1f77b4;stroke:#1f77b4;\" x=\"141.09449\" xlink:href=\"#m527f568b28\" y=\"94.32156\"/>\n     <use style=\"fill:#1f77b4;stroke:#1f77b4;\" x=\"145.15607\" xlink:href=\"#m527f568b28\" y=\"78.896367\"/>\n     <use style=\"fill:#1f77b4;stroke:#1f77b4;\" x=\"119.825092\" xlink:href=\"#m527f568b28\" y=\"72.933916\"/>\n     <use style=\"fill:#1f77b4;stroke:#1f77b4;\" x=\"171.958159\" xlink:href=\"#m527f568b28\" y=\"94.578642\"/>\n     <use style=\"fill:#1f77b4;stroke:#1f77b4;\" x=\"138.583601\" xlink:href=\"#m527f568b28\" y=\"61.599563\"/>\n     <use style=\"fill:#1f77b4;stroke:#1f77b4;\" x=\"114.686285\" xlink:href=\"#m527f568b28\" y=\"62.392163\"/>\n     <use style=\"fill:#1f77b4;stroke:#1f77b4;\" x=\"130.657721\" xlink:href=\"#m527f568b28\" y=\"76.346294\"/>\n     <use style=\"fill:#1f77b4;stroke:#1f77b4;\" x=\"124.452988\" xlink:href=\"#m527f568b28\" y=\"67.466194\"/>\n     <use style=\"fill:#1f77b4;stroke:#1f77b4;\" x=\"111.680135\" xlink:href=\"#m527f568b28\" y=\"55.478616\"/>\n     <use style=\"fill:#1f77b4;stroke:#1f77b4;\" x=\"143.900363\" xlink:href=\"#m527f568b28\" y=\"77.581922\"/>\n     <use style=\"fill:#1f77b4;stroke:#1f77b4;\" x=\"119.282712\" xlink:href=\"#m527f568b28\" y=\"64.290212\"/>\n     <use style=\"fill:#1f77b4;stroke:#1f77b4;\" x=\"134.24964\" xlink:href=\"#m527f568b28\" y=\"76.738461\"/>\n     <use style=\"fill:#1f77b4;stroke:#1f77b4;\" x=\"156.935656\" xlink:href=\"#m527f568b28\" y=\"92.128454\"/>\n     <use style=\"fill:#1f77b4;stroke:#1f77b4;\" x=\"106.356782\" xlink:href=\"#m527f568b28\" y=\"59.95282\"/>\n     <use style=\"fill:#1f77b4;stroke:#1f77b4;\" x=\"128.364615\" xlink:href=\"#m527f568b28\" y=\"80.046257\"/>\n     <use style=\"fill:#1f77b4;stroke:#1f77b4;\" x=\"138.99911\" xlink:href=\"#m527f568b28\" y=\"66.816127\"/>\n     <use style=\"fill:#1f77b4;stroke:#1f77b4;\" x=\"155.850681\" xlink:href=\"#m527f568b28\" y=\"84.250974\"/>\n     <use style=\"fill:#1f77b4;stroke:#1f77b4;\" x=\"108.454768\" xlink:href=\"#m527f568b28\" y=\"61.209554\"/>\n     <use style=\"fill:#1f77b4;stroke:#1f77b4;\" x=\"101.608826\" xlink:href=\"#m527f568b28\" y=\"58.248699\"/>\n     <use style=\"fill:#1f77b4;stroke:#1f77b4;\" x=\"121.323454\" xlink:href=\"#m527f568b28\" y=\"51.247388\"/>\n     <use style=\"fill:#1f77b4;stroke:#1f77b4;\" x=\"96.022443\" xlink:href=\"#m527f568b28\" y=\"64.083477\"/>\n     <use style=\"fill:#1f77b4;stroke:#1f77b4;\" x=\"122.803394\" xlink:href=\"#m527f568b28\" y=\"73.81816\"/>\n     <use style=\"fill:#1f77b4;stroke:#1f77b4;\" x=\"176.333267\" xlink:href=\"#m527f568b28\" y=\"82.813051\"/>\n     <use style=\"fill:#1f77b4;stroke:#1f77b4;\" x=\"141.365956\" xlink:href=\"#m527f568b28\" y=\"52.60523\"/>\n     <use style=\"fill:#1f77b4;stroke:#1f77b4;\" x=\"164.547035\" xlink:href=\"#m527f568b28\" y=\"92.839332\"/>\n     <use style=\"fill:#1f77b4;stroke:#1f77b4;\" x=\"125.184341\" xlink:href=\"#m527f568b28\" y=\"66.595082\"/>\n     <use style=\"fill:#1f77b4;stroke:#1f77b4;\" x=\"169.516963\" xlink:href=\"#m527f568b28\" y=\"94.178164\"/>\n     <use style=\"fill:#1f77b4;stroke:#1f77b4;\" x=\"105.276441\" xlink:href=\"#m527f568b28\" y=\"55.114845\"/>\n     <use style=\"fill:#1f77b4;stroke:#1f77b4;\" x=\"112.571158\" xlink:href=\"#m527f568b28\" y=\"61.911265\"/>\n     <use style=\"fill:#1f77b4;stroke:#1f77b4;\" x=\"168.579467\" xlink:href=\"#m527f568b28\" y=\"84.488737\"/>\n     <use style=\"fill:#1f77b4;stroke:#1f77b4;\" x=\"127.200122\" xlink:href=\"#m527f568b28\" y=\"74.523419\"/>\n     <use style=\"fill:#1f77b4;stroke:#1f77b4;\" x=\"136.151646\" xlink:href=\"#m527f568b28\" y=\"74.575768\"/>\n     <use style=\"fill:#1f77b4;stroke:#1f77b4;\" x=\"194.620602\" xlink:href=\"#m527f568b28\" y=\"103.93529\"/>\n     <use style=\"fill:#1f77b4;stroke:#1f77b4;\" x=\"169.144045\" xlink:href=\"#m527f568b28\" y=\"95.113854\"/>\n     <use style=\"fill:#1f77b4;stroke:#1f77b4;\" x=\"175.31524\" xlink:href=\"#m527f568b28\" y=\"101.447325\"/>\n     <use style=\"fill:#1f77b4;stroke:#1f77b4;\" x=\"145.568078\" xlink:href=\"#m527f568b28\" y=\"85.565247\"/>\n     <use style=\"fill:#1f77b4;stroke:#1f77b4;\" x=\"69.55283\" xlink:href=\"#m527f568b28\" y=\"48.280398\"/>\n     <use style=\"fill:#1f77b4;stroke:#1f77b4;\" x=\"118.877297\" xlink:href=\"#m527f568b28\" y=\"62.639976\"/>\n     <use style=\"fill:#1f77b4;stroke:#1f77b4;\" x=\"178.936726\" xlink:href=\"#m527f568b28\" y=\"98.702576\"/>\n     <use style=\"fill:#1f77b4;stroke:#1f77b4;\" x=\"141.268851\" xlink:href=\"#m527f568b28\" y=\"76.381192\"/>\n     <use style=\"fill:#1f77b4;stroke:#1f77b4;\" x=\"151.724729\" xlink:href=\"#m527f568b28\" y=\"90.522171\"/>\n     <use style=\"fill:#1f77b4;stroke:#1f77b4;\" x=\"115.317066\" xlink:href=\"#m527f568b28\" y=\"62.250275\"/>\n     <use style=\"fill:#1f77b4;stroke:#1f77b4;\" x=\"120.469036\" xlink:href=\"#m527f568b28\" y=\"60.071715\"/>\n     <use style=\"fill:#1f77b4;stroke:#1f77b4;\" x=\"153.011207\" xlink:href=\"#m527f568b28\" y=\"87.778613\"/>\n     <use style=\"fill:#1f77b4;stroke:#1f77b4;\" x=\"166.565325\" xlink:href=\"#m527f568b28\" y=\"82.673078\"/>\n     <use style=\"fill:#1f77b4;stroke:#1f77b4;\" x=\"141.431954\" xlink:href=\"#m527f568b28\" y=\"80.700934\"/>\n     <use style=\"fill:#1f77b4;stroke:#1f77b4;\" x=\"132.910655\" xlink:href=\"#m527f568b28\" y=\"72.697592\"/>\n     <use style=\"fill:#1f77b4;stroke:#1f77b4;\" x=\"150.469403\" xlink:href=\"#m527f568b28\" y=\"62.595966\"/>\n     <use style=\"fill:#1f77b4;stroke:#1f77b4;\" x=\"143.148452\" xlink:href=\"#m527f568b28\" y=\"85.846822\"/>\n     <use style=\"fill:#1f77b4;stroke:#1f77b4;\" x=\"144.213988\" xlink:href=\"#m527f568b28\" y=\"74.241371\"/>\n     <use style=\"fill:#1f77b4;stroke:#1f77b4;\" x=\"123.383166\" xlink:href=\"#m527f568b28\" y=\"83.389224\"/>\n     <use style=\"fill:#1f77b4;stroke:#1f77b4;\" x=\"134.103812\" xlink:href=\"#m527f568b28\" y=\"63.969077\"/>\n     <use style=\"fill:#1f77b4;stroke:#1f77b4;\" x=\"144.071257\" xlink:href=\"#m527f568b28\" y=\"85.431265\"/>\n     <use style=\"fill:#1f77b4;stroke:#1f77b4;\" x=\"155.145301\" xlink:href=\"#m527f568b28\" y=\"85.578368\"/>\n     <use style=\"fill:#1f77b4;stroke:#1f77b4;\" x=\"153.976166\" xlink:href=\"#m527f568b28\" y=\"88.302499\"/>\n     <use style=\"fill:#1f77b4;stroke:#1f77b4;\" x=\"125.95957\" xlink:href=\"#m527f568b28\" y=\"80.928379\"/>\n    </g>\n   </g>\n   <g id=\"matplotlib.axis_1\">\n    <g id=\"xtick_1\">\n     <g id=\"line2d_1\">\n      <defs>\n       <path d=\"M 0 0 \nL 0 3.5 \n\" id=\"m1905f7f674\" style=\"stroke:#000000;stroke-width:0.8;\"/>\n      </defs>\n      <g>\n       <use style=\"stroke:#000000;stroke-width:0.8;\" x=\"75.188391\" xlink:href=\"#m1905f7f674\" y=\"143.1\"/>\n      </g>\n     </g>\n     <g id=\"text_1\">\n      <!-- −2 -->\n      <g transform=\"translate(67.817298 157.698438)scale(0.1 -0.1)\">\n       <defs>\n        <path d=\"M 10.59375 35.5 \nL 73.1875 35.5 \nL 73.1875 27.203125 \nL 10.59375 27.203125 \nz\n\" id=\"DejaVuSans-8722\"/>\n        <path d=\"M 19.1875 8.296875 \nL 53.609375 8.296875 \nL 53.609375 0 \nL 7.328125 0 \nL 7.328125 8.296875 \nQ 12.9375 14.109375 22.625 23.890625 \nQ 32.328125 33.6875 34.8125 36.53125 \nQ 39.546875 41.84375 41.421875 45.53125 \nQ 43.3125 49.21875 43.3125 52.78125 \nQ 43.3125 58.59375 39.234375 62.25 \nQ 35.15625 65.921875 28.609375 65.921875 \nQ 23.96875 65.921875 18.8125 64.3125 \nQ 13.671875 62.703125 7.8125 59.421875 \nL 7.8125 69.390625 \nQ 13.765625 71.78125 18.9375 73 \nQ 24.125 74.21875 28.421875 74.21875 \nQ 39.75 74.21875 46.484375 68.546875 \nQ 53.21875 62.890625 53.21875 53.421875 \nQ 53.21875 48.921875 51.53125 44.890625 \nQ 49.859375 40.875 45.40625 35.40625 \nQ 44.1875 33.984375 37.640625 27.21875 \nQ 31.109375 20.453125 19.1875 8.296875 \nz\n\" id=\"DejaVuSans-50\"/>\n       </defs>\n       <use xlink:href=\"#DejaVuSans-8722\"/>\n       <use x=\"83.789062\" xlink:href=\"#DejaVuSans-50\"/>\n      </g>\n     </g>\n    </g>\n    <g id=\"xtick_2\">\n     <g id=\"line2d_2\">\n      <g>\n       <use style=\"stroke:#000000;stroke-width:0.8;\" x=\"128.265572\" xlink:href=\"#m1905f7f674\" y=\"143.1\"/>\n      </g>\n     </g>\n     <g id=\"text_2\">\n      <!-- 0 -->\n      <g transform=\"translate(125.084322 157.698438)scale(0.1 -0.1)\">\n       <defs>\n        <path d=\"M 31.78125 66.40625 \nQ 24.171875 66.40625 20.328125 58.90625 \nQ 16.5 51.421875 16.5 36.375 \nQ 16.5 21.390625 20.328125 13.890625 \nQ 24.171875 6.390625 31.78125 6.390625 \nQ 39.453125 6.390625 43.28125 13.890625 \nQ 47.125 21.390625 47.125 36.375 \nQ 47.125 51.421875 43.28125 58.90625 \nQ 39.453125 66.40625 31.78125 66.40625 \nz\nM 31.78125 74.21875 \nQ 44.046875 74.21875 50.515625 64.515625 \nQ 56.984375 54.828125 56.984375 36.375 \nQ 56.984375 17.96875 50.515625 8.265625 \nQ 44.046875 -1.421875 31.78125 -1.421875 \nQ 19.53125 -1.421875 13.0625 8.265625 \nQ 6.59375 17.96875 6.59375 36.375 \nQ 6.59375 54.828125 13.0625 64.515625 \nQ 19.53125 74.21875 31.78125 74.21875 \nz\n\" id=\"DejaVuSans-48\"/>\n       </defs>\n       <use xlink:href=\"#DejaVuSans-48\"/>\n      </g>\n     </g>\n    </g>\n    <g id=\"xtick_3\">\n     <g id=\"line2d_3\">\n      <g>\n       <use style=\"stroke:#000000;stroke-width:0.8;\" x=\"181.342752\" xlink:href=\"#m1905f7f674\" y=\"143.1\"/>\n      </g>\n     </g>\n     <g id=\"text_3\">\n      <!-- 2 -->\n      <g transform=\"translate(178.161502 157.698438)scale(0.1 -0.1)\">\n       <use xlink:href=\"#DejaVuSans-50\"/>\n      </g>\n     </g>\n    </g>\n   </g>\n   <g id=\"matplotlib.axis_2\">\n    <g id=\"ytick_1\">\n     <g id=\"line2d_4\">\n      <defs>\n       <path d=\"M 0 0 \nL -3.5 0 \n\" id=\"m8a94b7022f\" style=\"stroke:#000000;stroke-width:0.8;\"/>\n      </defs>\n      <g>\n       <use style=\"stroke:#000000;stroke-width:0.8;\" x=\"35.304688\" xlink:href=\"#m8a94b7022f\" y=\"132.875175\"/>\n      </g>\n     </g>\n     <g id=\"text_4\">\n      <!-- −10 -->\n      <g transform=\"translate(7.2 136.674394)scale(0.1 -0.1)\">\n       <defs>\n        <path d=\"M 12.40625 8.296875 \nL 28.515625 8.296875 \nL 28.515625 63.921875 \nL 10.984375 60.40625 \nL 10.984375 69.390625 \nL 28.421875 72.90625 \nL 38.28125 72.90625 \nL 38.28125 8.296875 \nL 54.390625 8.296875 \nL 54.390625 0 \nL 12.40625 0 \nz\n\" id=\"DejaVuSans-49\"/>\n       </defs>\n       <use xlink:href=\"#DejaVuSans-8722\"/>\n       <use x=\"83.789062\" xlink:href=\"#DejaVuSans-49\"/>\n       <use x=\"147.412109\" xlink:href=\"#DejaVuSans-48\"/>\n      </g>\n     </g>\n    </g>\n    <g id=\"ytick_2\">\n     <g id=\"line2d_5\">\n      <g>\n       <use style=\"stroke:#000000;stroke-width:0.8;\" x=\"35.304688\" xlink:href=\"#m8a94b7022f\" y=\"88.950801\"/>\n      </g>\n     </g>\n     <g id=\"text_5\">\n      <!-- 0 -->\n      <g transform=\"translate(21.942187 92.750019)scale(0.1 -0.1)\">\n       <use xlink:href=\"#DejaVuSans-48\"/>\n      </g>\n     </g>\n    </g>\n    <g id=\"ytick_3\">\n     <g id=\"line2d_6\">\n      <g>\n       <use style=\"stroke:#000000;stroke-width:0.8;\" x=\"35.304688\" xlink:href=\"#m8a94b7022f\" y=\"45.026426\"/>\n      </g>\n     </g>\n     <g id=\"text_6\">\n      <!-- 10 -->\n      <g transform=\"translate(15.579687 48.825645)scale(0.1 -0.1)\">\n       <use xlink:href=\"#DejaVuSans-49\"/>\n       <use x=\"63.623047\" xlink:href=\"#DejaVuSans-48\"/>\n      </g>\n     </g>\n    </g>\n   </g>\n   <g id=\"patch_3\">\n    <path d=\"M 35.304688 143.1 \nL 35.304688 7.2 \n\" style=\"fill:none;stroke:#000000;stroke-linecap:square;stroke-linejoin:miter;stroke-width:0.8;\"/>\n   </g>\n   <g id=\"patch_4\">\n    <path d=\"M 230.604688 143.1 \nL 230.604688 7.2 \n\" style=\"fill:none;stroke:#000000;stroke-linecap:square;stroke-linejoin:miter;stroke-width:0.8;\"/>\n   </g>\n   <g id=\"patch_5\">\n    <path d=\"M 35.304688 143.1 \nL 230.604688 143.1 \n\" style=\"fill:none;stroke:#000000;stroke-linecap:square;stroke-linejoin:miter;stroke-width:0.8;\"/>\n   </g>\n   <g id=\"patch_6\">\n    <path d=\"M 35.304688 7.2 \nL 230.604688 7.2 \n\" style=\"fill:none;stroke:#000000;stroke-linecap:square;stroke-linejoin:miter;stroke-width:0.8;\"/>\n   </g>\n  </g>\n </g>\n <defs>\n  <clipPath id=\"p751c5296ff\">\n   <rect height=\"135.9\" width=\"195.3\" x=\"35.304688\" y=\"7.2\"/>\n  </clipPath>\n </defs>\n</svg>\n"
          },
          "metadata": {
            "needs_background": "light"
          }
        }
      ]
    },
    {
      "cell_type": "markdown",
      "source": [
        "###3-1-1 everything by hand"
      ],
      "metadata": {
        "id": "Ar0YeYkcSiBR"
      }
    },
    {
      "cell_type": "code",
      "source": [
        "# produce small batch based on generated data\n",
        "def data_iter(batch_size, features,labels):\n",
        "    num_examples=len(features)\n",
        "    indices=list(range(num_examples))\n",
        "    random.shuffle(indices)\n",
        "    for i in range(0,num_examples,batch_size):\n",
        "        batch_indices=torch.tensor(indices[i:min(i+batch_size,num_examples)])\n",
        "        yield features[batch_indices], labels[batch_indices]\n",
        "\n",
        "batch_size=10\n",
        "for X,y in data_iter(batch_size,features,labels):\n",
        "    # first sample batch:\n",
        "    print(X,'\\n',y)\n",
        "    break"
      ],
      "metadata": {
        "colab": {
          "base_uri": "https://localhost:8080/"
        },
        "id": "efYPhQW5Bzea",
        "outputId": "51620fe6-fdd8-43b2-ed58-e7ae4c47f268"
      },
      "execution_count": 5,
      "outputs": [
        {
          "output_type": "stream",
          "name": "stdout",
          "text": [
            "tensor([[ 0.2794, -0.8663],\n",
            "        [-0.0456,  1.2029],\n",
            "        [-0.8156,  0.3746],\n",
            "        [ 1.3440, -0.3971],\n",
            "        [ 0.4119,  0.0911],\n",
            "        [ 1.2006, -0.4727],\n",
            "        [-0.8905,  0.2413],\n",
            "        [ 0.9147,  0.2900],\n",
            "        [ 2.1362,  1.0825],\n",
            "        [-0.4060, -0.6904]]) \n",
            " tensor([[7.7032],\n",
            "        [0.0206],\n",
            "        [1.3109],\n",
            "        [8.2326],\n",
            "        [4.7128],\n",
            "        [8.2035],\n",
            "        [1.6008],\n",
            "        [5.0501],\n",
            "        [4.7753],\n",
            "        [5.7306]])\n"
          ]
        }
      ]
    },
    {
      "cell_type": "code",
      "source": [
        "# inintial data:\n",
        "w=torch.normal(0,0.01,size=(2,1),requires_grad=True)\n",
        "b=torch.zeros(1,requires_grad=True)"
      ],
      "metadata": {
        "id": "2NU-diC2Fslj"
      },
      "execution_count": 19,
      "outputs": []
    },
    {
      "cell_type": "code",
      "source": [
        "# define linear regression model: y=w1*x1+w2*x2+b\n",
        "def linreg(X,w,b):\n",
        "    return torch.matmul(X,w)+b "
      ],
      "metadata": {
        "id": "ccsfysu_GHah"
      },
      "execution_count": 8,
      "outputs": []
    },
    {
      "cell_type": "code",
      "source": [
        "# define loss model: mean square\n",
        "def squared_loss(y_hat,y):\n",
        "    return (y_hat-y.reshape(y_hat.shape))**2/2"
      ],
      "metadata": {
        "id": "qM4niouBGfnf"
      },
      "execution_count": 9,
      "outputs": []
    },
    {
      "cell_type": "code",
      "source": [
        "# small patch gradient decent:\n",
        "def sgd(params,lr,batch_size):\n",
        "    with torch.no_grad():\n",
        "        for param in params:\n",
        "            param-=lr*param.grad/batch_size\n",
        "            param.grad.zero_()"
      ],
      "metadata": {
        "id": "auWsEDDeG3BL"
      },
      "execution_count": 14,
      "outputs": []
    },
    {
      "cell_type": "code",
      "source": [
        "# traning process:\n",
        "lr =0.02\n",
        "num_epochs=10\n",
        "net=linreg\n",
        "loss=squared_loss\n",
        "for epoch in range(num_epochs):\n",
        "    for X,y in data_iter(batch_size,features,labels):\n",
        "        l=loss(net(X,w,b),y)\n",
        "        l.sum().backward()\n",
        "        sgd([w,b],lr,batch_size)\n",
        "    with torch.no_grad():\n",
        "        train_1=loss(net(features,w,b),labels)\n",
        "        print(f'epoch {epoch+1},loss{float(train_1.mean()):f}')    "
      ],
      "metadata": {
        "colab": {
          "base_uri": "https://localhost:8080/"
        },
        "id": "NsXEbVzIHkpC",
        "outputId": "71626cf3-0202-4d26-9a8e-c982ebcef013"
      },
      "execution_count": 22,
      "outputs": [
        {
          "output_type": "stream",
          "name": "stdout",
          "text": [
            "epoch 1,loss0.000051\n",
            "epoch 2,loss0.000049\n",
            "epoch 3,loss0.000049\n",
            "epoch 4,loss0.000049\n",
            "epoch 5,loss0.000049\n",
            "epoch 6,loss0.000049\n",
            "epoch 7,loss0.000049\n",
            "epoch 8,loss0.000049\n",
            "epoch 9,loss0.000049\n",
            "epoch 10,loss0.000049\n"
          ]
        }
      ]
    },
    {
      "cell_type": "code",
      "source": [
        "print (f'error in prediction in w:{ true_w - w.reshape(true_w.shape)}')\n",
        "print (f'error in prediction in b:{ true_b - b}')"
      ],
      "metadata": {
        "colab": {
          "base_uri": "https://localhost:8080/"
        },
        "id": "cMOMBiEnKN8O",
        "outputId": "d56de042-5f78-4ea5-b1b5-410b81c84b8f"
      },
      "execution_count": 23,
      "outputs": [
        {
          "output_type": "stream",
          "name": "stdout",
          "text": [
            "error in prediction in w:tensor([ 0.0007, -0.0003], grad_fn=<SubBackward0>)\n",
            "error in prediction in b:tensor([0.0008], grad_fn=<RsubBackward1>)\n"
          ]
        }
      ]
    },
    {
      "cell_type": "markdown",
      "source": [
        "###3-1-2 utilizing python libary"
      ],
      "metadata": {
        "id": "jNhksTseLRMr"
      }
    },
    {
      "cell_type": "code",
      "source": [
        "import numpy as np\n",
        "import torch\n",
        "from torch.utils import data\n",
        "from d2l import torch as d2l\n",
        "\n",
        "# target value and generate features\n",
        "true_w=torch.tensor([3,-30.2])\n",
        "true_b=4.2\n",
        "features,labels=d2l.synthetic_data(true_w,true_b,1000)"
      ],
      "metadata": {
        "id": "PZHzwQc2LZ_6"
      },
      "execution_count": 25,
      "outputs": []
    },
    {
      "cell_type": "code",
      "source": [
        "# generate small batch of data in form of iterator:\n",
        "def load_array(data_array,batch_size,is_train=True):\n",
        "    dataset=data.TensorDataset(*data_array)\n",
        "    return data.DataLoader(dataset,batch_size,shuffle=is_train)\n",
        "\n",
        "batch_size=10\n",
        "data_iter=load_array((features,labels),batch_size)\n",
        "next(iter(data_iter))"
      ],
      "metadata": {
        "colab": {
          "base_uri": "https://localhost:8080/"
        },
        "id": "QKOuQ9I6MJ9w",
        "outputId": "06a06387-6c57-4d5c-ef64-41537925d2ee"
      },
      "execution_count": 26,
      "outputs": [
        {
          "output_type": "execute_result",
          "data": {
            "text/plain": [
              "[tensor([[-1.0569, -1.2620],\n",
              "         [ 0.3608, -1.0582],\n",
              "         [ 0.1021, -0.1221],\n",
              "         [ 1.1205,  0.6061],\n",
              "         [-0.3294, -1.3943],\n",
              "         [ 0.5363, -0.6774],\n",
              "         [-0.4045,  0.3959],\n",
              "         [-1.3530, -0.5711],\n",
              "         [ 0.2289, -0.2110],\n",
              "         [ 2.2209,  0.2988]]), tensor([[ 39.1338],\n",
              "         [ 37.2521],\n",
              "         [  8.1900],\n",
              "         [-10.7474],\n",
              "         [ 45.3113],\n",
              "         [ 26.2833],\n",
              "         [ -8.9657],\n",
              "         [ 17.4011],\n",
              "         [ 11.2576],\n",
              "         [  1.8475]])]"
            ]
          },
          "metadata": {},
          "execution_count": 26
        }
      ]
    },
    {
      "cell_type": "code",
      "source": [
        "from torch import nn\n",
        "# use linear network with 2 input and 1 output:\n",
        "net=nn.Sequential(nn.Linear(2,1))\n",
        "# initial w and b:\n",
        "net[0].weight.data.normal_(0,0.01)\n",
        "net[0].bias.data.fill_(0)"
      ],
      "metadata": {
        "colab": {
          "base_uri": "https://localhost:8080/"
        },
        "id": "FSNI7UNkNBSq",
        "outputId": "cd87859b-11e5-47a8-a0e4-99a3276aee52"
      },
      "execution_count": 27,
      "outputs": [
        {
          "output_type": "execute_result",
          "data": {
            "text/plain": [
              "tensor([0.])"
            ]
          },
          "metadata": {},
          "execution_count": 27
        }
      ]
    },
    {
      "cell_type": "code",
      "source": [
        "# define loss and optimsize method:\n",
        "loss=nn.MSELoss()\n",
        "trainer=torch.optim.SGD(net.parameters(),lr=0.03)"
      ],
      "metadata": {
        "id": "SGfC0JOGNuCN"
      },
      "execution_count": 28,
      "outputs": []
    },
    {
      "cell_type": "code",
      "source": [
        "# training process:\n",
        "num_epochs=3\n",
        "for epoch in range(num_epochs):\n",
        "    for X,y in data_iter:\n",
        "        l=loss(net(X),y)\n",
        "        trainer.zero_grad()\n",
        "        l.backward()\n",
        "        trainer.step()\n",
        "    l=loss(net(features),labels)\n",
        "    print(f'epoch{epoch+1}, loss {l:f}')    "
      ],
      "metadata": {
        "colab": {
          "base_uri": "https://localhost:8080/"
        },
        "id": "ph2Js5fGOJe_",
        "outputId": "79a2e91c-9f8c-47af-eba2-efeb62400379"
      },
      "execution_count": 30,
      "outputs": [
        {
          "output_type": "stream",
          "name": "stdout",
          "text": [
            "epoch1, loss 0.000105\n",
            "epoch2, loss 0.000106\n",
            "epoch3, loss 0.000106\n"
          ]
        }
      ]
    },
    {
      "cell_type": "markdown",
      "source": [
        "#3-2 SoftMax Regression"
      ],
      "metadata": {
        "id": "iDzJZZ7GRwlQ"
      }
    },
    {
      "cell_type": "markdown",
      "source": [
        "###3-2-0 data generation"
      ],
      "metadata": {
        "id": "-VmxfrwRZN7g"
      }
    },
    {
      "cell_type": "code",
      "source": [
        "%matplotlib inline\n",
        "import torch\n",
        "import torchvision\n",
        "from torch.utils import data\n",
        "from torchvision import transforms\n",
        "from d2l import torch as d2l\n",
        "d2l.use_svg_display()"
      ],
      "metadata": {
        "id": "oGIScHMPR0pH"
      },
      "execution_count": 31,
      "outputs": []
    },
    {
      "cell_type": "code",
      "source": [
        "# tranform img data form pil to float32 with ToTenser\n",
        "# divide by 255 so all pixal has value in between 0 and 1\n",
        "trans=transforms.ToTensor()\n",
        "mnist_train=torchvision.datasets.FashionMNIST(root=\"../data\",train=True,transform=trans,download=True)\n",
        "mnist_test=torchvision.datasets.FashionMNIST(root=\"../data\",train=False,transform=trans,download=True)\n",
        "len(mnist_train),len(mnist_test)"
      ],
      "metadata": {
        "colab": {
          "base_uri": "https://localhost:8080/",
          "height": 440,
          "referenced_widgets": [
            "e39910a4c6ca40cbb04da9161be7f375",
            "ed9f8c1507384c739521f23d9284e963",
            "3dbec8945eaf4aafb36fc2fe816e58ba",
            "934a88badf53439fb2c16e1166a6641d",
            "427413d854214a558a007738a7fce427",
            "91d6203ae43a44f98dafd4fac51a5630",
            "4cc5b02dee90486399383a5a42ad90ae",
            "e9c355ff086e4529bef7ee1c695e0e5c",
            "8cd2f1897d344987be77f8051681032d",
            "075bdb24610b4caf91d52e9d1f12160c",
            "954ccebc42cb4371b54f8c8ef37faa18",
            "d94340bae5884ae083482fd7abfab5c3",
            "2a30a1c3981b41818c474ea0ab242583",
            "11dd5167ebea4dfda7eb9cfe73a01aa8",
            "c01050eec85b44c0ac6127a43f3d601e",
            "a17a9d145d4a41f9aa81454d12ee1471",
            "ba75426b69e142b5a10e950883de1be1",
            "19a4e4ced277477dae815f19a017f2e9",
            "0e89b3c2f5474cf6a1bce915b53fe926",
            "f8946540f017454e99317cf9975d223f",
            "a1d54a36b8074cdcb1728b3d50a80895",
            "4bc0a94725364775aaa2a336ab68dc79",
            "ac961c6badd74fc8a515cae78eb62c9d",
            "cbf98226d160421ca5dc6d8c5ab11d05",
            "70c2bec14aa74355967bc67a7734a4c6",
            "0b63b22240b94456bce139aa6c477ec2",
            "0b8cda029efd4e148714f7a6f2644e9f",
            "46dd6e7bd62c4be1ae8622a76638c954",
            "fc363eda0b754e5bb73f51b2e8f54959",
            "cc985087e21b441790346f378eab3880",
            "a02d2cc10bef435e9fc5b88f200409aa",
            "1eecf79bd9f244c29148b78f65db6d99",
            "d59e11644ff041ec9a805242640dfc55",
            "69646edeeec34c36a0eb002add12389d",
            "34feb220ace746ca91cbd2c52405a0f1",
            "f78f14774c4c4fd5a1009918bb5f3761",
            "211abb2ed8ba4fd492f24dd30b9e1d99",
            "715831be2c5a4dd985c380a8162539db",
            "41f6eeecd8e3466c8362c839180a0e40",
            "73a08e9fda6a4effa5432e55a31b7b1e",
            "8104ea4518ad42aabfac2afe7efe8dbb",
            "ba01378c0dad486cb94e798f92ec8d54",
            "df311619e904483a8171d87875496ea4",
            "9a3fb8543a614a22a39f73f14aecbae6"
          ]
        },
        "id": "grJbjN1lZ4nA",
        "outputId": "4ba98e48-65a1-48df-c472-409ed781a081"
      },
      "execution_count": 33,
      "outputs": [
        {
          "output_type": "stream",
          "name": "stdout",
          "text": [
            "Downloading http://fashion-mnist.s3-website.eu-central-1.amazonaws.com/train-images-idx3-ubyte.gz\n",
            "Downloading http://fashion-mnist.s3-website.eu-central-1.amazonaws.com/train-images-idx3-ubyte.gz to ../data/FashionMNIST/raw/train-images-idx3-ubyte.gz\n"
          ]
        },
        {
          "output_type": "display_data",
          "data": {
            "application/vnd.jupyter.widget-view+json": {
              "model_id": "e39910a4c6ca40cbb04da9161be7f375",
              "version_minor": 0,
              "version_major": 2
            },
            "text/plain": [
              "  0%|          | 0/26421880 [00:00<?, ?it/s]"
            ]
          },
          "metadata": {}
        },
        {
          "output_type": "stream",
          "name": "stdout",
          "text": [
            "Extracting ../data/FashionMNIST/raw/train-images-idx3-ubyte.gz to ../data/FashionMNIST/raw\n",
            "\n",
            "Downloading http://fashion-mnist.s3-website.eu-central-1.amazonaws.com/train-labels-idx1-ubyte.gz\n",
            "Downloading http://fashion-mnist.s3-website.eu-central-1.amazonaws.com/train-labels-idx1-ubyte.gz to ../data/FashionMNIST/raw/train-labels-idx1-ubyte.gz\n"
          ]
        },
        {
          "output_type": "display_data",
          "data": {
            "application/vnd.jupyter.widget-view+json": {
              "model_id": "d94340bae5884ae083482fd7abfab5c3",
              "version_minor": 0,
              "version_major": 2
            },
            "text/plain": [
              "  0%|          | 0/29515 [00:00<?, ?it/s]"
            ]
          },
          "metadata": {}
        },
        {
          "output_type": "stream",
          "name": "stdout",
          "text": [
            "Extracting ../data/FashionMNIST/raw/train-labels-idx1-ubyte.gz to ../data/FashionMNIST/raw\n",
            "\n",
            "Downloading http://fashion-mnist.s3-website.eu-central-1.amazonaws.com/t10k-images-idx3-ubyte.gz\n",
            "Downloading http://fashion-mnist.s3-website.eu-central-1.amazonaws.com/t10k-images-idx3-ubyte.gz to ../data/FashionMNIST/raw/t10k-images-idx3-ubyte.gz\n"
          ]
        },
        {
          "output_type": "display_data",
          "data": {
            "application/vnd.jupyter.widget-view+json": {
              "model_id": "ac961c6badd74fc8a515cae78eb62c9d",
              "version_minor": 0,
              "version_major": 2
            },
            "text/plain": [
              "  0%|          | 0/4422102 [00:00<?, ?it/s]"
            ]
          },
          "metadata": {}
        },
        {
          "output_type": "stream",
          "name": "stdout",
          "text": [
            "Extracting ../data/FashionMNIST/raw/t10k-images-idx3-ubyte.gz to ../data/FashionMNIST/raw\n",
            "\n",
            "Downloading http://fashion-mnist.s3-website.eu-central-1.amazonaws.com/t10k-labels-idx1-ubyte.gz\n",
            "Downloading http://fashion-mnist.s3-website.eu-central-1.amazonaws.com/t10k-labels-idx1-ubyte.gz to ../data/FashionMNIST/raw/t10k-labels-idx1-ubyte.gz\n"
          ]
        },
        {
          "output_type": "display_data",
          "data": {
            "application/vnd.jupyter.widget-view+json": {
              "model_id": "69646edeeec34c36a0eb002add12389d",
              "version_minor": 0,
              "version_major": 2
            },
            "text/plain": [
              "  0%|          | 0/5148 [00:00<?, ?it/s]"
            ]
          },
          "metadata": {}
        },
        {
          "output_type": "stream",
          "name": "stdout",
          "text": [
            "Extracting ../data/FashionMNIST/raw/t10k-labels-idx1-ubyte.gz to ../data/FashionMNIST/raw\n",
            "\n"
          ]
        },
        {
          "output_type": "execute_result",
          "data": {
            "text/plain": [
              "(60000, 10000)"
            ]
          },
          "metadata": {},
          "execution_count": 33
        }
      ]
    },
    {
      "cell_type": "code",
      "source": [
        "# all img has 1 channel with height and with be 28\n",
        "mnist_train[0][0].shape"
      ],
      "metadata": {
        "colab": {
          "base_uri": "https://localhost:8080/"
        },
        "id": "NZX32eoZbudK",
        "outputId": "f77dfbd7-f095-4e49-b5a4-66aff22f7edb"
      },
      "execution_count": 34,
      "outputs": [
        {
          "output_type": "execute_result",
          "data": {
            "text/plain": [
              "torch.Size([1, 28, 28])"
            ]
          },
          "metadata": {},
          "execution_count": 34
        }
      ]
    },
    {
      "cell_type": "code",
      "source": [
        "# function return the labels of selected labels:\n",
        "def get_fashion_mnist_labels(labels):\n",
        "    text_labels=['t-shirt', 'trouser', 'pullover', 'dress', 'coat',\n",
        "                 'sandal', 'shirt', 'sneaker', 'bag', 'ankle boot']\n",
        "    return [text_labels[int(i)] for i in labels ]"
      ],
      "metadata": {
        "id": "_iq4cERdcE9P"
      },
      "execution_count": 36,
      "outputs": []
    },
    {
      "cell_type": "code",
      "source": [
        "# function visualize the data:\n",
        "def show_images(imgs,num_rows,num_cols,titles=None,scale=1.5):\n",
        "    figsize=(num_cols*scale,num_rows*scale)\n",
        "    _,axes=d2l.plt.subplots(num_rows,num_cols,figsize=figsize)\n",
        "    axes=axes.flatten()\n",
        "    for i, (ax, img) in enumerate(zip(axes,imgs)):\n",
        "        if torch.is_tensor(img):\n",
        "            ax.imshow(img.numpy())\n",
        "        else:\n",
        "            ax.imshow(img)\n",
        "        ax.axes.get_xaxis().set_visible(False)\n",
        "        ax.axes.get_yaxis().set_visible(False)\n",
        "        if titles:\n",
        "            ax.set_title(titles[i])\n",
        "    return axes"
      ],
      "metadata": {
        "id": "he5qOLKxc4Z-"
      },
      "execution_count": 37,
      "outputs": []
    },
    {
      "cell_type": "code",
      "source": [
        "X,y=next(iter(data.DataLoader(mnist_train,batch_size=18)))\n",
        "show_images(X.reshape(18,28,28),2,9,titles=get_fashion_mnist_labels(y))"
      ],
      "metadata": {
        "colab": {
          "base_uri": "https://localhost:8080/",
          "height": 591
        },
        "id": "NE7JcGnSeFz0",
        "outputId": "57e3b7a2-f18c-45b7-ecf4-b52eaaa16dde"
      },
      "execution_count": 39,
      "outputs": [
        {
          "output_type": "execute_result",
          "data": {
            "text/plain": [
              "array([<AxesSubplot:title={'center':'ankle boot'}>,\n",
              "       <AxesSubplot:title={'center':'t-shirt'}>,\n",
              "       <AxesSubplot:title={'center':'t-shirt'}>,\n",
              "       <AxesSubplot:title={'center':'dress'}>,\n",
              "       <AxesSubplot:title={'center':'t-shirt'}>,\n",
              "       <AxesSubplot:title={'center':'pullover'}>,\n",
              "       <AxesSubplot:title={'center':'sneaker'}>,\n",
              "       <AxesSubplot:title={'center':'pullover'}>,\n",
              "       <AxesSubplot:title={'center':'sandal'}>,\n",
              "       <AxesSubplot:title={'center':'sandal'}>,\n",
              "       <AxesSubplot:title={'center':'t-shirt'}>,\n",
              "       <AxesSubplot:title={'center':'ankle boot'}>,\n",
              "       <AxesSubplot:title={'center':'sandal'}>,\n",
              "       <AxesSubplot:title={'center':'sandal'}>,\n",
              "       <AxesSubplot:title={'center':'sneaker'}>,\n",
              "       <AxesSubplot:title={'center':'ankle boot'}>,\n",
              "       <AxesSubplot:title={'center':'trouser'}>,\n",
              "       <AxesSubplot:title={'center':'t-shirt'}>], dtype=object)"
            ]
          },
          "metadata": {},
          "execution_count": 39
        },
        {
          "output_type": "display_data",
          "data": {
            "text/plain": [
              "<Figure size 972x216 with 18 Axes>"
            ],
            "image/svg+xml": "<?xml version=\"1.0\" encoding=\"utf-8\" standalone=\"no\"?>\n<!DOCTYPE svg PUBLIC \"-//W3C//DTD SVG 1.1//EN\"\n  \"http://www.w3.org/Graphics/SVG/1.1/DTD/svg11.dtd\">\n<!-- Created with matplotlib (https://matplotlib.org/) -->\n<svg height=\"193.03689pt\" version=\"1.1\" viewBox=\"0 0 771.2 193.03689\" width=\"771.2pt\" xmlns=\"http://www.w3.org/2000/svg\" xmlns:xlink=\"http://www.w3.org/1999/xlink\">\n <metadata>\n  <rdf:RDF xmlns:cc=\"http://creativecommons.org/ns#\" xmlns:dc=\"http://purl.org/dc/elements/1.1/\" xmlns:rdf=\"http://www.w3.org/1999/02/22-rdf-syntax-ns#\">\n   <cc:Work>\n    <dc:type rdf:resource=\"http://purl.org/dc/dcmitype/StillImage\"/>\n    <dc:date>2022-02-04T02:04:22.531916</dc:date>\n    <dc:format>image/svg+xml</dc:format>\n    <dc:creator>\n     <cc:Agent>\n      <dc:title>Matplotlib v3.3.3, https://matplotlib.org/</dc:title>\n     </cc:Agent>\n    </dc:creator>\n   </cc:Work>\n  </rdf:RDF>\n </metadata>\n <defs>\n  <style type=\"text/css\">*{stroke-linecap:butt;stroke-linejoin:round;}</style>\n </defs>\n <g id=\"figure_1\">\n  <g id=\"patch_1\">\n   <path d=\"M 0 193.03689 \nL 771.2 193.03689 \nL 771.2 -0 \nL 0 -0 \nz\n\" style=\"fill:none;\"/>\n  </g>\n  <g id=\"axes_1\">\n   <g id=\"patch_2\">\n    <path d=\"M 10.7 93.384163 \nL 81.766038 93.384163 \nL 81.766038 22.318125 \nL 10.7 22.318125 \nz\n\" style=\"fill:#ffffff;\"/>\n   </g>\n   <g clip-path=\"url(#p4b14c5aacf)\">\n    <image height=\"72\" id=\"image00bc24a550\" transform=\"scale(1 -1)translate(0 -72)\" width=\"72\" x=\"10.7\" xlink:href=\"data:image/png;base64,\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\" y=\"-21.384163\"/>\n   </g>\n   <g id=\"patch_3\">\n    <path d=\"M 10.7 93.384163 \nL 10.7 22.318125 \n\" style=\"fill:none;stroke:#000000;stroke-linecap:square;stroke-linejoin:miter;stroke-width:0.8;\"/>\n   </g>\n   <g id=\"patch_4\">\n    <path d=\"M 81.766038 93.384163 \nL 81.766038 22.318125 \n\" style=\"fill:none;stroke:#000000;stroke-linecap:square;stroke-linejoin:miter;stroke-width:0.8;\"/>\n   </g>\n   <g id=\"patch_5\">\n    <path d=\"M 10.7 93.384163 \nL 81.766038 93.384163 \n\" style=\"fill:none;stroke:#000000;stroke-linecap:square;stroke-linejoin:miter;stroke-width:0.8;\"/>\n   </g>\n   <g id=\"patch_6\">\n    <path d=\"M 10.7 22.318125 \nL 81.766038 22.318125 \n\" style=\"fill:none;stroke:#000000;stroke-linecap:square;stroke-linejoin:miter;stroke-width:0.8;\"/>\n   </g>\n   <g id=\"text_1\">\n    <!-- ankle boot -->\n    <g transform=\"translate(14.509894 16.318125)scale(0.12 -0.12)\">\n     <defs>\n      <path d=\"M 34.28125 27.484375 \nQ 23.390625 27.484375 19.1875 25 \nQ 14.984375 22.515625 14.984375 16.5 \nQ 14.984375 11.71875 18.140625 8.90625 \nQ 21.296875 6.109375 26.703125 6.109375 \nQ 34.1875 6.109375 38.703125 11.40625 \nQ 43.21875 16.703125 43.21875 25.484375 \nL 43.21875 27.484375 \nz\nM 52.203125 31.203125 \nL 52.203125 0 \nL 43.21875 0 \nL 43.21875 8.296875 \nQ 40.140625 3.328125 35.546875 0.953125 \nQ 30.953125 -1.421875 24.3125 -1.421875 \nQ 15.921875 -1.421875 10.953125 3.296875 \nQ 6 8.015625 6 15.921875 \nQ 6 25.140625 12.171875 29.828125 \nQ 18.359375 34.515625 30.609375 34.515625 \nL 43.21875 34.515625 \nL 43.21875 35.40625 \nQ 43.21875 41.609375 39.140625 45 \nQ 35.0625 48.390625 27.6875 48.390625 \nQ 23 48.390625 18.546875 47.265625 \nQ 14.109375 46.140625 10.015625 43.890625 \nL 10.015625 52.203125 \nQ 14.9375 54.109375 19.578125 55.046875 \nQ 24.21875 56 28.609375 56 \nQ 40.484375 56 46.34375 49.84375 \nQ 52.203125 43.703125 52.203125 31.203125 \nz\n\" id=\"DejaVuSans-97\"/>\n      <path d=\"M 54.890625 33.015625 \nL 54.890625 0 \nL 45.90625 0 \nL 45.90625 32.71875 \nQ 45.90625 40.484375 42.875 44.328125 \nQ 39.84375 48.1875 33.796875 48.1875 \nQ 26.515625 48.1875 22.3125 43.546875 \nQ 18.109375 38.921875 18.109375 30.90625 \nL 18.109375 0 \nL 9.078125 0 \nL 9.078125 54.6875 \nL 18.109375 54.6875 \nL 18.109375 46.1875 \nQ 21.34375 51.125 25.703125 53.5625 \nQ 30.078125 56 35.796875 56 \nQ 45.21875 56 50.046875 50.171875 \nQ 54.890625 44.34375 54.890625 33.015625 \nz\n\" id=\"DejaVuSans-110\"/>\n      <path d=\"M 9.078125 75.984375 \nL 18.109375 75.984375 \nL 18.109375 31.109375 \nL 44.921875 54.6875 \nL 56.390625 54.6875 \nL 27.390625 29.109375 \nL 57.625 0 \nL 45.90625 0 \nL 18.109375 26.703125 \nL 18.109375 0 \nL 9.078125 0 \nz\n\" id=\"DejaVuSans-107\"/>\n      <path d=\"M 9.421875 75.984375 \nL 18.40625 75.984375 \nL 18.40625 0 \nL 9.421875 0 \nz\n\" id=\"DejaVuSans-108\"/>\n      <path d=\"M 56.203125 29.59375 \nL 56.203125 25.203125 \nL 14.890625 25.203125 \nQ 15.484375 15.921875 20.484375 11.0625 \nQ 25.484375 6.203125 34.421875 6.203125 \nQ 39.59375 6.203125 44.453125 7.46875 \nQ 49.3125 8.734375 54.109375 11.28125 \nL 54.109375 2.78125 \nQ 49.265625 0.734375 44.1875 -0.34375 \nQ 39.109375 -1.421875 33.890625 -1.421875 \nQ 20.796875 -1.421875 13.15625 6.1875 \nQ 5.515625 13.8125 5.515625 26.8125 \nQ 5.515625 40.234375 12.765625 48.109375 \nQ 20.015625 56 32.328125 56 \nQ 43.359375 56 49.78125 48.890625 \nQ 56.203125 41.796875 56.203125 29.59375 \nz\nM 47.21875 32.234375 \nQ 47.125 39.59375 43.09375 43.984375 \nQ 39.0625 48.390625 32.421875 48.390625 \nQ 24.90625 48.390625 20.390625 44.140625 \nQ 15.875 39.890625 15.1875 32.171875 \nz\n\" id=\"DejaVuSans-101\"/>\n      <path id=\"DejaVuSans-32\"/>\n      <path d=\"M 48.6875 27.296875 \nQ 48.6875 37.203125 44.609375 42.84375 \nQ 40.53125 48.484375 33.40625 48.484375 \nQ 26.265625 48.484375 22.1875 42.84375 \nQ 18.109375 37.203125 18.109375 27.296875 \nQ 18.109375 17.390625 22.1875 11.75 \nQ 26.265625 6.109375 33.40625 6.109375 \nQ 40.53125 6.109375 44.609375 11.75 \nQ 48.6875 17.390625 48.6875 27.296875 \nz\nM 18.109375 46.390625 \nQ 20.953125 51.265625 25.265625 53.625 \nQ 29.59375 56 35.59375 56 \nQ 45.5625 56 51.78125 48.09375 \nQ 58.015625 40.1875 58.015625 27.296875 \nQ 58.015625 14.40625 51.78125 6.484375 \nQ 45.5625 -1.421875 35.59375 -1.421875 \nQ 29.59375 -1.421875 25.265625 0.953125 \nQ 20.953125 3.328125 18.109375 8.203125 \nL 18.109375 0 \nL 9.078125 0 \nL 9.078125 75.984375 \nL 18.109375 75.984375 \nz\n\" id=\"DejaVuSans-98\"/>\n      <path d=\"M 30.609375 48.390625 \nQ 23.390625 48.390625 19.1875 42.75 \nQ 14.984375 37.109375 14.984375 27.296875 \nQ 14.984375 17.484375 19.15625 11.84375 \nQ 23.34375 6.203125 30.609375 6.203125 \nQ 37.796875 6.203125 41.984375 11.859375 \nQ 46.1875 17.53125 46.1875 27.296875 \nQ 46.1875 37.015625 41.984375 42.703125 \nQ 37.796875 48.390625 30.609375 48.390625 \nz\nM 30.609375 56 \nQ 42.328125 56 49.015625 48.375 \nQ 55.71875 40.765625 55.71875 27.296875 \nQ 55.71875 13.875 49.015625 6.21875 \nQ 42.328125 -1.421875 30.609375 -1.421875 \nQ 18.84375 -1.421875 12.171875 6.21875 \nQ 5.515625 13.875 5.515625 27.296875 \nQ 5.515625 40.765625 12.171875 48.375 \nQ 18.84375 56 30.609375 56 \nz\n\" id=\"DejaVuSans-111\"/>\n      <path d=\"M 18.3125 70.21875 \nL 18.3125 54.6875 \nL 36.8125 54.6875 \nL 36.8125 47.703125 \nL 18.3125 47.703125 \nL 18.3125 18.015625 \nQ 18.3125 11.328125 20.140625 9.421875 \nQ 21.96875 7.515625 27.59375 7.515625 \nL 36.8125 7.515625 \nL 36.8125 0 \nL 27.59375 0 \nQ 17.1875 0 13.234375 3.875 \nQ 9.28125 7.765625 9.28125 18.015625 \nL 9.28125 47.703125 \nL 2.6875 47.703125 \nL 2.6875 54.6875 \nL 9.28125 54.6875 \nL 9.28125 70.21875 \nz\n\" id=\"DejaVuSans-116\"/>\n     </defs>\n     <use xlink:href=\"#DejaVuSans-97\"/>\n     <use x=\"61.279297\" xlink:href=\"#DejaVuSans-110\"/>\n     <use x=\"124.658203\" xlink:href=\"#DejaVuSans-107\"/>\n     <use x=\"182.568359\" xlink:href=\"#DejaVuSans-108\"/>\n     <use x=\"210.351562\" xlink:href=\"#DejaVuSans-101\"/>\n     <use x=\"271.875\" xlink:href=\"#DejaVuSans-32\"/>\n     <use x=\"303.662109\" xlink:href=\"#DejaVuSans-98\"/>\n     <use x=\"367.138672\" xlink:href=\"#DejaVuSans-111\"/>\n     <use x=\"428.320312\" xlink:href=\"#DejaVuSans-111\"/>\n     <use x=\"489.501953\" xlink:href=\"#DejaVuSans-116\"/>\n    </g>\n   </g>\n  </g>\n  <g id=\"axes_2\">\n   <g id=\"patch_7\">\n    <path d=\"M 95.979245 93.384163 \nL 167.045283 93.384163 \nL 167.045283 22.318125 \nL 95.979245 22.318125 \nz\n\" style=\"fill:#ffffff;\"/>\n   </g>\n   <g clip-path=\"url(#p972a6af9a3)\">\n    <image height=\"72\" id=\"imagebe61365778\" transform=\"scale(1 -1)translate(0 -72)\" width=\"72\" x=\"95.979245\" xlink:href=\"data:image/png;base64,\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\" y=\"-21.384163\"/>\n   </g>\n   <g id=\"patch_8\">\n    <path d=\"M 95.979245 93.384163 \nL 95.979245 22.318125 \n\" style=\"fill:none;stroke:#000000;stroke-linecap:square;stroke-linejoin:miter;stroke-width:0.8;\"/>\n   </g>\n   <g id=\"patch_9\">\n    <path d=\"M 167.045283 93.384163 \nL 167.045283 22.318125 \n\" style=\"fill:none;stroke:#000000;stroke-linecap:square;stroke-linejoin:miter;stroke-width:0.8;\"/>\n   </g>\n   <g id=\"patch_10\">\n    <path d=\"M 95.979245 93.384163 \nL 167.045283 93.384163 \n\" style=\"fill:none;stroke:#000000;stroke-linecap:square;stroke-linejoin:miter;stroke-width:0.8;\"/>\n   </g>\n   <g id=\"patch_11\">\n    <path d=\"M 95.979245 22.318125 \nL 167.045283 22.318125 \n\" style=\"fill:none;stroke:#000000;stroke-linecap:square;stroke-linejoin:miter;stroke-width:0.8;\"/>\n   </g>\n   <g id=\"text_2\">\n    <!-- t-shirt -->\n    <g transform=\"translate(113.581639 16.318125)scale(0.12 -0.12)\">\n     <defs>\n      <path d=\"M 4.890625 31.390625 \nL 31.203125 31.390625 \nL 31.203125 23.390625 \nL 4.890625 23.390625 \nz\n\" id=\"DejaVuSans-45\"/>\n      <path d=\"M 44.28125 53.078125 \nL 44.28125 44.578125 \nQ 40.484375 46.53125 36.375 47.5 \nQ 32.28125 48.484375 27.875 48.484375 \nQ 21.1875 48.484375 17.84375 46.4375 \nQ 14.5 44.390625 14.5 40.28125 \nQ 14.5 37.15625 16.890625 35.375 \nQ 19.28125 33.59375 26.515625 31.984375 \nL 29.59375 31.296875 \nQ 39.15625 29.25 43.1875 25.515625 \nQ 47.21875 21.78125 47.21875 15.09375 \nQ 47.21875 7.46875 41.1875 3.015625 \nQ 35.15625 -1.421875 24.609375 -1.421875 \nQ 20.21875 -1.421875 15.453125 -0.5625 \nQ 10.6875 0.296875 5.421875 2 \nL 5.421875 11.28125 \nQ 10.40625 8.6875 15.234375 7.390625 \nQ 20.0625 6.109375 24.8125 6.109375 \nQ 31.15625 6.109375 34.5625 8.28125 \nQ 37.984375 10.453125 37.984375 14.40625 \nQ 37.984375 18.0625 35.515625 20.015625 \nQ 33.0625 21.96875 24.703125 23.78125 \nL 21.578125 24.515625 \nQ 13.234375 26.265625 9.515625 29.90625 \nQ 5.8125 33.546875 5.8125 39.890625 \nQ 5.8125 47.609375 11.28125 51.796875 \nQ 16.75 56 26.8125 56 \nQ 31.78125 56 36.171875 55.265625 \nQ 40.578125 54.546875 44.28125 53.078125 \nz\n\" id=\"DejaVuSans-115\"/>\n      <path d=\"M 54.890625 33.015625 \nL 54.890625 0 \nL 45.90625 0 \nL 45.90625 32.71875 \nQ 45.90625 40.484375 42.875 44.328125 \nQ 39.84375 48.1875 33.796875 48.1875 \nQ 26.515625 48.1875 22.3125 43.546875 \nQ 18.109375 38.921875 18.109375 30.90625 \nL 18.109375 0 \nL 9.078125 0 \nL 9.078125 75.984375 \nL 18.109375 75.984375 \nL 18.109375 46.1875 \nQ 21.34375 51.125 25.703125 53.5625 \nQ 30.078125 56 35.796875 56 \nQ 45.21875 56 50.046875 50.171875 \nQ 54.890625 44.34375 54.890625 33.015625 \nz\n\" id=\"DejaVuSans-104\"/>\n      <path d=\"M 9.421875 54.6875 \nL 18.40625 54.6875 \nL 18.40625 0 \nL 9.421875 0 \nz\nM 9.421875 75.984375 \nL 18.40625 75.984375 \nL 18.40625 64.59375 \nL 9.421875 64.59375 \nz\n\" id=\"DejaVuSans-105\"/>\n      <path d=\"M 41.109375 46.296875 \nQ 39.59375 47.171875 37.8125 47.578125 \nQ 36.03125 48 33.890625 48 \nQ 26.265625 48 22.1875 43.046875 \nQ 18.109375 38.09375 18.109375 28.8125 \nL 18.109375 0 \nL 9.078125 0 \nL 9.078125 54.6875 \nL 18.109375 54.6875 \nL 18.109375 46.1875 \nQ 20.953125 51.171875 25.484375 53.578125 \nQ 30.03125 56 36.53125 56 \nQ 37.453125 56 38.578125 55.875 \nQ 39.703125 55.765625 41.0625 55.515625 \nz\n\" id=\"DejaVuSans-114\"/>\n     </defs>\n     <use xlink:href=\"#DejaVuSans-116\"/>\n     <use x=\"39.208984\" xlink:href=\"#DejaVuSans-45\"/>\n     <use x=\"75.292969\" xlink:href=\"#DejaVuSans-115\"/>\n     <use x=\"127.392578\" xlink:href=\"#DejaVuSans-104\"/>\n     <use x=\"190.771484\" xlink:href=\"#DejaVuSans-105\"/>\n     <use x=\"218.554688\" xlink:href=\"#DejaVuSans-114\"/>\n     <use x=\"259.667969\" xlink:href=\"#DejaVuSans-116\"/>\n    </g>\n   </g>\n  </g>\n  <g id=\"axes_3\">\n   <g id=\"patch_12\">\n    <path d=\"M 181.258491 93.384163 \nL 252.324528 93.384163 \nL 252.324528 22.318125 \nL 181.258491 22.318125 \nz\n\" style=\"fill:#ffffff;\"/>\n   </g>\n   <g clip-path=\"url(#peb1749a2b7)\">\n    <image height=\"72\" id=\"imagefa6cddea9d\" transform=\"scale(1 -1)translate(0 -72)\" width=\"72\" x=\"181.258491\" xlink:href=\"data:image/png;base64,\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\" y=\"-21.384163\"/>\n   </g>\n   <g id=\"patch_13\">\n    <path d=\"M 181.258491 93.384163 \nL 181.258491 22.318125 \n\" style=\"fill:none;stroke:#000000;stroke-linecap:square;stroke-linejoin:miter;stroke-width:0.8;\"/>\n   </g>\n   <g id=\"patch_14\">\n    <path d=\"M 252.324528 93.384163 \nL 252.324528 22.318125 \n\" style=\"fill:none;stroke:#000000;stroke-linecap:square;stroke-linejoin:miter;stroke-width:0.8;\"/>\n   </g>\n   <g id=\"patch_15\">\n    <path d=\"M 181.258491 93.384163 \nL 252.324528 93.384163 \n\" style=\"fill:none;stroke:#000000;stroke-linecap:square;stroke-linejoin:miter;stroke-width:0.8;\"/>\n   </g>\n   <g id=\"patch_16\">\n    <path d=\"M 181.258491 22.318125 \nL 252.324528 22.318125 \n\" style=\"fill:none;stroke:#000000;stroke-linecap:square;stroke-linejoin:miter;stroke-width:0.8;\"/>\n   </g>\n   <g id=\"text_3\">\n    <!-- t-shirt -->\n    <g transform=\"translate(198.860884 16.318125)scale(0.12 -0.12)\">\n     <use xlink:href=\"#DejaVuSans-116\"/>\n     <use x=\"39.208984\" xlink:href=\"#DejaVuSans-45\"/>\n     <use x=\"75.292969\" xlink:href=\"#DejaVuSans-115\"/>\n     <use x=\"127.392578\" xlink:href=\"#DejaVuSans-104\"/>\n     <use x=\"190.771484\" xlink:href=\"#DejaVuSans-105\"/>\n     <use x=\"218.554688\" xlink:href=\"#DejaVuSans-114\"/>\n     <use x=\"259.667969\" xlink:href=\"#DejaVuSans-116\"/>\n    </g>\n   </g>\n  </g>\n  <g id=\"axes_4\">\n   <g id=\"patch_17\">\n    <path d=\"M 266.537736 93.384163 \nL 337.603774 93.384163 \nL 337.603774 22.318125 \nL 266.537736 22.318125 \nz\n\" style=\"fill:#ffffff;\"/>\n   </g>\n   <g clip-path=\"url(#p5310c5b63a)\">\n    <image height=\"72\" id=\"image37d625594f\" transform=\"scale(1 -1)translate(0 -72)\" width=\"72\" x=\"266.537736\" xlink:href=\"data:image/png;base64,\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\" y=\"-21.384163\"/>\n   </g>\n   <g id=\"patch_18\">\n    <path d=\"M 266.537736 93.384163 \nL 266.537736 22.318125 \n\" style=\"fill:none;stroke:#000000;stroke-linecap:square;stroke-linejoin:miter;stroke-width:0.8;\"/>\n   </g>\n   <g id=\"patch_19\">\n    <path d=\"M 337.603774 93.384163 \nL 337.603774 22.318125 \n\" style=\"fill:none;stroke:#000000;stroke-linecap:square;stroke-linejoin:miter;stroke-width:0.8;\"/>\n   </g>\n   <g id=\"patch_20\">\n    <path d=\"M 266.537736 93.384163 \nL 337.603774 93.384163 \n\" style=\"fill:none;stroke:#000000;stroke-linecap:square;stroke-linejoin:miter;stroke-width:0.8;\"/>\n   </g>\n   <g id=\"patch_21\">\n    <path d=\"M 266.537736 22.318125 \nL 337.603774 22.318125 \n\" style=\"fill:none;stroke:#000000;stroke-linecap:square;stroke-linejoin:miter;stroke-width:0.8;\"/>\n   </g>\n   <g id=\"text_4\">\n    <!-- dress -->\n    <g transform=\"translate(285.987005 16.318125)scale(0.12 -0.12)\">\n     <defs>\n      <path d=\"M 45.40625 46.390625 \nL 45.40625 75.984375 \nL 54.390625 75.984375 \nL 54.390625 0 \nL 45.40625 0 \nL 45.40625 8.203125 \nQ 42.578125 3.328125 38.25 0.953125 \nQ 33.9375 -1.421875 27.875 -1.421875 \nQ 17.96875 -1.421875 11.734375 6.484375 \nQ 5.515625 14.40625 5.515625 27.296875 \nQ 5.515625 40.1875 11.734375 48.09375 \nQ 17.96875 56 27.875 56 \nQ 33.9375 56 38.25 53.625 \nQ 42.578125 51.265625 45.40625 46.390625 \nz\nM 14.796875 27.296875 \nQ 14.796875 17.390625 18.875 11.75 \nQ 22.953125 6.109375 30.078125 6.109375 \nQ 37.203125 6.109375 41.296875 11.75 \nQ 45.40625 17.390625 45.40625 27.296875 \nQ 45.40625 37.203125 41.296875 42.84375 \nQ 37.203125 48.484375 30.078125 48.484375 \nQ 22.953125 48.484375 18.875 42.84375 \nQ 14.796875 37.203125 14.796875 27.296875 \nz\n\" id=\"DejaVuSans-100\"/>\n     </defs>\n     <use xlink:href=\"#DejaVuSans-100\"/>\n     <use x=\"63.476562\" xlink:href=\"#DejaVuSans-114\"/>\n     <use x=\"102.339844\" xlink:href=\"#DejaVuSans-101\"/>\n     <use x=\"163.863281\" xlink:href=\"#DejaVuSans-115\"/>\n     <use x=\"215.962891\" xlink:href=\"#DejaVuSans-115\"/>\n    </g>\n   </g>\n  </g>\n  <g id=\"axes_5\">\n   <g id=\"patch_22\">\n    <path d=\"M 351.816981 93.384163 \nL 422.883019 93.384163 \nL 422.883019 22.318125 \nL 351.816981 22.318125 \nz\n\" style=\"fill:#ffffff;\"/>\n   </g>\n   <g clip-path=\"url(#p5c35d63d4a)\">\n    <image height=\"72\" id=\"imageb3e29df245\" transform=\"scale(1 -1)translate(0 -72)\" width=\"72\" x=\"351.816981\" xlink:href=\"data:image/png;base64,\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\" y=\"-21.384163\"/>\n   </g>\n   <g id=\"patch_23\">\n    <path d=\"M 351.816981 93.384163 \nL 351.816981 22.318125 \n\" style=\"fill:none;stroke:#000000;stroke-linecap:square;stroke-linejoin:miter;stroke-width:0.8;\"/>\n   </g>\n   <g id=\"patch_24\">\n    <path d=\"M 422.883019 93.384163 \nL 422.883019 22.318125 \n\" style=\"fill:none;stroke:#000000;stroke-linecap:square;stroke-linejoin:miter;stroke-width:0.8;\"/>\n   </g>\n   <g id=\"patch_25\">\n    <path d=\"M 351.816981 93.384163 \nL 422.883019 93.384163 \n\" style=\"fill:none;stroke:#000000;stroke-linecap:square;stroke-linejoin:miter;stroke-width:0.8;\"/>\n   </g>\n   <g id=\"patch_26\">\n    <path d=\"M 351.816981 22.318125 \nL 422.883019 22.318125 \n\" style=\"fill:none;stroke:#000000;stroke-linecap:square;stroke-linejoin:miter;stroke-width:0.8;\"/>\n   </g>\n   <g id=\"text_5\">\n    <!-- t-shirt -->\n    <g transform=\"translate(369.419375 16.318125)scale(0.12 -0.12)\">\n     <use xlink:href=\"#DejaVuSans-116\"/>\n     <use x=\"39.208984\" xlink:href=\"#DejaVuSans-45\"/>\n     <use x=\"75.292969\" xlink:href=\"#DejaVuSans-115\"/>\n     <use x=\"127.392578\" xlink:href=\"#DejaVuSans-104\"/>\n     <use x=\"190.771484\" xlink:href=\"#DejaVuSans-105\"/>\n     <use x=\"218.554688\" xlink:href=\"#DejaVuSans-114\"/>\n     <use x=\"259.667969\" xlink:href=\"#DejaVuSans-116\"/>\n    </g>\n   </g>\n  </g>\n  <g id=\"axes_6\">\n   <g id=\"patch_27\">\n    <path d=\"M 437.096226 93.384163 \nL 508.162264 93.384163 \nL 508.162264 22.318125 \nL 437.096226 22.318125 \nz\n\" style=\"fill:#ffffff;\"/>\n   </g>\n   <g clip-path=\"url(#p994a5849e5)\">\n    <image height=\"72\" id=\"image9526ea5786\" transform=\"scale(1 -1)translate(0 -72)\" width=\"72\" x=\"437.096226\" xlink:href=\"data:image/png;base64,\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\" y=\"-21.384163\"/>\n   </g>\n   <g id=\"patch_28\">\n    <path d=\"M 437.096226 93.384163 \nL 437.096226 22.318125 \n\" style=\"fill:none;stroke:#000000;stroke-linecap:square;stroke-linejoin:miter;stroke-width:0.8;\"/>\n   </g>\n   <g id=\"patch_29\">\n    <path d=\"M 508.162264 93.384163 \nL 508.162264 22.318125 \n\" style=\"fill:none;stroke:#000000;stroke-linecap:square;stroke-linejoin:miter;stroke-width:0.8;\"/>\n   </g>\n   <g id=\"patch_30\">\n    <path d=\"M 437.096226 93.384163 \nL 508.162264 93.384163 \n\" style=\"fill:none;stroke:#000000;stroke-linecap:square;stroke-linejoin:miter;stroke-width:0.8;\"/>\n   </g>\n   <g id=\"patch_31\">\n    <path d=\"M 437.096226 22.318125 \nL 508.162264 22.318125 \n\" style=\"fill:none;stroke:#000000;stroke-linecap:square;stroke-linejoin:miter;stroke-width:0.8;\"/>\n   </g>\n   <g id=\"text_6\">\n    <!-- pullover -->\n    <g transform=\"translate(448.302995 16.318125)scale(0.12 -0.12)\">\n     <defs>\n      <path d=\"M 18.109375 8.203125 \nL 18.109375 -20.796875 \nL 9.078125 -20.796875 \nL 9.078125 54.6875 \nL 18.109375 54.6875 \nL 18.109375 46.390625 \nQ 20.953125 51.265625 25.265625 53.625 \nQ 29.59375 56 35.59375 56 \nQ 45.5625 56 51.78125 48.09375 \nQ 58.015625 40.1875 58.015625 27.296875 \nQ 58.015625 14.40625 51.78125 6.484375 \nQ 45.5625 -1.421875 35.59375 -1.421875 \nQ 29.59375 -1.421875 25.265625 0.953125 \nQ 20.953125 3.328125 18.109375 8.203125 \nz\nM 48.6875 27.296875 \nQ 48.6875 37.203125 44.609375 42.84375 \nQ 40.53125 48.484375 33.40625 48.484375 \nQ 26.265625 48.484375 22.1875 42.84375 \nQ 18.109375 37.203125 18.109375 27.296875 \nQ 18.109375 17.390625 22.1875 11.75 \nQ 26.265625 6.109375 33.40625 6.109375 \nQ 40.53125 6.109375 44.609375 11.75 \nQ 48.6875 17.390625 48.6875 27.296875 \nz\n\" id=\"DejaVuSans-112\"/>\n      <path d=\"M 8.5 21.578125 \nL 8.5 54.6875 \nL 17.484375 54.6875 \nL 17.484375 21.921875 \nQ 17.484375 14.15625 20.5 10.265625 \nQ 23.53125 6.390625 29.59375 6.390625 \nQ 36.859375 6.390625 41.078125 11.03125 \nQ 45.3125 15.671875 45.3125 23.6875 \nL 45.3125 54.6875 \nL 54.296875 54.6875 \nL 54.296875 0 \nL 45.3125 0 \nL 45.3125 8.40625 \nQ 42.046875 3.421875 37.71875 1 \nQ 33.40625 -1.421875 27.6875 -1.421875 \nQ 18.265625 -1.421875 13.375 4.4375 \nQ 8.5 10.296875 8.5 21.578125 \nz\nM 31.109375 56 \nz\n\" id=\"DejaVuSans-117\"/>\n      <path d=\"M 2.984375 54.6875 \nL 12.5 54.6875 \nL 29.59375 8.796875 \nL 46.6875 54.6875 \nL 56.203125 54.6875 \nL 35.6875 0 \nL 23.484375 0 \nz\n\" id=\"DejaVuSans-118\"/>\n     </defs>\n     <use xlink:href=\"#DejaVuSans-112\"/>\n     <use x=\"63.476562\" xlink:href=\"#DejaVuSans-117\"/>\n     <use x=\"126.855469\" xlink:href=\"#DejaVuSans-108\"/>\n     <use x=\"154.638672\" xlink:href=\"#DejaVuSans-108\"/>\n     <use x=\"182.421875\" xlink:href=\"#DejaVuSans-111\"/>\n     <use x=\"243.603516\" xlink:href=\"#DejaVuSans-118\"/>\n     <use x=\"302.783203\" xlink:href=\"#DejaVuSans-101\"/>\n     <use x=\"364.306641\" xlink:href=\"#DejaVuSans-114\"/>\n    </g>\n   </g>\n  </g>\n  <g id=\"axes_7\">\n   <g id=\"patch_32\">\n    <path d=\"M 522.375472 93.384163 \nL 593.441509 93.384163 \nL 593.441509 22.318125 \nL 522.375472 22.318125 \nz\n\" style=\"fill:#ffffff;\"/>\n   </g>\n   <g clip-path=\"url(#p8c92da897f)\">\n    <image height=\"72\" id=\"imaged71d01efd8\" transform=\"scale(1 -1)translate(0 -72)\" width=\"72\" x=\"522.375472\" xlink:href=\"data:image/png;base64,\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\" y=\"-21.384163\"/>\n   </g>\n   <g id=\"patch_33\">\n    <path d=\"M 522.375472 93.384163 \nL 522.375472 22.318125 \n\" style=\"fill:none;stroke:#000000;stroke-linecap:square;stroke-linejoin:miter;stroke-width:0.8;\"/>\n   </g>\n   <g id=\"patch_34\">\n    <path d=\"M 593.441509 93.384163 \nL 593.441509 22.318125 \n\" style=\"fill:none;stroke:#000000;stroke-linecap:square;stroke-linejoin:miter;stroke-width:0.8;\"/>\n   </g>\n   <g id=\"patch_35\">\n    <path d=\"M 522.375472 93.384163 \nL 593.441509 93.384163 \n\" style=\"fill:none;stroke:#000000;stroke-linecap:square;stroke-linejoin:miter;stroke-width:0.8;\"/>\n   </g>\n   <g id=\"patch_36\">\n    <path d=\"M 522.375472 22.318125 \nL 593.441509 22.318125 \n\" style=\"fill:none;stroke:#000000;stroke-linecap:square;stroke-linejoin:miter;stroke-width:0.8;\"/>\n   </g>\n   <g id=\"text_7\">\n    <!-- sneaker -->\n    <g transform=\"translate(534.196303 16.318125)scale(0.12 -0.12)\">\n     <use xlink:href=\"#DejaVuSans-115\"/>\n     <use x=\"52.099609\" xlink:href=\"#DejaVuSans-110\"/>\n     <use x=\"115.478516\" xlink:href=\"#DejaVuSans-101\"/>\n     <use x=\"177.001953\" xlink:href=\"#DejaVuSans-97\"/>\n     <use x=\"238.28125\" xlink:href=\"#DejaVuSans-107\"/>\n     <use x=\"292.566406\" xlink:href=\"#DejaVuSans-101\"/>\n     <use x=\"354.089844\" xlink:href=\"#DejaVuSans-114\"/>\n    </g>\n   </g>\n  </g>\n  <g id=\"axes_8\">\n   <g id=\"patch_37\">\n    <path d=\"M 607.654717 93.384163 \nL 678.720755 93.384163 \nL 678.720755 22.318125 \nL 607.654717 22.318125 \nz\n\" style=\"fill:#ffffff;\"/>\n   </g>\n   <g clip-path=\"url(#pf64a6664d7)\">\n    <image height=\"72\" id=\"imagee99a741b98\" transform=\"scale(1 -1)translate(0 -72)\" width=\"72\" x=\"607.654717\" xlink:href=\"data:image/png;base64,\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\" y=\"-21.384163\"/>\n   </g>\n   <g id=\"patch_38\">\n    <path d=\"M 607.654717 93.384163 \nL 607.654717 22.318125 \n\" style=\"fill:none;stroke:#000000;stroke-linecap:square;stroke-linejoin:miter;stroke-width:0.8;\"/>\n   </g>\n   <g id=\"patch_39\">\n    <path d=\"M 678.720755 93.384163 \nL 678.720755 22.318125 \n\" style=\"fill:none;stroke:#000000;stroke-linecap:square;stroke-linejoin:miter;stroke-width:0.8;\"/>\n   </g>\n   <g id=\"patch_40\">\n    <path d=\"M 607.654717 93.384163 \nL 678.720755 93.384163 \n\" style=\"fill:none;stroke:#000000;stroke-linecap:square;stroke-linejoin:miter;stroke-width:0.8;\"/>\n   </g>\n   <g id=\"patch_41\">\n    <path d=\"M 607.654717 22.318125 \nL 678.720755 22.318125 \n\" style=\"fill:none;stroke:#000000;stroke-linecap:square;stroke-linejoin:miter;stroke-width:0.8;\"/>\n   </g>\n   <g id=\"text_8\">\n    <!-- pullover -->\n    <g transform=\"translate(618.861486 16.318125)scale(0.12 -0.12)\">\n     <use xlink:href=\"#DejaVuSans-112\"/>\n     <use x=\"63.476562\" xlink:href=\"#DejaVuSans-117\"/>\n     <use x=\"126.855469\" xlink:href=\"#DejaVuSans-108\"/>\n     <use x=\"154.638672\" xlink:href=\"#DejaVuSans-108\"/>\n     <use x=\"182.421875\" xlink:href=\"#DejaVuSans-111\"/>\n     <use x=\"243.603516\" xlink:href=\"#DejaVuSans-118\"/>\n     <use x=\"302.783203\" xlink:href=\"#DejaVuSans-101\"/>\n     <use x=\"364.306641\" xlink:href=\"#DejaVuSans-114\"/>\n    </g>\n   </g>\n  </g>\n  <g id=\"axes_9\">\n   <g id=\"patch_42\">\n    <path d=\"M 692.933962 93.384163 \nL 764 93.384163 \nL 764 22.318125 \nL 692.933962 22.318125 \nz\n\" style=\"fill:#ffffff;\"/>\n   </g>\n   <g clip-path=\"url(#p561e2e2a0c)\">\n    <image height=\"72\" id=\"image849b64f41f\" transform=\"scale(1 -1)translate(0 -72)\" width=\"72\" x=\"692.933962\" xlink:href=\"data:image/png;base64,\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\" y=\"-21.384163\"/>\n   </g>\n   <g id=\"patch_43\">\n    <path d=\"M 692.933962 93.384163 \nL 692.933962 22.318125 \n\" style=\"fill:none;stroke:#000000;stroke-linecap:square;stroke-linejoin:miter;stroke-width:0.8;\"/>\n   </g>\n   <g id=\"patch_44\">\n    <path d=\"M 764 93.384163 \nL 764 22.318125 \n\" style=\"fill:none;stroke:#000000;stroke-linecap:square;stroke-linejoin:miter;stroke-width:0.8;\"/>\n   </g>\n   <g id=\"patch_45\">\n    <path d=\"M 692.933962 93.384163 \nL 764 93.384163 \n\" style=\"fill:none;stroke:#000000;stroke-linecap:square;stroke-linejoin:miter;stroke-width:0.8;\"/>\n   </g>\n   <g id=\"patch_46\">\n    <path d=\"M 692.933962 22.318125 \nL 764 22.318125 \n\" style=\"fill:none;stroke:#000000;stroke-linecap:square;stroke-linejoin:miter;stroke-width:0.8;\"/>\n   </g>\n   <g id=\"text_9\">\n    <!-- sandal -->\n    <g transform=\"translate(708.709169 16.318125)scale(0.12 -0.12)\">\n     <use xlink:href=\"#DejaVuSans-115\"/>\n     <use x=\"52.099609\" xlink:href=\"#DejaVuSans-97\"/>\n     <use x=\"113.378906\" xlink:href=\"#DejaVuSans-110\"/>\n     <use x=\"176.757812\" xlink:href=\"#DejaVuSans-100\"/>\n     <use x=\"240.234375\" xlink:href=\"#DejaVuSans-97\"/>\n     <use x=\"301.513672\" xlink:href=\"#DejaVuSans-108\"/>\n    </g>\n   </g>\n  </g>\n  <g id=\"axes_10\">\n   <g id=\"patch_47\">\n    <path d=\"M 10.7 182.33689 \nL 81.766038 182.33689 \nL 81.766038 111.270852 \nL 10.7 111.270852 \nz\n\" style=\"fill:#ffffff;\"/>\n   </g>\n   <g clip-path=\"url(#pf9544be5ee)\">\n    <image height=\"72\" id=\"image4205f6d72b\" transform=\"scale(1 -1)translate(0 -72)\" width=\"72\" x=\"10.7\" xlink:href=\"data:image/png;base64,\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\" y=\"-110.33689\"/>\n   </g>\n   <g id=\"patch_48\">\n    <path d=\"M 10.7 182.33689 \nL 10.7 111.270852 \n\" style=\"fill:none;stroke:#000000;stroke-linecap:square;stroke-linejoin:miter;stroke-width:0.8;\"/>\n   </g>\n   <g id=\"patch_49\">\n    <path d=\"M 81.766038 182.33689 \nL 81.766038 111.270852 \n\" style=\"fill:none;stroke:#000000;stroke-linecap:square;stroke-linejoin:miter;stroke-width:0.8;\"/>\n   </g>\n   <g id=\"patch_50\">\n    <path d=\"M 10.7 182.33689 \nL 81.766038 182.33689 \n\" style=\"fill:none;stroke:#000000;stroke-linecap:square;stroke-linejoin:miter;stroke-width:0.8;\"/>\n   </g>\n   <g id=\"patch_51\">\n    <path d=\"M 10.7 111.270852 \nL 81.766038 111.270852 \n\" style=\"fill:none;stroke:#000000;stroke-linecap:square;stroke-linejoin:miter;stroke-width:0.8;\"/>\n   </g>\n   <g id=\"text_10\">\n    <!-- sandal -->\n    <g transform=\"translate(26.475206 105.270852)scale(0.12 -0.12)\">\n     <use xlink:href=\"#DejaVuSans-115\"/>\n     <use x=\"52.099609\" xlink:href=\"#DejaVuSans-97\"/>\n     <use x=\"113.378906\" xlink:href=\"#DejaVuSans-110\"/>\n     <use x=\"176.757812\" xlink:href=\"#DejaVuSans-100\"/>\n     <use x=\"240.234375\" xlink:href=\"#DejaVuSans-97\"/>\n     <use x=\"301.513672\" xlink:href=\"#DejaVuSans-108\"/>\n    </g>\n   </g>\n  </g>\n  <g id=\"axes_11\">\n   <g id=\"patch_52\">\n    <path d=\"M 95.979245 182.33689 \nL 167.045283 182.33689 \nL 167.045283 111.270852 \nL 95.979245 111.270852 \nz\n\" style=\"fill:#ffffff;\"/>\n   </g>\n   <g clip-path=\"url(#p1a616813f4)\">\n    <image height=\"72\" id=\"image03a6eee9b6\" transform=\"scale(1 -1)translate(0 -72)\" width=\"72\" x=\"95.979245\" xlink:href=\"data:image/png;base64,\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\" y=\"-110.33689\"/>\n   </g>\n   <g id=\"patch_53\">\n    <path d=\"M 95.979245 182.33689 \nL 95.979245 111.270852 \n\" style=\"fill:none;stroke:#000000;stroke-linecap:square;stroke-linejoin:miter;stroke-width:0.8;\"/>\n   </g>\n   <g id=\"patch_54\">\n    <path d=\"M 167.045283 182.33689 \nL 167.045283 111.270852 \n\" style=\"fill:none;stroke:#000000;stroke-linecap:square;stroke-linejoin:miter;stroke-width:0.8;\"/>\n   </g>\n   <g id=\"patch_55\">\n    <path d=\"M 95.979245 182.33689 \nL 167.045283 182.33689 \n\" style=\"fill:none;stroke:#000000;stroke-linecap:square;stroke-linejoin:miter;stroke-width:0.8;\"/>\n   </g>\n   <g id=\"patch_56\">\n    <path d=\"M 95.979245 111.270852 \nL 167.045283 111.270852 \n\" style=\"fill:none;stroke:#000000;stroke-linecap:square;stroke-linejoin:miter;stroke-width:0.8;\"/>\n   </g>\n   <g id=\"text_11\">\n    <!-- t-shirt -->\n    <g transform=\"translate(113.581639 105.270852)scale(0.12 -0.12)\">\n     <use xlink:href=\"#DejaVuSans-116\"/>\n     <use x=\"39.208984\" xlink:href=\"#DejaVuSans-45\"/>\n     <use x=\"75.292969\" xlink:href=\"#DejaVuSans-115\"/>\n     <use x=\"127.392578\" xlink:href=\"#DejaVuSans-104\"/>\n     <use x=\"190.771484\" xlink:href=\"#DejaVuSans-105\"/>\n     <use x=\"218.554688\" xlink:href=\"#DejaVuSans-114\"/>\n     <use x=\"259.667969\" xlink:href=\"#DejaVuSans-116\"/>\n    </g>\n   </g>\n  </g>\n  <g id=\"axes_12\">\n   <g id=\"patch_57\">\n    <path d=\"M 181.258491 182.33689 \nL 252.324528 182.33689 \nL 252.324528 111.270852 \nL 181.258491 111.270852 \nz\n\" style=\"fill:#ffffff;\"/>\n   </g>\n   <g clip-path=\"url(#p451abea1b2)\">\n    <image height=\"72\" id=\"imagefc01f435e1\" transform=\"scale(1 -1)translate(0 -72)\" width=\"72\" x=\"181.258491\" xlink:href=\"data:image/png;base64,\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\" y=\"-110.33689\"/>\n   </g>\n   <g id=\"patch_58\">\n    <path d=\"M 181.258491 182.33689 \nL 181.258491 111.270852 \n\" style=\"fill:none;stroke:#000000;stroke-linecap:square;stroke-linejoin:miter;stroke-width:0.8;\"/>\n   </g>\n   <g id=\"patch_59\">\n    <path d=\"M 252.324528 182.33689 \nL 252.324528 111.270852 \n\" style=\"fill:none;stroke:#000000;stroke-linecap:square;stroke-linejoin:miter;stroke-width:0.8;\"/>\n   </g>\n   <g id=\"patch_60\">\n    <path d=\"M 181.258491 182.33689 \nL 252.324528 182.33689 \n\" style=\"fill:none;stroke:#000000;stroke-linecap:square;stroke-linejoin:miter;stroke-width:0.8;\"/>\n   </g>\n   <g id=\"patch_61\">\n    <path d=\"M 181.258491 111.270852 \nL 252.324528 111.270852 \n\" style=\"fill:none;stroke:#000000;stroke-linecap:square;stroke-linejoin:miter;stroke-width:0.8;\"/>\n   </g>\n   <g id=\"text_12\">\n    <!-- ankle boot -->\n    <g transform=\"translate(185.068384 105.270852)scale(0.12 -0.12)\">\n     <use xlink:href=\"#DejaVuSans-97\"/>\n     <use x=\"61.279297\" xlink:href=\"#DejaVuSans-110\"/>\n     <use x=\"124.658203\" xlink:href=\"#DejaVuSans-107\"/>\n     <use x=\"182.568359\" xlink:href=\"#DejaVuSans-108\"/>\n     <use x=\"210.351562\" xlink:href=\"#DejaVuSans-101\"/>\n     <use x=\"271.875\" xlink:href=\"#DejaVuSans-32\"/>\n     <use x=\"303.662109\" xlink:href=\"#DejaVuSans-98\"/>\n     <use x=\"367.138672\" xlink:href=\"#DejaVuSans-111\"/>\n     <use x=\"428.320312\" xlink:href=\"#DejaVuSans-111\"/>\n     <use x=\"489.501953\" xlink:href=\"#DejaVuSans-116\"/>\n    </g>\n   </g>\n  </g>\n  <g id=\"axes_13\">\n   <g id=\"patch_62\">\n    <path d=\"M 266.537736 182.33689 \nL 337.603774 182.33689 \nL 337.603774 111.270852 \nL 266.537736 111.270852 \nz\n\" style=\"fill:#ffffff;\"/>\n   </g>\n   <g clip-path=\"url(#p0cb8140919)\">\n    <image height=\"72\" id=\"imagefd45892047\" transform=\"scale(1 -1)translate(0 -72)\" width=\"72\" x=\"266.537736\" xlink:href=\"data:image/png;base64,\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\" y=\"-110.33689\"/>\n   </g>\n   <g id=\"patch_63\">\n    <path d=\"M 266.537736 182.33689 \nL 266.537736 111.270852 \n\" style=\"fill:none;stroke:#000000;stroke-linecap:square;stroke-linejoin:miter;stroke-width:0.8;\"/>\n   </g>\n   <g id=\"patch_64\">\n    <path d=\"M 337.603774 182.33689 \nL 337.603774 111.270852 \n\" style=\"fill:none;stroke:#000000;stroke-linecap:square;stroke-linejoin:miter;stroke-width:0.8;\"/>\n   </g>\n   <g id=\"patch_65\">\n    <path d=\"M 266.537736 182.33689 \nL 337.603774 182.33689 \n\" style=\"fill:none;stroke:#000000;stroke-linecap:square;stroke-linejoin:miter;stroke-width:0.8;\"/>\n   </g>\n   <g id=\"patch_66\">\n    <path d=\"M 266.537736 111.270852 \nL 337.603774 111.270852 \n\" style=\"fill:none;stroke:#000000;stroke-linecap:square;stroke-linejoin:miter;stroke-width:0.8;\"/>\n   </g>\n   <g id=\"text_13\">\n    <!-- sandal -->\n    <g transform=\"translate(282.312942 105.270852)scale(0.12 -0.12)\">\n     <use xlink:href=\"#DejaVuSans-115\"/>\n     <use x=\"52.099609\" xlink:href=\"#DejaVuSans-97\"/>\n     <use x=\"113.378906\" xlink:href=\"#DejaVuSans-110\"/>\n     <use x=\"176.757812\" xlink:href=\"#DejaVuSans-100\"/>\n     <use x=\"240.234375\" xlink:href=\"#DejaVuSans-97\"/>\n     <use x=\"301.513672\" xlink:href=\"#DejaVuSans-108\"/>\n    </g>\n   </g>\n  </g>\n  <g id=\"axes_14\">\n   <g id=\"patch_67\">\n    <path d=\"M 351.816981 182.33689 \nL 422.883019 182.33689 \nL 422.883019 111.270852 \nL 351.816981 111.270852 \nz\n\" style=\"fill:#ffffff;\"/>\n   </g>\n   <g clip-path=\"url(#p4b3d35850c)\">\n    <image height=\"72\" id=\"imagee494c87343\" transform=\"scale(1 -1)translate(0 -72)\" width=\"72\" x=\"351.816981\" xlink:href=\"data:image/png;base64,\niVBORw0KGgoAAAANSUhEUgAAAEgAAABICAYAAABV7bNHAAAPlklEQVR4nO2bS5Nkx1XHf+dk5r23Hl093TPyPCRZRoRlYxAOHgFm5SAgggVbvg9fgA2fAzasWLAmMBFEGDAmbMlYkqWZ0Wimp1/1uI/MPCzy9mNmJNVIINuL+kd0VPetuvn45cmT55xbLX8uf2Xs9JnSX/UAft21A7RFO0BbtAO0RTtAW7QDtEU7QFu0A7RFO0BbtAO0RTtAW7QDtEU7QFu0A7RFO0BbtAO0RTtAW7QDtEX+Vz2Ar1wiL16zl68yfzFAIiCKOAcq5dU5xCl4DzIapAoiUq45hWyQ8/iego6DzlZ+dw7z7pnJSD9A24EZljJYLu2P94r35fPeYWH8/ToMs/LjXenz+vWUISUkG6RU/o6RvFpDSljfYzF+QUAXcIJHqqpAqWskhDLISQ2qmAgomCppGjCnSDZkSGV8XjF9dlXT1JPqMgkb5xLOE+Gsg2RoHwtgVcwVELny5KBYUIapH/sUzAEGGg0MciWkqjQquVxzveG6jCRD+4ykjFsP6FHA+h7Ol9cAqSsL29RIXZcVUne1UuOq2GiWogpVABGsrsjBg1fSJJTBOykDVSFOHOavDRjI/uL9EYYIKZTryBWgOFHi1CHZyr2jtZkKJmXi5oRUCf1sBHPB3UBjec0BcpDL62KGRnBdadu3husM3QuEaUD7hPs4YEMEy3i3mIMo9vpt1q/vkWplmJaOTcAciIFrC/mLQZiUSWVfPpMaITvIFaQKUMjBMMc1GGBa2siNIYsecUbaeOi0tO2tdJil/CClMxsBXEAQAzXcbOD24RmNj7TR00dPTMq6D+QsiBiqZXEuXs0gZyVFZTipcUuHOcVqB1G48y9zDv5ZIGc8dY2I0B9OWd7zpFro9iHX4+QckCEsBdddrUTZLpBHAGlSPp9qI09zmYAvk1CfcSGNbsIQgb1py1sHj5m4gfeXh3xyPsdpZlINODGcZrzmF3a6XnROaevV6Snfv/ETFq7lKM55mmZ0OfBJv0eXPXk0SZVMrRGVq/s3KfCfR/d4ejajqQfuLs7okufoF69yY9qMgG4dkEVobwY2t4qp5jCueAZNxVzMQWzGBfXjonorgBzkJmPOoMpoU2CoFlDOGd6PPsgEMzhbNfzg9BtYFvLaI6MFHbvRStXAXTttrh88drVQ7zS3+bfF63iX6KNnGFzpIwtmgmhGtSyKc3lcIEOAbMLqdIKtHX1d0fWenJS9ZTlUJGX85rU9EGF5z7G5l0DArRSNoFHQrowlNZArI3vI0xGGM/AZcYavIs4ZVYhMquFyLtkEHS0im9ANnpiV9dGUxX8Hwuq5I3c0muu+Q2wEZMXRioEkkAwmHqQGoMnQ2GjR9dVi52p0CVq2/nXX0cTSVq5gmAckQ31iSEzFgsTAKI5Qxy3kWkH74uhcW6wmV6Mv8Yb5DM4Qb4grgEJIOJfxLuHGrZGyYibjDEHF8G4kkITq1KjP8qWzhquTJlVSfNk1Xe6OC1D52fckl+vZCakfLduXti4PgNGlXYbIudyXq2KZksG3CWICM/zkp49AhObRnIN3JmUi49En2ZCYSY3nkz+c0u8b5kfLccWZmgmK4VwmuLKN2sETk2O1rsmD4kKmmfQEl1g0HfNZx/H9ffbf66jun1zFLxevKuRZTZoFslNyKKdXroVhoqPTLwdE9pAm5UDxrZXFTUZYZzQZEq+gazIkXTjQsauhzDNXSpw4MJh+cEo+OS0WFD/48HIVPi0oMiAcHBC+/e3itEdA4p7dGl4zlU/00TEkxzB40jIgnRIniU4zVgmNX3K7OefHBtX9E9K7P79mBmPwKYre2EcPFuAdeVqRgyPuBVKlZLiC0wj9HpfQyAa9UG8Srsu4TcStB4gZ6frLrcP4ajFBTuA9dVWVUOL4lHx+/plMXlRK+I0RzkqMlJ175sg1ZxxPq+JYRwcqSfBLRQfIayUtPasq86HBkB1urUh67pQyw7IhmmHokXULTtGYUO/QPqJ9jTkpQaKDfs+VoLSB9hXj/M1iRZNHAdeCWDVuSfDtVQAp40Hr+owOdhlkSoTZuzUsVyUOehk+lhLTx5FhFtAIflP2/8WeBrAxzchByil4LVjWCDoIOThO31rw3p2G6WOFfnixs5ywDOlsiaw2YwMldRHnqJy7vIYo07uvoN85oD1Q8vfO+Nvv/j3v97f4uwd/wJPljFvzFa/OTsimPN7M2cRQujEhmXC6aeg7T85KjoK1jlf/6Sbz9z8shvEygDBDh4zrwA1lf0u6glM+U15SI8RGSsoxyg2GbzOpUtxGGVqHDnx+0pgTltPzzb8gP5vi1/u4qTKtB/64PuaOO+O/9l/jo3CDb8yPeHv6EQnl4ewGy1Rf3juY48Fmn7O+oUuezRA439T0swXiHAb4S8f4eYMVIU4d/WIM9e8Wa/Frw2+KJeUA2QndIXS3Mq6F/XdgcpSIE2X1NUeqhTgpwaMpEDziPZbSVf/PJ5xblE/PmP6soX4y5X9+cshf3/k+2ZQHmwXRlCfdnB/xGo5MQskm1BqZup5kyn5oAVjHij45VI3UgB4ePGdBnwdKlThRhnmJmPsbGRTqJ47quASOw6zESf2rPW++/piPT/fI7y2oziLDtKK9KeS63M94zJp3JSuHy+TwsiJQpr8VUj4/h+USnc/Zf/d3+Md7v03dDNyar2j8wEk/4Wxo8JI4qDbULlITmWoBtPCby7bOpEHFSgy1mEF63gd91mBSojqJTB4rw6zMLvsSI2mE5CFNjdQYosbxekK7rpi1oG0ibDJhpUQDqzL1fku/57FZg8xnsFxdAQJEBcv28nUbMxgGqjMjf9KwmgaCS+SmLPpFoBrN0biBzvvLlGOTK6IpMRfrMgAHuQ5IzviXMuO2o/n395m8OyUdLlj9xpxYC6bF+7dBiHc79vY3nJ9NOHnvgOpEmT/sCY9O0WGOxCntgaN9e+Avf/PH/MPwXdav7zEF5OMjaNtLOF9GFiP7PznHDXPWtzzHv7fH5iBcph2I4X1JO6Z1z9dmS7xkdIw217EqkLJCDcNhU7L9l+o9J9KTI3hyhFu/wmQaiDNfShKNIlnwdeRwtub8dEJ1KlRn4NYR+gFd91SngVwJ6hJvTh4znbXEaU2aVoQQvhSUZ/yVKHq+ZvowYNpwunHEuScnwVL5XHQlD8tZqFwiuETtIpVLJNMx8gcUUq0lNPiiY7K2JTw8wdcBqzxWeerThlTPebCYsf9ImN9PZA9PfndK/N4bTJ4Yiw86/CrhfzTnb5Z/QX2/IiwH5DkLtpSKH7IXM3nUoVVAqgpu3yLvT8m1p18U+Otbju5QiDPI8x4vhi0D1VOHpJI+SYY0aXg4n2OVUd9e88piSTLBaca5TLzG/YtVFIG8WpfSJFyWXid7c159dIc8DfhPzrD7H8ObX+fBny34k7ff5Qc/fIv5AyWcDdz5VyP9h0OHnrCMJfK9DskMLH3aCEo1czZFplNW37zJ8p5n2BPWt43cGHbQMVu0OBOapKQk+DPH3gfgWqM5SbhNIs4c/VwZZsrx21NOQ8Rppg6R4BLx2jnxxYv2dnWy2Fgntq5HlxtkSMhyTdpscF2PtsrTboqpsbnpqWotZc4hIwapdqgX7MYePt95FpJ7tkYNQBXI84bUBLobjmEuxEk5PS2Mhbg8LmSWy2jVxqhf+4zfpJL0CoCivZCyomLjD6XME0ve9vKAzF5MKscj2doOPn6MOCWPhXbOltz84W1+cfQGfm58/KcRkrB4JzB7UDL4Un6F9K2GXN0sbV4vd1TjREYDy/6qqpBrI4/5oCRB1oJ1Fe3TqlQcZhH1GWqjvamEJczvG+60xS2FcKJUezUnbzX0vUNquyzUuR6qo80XBPS8RjiigqWEjcndpTYtex/1uD7w9DvCG994DMDDo7s0RyUTj41gHrpDSmxFqc3AWNFsnttqznBVLiXTvpRHZVDcsjhU6QRJQq6NodJiOc5IE0OHUraVri+ZQbZiKX0znl6lbiVSata67j8lDtqm69Hu6EQ/w11gfU/1aIV2Dama8NHkDuah7oT2sFhCnED2ZQLmSxJJlrIFkiDdmHdlynsKaTNaTZYywUHQoViRqWHOrgqOo9GXrB+Wr1XE2S3CeaT6ZAlOcAOktaczYVUPxKS4jSHna4jxS1rQp8VOz0XiueuQn/4c75RXHtxh8YtDhrnn+C1lfbcElbYXEZexqJCkQInjxHtBOrkq++aLyuLoV3ypgcsAflOsIzXFesxf1HzGR1Aehrlx8k3Q6Jl95Li1GjAnJdg986SoLKualITDpZEeP8GGLwvoJSHa0GMDyNk54ahB+wa/cuhY7UuZktQOinSKpFLNvEyEL3z0xYk/VvwYH3iYAuNDg8ts1kaf1CkWDd0UCJdmNZZbU+3GR1RX96VYAkWNlMc++WWz+ZcE8oLGh4223iAPHhNC4PbqkLhf0x0Ezr5ekSqoj43mNKPRCOcJScb6dsXqrpJq6A7KNpRkaBTMGekgUs16hs4TTwMyCH4lhDPB9RDOFddDfZZpjjpMhGHuyZWQvXD+RkOqhfYVI+8VPzGsAvSK667m8tU+mx8fU+e2g3WJnXj4MQrsvfYqOtwjNsr0QUt4eAxtRzo+wYbI4vd/izjZY5gL7S2wacKSYINg3pgfrLm3OOO4nXAkc3LnYB0IKwhLY/FBTzjrcZ+cED98gARPffc2Npuw/vqC1TcDwwyG/YSbDaTOISuPWyuui5c+9qv/8oLlT42KrW2pjzp847FK6V+/iWsjrqmh64leqZalKheWgnlXHHIPCKy7Be/Uc3Sj1E9L5bI5KsGgX2fC0xZdd9i6Lf2nhG1aBKiPKuYzpZ8pca70k/Lg0p8rfi247mq8Xy0gy+WU+5Ttl09O0R+1uEnD+o/e5PhbAbcx9u5P8KuEpsz0YUc1caS6wm8U7SCsDR1gcpQJy4hbDfgn5zBEGIZSFUgZ6zos5/K3GRYj+ehpydkeH7H4eYMs9kjNXU4bj18JzWMhrIxw0l66tK8Y0GdXCixGLEZkLHPEBjAh1YJERZcZXQ94M8I6kIPgWiOsDdcbzaMN7mkpy6bHT54pl3xenwA29LBa4WIkLO/gNoLbCGFphI0hXfolAXoJ2RCZ/uwpdzf7yJAJxxvoB2SI0PU47zlYL0iTgMaMdAOSDDldYqs1ue9LgvsllDctBz8+Y3I0w3UJf94jfUQeP71cXPm1+J/VbV9y+j9+CWpr389XD+yXdYq9rLZN9v8Lxme1/VnpALvvKG7VDtAW7QBt0Q7QFu0AbdEO0BbtAG3RDtAW7QBt0Q7QFu0AbdEO0BbtAG3RDtAW7QBt0Q7QFu0AbdEO0Bb9L7B+dqQrj0keAAAAAElFTkSuQmCC\" y=\"-110.33689\"/>\n   </g>\n   <g id=\"patch_68\">\n    <path d=\"M 351.816981 182.33689 \nL 351.816981 111.270852 \n\" style=\"fill:none;stroke:#000000;stroke-linecap:square;stroke-linejoin:miter;stroke-width:0.8;\"/>\n   </g>\n   <g id=\"patch_69\">\n    <path d=\"M 422.883019 182.33689 \nL 422.883019 111.270852 \n\" style=\"fill:none;stroke:#000000;stroke-linecap:square;stroke-linejoin:miter;stroke-width:0.8;\"/>\n   </g>\n   <g id=\"patch_70\">\n    <path d=\"M 351.816981 182.33689 \nL 422.883019 182.33689 \n\" style=\"fill:none;stroke:#000000;stroke-linecap:square;stroke-linejoin:miter;stroke-width:0.8;\"/>\n   </g>\n   <g id=\"patch_71\">\n    <path d=\"M 351.816981 111.270852 \nL 422.883019 111.270852 \n\" style=\"fill:none;stroke:#000000;stroke-linecap:square;stroke-linejoin:miter;stroke-width:0.8;\"/>\n   </g>\n   <g id=\"text_14\">\n    <!-- sandal -->\n    <g transform=\"translate(367.592188 105.270852)scale(0.12 -0.12)\">\n     <use xlink:href=\"#DejaVuSans-115\"/>\n     <use x=\"52.099609\" xlink:href=\"#DejaVuSans-97\"/>\n     <use x=\"113.378906\" xlink:href=\"#DejaVuSans-110\"/>\n     <use x=\"176.757812\" xlink:href=\"#DejaVuSans-100\"/>\n     <use x=\"240.234375\" xlink:href=\"#DejaVuSans-97\"/>\n     <use x=\"301.513672\" xlink:href=\"#DejaVuSans-108\"/>\n    </g>\n   </g>\n  </g>\n  <g id=\"axes_15\">\n   <g id=\"patch_72\">\n    <path d=\"M 437.096226 182.33689 \nL 508.162264 182.33689 \nL 508.162264 111.270852 \nL 437.096226 111.270852 \nz\n\" style=\"fill:#ffffff;\"/>\n   </g>\n   <g clip-path=\"url(#pc74aaf52bb)\">\n    <image height=\"72\" id=\"imagefdd6ea5645\" transform=\"scale(1 -1)translate(0 -72)\" width=\"72\" x=\"437.096226\" xlink:href=\"data:image/png;base64,\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\" y=\"-110.33689\"/>\n   </g>\n   <g id=\"patch_73\">\n    <path d=\"M 437.096226 182.33689 \nL 437.096226 111.270852 \n\" style=\"fill:none;stroke:#000000;stroke-linecap:square;stroke-linejoin:miter;stroke-width:0.8;\"/>\n   </g>\n   <g id=\"patch_74\">\n    <path d=\"M 508.162264 182.33689 \nL 508.162264 111.270852 \n\" style=\"fill:none;stroke:#000000;stroke-linecap:square;stroke-linejoin:miter;stroke-width:0.8;\"/>\n   </g>\n   <g id=\"patch_75\">\n    <path d=\"M 437.096226 182.33689 \nL 508.162264 182.33689 \n\" style=\"fill:none;stroke:#000000;stroke-linecap:square;stroke-linejoin:miter;stroke-width:0.8;\"/>\n   </g>\n   <g id=\"patch_76\">\n    <path d=\"M 437.096226 111.270852 \nL 508.162264 111.270852 \n\" style=\"fill:none;stroke:#000000;stroke-linecap:square;stroke-linejoin:miter;stroke-width:0.8;\"/>\n   </g>\n   <g id=\"text_15\">\n    <!-- sneaker -->\n    <g transform=\"translate(448.917058 105.270852)scale(0.12 -0.12)\">\n     <use xlink:href=\"#DejaVuSans-115\"/>\n     <use x=\"52.099609\" xlink:href=\"#DejaVuSans-110\"/>\n     <use x=\"115.478516\" xlink:href=\"#DejaVuSans-101\"/>\n     <use x=\"177.001953\" xlink:href=\"#DejaVuSans-97\"/>\n     <use x=\"238.28125\" xlink:href=\"#DejaVuSans-107\"/>\n     <use x=\"292.566406\" xlink:href=\"#DejaVuSans-101\"/>\n     <use x=\"354.089844\" xlink:href=\"#DejaVuSans-114\"/>\n    </g>\n   </g>\n  </g>\n  <g id=\"axes_16\">\n   <g id=\"patch_77\">\n    <path d=\"M 522.375472 182.33689 \nL 593.441509 182.33689 \nL 593.441509 111.270852 \nL 522.375472 111.270852 \nz\n\" style=\"fill:#ffffff;\"/>\n   </g>\n   <g clip-path=\"url(#p955c42b609)\">\n    <image height=\"72\" id=\"image7a54a8bc07\" transform=\"scale(1 -1)translate(0 -72)\" width=\"72\" x=\"522.375472\" xlink:href=\"data:image/png;base64,\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\" y=\"-110.33689\"/>\n   </g>\n   <g id=\"patch_78\">\n    <path d=\"M 522.375472 182.33689 \nL 522.375472 111.270852 \n\" style=\"fill:none;stroke:#000000;stroke-linecap:square;stroke-linejoin:miter;stroke-width:0.8;\"/>\n   </g>\n   <g id=\"patch_79\">\n    <path d=\"M 593.441509 182.33689 \nL 593.441509 111.270852 \n\" style=\"fill:none;stroke:#000000;stroke-linecap:square;stroke-linejoin:miter;stroke-width:0.8;\"/>\n   </g>\n   <g id=\"patch_80\">\n    <path d=\"M 522.375472 182.33689 \nL 593.441509 182.33689 \n\" style=\"fill:none;stroke:#000000;stroke-linecap:square;stroke-linejoin:miter;stroke-width:0.8;\"/>\n   </g>\n   <g id=\"patch_81\">\n    <path d=\"M 522.375472 111.270852 \nL 593.441509 111.270852 \n\" style=\"fill:none;stroke:#000000;stroke-linecap:square;stroke-linejoin:miter;stroke-width:0.8;\"/>\n   </g>\n   <g id=\"text_16\">\n    <!-- ankle boot -->\n    <g transform=\"translate(526.185366 105.270852)scale(0.12 -0.12)\">\n     <use xlink:href=\"#DejaVuSans-97\"/>\n     <use x=\"61.279297\" xlink:href=\"#DejaVuSans-110\"/>\n     <use x=\"124.658203\" xlink:href=\"#DejaVuSans-107\"/>\n     <use x=\"182.568359\" xlink:href=\"#DejaVuSans-108\"/>\n     <use x=\"210.351562\" xlink:href=\"#DejaVuSans-101\"/>\n     <use x=\"271.875\" xlink:href=\"#DejaVuSans-32\"/>\n     <use x=\"303.662109\" xlink:href=\"#DejaVuSans-98\"/>\n     <use x=\"367.138672\" xlink:href=\"#DejaVuSans-111\"/>\n     <use x=\"428.320312\" xlink:href=\"#DejaVuSans-111\"/>\n     <use x=\"489.501953\" xlink:href=\"#DejaVuSans-116\"/>\n    </g>\n   </g>\n  </g>\n  <g id=\"axes_17\">\n   <g id=\"patch_82\">\n    <path d=\"M 607.654717 182.33689 \nL 678.720755 182.33689 \nL 678.720755 111.270852 \nL 607.654717 111.270852 \nz\n\" style=\"fill:#ffffff;\"/>\n   </g>\n   <g clip-path=\"url(#p09c979cf3b)\">\n    <image height=\"72\" id=\"image65c6942e8f\" transform=\"scale(1 -1)translate(0 -72)\" width=\"72\" x=\"607.654717\" xlink:href=\"data:image/png;base64,\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\" y=\"-110.33689\"/>\n   </g>\n   <g id=\"patch_83\">\n    <path d=\"M 607.654717 182.33689 \nL 607.654717 111.270852 \n\" style=\"fill:none;stroke:#000000;stroke-linecap:square;stroke-linejoin:miter;stroke-width:0.8;\"/>\n   </g>\n   <g id=\"patch_84\">\n    <path d=\"M 678.720755 182.33689 \nL 678.720755 111.270852 \n\" style=\"fill:none;stroke:#000000;stroke-linecap:square;stroke-linejoin:miter;stroke-width:0.8;\"/>\n   </g>\n   <g id=\"patch_85\">\n    <path d=\"M 607.654717 182.33689 \nL 678.720755 182.33689 \n\" style=\"fill:none;stroke:#000000;stroke-linecap:square;stroke-linejoin:miter;stroke-width:0.8;\"/>\n   </g>\n   <g id=\"patch_86\">\n    <path d=\"M 607.654717 111.270852 \nL 678.720755 111.270852 \n\" style=\"fill:none;stroke:#000000;stroke-linecap:square;stroke-linejoin:miter;stroke-width:0.8;\"/>\n   </g>\n   <g id=\"text_17\">\n    <!-- trouser -->\n    <g transform=\"translate(621.746173 105.270852)scale(0.12 -0.12)\">\n     <use xlink:href=\"#DejaVuSans-116\"/>\n     <use x=\"39.208984\" xlink:href=\"#DejaVuSans-114\"/>\n     <use x=\"78.072266\" xlink:href=\"#DejaVuSans-111\"/>\n     <use x=\"139.253906\" xlink:href=\"#DejaVuSans-117\"/>\n     <use x=\"202.632812\" xlink:href=\"#DejaVuSans-115\"/>\n     <use x=\"254.732422\" xlink:href=\"#DejaVuSans-101\"/>\n     <use x=\"316.255859\" xlink:href=\"#DejaVuSans-114\"/>\n    </g>\n   </g>\n  </g>\n  <g id=\"axes_18\">\n   <g id=\"patch_87\">\n    <path d=\"M 692.933962 182.33689 \nL 764 182.33689 \nL 764 111.270852 \nL 692.933962 111.270852 \nz\n\" style=\"fill:#ffffff;\"/>\n   </g>\n   <g clip-path=\"url(#pd030c28336)\">\n    <image height=\"72\" id=\"image574dd80710\" transform=\"scale(1 -1)translate(0 -72)\" width=\"72\" x=\"692.933962\" xlink:href=\"data:image/png;base64,\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\" y=\"-110.33689\"/>\n   </g>\n   <g id=\"patch_88\">\n    <path d=\"M 692.933962 182.33689 \nL 692.933962 111.270852 \n\" style=\"fill:none;stroke:#000000;stroke-linecap:square;stroke-linejoin:miter;stroke-width:0.8;\"/>\n   </g>\n   <g id=\"patch_89\">\n    <path d=\"M 764 182.33689 \nL 764 111.270852 \n\" style=\"fill:none;stroke:#000000;stroke-linecap:square;stroke-linejoin:miter;stroke-width:0.8;\"/>\n   </g>\n   <g id=\"patch_90\">\n    <path d=\"M 692.933962 182.33689 \nL 764 182.33689 \n\" style=\"fill:none;stroke:#000000;stroke-linecap:square;stroke-linejoin:miter;stroke-width:0.8;\"/>\n   </g>\n   <g id=\"patch_91\">\n    <path d=\"M 692.933962 111.270852 \nL 764 111.270852 \n\" style=\"fill:none;stroke:#000000;stroke-linecap:square;stroke-linejoin:miter;stroke-width:0.8;\"/>\n   </g>\n   <g id=\"text_18\">\n    <!-- t-shirt -->\n    <g transform=\"translate(710.536356 105.270852)scale(0.12 -0.12)\">\n     <use xlink:href=\"#DejaVuSans-116\"/>\n     <use x=\"39.208984\" xlink:href=\"#DejaVuSans-45\"/>\n     <use x=\"75.292969\" xlink:href=\"#DejaVuSans-115\"/>\n     <use x=\"127.392578\" xlink:href=\"#DejaVuSans-104\"/>\n     <use x=\"190.771484\" xlink:href=\"#DejaVuSans-105\"/>\n     <use x=\"218.554688\" xlink:href=\"#DejaVuSans-114\"/>\n     <use x=\"259.667969\" xlink:href=\"#DejaVuSans-116\"/>\n    </g>\n   </g>\n  </g>\n </g>\n <defs>\n  <clipPath id=\"p4b14c5aacf\">\n   <rect height=\"71.066038\" width=\"71.066038\" x=\"10.7\" y=\"22.318125\"/>\n  </clipPath>\n  <clipPath id=\"p972a6af9a3\">\n   <rect height=\"71.066038\" width=\"71.066038\" x=\"95.979245\" y=\"22.318125\"/>\n  </clipPath>\n  <clipPath id=\"peb1749a2b7\">\n   <rect height=\"71.066038\" width=\"71.066038\" x=\"181.258491\" y=\"22.318125\"/>\n  </clipPath>\n  <clipPath id=\"p5310c5b63a\">\n   <rect height=\"71.066038\" width=\"71.066038\" x=\"266.537736\" y=\"22.318125\"/>\n  </clipPath>\n  <clipPath id=\"p5c35d63d4a\">\n   <rect height=\"71.066038\" width=\"71.066038\" x=\"351.816981\" y=\"22.318125\"/>\n  </clipPath>\n  <clipPath id=\"p994a5849e5\">\n   <rect height=\"71.066038\" width=\"71.066038\" x=\"437.096226\" y=\"22.318125\"/>\n  </clipPath>\n  <clipPath id=\"p8c92da897f\">\n   <rect height=\"71.066038\" width=\"71.066038\" x=\"522.375472\" y=\"22.318125\"/>\n  </clipPath>\n  <clipPath id=\"pf64a6664d7\">\n   <rect height=\"71.066038\" width=\"71.066038\" x=\"607.654717\" y=\"22.318125\"/>\n  </clipPath>\n  <clipPath id=\"p561e2e2a0c\">\n   <rect height=\"71.066038\" width=\"71.066038\" x=\"692.933962\" y=\"22.318125\"/>\n  </clipPath>\n  <clipPath id=\"pf9544be5ee\">\n   <rect height=\"71.066038\" width=\"71.066038\" x=\"10.7\" y=\"111.270852\"/>\n  </clipPath>\n  <clipPath id=\"p1a616813f4\">\n   <rect height=\"71.066038\" width=\"71.066038\" x=\"95.979245\" y=\"111.270852\"/>\n  </clipPath>\n  <clipPath id=\"p451abea1b2\">\n   <rect height=\"71.066038\" width=\"71.066038\" x=\"181.258491\" y=\"111.270852\"/>\n  </clipPath>\n  <clipPath id=\"p0cb8140919\">\n   <rect height=\"71.066038\" width=\"71.066038\" x=\"266.537736\" y=\"111.270852\"/>\n  </clipPath>\n  <clipPath id=\"p4b3d35850c\">\n   <rect height=\"71.066038\" width=\"71.066038\" x=\"351.816981\" y=\"111.270852\"/>\n  </clipPath>\n  <clipPath id=\"pc74aaf52bb\">\n   <rect height=\"71.066038\" width=\"71.066038\" x=\"437.096226\" y=\"111.270852\"/>\n  </clipPath>\n  <clipPath id=\"p955c42b609\">\n   <rect height=\"71.066038\" width=\"71.066038\" x=\"522.375472\" y=\"111.270852\"/>\n  </clipPath>\n  <clipPath id=\"p09c979cf3b\">\n   <rect height=\"71.066038\" width=\"71.066038\" x=\"607.654717\" y=\"111.270852\"/>\n  </clipPath>\n  <clipPath id=\"pd030c28336\">\n   <rect height=\"71.066038\" width=\"71.066038\" x=\"692.933962\" y=\"111.270852\"/>\n  </clipPath>\n </defs>\n</svg>\n"
          },
          "metadata": {
            "needs_background": "light"
          }
        }
      ]
    },
    {
      "cell_type": "code",
      "source": [
        "batch_size=256\n",
        "def get_dataloader_workers():\n",
        "    return 4\n",
        "train_iter=data.DataLoader(mnist_train,batch_size,shuffle=True,num_workers=get_dataloader_workers())"
      ],
      "metadata": {
        "colab": {
          "base_uri": "https://localhost:8080/"
        },
        "id": "OCmjCtXyefSQ",
        "outputId": "36b77a73-3fde-4698-ec15-7a1501a926ce"
      },
      "execution_count": 46,
      "outputs": [
        {
          "output_type": "stream",
          "name": "stderr",
          "text": [
            "/usr/local/lib/python3.7/dist-packages/torch/utils/data/dataloader.py:481: UserWarning: This DataLoader will create 4 worker processes in total. Our suggested max number of worker in current system is 2, which is smaller than what this DataLoader is going to create. Please be aware that excessive worker creation might get DataLoader running slow or even freeze, lower the worker number to avoid potential slowness/freeze if necessary.\n",
            "  cpuset_checked))\n"
          ]
        }
      ]
    },
    {
      "cell_type": "code",
      "source": [
        "# time cost of reading data:\n",
        "timer=d2l.Timer()\n",
        "for X,y in train_iter:\n",
        "    continue;\n",
        "f'{timer.stop():.2f} sec'"
      ],
      "metadata": {
        "colab": {
          "base_uri": "https://localhost:8080/",
          "height": 90
        },
        "id": "mxrSPJljeyWT",
        "outputId": "13ca5668-19f8-4744-e07d-49100b5a4884"
      },
      "execution_count": 45,
      "outputs": [
        {
          "output_type": "stream",
          "name": "stderr",
          "text": [
            "/usr/local/lib/python3.7/dist-packages/torch/utils/data/dataloader.py:481: UserWarning: This DataLoader will create 4 worker processes in total. Our suggested max number of worker in current system is 2, which is smaller than what this DataLoader is going to create. Please be aware that excessive worker creation might get DataLoader running slow or even freeze, lower the worker number to avoid potential slowness/freeze if necessary.\n",
            "  cpuset_checked))\n"
          ]
        },
        {
          "output_type": "execute_result",
          "data": {
            "application/vnd.google.colaboratory.intrinsic+json": {
              "type": "string"
            },
            "text/plain": [
              "'5.36 sec'"
            ]
          },
          "metadata": {},
          "execution_count": 45
        }
      ]
    },
    {
      "cell_type": "code",
      "source": [
        "# function read and resize data return an iterator of batch data\n",
        "def load_data_fashion_mnist(batch_size,resize=None):\n",
        "    trans=[transforms.ToTensor()]\n",
        "    if resize:\n",
        "        trans.insert(0,transforms.Resize(resize))\n",
        "    trans=transforms.Compose(trans)\n",
        "    mnist_train = torchvision.datasets.FashionMNIST(\n",
        "        root=\"../data\", train=True, transform=trans, download=True)\n",
        "    mnist_test = torchvision.datasets.FashionMNIST(\n",
        "        root=\"../data\", train=False, transform=trans, download=True)\n",
        "    return (data.DataLoader(mnist_train,batch_size,shuffle=True,num_workers=get_dataloader_workers()),\n",
        "            data.DataLoader(mnist_test, batch_size, shuffle=False,\n",
        "                            num_workers=get_dataloader_workers()))"
      ],
      "metadata": {
        "id": "6qlbqFAmfevJ"
      },
      "execution_count": 49,
      "outputs": []
    },
    {
      "cell_type": "code",
      "source": [
        "# test resize:\n",
        "train_iter, test_iter = load_data_fashion_mnist(32, resize=64)\n",
        "for X, y in train_iter:\n",
        "    print(X.shape, X.dtype, y.shape, y.dtype)\n",
        "    break"
      ],
      "metadata": {
        "colab": {
          "base_uri": "https://localhost:8080/"
        },
        "id": "mbRfaIVUgsfq",
        "outputId": "53f73296-e3e7-4d38-fb2a-30fb66151f9b"
      },
      "execution_count": 50,
      "outputs": [
        {
          "output_type": "stream",
          "name": "stderr",
          "text": [
            "/usr/local/lib/python3.7/dist-packages/torch/utils/data/dataloader.py:481: UserWarning: This DataLoader will create 4 worker processes in total. Our suggested max number of worker in current system is 2, which is smaller than what this DataLoader is going to create. Please be aware that excessive worker creation might get DataLoader running slow or even freeze, lower the worker number to avoid potential slowness/freeze if necessary.\n",
            "  cpuset_checked))\n"
          ]
        },
        {
          "output_type": "stream",
          "name": "stdout",
          "text": [
            "torch.Size([32, 1, 64, 64]) torch.float32 torch.Size([32]) torch.int64\n"
          ]
        }
      ]
    },
    {
      "cell_type": "markdown",
      "source": [
        "###3-1-1 everthing by hand"
      ],
      "metadata": {
        "id": "E77UIvNiirjK"
      }
    },
    {
      "cell_type": "code",
      "source": [
        "import torch\n",
        "from IPython import display\n",
        "from d2l import torch as d2l\n",
        "batch_size=256\n",
        "train_iter,test_iter=d2l.load_data_fashion_mnist(batch_size)"
      ],
      "metadata": {
        "colab": {
          "base_uri": "https://localhost:8080/"
        },
        "id": "vVmF1QJuivmy",
        "outputId": "45d6f491-075a-4474-928e-9e2f78f735e0"
      },
      "execution_count": 51,
      "outputs": [
        {
          "output_type": "stream",
          "name": "stderr",
          "text": [
            "/usr/local/lib/python3.7/dist-packages/torch/utils/data/dataloader.py:481: UserWarning: This DataLoader will create 4 worker processes in total. Our suggested max number of worker in current system is 2, which is smaller than what this DataLoader is going to create. Please be aware that excessive worker creation might get DataLoader running slow or even freeze, lower the worker number to avoid potential slowness/freeze if necessary.\n",
            "  cpuset_checked))\n"
          ]
        }
      ]
    },
    {
      "cell_type": "code",
      "source": [
        "# initial weight and bias:\n",
        "num_inputs=28*28\n",
        "num_outputs=10\n",
        "W=torch.normal(0,0.01,size=(num_inputs,num_outputs),requires_grad=True)\n",
        "b=torch.zeros(num_outputs,requires_grad=True)"
      ],
      "metadata": {
        "id": "bvMrLAy1jKA5"
      },
      "execution_count": 60,
      "outputs": []
    },
    {
      "cell_type": "code",
      "source": [
        "# sum along a dimension and keep the original size\n",
        "X = torch.tensor([[1.0, 2.0, 3.0], [4.0, 5.0, 6.0]])\n",
        "X.sum(0, keepdim=True), X.sum(1, keepdim=True)"
      ],
      "metadata": {
        "colab": {
          "base_uri": "https://localhost:8080/"
        },
        "id": "q0OV6O_cjpai",
        "outputId": "fae444f0-e56c-4f3d-fdf5-7103290871ff"
      },
      "execution_count": 57,
      "outputs": [
        {
          "output_type": "execute_result",
          "data": {
            "text/plain": [
              "(tensor([[5., 7., 9.]]), tensor([[ 6.],\n",
              "         [15.]]))"
            ]
          },
          "metadata": {},
          "execution_count": 57
        }
      ]
    },
    {
      "cell_type": "code",
      "source": [
        "# softmax normalization:\n",
        "def softmax(X):\n",
        "    X_exp=torch.exp(X)\n",
        "    partition=X_exp.sum(1,keepdim=True)\n",
        "    return X_exp/partition\n",
        "\n",
        "X = torch.normal(0, 1, (2, 5))\n",
        "X_prob = softmax(X)\n",
        "X_prob, X_prob.sum(1)"
      ],
      "metadata": {
        "colab": {
          "base_uri": "https://localhost:8080/"
        },
        "id": "hhwS5qUUnFMN",
        "outputId": "7ba5f461-26c1-44b1-dcee-4e018d437a88"
      },
      "execution_count": 58,
      "outputs": [
        {
          "output_type": "execute_result",
          "data": {
            "text/plain": [
              "(tensor([[0.1316, 0.0734, 0.1562, 0.0130, 0.6258],\n",
              "         [0.1460, 0.0602, 0.3306, 0.0212, 0.4420]]), tensor([1., 1.]))"
            ]
          },
          "metadata": {},
          "execution_count": 58
        }
      ]
    },
    {
      "cell_type": "code",
      "source": [
        "# define model: linear regression + softmax:\n",
        "def net(X):\n",
        "    return softmax(torch.matmul(X.reshape(-1,W.shape[0]),W)+b)"
      ],
      "metadata": {
        "id": "cCqiEYf9nsCa"
      },
      "execution_count": 61,
      "outputs": []
    },
    {
      "cell_type": "code",
      "source": [
        "y=torch.tensor([0,2])\n",
        "y_hat=torch.tensor([[0.1,0.3,0.6],[0.3,0.2,0.5]])\n",
        "# pick the column value from y_hat based on index given by y:\n",
        "y_hat[[0,1],y]"
      ],
      "metadata": {
        "colab": {
          "base_uri": "https://localhost:8080/"
        },
        "id": "MYtdxILBtKUN",
        "outputId": "741bc1ad-de54-4a34-8e15-8acb5bff7655"
      },
      "execution_count": 62,
      "outputs": [
        {
          "output_type": "execute_result",
          "data": {
            "text/plain": [
              "tensor([0.1000, 0.5000])"
            ]
          },
          "metadata": {},
          "execution_count": 62
        }
      ]
    },
    {
      "cell_type": "code",
      "source": [
        "# cross entropy loss:\n",
        "def cross_entropy(y_hat,y):\n",
        "    return -torch.log(y_hat[range(len(y_hat)),y])\n",
        "cross_entropy(y_hat,y)"
      ],
      "metadata": {
        "colab": {
          "base_uri": "https://localhost:8080/"
        },
        "id": "Uz3sIf1qt4v2",
        "outputId": "363a65c1-5315-4692-9adb-2056f233c050"
      },
      "execution_count": 63,
      "outputs": [
        {
          "output_type": "execute_result",
          "data": {
            "text/plain": [
              "tensor([2.3026, 0.6931])"
            ]
          },
          "metadata": {},
          "execution_count": 63
        }
      ]
    },
    {
      "cell_type": "code",
      "source": [
        "# evaluate the correctness of prediction:\n",
        "def accuracy(y_hat,y):\n",
        "    if len(y_hat.shape)>1 and y_hat.shape[1]>1:\n",
        "        y_hat=y_hat.argmax(axis=1)\n",
        "    cmp=y_hat.type(y.dtype)==y\n",
        "    return float(cmp.type(y.dtype).sum())\n",
        "accuracy(y_hat,y)/len(y)"
      ],
      "metadata": {
        "colab": {
          "base_uri": "https://localhost:8080/"
        },
        "id": "eLzj9mIEuhch",
        "outputId": "afc01da0-1915-4a82-c4f5-76ee8f6466f3"
      },
      "execution_count": 64,
      "outputs": [
        {
          "output_type": "execute_result",
          "data": {
            "text/plain": [
              "0.5"
            ]
          },
          "metadata": {},
          "execution_count": 64
        }
      ]
    },
    {
      "cell_type": "code",
      "source": [
        "def evaluate_accuracy(net,data_iter):\n",
        "    if isinstance(net,torch.nn.Module):\n",
        "        net.eval()\n",
        "    metric=d2l.Accumulator(2)\n",
        "    for X,y in data_iter:\n",
        "        metric.add(accuracy(net(X),y),y.numel())\n",
        "    return metric[0]/metric[1]"
      ],
      "metadata": {
        "id": "bnmvxicTvkBx"
      },
      "execution_count": 71,
      "outputs": []
    },
    {
      "cell_type": "code",
      "source": [
        "def train_epoch_ch3(net, train_iter, loss, updater):  \n",
        "    \"\"\"The training loop defined in Chapter 3.\"\"\"\n",
        "    # Set the model to training mode\n",
        "    if isinstance(net, torch.nn.Module):\n",
        "        net.train()\n",
        "    # Sum of training loss, sum of training accuracy, no. of examples\n",
        "    metric = d2l.Accumulator(3)\n",
        "    for X, y in train_iter:\n",
        "        # Compute gradients and update parameters\n",
        "        y_hat = net(X)\n",
        "        l = loss(y_hat, y)\n",
        "        if isinstance(updater, torch.optim.Optimizer):\n",
        "            # Using PyTorch in-built optimizer & loss criterion\n",
        "            updater.zero_grad()\n",
        "            l.mean().backward()\n",
        "            updater.step()\n",
        "        else:\n",
        "            # Using custom built optimizer & loss criterion\n",
        "            l.sum().backward()\n",
        "            updater(X.shape[0])\n",
        "        metric.add(float(l.sum()), accuracy(y_hat, y), y.numel())\n",
        "    # Return training loss and training accuracy\n",
        "    return metric[0] / metric[2], metric[1] / metric[2]"
      ],
      "metadata": {
        "id": "vr906oErvsko"
      },
      "execution_count": 67,
      "outputs": []
    },
    {
      "cell_type": "code",
      "source": [
        "def train_ch3(net, train_iter, test_iter, loss, num_epochs, updater):  \n",
        "    \"\"\"Train a model (defined in Chapter 3).\"\"\"\n",
        "    animator = d2l.Animator(xlabel='epoch', xlim=[1, num_epochs], ylim=[0.3, 0.9],\n",
        "                        legend=['train loss', 'train acc', 'test acc'])\n",
        "    for epoch in range(num_epochs):\n",
        "        train_metrics = train_epoch_ch3(net, train_iter, loss, updater)\n",
        "        test_acc = evaluate_accuracy(net, test_iter)\n",
        "        animator.add(epoch + 1, train_metrics + (test_acc,))\n",
        "    train_loss, train_acc = train_metrics\n",
        "    assert train_loss < 0.5, train_loss\n",
        "    assert train_acc <= 1 and train_acc > 0.7, train_acc\n",
        "    assert test_acc <= 1 and test_acc > 0.7, test_acc"
      ],
      "metadata": {
        "id": "YqlCHJ3VxTvu"
      },
      "execution_count": 68,
      "outputs": []
    },
    {
      "cell_type": "code",
      "source": [
        "lr = 0.1\n",
        "\n",
        "def updater(batch_size):\n",
        "    return d2l.sgd([W, b], lr, batch_size)"
      ],
      "metadata": {
        "id": "avtlEsVzxauU"
      },
      "execution_count": 69,
      "outputs": []
    },
    {
      "cell_type": "code",
      "source": [
        "num_epochs = 10\n",
        "train_ch3(net, train_iter, test_iter, cross_entropy, num_epochs, updater)"
      ],
      "metadata": {
        "colab": {
          "base_uri": "https://localhost:8080/",
          "height": 262
        },
        "id": "wUgKaI4IxdRF",
        "outputId": "4450809d-1382-42c4-d721-5cae588bd043"
      },
      "execution_count": 72,
      "outputs": [
        {
          "output_type": "display_data",
          "data": {
            "text/plain": [
              "<Figure size 252x180 with 1 Axes>"
            ],
            "image/svg+xml": "<?xml version=\"1.0\" encoding=\"utf-8\" standalone=\"no\"?>\n<!DOCTYPE svg PUBLIC \"-//W3C//DTD SVG 1.1//EN\"\n  \"http://www.w3.org/Graphics/SVG/1.1/DTD/svg11.dtd\">\n<!-- Created with matplotlib (https://matplotlib.org/) -->\n<svg height=\"180.65625pt\" version=\"1.1\" viewBox=\"0 0 238.965625 180.65625\" width=\"238.965625pt\" xmlns=\"http://www.w3.org/2000/svg\" xmlns:xlink=\"http://www.w3.org/1999/xlink\">\n <metadata>\n  <rdf:RDF xmlns:cc=\"http://creativecommons.org/ns#\" xmlns:dc=\"http://purl.org/dc/elements/1.1/\" xmlns:rdf=\"http://www.w3.org/1999/02/22-rdf-syntax-ns#\">\n   <cc:Work>\n    <dc:type rdf:resource=\"http://purl.org/dc/dcmitype/StillImage\"/>\n    <dc:date>2022-02-04T03:29:32.675385</dc:date>\n    <dc:format>image/svg+xml</dc:format>\n    <dc:creator>\n     <cc:Agent>\n      <dc:title>Matplotlib v3.3.3, https://matplotlib.org/</dc:title>\n     </cc:Agent>\n    </dc:creator>\n   </cc:Work>\n  </rdf:RDF>\n </metadata>\n <defs>\n  <style type=\"text/css\">*{stroke-linecap:butt;stroke-linejoin:round;}</style>\n </defs>\n <g id=\"figure_1\">\n  <g id=\"patch_1\">\n   <path d=\"M 0 180.65625 \nL 238.965625 180.65625 \nL 238.965625 0 \nL 0 0 \nz\n\" style=\"fill:none;\"/>\n  </g>\n  <g id=\"axes_1\">\n   <g id=\"patch_2\">\n    <path d=\"M 30.103125 143.1 \nL 225.403125 143.1 \nL 225.403125 7.2 \nL 30.103125 7.2 \nz\n\" style=\"fill:#ffffff;\"/>\n   </g>\n   <g id=\"matplotlib.axis_1\">\n    <g id=\"xtick_1\">\n     <g id=\"line2d_1\">\n      <path clip-path=\"url(#pac3a22987c)\" d=\"M 51.803125 143.1 \nL 51.803125 7.2 \n\" style=\"fill:none;stroke:#b0b0b0;stroke-linecap:square;stroke-width:0.8;\"/>\n     </g>\n     <g id=\"line2d_2\">\n      <defs>\n       <path d=\"M 0 0 \nL 0 3.5 \n\" id=\"m0b710aea2a\" style=\"stroke:#000000;stroke-width:0.8;\"/>\n      </defs>\n      <g>\n       <use style=\"stroke:#000000;stroke-width:0.8;\" x=\"51.803125\" xlink:href=\"#m0b710aea2a\" y=\"143.1\"/>\n      </g>\n     </g>\n     <g id=\"text_1\">\n      <!-- 2 -->\n      <g transform=\"translate(48.621875 157.698438)scale(0.1 -0.1)\">\n       <defs>\n        <path d=\"M 19.1875 8.296875 \nL 53.609375 8.296875 \nL 53.609375 0 \nL 7.328125 0 \nL 7.328125 8.296875 \nQ 12.9375 14.109375 22.625 23.890625 \nQ 32.328125 33.6875 34.8125 36.53125 \nQ 39.546875 41.84375 41.421875 45.53125 \nQ 43.3125 49.21875 43.3125 52.78125 \nQ 43.3125 58.59375 39.234375 62.25 \nQ 35.15625 65.921875 28.609375 65.921875 \nQ 23.96875 65.921875 18.8125 64.3125 \nQ 13.671875 62.703125 7.8125 59.421875 \nL 7.8125 69.390625 \nQ 13.765625 71.78125 18.9375 73 \nQ 24.125 74.21875 28.421875 74.21875 \nQ 39.75 74.21875 46.484375 68.546875 \nQ 53.21875 62.890625 53.21875 53.421875 \nQ 53.21875 48.921875 51.53125 44.890625 \nQ 49.859375 40.875 45.40625 35.40625 \nQ 44.1875 33.984375 37.640625 27.21875 \nQ 31.109375 20.453125 19.1875 8.296875 \nz\n\" id=\"DejaVuSans-50\"/>\n       </defs>\n       <use xlink:href=\"#DejaVuSans-50\"/>\n      </g>\n     </g>\n    </g>\n    <g id=\"xtick_2\">\n     <g id=\"line2d_3\">\n      <path clip-path=\"url(#pac3a22987c)\" d=\"M 95.203125 143.1 \nL 95.203125 7.2 \n\" style=\"fill:none;stroke:#b0b0b0;stroke-linecap:square;stroke-width:0.8;\"/>\n     </g>\n     <g id=\"line2d_4\">\n      <g>\n       <use style=\"stroke:#000000;stroke-width:0.8;\" x=\"95.203125\" xlink:href=\"#m0b710aea2a\" y=\"143.1\"/>\n      </g>\n     </g>\n     <g id=\"text_2\">\n      <!-- 4 -->\n      <g transform=\"translate(92.021875 157.698438)scale(0.1 -0.1)\">\n       <defs>\n        <path d=\"M 37.796875 64.3125 \nL 12.890625 25.390625 \nL 37.796875 25.390625 \nz\nM 35.203125 72.90625 \nL 47.609375 72.90625 \nL 47.609375 25.390625 \nL 58.015625 25.390625 \nL 58.015625 17.1875 \nL 47.609375 17.1875 \nL 47.609375 0 \nL 37.796875 0 \nL 37.796875 17.1875 \nL 4.890625 17.1875 \nL 4.890625 26.703125 \nz\n\" id=\"DejaVuSans-52\"/>\n       </defs>\n       <use xlink:href=\"#DejaVuSans-52\"/>\n      </g>\n     </g>\n    </g>\n    <g id=\"xtick_3\">\n     <g id=\"line2d_5\">\n      <path clip-path=\"url(#pac3a22987c)\" d=\"M 138.603125 143.1 \nL 138.603125 7.2 \n\" style=\"fill:none;stroke:#b0b0b0;stroke-linecap:square;stroke-width:0.8;\"/>\n     </g>\n     <g id=\"line2d_6\">\n      <g>\n       <use style=\"stroke:#000000;stroke-width:0.8;\" x=\"138.603125\" xlink:href=\"#m0b710aea2a\" y=\"143.1\"/>\n      </g>\n     </g>\n     <g id=\"text_3\">\n      <!-- 6 -->\n      <g transform=\"translate(135.421875 157.698438)scale(0.1 -0.1)\">\n       <defs>\n        <path d=\"M 33.015625 40.375 \nQ 26.375 40.375 22.484375 35.828125 \nQ 18.609375 31.296875 18.609375 23.390625 \nQ 18.609375 15.53125 22.484375 10.953125 \nQ 26.375 6.390625 33.015625 6.390625 \nQ 39.65625 6.390625 43.53125 10.953125 \nQ 47.40625 15.53125 47.40625 23.390625 \nQ 47.40625 31.296875 43.53125 35.828125 \nQ 39.65625 40.375 33.015625 40.375 \nz\nM 52.59375 71.296875 \nL 52.59375 62.3125 \nQ 48.875 64.0625 45.09375 64.984375 \nQ 41.3125 65.921875 37.59375 65.921875 \nQ 27.828125 65.921875 22.671875 59.328125 \nQ 17.53125 52.734375 16.796875 39.40625 \nQ 19.671875 43.65625 24.015625 45.921875 \nQ 28.375 48.1875 33.59375 48.1875 \nQ 44.578125 48.1875 50.953125 41.515625 \nQ 57.328125 34.859375 57.328125 23.390625 \nQ 57.328125 12.15625 50.6875 5.359375 \nQ 44.046875 -1.421875 33.015625 -1.421875 \nQ 20.359375 -1.421875 13.671875 8.265625 \nQ 6.984375 17.96875 6.984375 36.375 \nQ 6.984375 53.65625 15.1875 63.9375 \nQ 23.390625 74.21875 37.203125 74.21875 \nQ 40.921875 74.21875 44.703125 73.484375 \nQ 48.484375 72.75 52.59375 71.296875 \nz\n\" id=\"DejaVuSans-54\"/>\n       </defs>\n       <use xlink:href=\"#DejaVuSans-54\"/>\n      </g>\n     </g>\n    </g>\n    <g id=\"xtick_4\">\n     <g id=\"line2d_7\">\n      <path clip-path=\"url(#pac3a22987c)\" d=\"M 182.003125 143.1 \nL 182.003125 7.2 \n\" style=\"fill:none;stroke:#b0b0b0;stroke-linecap:square;stroke-width:0.8;\"/>\n     </g>\n     <g id=\"line2d_8\">\n      <g>\n       <use style=\"stroke:#000000;stroke-width:0.8;\" x=\"182.003125\" xlink:href=\"#m0b710aea2a\" y=\"143.1\"/>\n      </g>\n     </g>\n     <g id=\"text_4\">\n      <!-- 8 -->\n      <g transform=\"translate(178.821875 157.698438)scale(0.1 -0.1)\">\n       <defs>\n        <path d=\"M 31.78125 34.625 \nQ 24.75 34.625 20.71875 30.859375 \nQ 16.703125 27.09375 16.703125 20.515625 \nQ 16.703125 13.921875 20.71875 10.15625 \nQ 24.75 6.390625 31.78125 6.390625 \nQ 38.8125 6.390625 42.859375 10.171875 \nQ 46.921875 13.96875 46.921875 20.515625 \nQ 46.921875 27.09375 42.890625 30.859375 \nQ 38.875 34.625 31.78125 34.625 \nz\nM 21.921875 38.8125 \nQ 15.578125 40.375 12.03125 44.71875 \nQ 8.5 49.078125 8.5 55.328125 \nQ 8.5 64.0625 14.71875 69.140625 \nQ 20.953125 74.21875 31.78125 74.21875 \nQ 42.671875 74.21875 48.875 69.140625 \nQ 55.078125 64.0625 55.078125 55.328125 \nQ 55.078125 49.078125 51.53125 44.71875 \nQ 48 40.375 41.703125 38.8125 \nQ 48.828125 37.15625 52.796875 32.3125 \nQ 56.78125 27.484375 56.78125 20.515625 \nQ 56.78125 9.90625 50.3125 4.234375 \nQ 43.84375 -1.421875 31.78125 -1.421875 \nQ 19.734375 -1.421875 13.25 4.234375 \nQ 6.78125 9.90625 6.78125 20.515625 \nQ 6.78125 27.484375 10.78125 32.3125 \nQ 14.796875 37.15625 21.921875 38.8125 \nz\nM 18.3125 54.390625 \nQ 18.3125 48.734375 21.84375 45.5625 \nQ 25.390625 42.390625 31.78125 42.390625 \nQ 38.140625 42.390625 41.71875 45.5625 \nQ 45.3125 48.734375 45.3125 54.390625 \nQ 45.3125 60.0625 41.71875 63.234375 \nQ 38.140625 66.40625 31.78125 66.40625 \nQ 25.390625 66.40625 21.84375 63.234375 \nQ 18.3125 60.0625 18.3125 54.390625 \nz\n\" id=\"DejaVuSans-56\"/>\n       </defs>\n       <use xlink:href=\"#DejaVuSans-56\"/>\n      </g>\n     </g>\n    </g>\n    <g id=\"xtick_5\">\n     <g id=\"line2d_9\">\n      <path clip-path=\"url(#pac3a22987c)\" d=\"M 225.403125 143.1 \nL 225.403125 7.2 \n\" style=\"fill:none;stroke:#b0b0b0;stroke-linecap:square;stroke-width:0.8;\"/>\n     </g>\n     <g id=\"line2d_10\">\n      <g>\n       <use style=\"stroke:#000000;stroke-width:0.8;\" x=\"225.403125\" xlink:href=\"#m0b710aea2a\" y=\"143.1\"/>\n      </g>\n     </g>\n     <g id=\"text_5\">\n      <!-- 10 -->\n      <g transform=\"translate(219.040625 157.698438)scale(0.1 -0.1)\">\n       <defs>\n        <path d=\"M 12.40625 8.296875 \nL 28.515625 8.296875 \nL 28.515625 63.921875 \nL 10.984375 60.40625 \nL 10.984375 69.390625 \nL 28.421875 72.90625 \nL 38.28125 72.90625 \nL 38.28125 8.296875 \nL 54.390625 8.296875 \nL 54.390625 0 \nL 12.40625 0 \nz\n\" id=\"DejaVuSans-49\"/>\n        <path d=\"M 31.78125 66.40625 \nQ 24.171875 66.40625 20.328125 58.90625 \nQ 16.5 51.421875 16.5 36.375 \nQ 16.5 21.390625 20.328125 13.890625 \nQ 24.171875 6.390625 31.78125 6.390625 \nQ 39.453125 6.390625 43.28125 13.890625 \nQ 47.125 21.390625 47.125 36.375 \nQ 47.125 51.421875 43.28125 58.90625 \nQ 39.453125 66.40625 31.78125 66.40625 \nz\nM 31.78125 74.21875 \nQ 44.046875 74.21875 50.515625 64.515625 \nQ 56.984375 54.828125 56.984375 36.375 \nQ 56.984375 17.96875 50.515625 8.265625 \nQ 44.046875 -1.421875 31.78125 -1.421875 \nQ 19.53125 -1.421875 13.0625 8.265625 \nQ 6.59375 17.96875 6.59375 36.375 \nQ 6.59375 54.828125 13.0625 64.515625 \nQ 19.53125 74.21875 31.78125 74.21875 \nz\n\" id=\"DejaVuSans-48\"/>\n       </defs>\n       <use xlink:href=\"#DejaVuSans-49\"/>\n       <use x=\"63.623047\" xlink:href=\"#DejaVuSans-48\"/>\n      </g>\n     </g>\n    </g>\n    <g id=\"text_6\">\n     <!-- epoch -->\n     <g transform=\"translate(112.525 171.376563)scale(0.1 -0.1)\">\n      <defs>\n       <path d=\"M 56.203125 29.59375 \nL 56.203125 25.203125 \nL 14.890625 25.203125 \nQ 15.484375 15.921875 20.484375 11.0625 \nQ 25.484375 6.203125 34.421875 6.203125 \nQ 39.59375 6.203125 44.453125 7.46875 \nQ 49.3125 8.734375 54.109375 11.28125 \nL 54.109375 2.78125 \nQ 49.265625 0.734375 44.1875 -0.34375 \nQ 39.109375 -1.421875 33.890625 -1.421875 \nQ 20.796875 -1.421875 13.15625 6.1875 \nQ 5.515625 13.8125 5.515625 26.8125 \nQ 5.515625 40.234375 12.765625 48.109375 \nQ 20.015625 56 32.328125 56 \nQ 43.359375 56 49.78125 48.890625 \nQ 56.203125 41.796875 56.203125 29.59375 \nz\nM 47.21875 32.234375 \nQ 47.125 39.59375 43.09375 43.984375 \nQ 39.0625 48.390625 32.421875 48.390625 \nQ 24.90625 48.390625 20.390625 44.140625 \nQ 15.875 39.890625 15.1875 32.171875 \nz\n\" id=\"DejaVuSans-101\"/>\n       <path d=\"M 18.109375 8.203125 \nL 18.109375 -20.796875 \nL 9.078125 -20.796875 \nL 9.078125 54.6875 \nL 18.109375 54.6875 \nL 18.109375 46.390625 \nQ 20.953125 51.265625 25.265625 53.625 \nQ 29.59375 56 35.59375 56 \nQ 45.5625 56 51.78125 48.09375 \nQ 58.015625 40.1875 58.015625 27.296875 \nQ 58.015625 14.40625 51.78125 6.484375 \nQ 45.5625 -1.421875 35.59375 -1.421875 \nQ 29.59375 -1.421875 25.265625 0.953125 \nQ 20.953125 3.328125 18.109375 8.203125 \nz\nM 48.6875 27.296875 \nQ 48.6875 37.203125 44.609375 42.84375 \nQ 40.53125 48.484375 33.40625 48.484375 \nQ 26.265625 48.484375 22.1875 42.84375 \nQ 18.109375 37.203125 18.109375 27.296875 \nQ 18.109375 17.390625 22.1875 11.75 \nQ 26.265625 6.109375 33.40625 6.109375 \nQ 40.53125 6.109375 44.609375 11.75 \nQ 48.6875 17.390625 48.6875 27.296875 \nz\n\" id=\"DejaVuSans-112\"/>\n       <path d=\"M 30.609375 48.390625 \nQ 23.390625 48.390625 19.1875 42.75 \nQ 14.984375 37.109375 14.984375 27.296875 \nQ 14.984375 17.484375 19.15625 11.84375 \nQ 23.34375 6.203125 30.609375 6.203125 \nQ 37.796875 6.203125 41.984375 11.859375 \nQ 46.1875 17.53125 46.1875 27.296875 \nQ 46.1875 37.015625 41.984375 42.703125 \nQ 37.796875 48.390625 30.609375 48.390625 \nz\nM 30.609375 56 \nQ 42.328125 56 49.015625 48.375 \nQ 55.71875 40.765625 55.71875 27.296875 \nQ 55.71875 13.875 49.015625 6.21875 \nQ 42.328125 -1.421875 30.609375 -1.421875 \nQ 18.84375 -1.421875 12.171875 6.21875 \nQ 5.515625 13.875 5.515625 27.296875 \nQ 5.515625 40.765625 12.171875 48.375 \nQ 18.84375 56 30.609375 56 \nz\n\" id=\"DejaVuSans-111\"/>\n       <path d=\"M 48.78125 52.59375 \nL 48.78125 44.1875 \nQ 44.96875 46.296875 41.140625 47.34375 \nQ 37.3125 48.390625 33.40625 48.390625 \nQ 24.65625 48.390625 19.8125 42.84375 \nQ 14.984375 37.3125 14.984375 27.296875 \nQ 14.984375 17.28125 19.8125 11.734375 \nQ 24.65625 6.203125 33.40625 6.203125 \nQ 37.3125 6.203125 41.140625 7.25 \nQ 44.96875 8.296875 48.78125 10.40625 \nL 48.78125 2.09375 \nQ 45.015625 0.34375 40.984375 -0.53125 \nQ 36.96875 -1.421875 32.421875 -1.421875 \nQ 20.0625 -1.421875 12.78125 6.34375 \nQ 5.515625 14.109375 5.515625 27.296875 \nQ 5.515625 40.671875 12.859375 48.328125 \nQ 20.21875 56 33.015625 56 \nQ 37.15625 56 41.109375 55.140625 \nQ 45.0625 54.296875 48.78125 52.59375 \nz\n\" id=\"DejaVuSans-99\"/>\n       <path d=\"M 54.890625 33.015625 \nL 54.890625 0 \nL 45.90625 0 \nL 45.90625 32.71875 \nQ 45.90625 40.484375 42.875 44.328125 \nQ 39.84375 48.1875 33.796875 48.1875 \nQ 26.515625 48.1875 22.3125 43.546875 \nQ 18.109375 38.921875 18.109375 30.90625 \nL 18.109375 0 \nL 9.078125 0 \nL 9.078125 75.984375 \nL 18.109375 75.984375 \nL 18.109375 46.1875 \nQ 21.34375 51.125 25.703125 53.5625 \nQ 30.078125 56 35.796875 56 \nQ 45.21875 56 50.046875 50.171875 \nQ 54.890625 44.34375 54.890625 33.015625 \nz\n\" id=\"DejaVuSans-104\"/>\n      </defs>\n      <use xlink:href=\"#DejaVuSans-101\"/>\n      <use x=\"61.523438\" xlink:href=\"#DejaVuSans-112\"/>\n      <use x=\"125\" xlink:href=\"#DejaVuSans-111\"/>\n      <use x=\"186.181641\" xlink:href=\"#DejaVuSans-99\"/>\n      <use x=\"241.162109\" xlink:href=\"#DejaVuSans-104\"/>\n     </g>\n    </g>\n   </g>\n   <g id=\"matplotlib.axis_2\">\n    <g id=\"ytick_1\">\n     <g id=\"line2d_11\">\n      <path clip-path=\"url(#pac3a22987c)\" d=\"M 30.103125 120.45 \nL 225.403125 120.45 \n\" style=\"fill:none;stroke:#b0b0b0;stroke-linecap:square;stroke-width:0.8;\"/>\n     </g>\n     <g id=\"line2d_12\">\n      <defs>\n       <path d=\"M 0 0 \nL -3.5 0 \n\" id=\"mc52157bf77\" style=\"stroke:#000000;stroke-width:0.8;\"/>\n      </defs>\n      <g>\n       <use style=\"stroke:#000000;stroke-width:0.8;\" x=\"30.103125\" xlink:href=\"#mc52157bf77\" y=\"120.45\"/>\n      </g>\n     </g>\n     <g id=\"text_7\">\n      <!-- 0.4 -->\n      <g transform=\"translate(7.2 124.249219)scale(0.1 -0.1)\">\n       <defs>\n        <path d=\"M 10.6875 12.40625 \nL 21 12.40625 \nL 21 0 \nL 10.6875 0 \nz\n\" id=\"DejaVuSans-46\"/>\n       </defs>\n       <use xlink:href=\"#DejaVuSans-48\"/>\n       <use x=\"63.623047\" xlink:href=\"#DejaVuSans-46\"/>\n       <use x=\"95.410156\" xlink:href=\"#DejaVuSans-52\"/>\n      </g>\n     </g>\n    </g>\n    <g id=\"ytick_2\">\n     <g id=\"line2d_13\">\n      <path clip-path=\"url(#pac3a22987c)\" d=\"M 30.103125 75.15 \nL 225.403125 75.15 \n\" style=\"fill:none;stroke:#b0b0b0;stroke-linecap:square;stroke-width:0.8;\"/>\n     </g>\n     <g id=\"line2d_14\">\n      <g>\n       <use style=\"stroke:#000000;stroke-width:0.8;\" x=\"30.103125\" xlink:href=\"#mc52157bf77\" y=\"75.15\"/>\n      </g>\n     </g>\n     <g id=\"text_8\">\n      <!-- 0.6 -->\n      <g transform=\"translate(7.2 78.949219)scale(0.1 -0.1)\">\n       <use xlink:href=\"#DejaVuSans-48\"/>\n       <use x=\"63.623047\" xlink:href=\"#DejaVuSans-46\"/>\n       <use x=\"95.410156\" xlink:href=\"#DejaVuSans-54\"/>\n      </g>\n     </g>\n    </g>\n    <g id=\"ytick_3\">\n     <g id=\"line2d_15\">\n      <path clip-path=\"url(#pac3a22987c)\" d=\"M 30.103125 29.85 \nL 225.403125 29.85 \n\" style=\"fill:none;stroke:#b0b0b0;stroke-linecap:square;stroke-width:0.8;\"/>\n     </g>\n     <g id=\"line2d_16\">\n      <g>\n       <use style=\"stroke:#000000;stroke-width:0.8;\" x=\"30.103125\" xlink:href=\"#mc52157bf77\" y=\"29.85\"/>\n      </g>\n     </g>\n     <g id=\"text_9\">\n      <!-- 0.8 -->\n      <g transform=\"translate(7.2 33.649219)scale(0.1 -0.1)\">\n       <use xlink:href=\"#DejaVuSans-48\"/>\n       <use x=\"63.623047\" xlink:href=\"#DejaVuSans-46\"/>\n       <use x=\"95.410156\" xlink:href=\"#DejaVuSans-56\"/>\n      </g>\n     </g>\n    </g>\n   </g>\n   <g id=\"line2d_17\">\n    <path clip-path=\"url(#pac3a22987c)\" d=\"M 30.103125 82.084202 \nL 51.803125 92.163612 \nL 73.503125 97.50727 \nL 95.203125 100.880664 \nL 116.903125 103.652025 \nL 138.603125 105.723084 \nL 160.303125 107.352866 \nL 182.003125 108.622222 \nL 203.703125 109.717659 \nL 225.403125 110.793666 \n\" style=\"fill:none;stroke:#1f77b4;stroke-linecap:square;stroke-width:1.5;\"/>\n   </g>\n   <g id=\"line2d_18\">\n    <path clip-path=\"url(#pac3a22987c)\" d=\"M 30.103125 26.833775 \nL 51.803125 24.0214 \nL 73.503125 22.59445 \nL 95.203125 21.880975 \nL 116.903125 20.79755 \nL 138.603125 20.219975 \nL 160.303125 19.582 \nL 182.003125 19.3253 \nL 203.703125 19.1743 \nL 225.403125 18.491025 \n\" style=\"fill:none;stroke:#bf00bf;stroke-dasharray:5.55,2.4;stroke-dashoffset:0;stroke-width:1.5;\"/>\n   </g>\n   <g id=\"line2d_19\">\n    <path clip-path=\"url(#pac3a22987c)\" d=\"M 30.103125 27.6303 \nL 51.803125 26.47515 \nL 73.503125 25.43325 \nL 95.203125 25.70505 \nL 116.903125 23.57595 \nL 138.603125 23.07765 \nL 160.303125 23.66655 \nL 182.003125 23.4174 \nL 203.703125 22.03575 \nL 225.403125 22.12635 \n\" style=\"fill:none;stroke:#008000;stroke-dasharray:9.6,2.4,1.5,2.4;stroke-dashoffset:0;stroke-width:1.5;\"/>\n   </g>\n   <g id=\"patch_3\">\n    <path d=\"M 30.103125 143.1 \nL 30.103125 7.2 \n\" style=\"fill:none;stroke:#000000;stroke-linecap:square;stroke-linejoin:miter;stroke-width:0.8;\"/>\n   </g>\n   <g id=\"patch_4\">\n    <path d=\"M 225.403125 143.1 \nL 225.403125 7.2 \n\" style=\"fill:none;stroke:#000000;stroke-linecap:square;stroke-linejoin:miter;stroke-width:0.8;\"/>\n   </g>\n   <g id=\"patch_5\">\n    <path d=\"M 30.103125 143.1 \nL 225.403125 143.1 \n\" style=\"fill:none;stroke:#000000;stroke-linecap:square;stroke-linejoin:miter;stroke-width:0.8;\"/>\n   </g>\n   <g id=\"patch_6\">\n    <path d=\"M 30.103125 7.2 \nL 225.403125 7.2 \n\" style=\"fill:none;stroke:#000000;stroke-linecap:square;stroke-linejoin:miter;stroke-width:0.8;\"/>\n   </g>\n   <g id=\"legend_1\">\n    <g id=\"patch_7\">\n     <path d=\"M 140.634375 98.667187 \nL 218.403125 98.667187 \nQ 220.403125 98.667187 220.403125 96.667187 \nL 220.403125 53.632812 \nQ 220.403125 51.632812 218.403125 51.632812 \nL 140.634375 51.632812 \nQ 138.634375 51.632812 138.634375 53.632812 \nL 138.634375 96.667187 \nQ 138.634375 98.667187 140.634375 98.667187 \nz\n\" style=\"fill:#ffffff;opacity:0.8;stroke:#cccccc;stroke-linejoin:miter;\"/>\n    </g>\n    <g id=\"line2d_20\">\n     <path d=\"M 142.634375 59.73125 \nL 162.634375 59.73125 \n\" style=\"fill:none;stroke:#1f77b4;stroke-linecap:square;stroke-width:1.5;\"/>\n    </g>\n    <g id=\"line2d_21\"/>\n    <g id=\"text_10\">\n     <!-- train loss -->\n     <g transform=\"translate(170.634375 63.23125)scale(0.1 -0.1)\">\n      <defs>\n       <path d=\"M 18.3125 70.21875 \nL 18.3125 54.6875 \nL 36.8125 54.6875 \nL 36.8125 47.703125 \nL 18.3125 47.703125 \nL 18.3125 18.015625 \nQ 18.3125 11.328125 20.140625 9.421875 \nQ 21.96875 7.515625 27.59375 7.515625 \nL 36.8125 7.515625 \nL 36.8125 0 \nL 27.59375 0 \nQ 17.1875 0 13.234375 3.875 \nQ 9.28125 7.765625 9.28125 18.015625 \nL 9.28125 47.703125 \nL 2.6875 47.703125 \nL 2.6875 54.6875 \nL 9.28125 54.6875 \nL 9.28125 70.21875 \nz\n\" id=\"DejaVuSans-116\"/>\n       <path d=\"M 41.109375 46.296875 \nQ 39.59375 47.171875 37.8125 47.578125 \nQ 36.03125 48 33.890625 48 \nQ 26.265625 48 22.1875 43.046875 \nQ 18.109375 38.09375 18.109375 28.8125 \nL 18.109375 0 \nL 9.078125 0 \nL 9.078125 54.6875 \nL 18.109375 54.6875 \nL 18.109375 46.1875 \nQ 20.953125 51.171875 25.484375 53.578125 \nQ 30.03125 56 36.53125 56 \nQ 37.453125 56 38.578125 55.875 \nQ 39.703125 55.765625 41.0625 55.515625 \nz\n\" id=\"DejaVuSans-114\"/>\n       <path d=\"M 34.28125 27.484375 \nQ 23.390625 27.484375 19.1875 25 \nQ 14.984375 22.515625 14.984375 16.5 \nQ 14.984375 11.71875 18.140625 8.90625 \nQ 21.296875 6.109375 26.703125 6.109375 \nQ 34.1875 6.109375 38.703125 11.40625 \nQ 43.21875 16.703125 43.21875 25.484375 \nL 43.21875 27.484375 \nz\nM 52.203125 31.203125 \nL 52.203125 0 \nL 43.21875 0 \nL 43.21875 8.296875 \nQ 40.140625 3.328125 35.546875 0.953125 \nQ 30.953125 -1.421875 24.3125 -1.421875 \nQ 15.921875 -1.421875 10.953125 3.296875 \nQ 6 8.015625 6 15.921875 \nQ 6 25.140625 12.171875 29.828125 \nQ 18.359375 34.515625 30.609375 34.515625 \nL 43.21875 34.515625 \nL 43.21875 35.40625 \nQ 43.21875 41.609375 39.140625 45 \nQ 35.0625 48.390625 27.6875 48.390625 \nQ 23 48.390625 18.546875 47.265625 \nQ 14.109375 46.140625 10.015625 43.890625 \nL 10.015625 52.203125 \nQ 14.9375 54.109375 19.578125 55.046875 \nQ 24.21875 56 28.609375 56 \nQ 40.484375 56 46.34375 49.84375 \nQ 52.203125 43.703125 52.203125 31.203125 \nz\n\" id=\"DejaVuSans-97\"/>\n       <path d=\"M 9.421875 54.6875 \nL 18.40625 54.6875 \nL 18.40625 0 \nL 9.421875 0 \nz\nM 9.421875 75.984375 \nL 18.40625 75.984375 \nL 18.40625 64.59375 \nL 9.421875 64.59375 \nz\n\" id=\"DejaVuSans-105\"/>\n       <path d=\"M 54.890625 33.015625 \nL 54.890625 0 \nL 45.90625 0 \nL 45.90625 32.71875 \nQ 45.90625 40.484375 42.875 44.328125 \nQ 39.84375 48.1875 33.796875 48.1875 \nQ 26.515625 48.1875 22.3125 43.546875 \nQ 18.109375 38.921875 18.109375 30.90625 \nL 18.109375 0 \nL 9.078125 0 \nL 9.078125 54.6875 \nL 18.109375 54.6875 \nL 18.109375 46.1875 \nQ 21.34375 51.125 25.703125 53.5625 \nQ 30.078125 56 35.796875 56 \nQ 45.21875 56 50.046875 50.171875 \nQ 54.890625 44.34375 54.890625 33.015625 \nz\n\" id=\"DejaVuSans-110\"/>\n       <path id=\"DejaVuSans-32\"/>\n       <path d=\"M 9.421875 75.984375 \nL 18.40625 75.984375 \nL 18.40625 0 \nL 9.421875 0 \nz\n\" id=\"DejaVuSans-108\"/>\n       <path d=\"M 44.28125 53.078125 \nL 44.28125 44.578125 \nQ 40.484375 46.53125 36.375 47.5 \nQ 32.28125 48.484375 27.875 48.484375 \nQ 21.1875 48.484375 17.84375 46.4375 \nQ 14.5 44.390625 14.5 40.28125 \nQ 14.5 37.15625 16.890625 35.375 \nQ 19.28125 33.59375 26.515625 31.984375 \nL 29.59375 31.296875 \nQ 39.15625 29.25 43.1875 25.515625 \nQ 47.21875 21.78125 47.21875 15.09375 \nQ 47.21875 7.46875 41.1875 3.015625 \nQ 35.15625 -1.421875 24.609375 -1.421875 \nQ 20.21875 -1.421875 15.453125 -0.5625 \nQ 10.6875 0.296875 5.421875 2 \nL 5.421875 11.28125 \nQ 10.40625 8.6875 15.234375 7.390625 \nQ 20.0625 6.109375 24.8125 6.109375 \nQ 31.15625 6.109375 34.5625 8.28125 \nQ 37.984375 10.453125 37.984375 14.40625 \nQ 37.984375 18.0625 35.515625 20.015625 \nQ 33.0625 21.96875 24.703125 23.78125 \nL 21.578125 24.515625 \nQ 13.234375 26.265625 9.515625 29.90625 \nQ 5.8125 33.546875 5.8125 39.890625 \nQ 5.8125 47.609375 11.28125 51.796875 \nQ 16.75 56 26.8125 56 \nQ 31.78125 56 36.171875 55.265625 \nQ 40.578125 54.546875 44.28125 53.078125 \nz\n\" id=\"DejaVuSans-115\"/>\n      </defs>\n      <use xlink:href=\"#DejaVuSans-116\"/>\n      <use x=\"39.208984\" xlink:href=\"#DejaVuSans-114\"/>\n      <use x=\"80.322266\" xlink:href=\"#DejaVuSans-97\"/>\n      <use x=\"141.601562\" xlink:href=\"#DejaVuSans-105\"/>\n      <use x=\"169.384766\" xlink:href=\"#DejaVuSans-110\"/>\n      <use x=\"232.763672\" xlink:href=\"#DejaVuSans-32\"/>\n      <use x=\"264.550781\" xlink:href=\"#DejaVuSans-108\"/>\n      <use x=\"292.333984\" xlink:href=\"#DejaVuSans-111\"/>\n      <use x=\"353.515625\" xlink:href=\"#DejaVuSans-115\"/>\n      <use x=\"405.615234\" xlink:href=\"#DejaVuSans-115\"/>\n     </g>\n    </g>\n    <g id=\"line2d_22\">\n     <path d=\"M 142.634375 74.409375 \nL 162.634375 74.409375 \n\" style=\"fill:none;stroke:#bf00bf;stroke-dasharray:5.55,2.4;stroke-dashoffset:0;stroke-width:1.5;\"/>\n    </g>\n    <g id=\"line2d_23\"/>\n    <g id=\"text_11\">\n     <!-- train acc -->\n     <g transform=\"translate(170.634375 77.909375)scale(0.1 -0.1)\">\n      <use xlink:href=\"#DejaVuSans-116\"/>\n      <use x=\"39.208984\" xlink:href=\"#DejaVuSans-114\"/>\n      <use x=\"80.322266\" xlink:href=\"#DejaVuSans-97\"/>\n      <use x=\"141.601562\" xlink:href=\"#DejaVuSans-105\"/>\n      <use x=\"169.384766\" xlink:href=\"#DejaVuSans-110\"/>\n      <use x=\"232.763672\" xlink:href=\"#DejaVuSans-32\"/>\n      <use x=\"264.550781\" xlink:href=\"#DejaVuSans-97\"/>\n      <use x=\"325.830078\" xlink:href=\"#DejaVuSans-99\"/>\n      <use x=\"380.810547\" xlink:href=\"#DejaVuSans-99\"/>\n     </g>\n    </g>\n    <g id=\"line2d_24\">\n     <path d=\"M 142.634375 89.0875 \nL 162.634375 89.0875 \n\" style=\"fill:none;stroke:#008000;stroke-dasharray:9.6,2.4,1.5,2.4;stroke-dashoffset:0;stroke-width:1.5;\"/>\n    </g>\n    <g id=\"line2d_25\"/>\n    <g id=\"text_12\">\n     <!-- test acc -->\n     <g transform=\"translate(170.634375 92.5875)scale(0.1 -0.1)\">\n      <use xlink:href=\"#DejaVuSans-116\"/>\n      <use x=\"39.208984\" xlink:href=\"#DejaVuSans-101\"/>\n      <use x=\"100.732422\" xlink:href=\"#DejaVuSans-115\"/>\n      <use x=\"152.832031\" xlink:href=\"#DejaVuSans-116\"/>\n      <use x=\"192.041016\" xlink:href=\"#DejaVuSans-32\"/>\n      <use x=\"223.828125\" xlink:href=\"#DejaVuSans-97\"/>\n      <use x=\"285.107422\" xlink:href=\"#DejaVuSans-99\"/>\n      <use x=\"340.087891\" xlink:href=\"#DejaVuSans-99\"/>\n     </g>\n    </g>\n   </g>\n  </g>\n </g>\n <defs>\n  <clipPath id=\"pac3a22987c\">\n   <rect height=\"135.9\" width=\"195.3\" x=\"30.103125\" y=\"7.2\"/>\n  </clipPath>\n </defs>\n</svg>\n"
          },
          "metadata": {
            "needs_background": "light"
          }
        }
      ]
    },
    {
      "cell_type": "code",
      "source": [
        "def predict_ch3(net, test_iter, n=6):  \n",
        "    \"\"\"Predict labels (defined in Chapter 3).\"\"\"\n",
        "    for X, y in test_iter:\n",
        "        break\n",
        "    trues = d2l.get_fashion_mnist_labels(y)\n",
        "    preds = d2l.get_fashion_mnist_labels(net(X).argmax(axis=1))\n",
        "    titles = [true +'\\n' + pred for true, pred in zip(trues, preds)]\n",
        "    d2l.show_images(\n",
        "        X[0:n].reshape((n, 28, 28)), 1, n, titles=titles[0:n])\n",
        "\n",
        "predict_ch3(net, test_iter)"
      ],
      "metadata": {
        "colab": {
          "base_uri": "https://localhost:8080/",
          "height": 234
        },
        "id": "UDxtnjolx8Zz",
        "outputId": "b2b3eccf-b722-4d60-90eb-2b4da82aa511"
      },
      "execution_count": 73,
      "outputs": [
        {
          "output_type": "stream",
          "name": "stderr",
          "text": [
            "/usr/local/lib/python3.7/dist-packages/torch/utils/data/dataloader.py:481: UserWarning: This DataLoader will create 4 worker processes in total. Our suggested max number of worker in current system is 2, which is smaller than what this DataLoader is going to create. Please be aware that excessive worker creation might get DataLoader running slow or even freeze, lower the worker number to avoid potential slowness/freeze if necessary.\n",
            "  cpuset_checked))\n"
          ]
        },
        {
          "output_type": "display_data",
          "data": {
            "text/plain": [
              "<Figure size 648x108 with 6 Axes>"
            ],
            "image/svg+xml": "<?xml version=\"1.0\" encoding=\"utf-8\" standalone=\"no\"?>\n<!DOCTYPE svg PUBLIC \"-//W3C//DTD SVG 1.1//EN\"\n  \"http://www.w3.org/Graphics/SVG/1.1/DTD/svg11.dtd\">\n<!-- Created with matplotlib (https://matplotlib.org/) -->\n<svg height=\"118.198357pt\" version=\"1.1\" viewBox=\"0 0 520.1 118.198357\" width=\"520.1pt\" xmlns=\"http://www.w3.org/2000/svg\" xmlns:xlink=\"http://www.w3.org/1999/xlink\">\n <metadata>\n  <rdf:RDF xmlns:cc=\"http://creativecommons.org/ns#\" xmlns:dc=\"http://purl.org/dc/elements/1.1/\" xmlns:rdf=\"http://www.w3.org/1999/02/22-rdf-syntax-ns#\">\n   <cc:Work>\n    <dc:type rdf:resource=\"http://purl.org/dc/dcmitype/StillImage\"/>\n    <dc:date>2022-02-04T03:29:52.060694</dc:date>\n    <dc:format>image/svg+xml</dc:format>\n    <dc:creator>\n     <cc:Agent>\n      <dc:title>Matplotlib v3.3.3, https://matplotlib.org/</dc:title>\n     </cc:Agent>\n    </dc:creator>\n   </cc:Work>\n  </rdf:RDF>\n </metadata>\n <defs>\n  <style type=\"text/css\">*{stroke-linecap:butt;stroke-linejoin:round;}</style>\n </defs>\n <g id=\"figure_1\">\n  <g id=\"patch_1\">\n   <path d=\"M 0 118.198357 \nL 520.1 118.198357 \nL 520.1 0 \nL 0 0 \nz\n\" style=\"fill:none;\"/>\n  </g>\n  <g id=\"axes_1\">\n   <g id=\"patch_2\">\n    <path d=\"M 10.7 107.498357 \nL 82.442857 107.498357 \nL 82.442857 35.7555 \nL 10.7 35.7555 \nz\n\" style=\"fill:#ffffff;\"/>\n   </g>\n   <g clip-path=\"url(#p36bff5cf10)\">\n    <image height=\"72\" id=\"image55f5854165\" transform=\"scale(1 -1)translate(0 -72)\" width=\"72\" x=\"10.7\" xlink:href=\"data:image/png;base64,\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\" y=\"-35.498357\"/>\n   </g>\n   <g id=\"patch_3\">\n    <path d=\"M 10.7 107.498357 \nL 10.7 35.7555 \n\" style=\"fill:none;stroke:#000000;stroke-linecap:square;stroke-linejoin:miter;stroke-width:0.8;\"/>\n   </g>\n   <g id=\"patch_4\">\n    <path d=\"M 82.442857 107.498357 \nL 82.442857 35.7555 \n\" style=\"fill:none;stroke:#000000;stroke-linecap:square;stroke-linejoin:miter;stroke-width:0.8;\"/>\n   </g>\n   <g id=\"patch_5\">\n    <path d=\"M 10.7 107.498357 \nL 82.442857 107.498357 \n\" style=\"fill:none;stroke:#000000;stroke-linecap:square;stroke-linejoin:miter;stroke-width:0.8;\"/>\n   </g>\n   <g id=\"patch_6\">\n    <path d=\"M 10.7 35.7555 \nL 82.442857 35.7555 \n\" style=\"fill:none;stroke:#000000;stroke-linecap:square;stroke-linejoin:miter;stroke-width:0.8;\"/>\n   </g>\n   <g id=\"text_1\">\n    <!-- ankle boot -->\n    <g transform=\"translate(14.848304 16.318125)scale(0.12 -0.12)\">\n     <defs>\n      <path d=\"M 34.28125 27.484375 \nQ 23.390625 27.484375 19.1875 25 \nQ 14.984375 22.515625 14.984375 16.5 \nQ 14.984375 11.71875 18.140625 8.90625 \nQ 21.296875 6.109375 26.703125 6.109375 \nQ 34.1875 6.109375 38.703125 11.40625 \nQ 43.21875 16.703125 43.21875 25.484375 \nL 43.21875 27.484375 \nz\nM 52.203125 31.203125 \nL 52.203125 0 \nL 43.21875 0 \nL 43.21875 8.296875 \nQ 40.140625 3.328125 35.546875 0.953125 \nQ 30.953125 -1.421875 24.3125 -1.421875 \nQ 15.921875 -1.421875 10.953125 3.296875 \nQ 6 8.015625 6 15.921875 \nQ 6 25.140625 12.171875 29.828125 \nQ 18.359375 34.515625 30.609375 34.515625 \nL 43.21875 34.515625 \nL 43.21875 35.40625 \nQ 43.21875 41.609375 39.140625 45 \nQ 35.0625 48.390625 27.6875 48.390625 \nQ 23 48.390625 18.546875 47.265625 \nQ 14.109375 46.140625 10.015625 43.890625 \nL 10.015625 52.203125 \nQ 14.9375 54.109375 19.578125 55.046875 \nQ 24.21875 56 28.609375 56 \nQ 40.484375 56 46.34375 49.84375 \nQ 52.203125 43.703125 52.203125 31.203125 \nz\n\" id=\"DejaVuSans-97\"/>\n      <path d=\"M 54.890625 33.015625 \nL 54.890625 0 \nL 45.90625 0 \nL 45.90625 32.71875 \nQ 45.90625 40.484375 42.875 44.328125 \nQ 39.84375 48.1875 33.796875 48.1875 \nQ 26.515625 48.1875 22.3125 43.546875 \nQ 18.109375 38.921875 18.109375 30.90625 \nL 18.109375 0 \nL 9.078125 0 \nL 9.078125 54.6875 \nL 18.109375 54.6875 \nL 18.109375 46.1875 \nQ 21.34375 51.125 25.703125 53.5625 \nQ 30.078125 56 35.796875 56 \nQ 45.21875 56 50.046875 50.171875 \nQ 54.890625 44.34375 54.890625 33.015625 \nz\n\" id=\"DejaVuSans-110\"/>\n      <path d=\"M 9.078125 75.984375 \nL 18.109375 75.984375 \nL 18.109375 31.109375 \nL 44.921875 54.6875 \nL 56.390625 54.6875 \nL 27.390625 29.109375 \nL 57.625 0 \nL 45.90625 0 \nL 18.109375 26.703125 \nL 18.109375 0 \nL 9.078125 0 \nz\n\" id=\"DejaVuSans-107\"/>\n      <path d=\"M 9.421875 75.984375 \nL 18.40625 75.984375 \nL 18.40625 0 \nL 9.421875 0 \nz\n\" id=\"DejaVuSans-108\"/>\n      <path d=\"M 56.203125 29.59375 \nL 56.203125 25.203125 \nL 14.890625 25.203125 \nQ 15.484375 15.921875 20.484375 11.0625 \nQ 25.484375 6.203125 34.421875 6.203125 \nQ 39.59375 6.203125 44.453125 7.46875 \nQ 49.3125 8.734375 54.109375 11.28125 \nL 54.109375 2.78125 \nQ 49.265625 0.734375 44.1875 -0.34375 \nQ 39.109375 -1.421875 33.890625 -1.421875 \nQ 20.796875 -1.421875 13.15625 6.1875 \nQ 5.515625 13.8125 5.515625 26.8125 \nQ 5.515625 40.234375 12.765625 48.109375 \nQ 20.015625 56 32.328125 56 \nQ 43.359375 56 49.78125 48.890625 \nQ 56.203125 41.796875 56.203125 29.59375 \nz\nM 47.21875 32.234375 \nQ 47.125 39.59375 43.09375 43.984375 \nQ 39.0625 48.390625 32.421875 48.390625 \nQ 24.90625 48.390625 20.390625 44.140625 \nQ 15.875 39.890625 15.1875 32.171875 \nz\n\" id=\"DejaVuSans-101\"/>\n      <path id=\"DejaVuSans-32\"/>\n      <path d=\"M 48.6875 27.296875 \nQ 48.6875 37.203125 44.609375 42.84375 \nQ 40.53125 48.484375 33.40625 48.484375 \nQ 26.265625 48.484375 22.1875 42.84375 \nQ 18.109375 37.203125 18.109375 27.296875 \nQ 18.109375 17.390625 22.1875 11.75 \nQ 26.265625 6.109375 33.40625 6.109375 \nQ 40.53125 6.109375 44.609375 11.75 \nQ 48.6875 17.390625 48.6875 27.296875 \nz\nM 18.109375 46.390625 \nQ 20.953125 51.265625 25.265625 53.625 \nQ 29.59375 56 35.59375 56 \nQ 45.5625 56 51.78125 48.09375 \nQ 58.015625 40.1875 58.015625 27.296875 \nQ 58.015625 14.40625 51.78125 6.484375 \nQ 45.5625 -1.421875 35.59375 -1.421875 \nQ 29.59375 -1.421875 25.265625 0.953125 \nQ 20.953125 3.328125 18.109375 8.203125 \nL 18.109375 0 \nL 9.078125 0 \nL 9.078125 75.984375 \nL 18.109375 75.984375 \nz\n\" id=\"DejaVuSans-98\"/>\n      <path d=\"M 30.609375 48.390625 \nQ 23.390625 48.390625 19.1875 42.75 \nQ 14.984375 37.109375 14.984375 27.296875 \nQ 14.984375 17.484375 19.15625 11.84375 \nQ 23.34375 6.203125 30.609375 6.203125 \nQ 37.796875 6.203125 41.984375 11.859375 \nQ 46.1875 17.53125 46.1875 27.296875 \nQ 46.1875 37.015625 41.984375 42.703125 \nQ 37.796875 48.390625 30.609375 48.390625 \nz\nM 30.609375 56 \nQ 42.328125 56 49.015625 48.375 \nQ 55.71875 40.765625 55.71875 27.296875 \nQ 55.71875 13.875 49.015625 6.21875 \nQ 42.328125 -1.421875 30.609375 -1.421875 \nQ 18.84375 -1.421875 12.171875 6.21875 \nQ 5.515625 13.875 5.515625 27.296875 \nQ 5.515625 40.765625 12.171875 48.375 \nQ 18.84375 56 30.609375 56 \nz\n\" id=\"DejaVuSans-111\"/>\n      <path d=\"M 18.3125 70.21875 \nL 18.3125 54.6875 \nL 36.8125 54.6875 \nL 36.8125 47.703125 \nL 18.3125 47.703125 \nL 18.3125 18.015625 \nQ 18.3125 11.328125 20.140625 9.421875 \nQ 21.96875 7.515625 27.59375 7.515625 \nL 36.8125 7.515625 \nL 36.8125 0 \nL 27.59375 0 \nQ 17.1875 0 13.234375 3.875 \nQ 9.28125 7.765625 9.28125 18.015625 \nL 9.28125 47.703125 \nL 2.6875 47.703125 \nL 2.6875 54.6875 \nL 9.28125 54.6875 \nL 9.28125 70.21875 \nz\n\" id=\"DejaVuSans-116\"/>\n     </defs>\n     <use xlink:href=\"#DejaVuSans-97\"/>\n     <use x=\"61.279297\" xlink:href=\"#DejaVuSans-110\"/>\n     <use x=\"124.658203\" xlink:href=\"#DejaVuSans-107\"/>\n     <use x=\"182.568359\" xlink:href=\"#DejaVuSans-108\"/>\n     <use x=\"210.351562\" xlink:href=\"#DejaVuSans-101\"/>\n     <use x=\"271.875\" xlink:href=\"#DejaVuSans-32\"/>\n     <use x=\"303.662109\" xlink:href=\"#DejaVuSans-98\"/>\n     <use x=\"367.138672\" xlink:href=\"#DejaVuSans-111\"/>\n     <use x=\"428.320312\" xlink:href=\"#DejaVuSans-111\"/>\n     <use x=\"489.501953\" xlink:href=\"#DejaVuSans-116\"/>\n    </g>\n    <!-- ankle boot -->\n    <g transform=\"translate(14.848304 29.7555)scale(0.12 -0.12)\">\n     <use xlink:href=\"#DejaVuSans-97\"/>\n     <use x=\"61.279297\" xlink:href=\"#DejaVuSans-110\"/>\n     <use x=\"124.658203\" xlink:href=\"#DejaVuSans-107\"/>\n     <use x=\"182.568359\" xlink:href=\"#DejaVuSans-108\"/>\n     <use x=\"210.351562\" xlink:href=\"#DejaVuSans-101\"/>\n     <use x=\"271.875\" xlink:href=\"#DejaVuSans-32\"/>\n     <use x=\"303.662109\" xlink:href=\"#DejaVuSans-98\"/>\n     <use x=\"367.138672\" xlink:href=\"#DejaVuSans-111\"/>\n     <use x=\"428.320312\" xlink:href=\"#DejaVuSans-111\"/>\n     <use x=\"489.501953\" xlink:href=\"#DejaVuSans-116\"/>\n    </g>\n   </g>\n  </g>\n  <g id=\"axes_2\">\n   <g id=\"patch_7\">\n    <path d=\"M 96.791429 107.498357 \nL 168.534286 107.498357 \nL 168.534286 35.7555 \nL 96.791429 35.7555 \nz\n\" style=\"fill:#ffffff;\"/>\n   </g>\n   <g clip-path=\"url(#pcc6a92c95a)\">\n    <image height=\"72\" id=\"imagea86003244c\" transform=\"scale(1 -1)translate(0 -72)\" width=\"72\" x=\"96.791429\" xlink:href=\"data:image/png;base64,\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\" y=\"-35.498357\"/>\n   </g>\n   <g id=\"patch_8\">\n    <path d=\"M 96.791429 107.498357 \nL 96.791429 35.7555 \n\" style=\"fill:none;stroke:#000000;stroke-linecap:square;stroke-linejoin:miter;stroke-width:0.8;\"/>\n   </g>\n   <g id=\"patch_9\">\n    <path d=\"M 168.534286 107.498357 \nL 168.534286 35.7555 \n\" style=\"fill:none;stroke:#000000;stroke-linecap:square;stroke-linejoin:miter;stroke-width:0.8;\"/>\n   </g>\n   <g id=\"patch_10\">\n    <path d=\"M 96.791429 107.498357 \nL 168.534286 107.498357 \n\" style=\"fill:none;stroke:#000000;stroke-linecap:square;stroke-linejoin:miter;stroke-width:0.8;\"/>\n   </g>\n   <g id=\"patch_11\">\n    <path d=\"M 96.791429 35.7555 \nL 168.534286 35.7555 \n\" style=\"fill:none;stroke:#000000;stroke-linecap:square;stroke-linejoin:miter;stroke-width:0.8;\"/>\n   </g>\n   <g id=\"text_2\">\n    <!-- pullover -->\n    <g transform=\"translate(108.336607 16.318125)scale(0.12 -0.12)\">\n     <defs>\n      <path d=\"M 18.109375 8.203125 \nL 18.109375 -20.796875 \nL 9.078125 -20.796875 \nL 9.078125 54.6875 \nL 18.109375 54.6875 \nL 18.109375 46.390625 \nQ 20.953125 51.265625 25.265625 53.625 \nQ 29.59375 56 35.59375 56 \nQ 45.5625 56 51.78125 48.09375 \nQ 58.015625 40.1875 58.015625 27.296875 \nQ 58.015625 14.40625 51.78125 6.484375 \nQ 45.5625 -1.421875 35.59375 -1.421875 \nQ 29.59375 -1.421875 25.265625 0.953125 \nQ 20.953125 3.328125 18.109375 8.203125 \nz\nM 48.6875 27.296875 \nQ 48.6875 37.203125 44.609375 42.84375 \nQ 40.53125 48.484375 33.40625 48.484375 \nQ 26.265625 48.484375 22.1875 42.84375 \nQ 18.109375 37.203125 18.109375 27.296875 \nQ 18.109375 17.390625 22.1875 11.75 \nQ 26.265625 6.109375 33.40625 6.109375 \nQ 40.53125 6.109375 44.609375 11.75 \nQ 48.6875 17.390625 48.6875 27.296875 \nz\n\" id=\"DejaVuSans-112\"/>\n      <path d=\"M 8.5 21.578125 \nL 8.5 54.6875 \nL 17.484375 54.6875 \nL 17.484375 21.921875 \nQ 17.484375 14.15625 20.5 10.265625 \nQ 23.53125 6.390625 29.59375 6.390625 \nQ 36.859375 6.390625 41.078125 11.03125 \nQ 45.3125 15.671875 45.3125 23.6875 \nL 45.3125 54.6875 \nL 54.296875 54.6875 \nL 54.296875 0 \nL 45.3125 0 \nL 45.3125 8.40625 \nQ 42.046875 3.421875 37.71875 1 \nQ 33.40625 -1.421875 27.6875 -1.421875 \nQ 18.265625 -1.421875 13.375 4.4375 \nQ 8.5 10.296875 8.5 21.578125 \nz\nM 31.109375 56 \nz\n\" id=\"DejaVuSans-117\"/>\n      <path d=\"M 2.984375 54.6875 \nL 12.5 54.6875 \nL 29.59375 8.796875 \nL 46.6875 54.6875 \nL 56.203125 54.6875 \nL 35.6875 0 \nL 23.484375 0 \nz\n\" id=\"DejaVuSans-118\"/>\n      <path d=\"M 41.109375 46.296875 \nQ 39.59375 47.171875 37.8125 47.578125 \nQ 36.03125 48 33.890625 48 \nQ 26.265625 48 22.1875 43.046875 \nQ 18.109375 38.09375 18.109375 28.8125 \nL 18.109375 0 \nL 9.078125 0 \nL 9.078125 54.6875 \nL 18.109375 54.6875 \nL 18.109375 46.1875 \nQ 20.953125 51.171875 25.484375 53.578125 \nQ 30.03125 56 36.53125 56 \nQ 37.453125 56 38.578125 55.875 \nQ 39.703125 55.765625 41.0625 55.515625 \nz\n\" id=\"DejaVuSans-114\"/>\n     </defs>\n     <use xlink:href=\"#DejaVuSans-112\"/>\n     <use x=\"63.476562\" xlink:href=\"#DejaVuSans-117\"/>\n     <use x=\"126.855469\" xlink:href=\"#DejaVuSans-108\"/>\n     <use x=\"154.638672\" xlink:href=\"#DejaVuSans-108\"/>\n     <use x=\"182.421875\" xlink:href=\"#DejaVuSans-111\"/>\n     <use x=\"243.603516\" xlink:href=\"#DejaVuSans-118\"/>\n     <use x=\"302.783203\" xlink:href=\"#DejaVuSans-101\"/>\n     <use x=\"364.306641\" xlink:href=\"#DejaVuSans-114\"/>\n    </g>\n    <!-- pullover -->\n    <g transform=\"translate(108.336607 29.7555)scale(0.12 -0.12)\">\n     <use xlink:href=\"#DejaVuSans-112\"/>\n     <use x=\"63.476562\" xlink:href=\"#DejaVuSans-117\"/>\n     <use x=\"126.855469\" xlink:href=\"#DejaVuSans-108\"/>\n     <use x=\"154.638672\" xlink:href=\"#DejaVuSans-108\"/>\n     <use x=\"182.421875\" xlink:href=\"#DejaVuSans-111\"/>\n     <use x=\"243.603516\" xlink:href=\"#DejaVuSans-118\"/>\n     <use x=\"302.783203\" xlink:href=\"#DejaVuSans-101\"/>\n     <use x=\"364.306641\" xlink:href=\"#DejaVuSans-114\"/>\n    </g>\n   </g>\n  </g>\n  <g id=\"axes_3\">\n   <g id=\"patch_12\">\n    <path d=\"M 182.882857 107.498357 \nL 254.625714 107.498357 \nL 254.625714 35.7555 \nL 182.882857 35.7555 \nz\n\" style=\"fill:#ffffff;\"/>\n   </g>\n   <g clip-path=\"url(#pec528040c7)\">\n    <image height=\"72\" id=\"image24f57a92b1\" transform=\"scale(1 -1)translate(0 -72)\" width=\"72\" x=\"182.882857\" xlink:href=\"data:image/png;base64,\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\" y=\"-35.498357\"/>\n   </g>\n   <g id=\"patch_13\">\n    <path d=\"M 182.882857 107.498357 \nL 182.882857 35.7555 \n\" style=\"fill:none;stroke:#000000;stroke-linecap:square;stroke-linejoin:miter;stroke-width:0.8;\"/>\n   </g>\n   <g id=\"patch_14\">\n    <path d=\"M 254.625714 107.498357 \nL 254.625714 35.7555 \n\" style=\"fill:none;stroke:#000000;stroke-linecap:square;stroke-linejoin:miter;stroke-width:0.8;\"/>\n   </g>\n   <g id=\"patch_15\">\n    <path d=\"M 182.882857 107.498357 \nL 254.625714 107.498357 \n\" style=\"fill:none;stroke:#000000;stroke-linecap:square;stroke-linejoin:miter;stroke-width:0.8;\"/>\n   </g>\n   <g id=\"patch_16\">\n    <path d=\"M 182.882857 35.7555 \nL 254.625714 35.7555 \n\" style=\"fill:none;stroke:#000000;stroke-linecap:square;stroke-linejoin:miter;stroke-width:0.8;\"/>\n   </g>\n   <g id=\"text_3\">\n    <!-- trouser -->\n    <g transform=\"translate(197.312723 16.318125)scale(0.12 -0.12)\">\n     <defs>\n      <path d=\"M 44.28125 53.078125 \nL 44.28125 44.578125 \nQ 40.484375 46.53125 36.375 47.5 \nQ 32.28125 48.484375 27.875 48.484375 \nQ 21.1875 48.484375 17.84375 46.4375 \nQ 14.5 44.390625 14.5 40.28125 \nQ 14.5 37.15625 16.890625 35.375 \nQ 19.28125 33.59375 26.515625 31.984375 \nL 29.59375 31.296875 \nQ 39.15625 29.25 43.1875 25.515625 \nQ 47.21875 21.78125 47.21875 15.09375 \nQ 47.21875 7.46875 41.1875 3.015625 \nQ 35.15625 -1.421875 24.609375 -1.421875 \nQ 20.21875 -1.421875 15.453125 -0.5625 \nQ 10.6875 0.296875 5.421875 2 \nL 5.421875 11.28125 \nQ 10.40625 8.6875 15.234375 7.390625 \nQ 20.0625 6.109375 24.8125 6.109375 \nQ 31.15625 6.109375 34.5625 8.28125 \nQ 37.984375 10.453125 37.984375 14.40625 \nQ 37.984375 18.0625 35.515625 20.015625 \nQ 33.0625 21.96875 24.703125 23.78125 \nL 21.578125 24.515625 \nQ 13.234375 26.265625 9.515625 29.90625 \nQ 5.8125 33.546875 5.8125 39.890625 \nQ 5.8125 47.609375 11.28125 51.796875 \nQ 16.75 56 26.8125 56 \nQ 31.78125 56 36.171875 55.265625 \nQ 40.578125 54.546875 44.28125 53.078125 \nz\n\" id=\"DejaVuSans-115\"/>\n     </defs>\n     <use xlink:href=\"#DejaVuSans-116\"/>\n     <use x=\"39.208984\" xlink:href=\"#DejaVuSans-114\"/>\n     <use x=\"78.072266\" xlink:href=\"#DejaVuSans-111\"/>\n     <use x=\"139.253906\" xlink:href=\"#DejaVuSans-117\"/>\n     <use x=\"202.632812\" xlink:href=\"#DejaVuSans-115\"/>\n     <use x=\"254.732422\" xlink:href=\"#DejaVuSans-101\"/>\n     <use x=\"316.255859\" xlink:href=\"#DejaVuSans-114\"/>\n    </g>\n    <!-- trouser -->\n    <g transform=\"translate(197.312723 29.7555)scale(0.12 -0.12)\">\n     <use xlink:href=\"#DejaVuSans-116\"/>\n     <use x=\"39.208984\" xlink:href=\"#DejaVuSans-114\"/>\n     <use x=\"78.072266\" xlink:href=\"#DejaVuSans-111\"/>\n     <use x=\"139.253906\" xlink:href=\"#DejaVuSans-117\"/>\n     <use x=\"202.632812\" xlink:href=\"#DejaVuSans-115\"/>\n     <use x=\"254.732422\" xlink:href=\"#DejaVuSans-101\"/>\n     <use x=\"316.255859\" xlink:href=\"#DejaVuSans-114\"/>\n    </g>\n   </g>\n  </g>\n  <g id=\"axes_4\">\n   <g id=\"patch_17\">\n    <path d=\"M 268.974286 107.498357 \nL 340.717143 107.498357 \nL 340.717143 35.7555 \nL 268.974286 35.7555 \nz\n\" style=\"fill:#ffffff;\"/>\n   </g>\n   <g clip-path=\"url(#p3e9901c5f0)\">\n    <image height=\"72\" id=\"image74e3a580fd\" transform=\"scale(1 -1)translate(0 -72)\" width=\"72\" x=\"268.974286\" xlink:href=\"data:image/png;base64,\niVBORw0KGgoAAAANSUhEUgAAAEgAAABICAYAAABV7bNHAAAPQklEQVR4nN2bSW8k2XHHf/GWzKwqFsnu6W161DMty9rg7WDAgA8+2WcdDB8MG777G9ifSoA+gK6GZRgSvAiQIEsaS5amZ3rhUmRVLu9F+PCyqjjT3TOHYRKgAkgUmcxM5ouKF8s//iF/JX9jTCxuPscdHaL3j/n5397h0Z8+47cvj4g/nVOdw8N/WyP/8h9gr79K+OAJH/7dEzbf7PYnV4Gn30vE7//wjfdcp4RJn74VEXBuPMCJ4cQwByblkM+9HxDb/+wAJ/tnT6ikG1GQu/8Ol99+yOZewP3eBd95/J/88OB9/tWe0p1WHP2yZi4OLL92r1WRzUPlW+8/Yx565qHn1xd3OH//MQ+/8h7WdujJCZbSJO9+IwpKD454+YeR9r7xna/9mH88/gk/mv8Px/HP+en5A05+9BXmb7nX6or68SV///gHPAqnPA1n/Ff/iH/64B+4++QdwskaWa0mU5Cb5KmfEfMODaDRmPmBWgILGZj5nlkYUP8FL+mURgYaGZgLzKVDI2jtsSqUrTuR3IwPcoIFsGCoCRvraS3ixAjy+ra6KmJGzo6VNix0xqm2rK1GG6O9G5FBCf4LNPxlXn2yJ18REzBX/lvG0VomI3i0XPC5HhpUhVYjrUXWFujNY8FIjaC1R+QLHvAl5EYUlA4i7aNE/WDNvbhiMGOwYrxO3hKBnEdihVaBGDPHfk0jA1GUSjJWKcNCSDMPE1rQjWyx7tjz+Kuf8K3jT/igesHaoLeyKCeGvcECJAbcrCHNAk214a6/YOE6PEaUhF8kujuR+tyBn+57vhELUg/LquNudUkjAxlBcbt86E0iIuA95h3eGZVkPOVaj+F8Lo4/AHLbFRSFB7MV79UnVJJpzRcfJEoQBQFxn7YiqSrkYEGaeyqfcVL81WCOjFBVmXRQ/BDulvsg9XC3WnM/rIiSioLM4bDdwl+TGLC6QqMjOMWjOFEyQjZHFRK5NnIlyIRh/kYUJAqroeE0z2ktAqA49PPCl/NFSQG809322op3hnkmX8GNKMgPxm/WR3zY3uM0LxjM049WlN6SJUrwaBPIlSO6/Rbb+i/vFItakszfBQvK5ug0MJgnX/m3bw/zpbi1z7yhjidEbF+4Tig3kyg6qH1i5geyOdZaM1igcQO1S68pobyZQ0NR0FaJOjrobCUC4gybzj+X15j28UXMCZVLNG4g47jUmmxClMzMD2/OpJ1gXlBf/qif0aIXAzdm6Lc9kwYITnGjo93nQSUyvdUKpABFJV/a+qBiRd4pEhWbLokGbrAWq1ymcQNqpa7K5oiSiZJft6ARYDMvmIMgSjXWba1G1BxHVcts2ZJn3P5MuliB7qxAcTtH/VYnPd5n471b2d5b+UQVMhps0i12M3CHQa+BTiNRMlkdatvjDYszAzNEDVFIY+Z9aRWnec5pntPnQDaBiRH16RUkghgkdbQacRjRFfSvRCX35kVmRZLhspHUMZjnUmte5gNO0oI2B1QdotOGsZuxIEBNUBPWWoFWNG7gyG848F1xtJ8tOK/UV1kdrUVWOuPFsOQkzVn1NX0XCAOQ31KuXINMryAzsGIta6140R1wPjQ8Xbzkz45/zuN4wncXf4E0dbk8DeUeEcwJJsLlUPFJXvLj9Xv84OVTztuGF88O8aeB5qXBMEz2+jdiQWKGUizotJ9x0s542Kx4x19y6FpyZYgvuI4ldk7Xxhwom7DKM573Sz4+X9K2EX8WiOeOeGnYrbYgILTGL1/d5dVmzsevDkmryPmm4YPZH5cwD/DeI9zlBp59gnYdNm/o7kT6pVCbcJbn/OzsPu0vloS1UJ0JYW3UZxkm6mjADSmoOs9c/uqQi/qA2W8CB69g/e4R3/V/wqwaEIPVN45pXs2JZyvoOvJhw+VDR3cHauCj/ohffXSXR/8O1SqBll5i/WKD9f1k734zWywZvhMyDt+Bbw3fChfrmiF7TCDNhDQLxDHp0+DIjaB1CXGbXGGDw3eG3+iVZ+vvQGd1UHwLmKAe8qzkL8OrhiEYFbC5V8L9vK5BHMNhZP3ISIeZITt+tb4DWegPHBDwreL76XzPVm7GgrLiesHcWIvVZXuEcz+GeOgPIWwEQimu0tyR7iTcPKHqeLWZgwq5gUEFlwQbwES+qGv0peTGilWsHC6DG0ByUZIYpaQIBZpFBHFCjoJbJOrZQPCKAaKCZHCpbFuXDMmf33j8snJjpYYouCy4DsK6tHokj01FD9kZWskuxA8Hwrv3zljEnouhYsgeGYTQGqFVQpvxbUK6hE6opJuzINgpSnL53JYYRsF1rmI76uGwbllWLV6MrLJXdDIkWXHQOq0fmtaCriR8NpIXzMlua4kKgqHR0MrITemDIY48E35/+ZzaJV62i2JBSZCsJcRnRYZcfp9QprUgcYj3WHBFOYGC/RhlkVo+NRrWKLlmB8DnGr45f8bT5gVOjJQ8Lm+3arEeSQo5g97SMC9u7I462W2h3Va68tVIFiwXn7TNaUwYu7BjXrSt2qVAuBYcFj3i/aSNw+kUJFK6o1Uk167weSoj10KuQeN4mYLrS3vCd+x8ink49msG86gJOXnEQL2gUcizgHlHSIqITAYLTaggV1gX3u/AdXOlVWNe9jj01h8lGZ33nosYZV9jjdlAeY4HDSOnxsvtJFCJE9xiDrOGXLuihCy7fKgoBRyCOiv4/FV/a1t4VahcJoRMCpCrkiS6ThC7zZm099jBHF3OSbWMkWdPVkVL0mhWfIo4G0P/Pvb35lFzRJ+JMdOPW9QlITpGZU+LuU5mmzv6Sny9OwqjorYH7AD6/QWMXKCMExs7qbZz0hpK38wmJE/BlBbkHDqvScuKXEv5KraBSA3GsqGcMNQz1mXb3Ane8RdkBIdhVp6hQciVMSwcGgXXV8QQJuNLTxrFLLoSwQKfcsrbT1F2SjNvYzowKsjB3HUM5j/V9rFRkbkqqUOuHfHWUvDcSKEfmfJ2xYr258dFh20iuTUzoxlNTM3t8qBtBHNppO658RAHXD82NOkWsxF4Vy+jhYyWdMXXmJS6yyob6XR7C1qMYV4RcnYgY/6koKk4fXNSCJ/eF6L+G9j6X2oZ1/q0z8qW/jv+vHOyIrsZjZ0lbQlRMSBNjZX0aUec0rFY3WXhW+sT9lY0gUyXB40+SONIIh8XpAG0Gj/jiAPVhlRKmhnte0tq/x5pqXgpHY0uBXLyJTfyILFsM8mGhULBE+8hZ647NZrUB+22l6NYzzYLjlu/UxRlwZCghT1/J4AusNmeZpXMYfmKD9K9szbPPmOfgO06oQ8aG38jpCoqGPsyQvQKspi228cY5g6XAq7u8ZSObFaHZYfLUvCkLZa0y6GkWOwE22zSWixXbheOZRDElcWZFNg0rMvP/aGQVbBgbB4Iw9JzuNzgR4fdZQ+DIKNj3gJuu+gfCuFT+v7ai9aJAbN9/iM2RuAdWFZw5d2s3DhVp6FgQbOwj0a29ehXU+3J5ySLTKcgU1wyXKI411gimBsgXBTY1PclKl0d+NkqL6vQmtFa2FNkxHbb1vyVCJkyDGmSFvR0CtKCG/vBECvbB8rWipe2w5bNg+RxpVsLU0jZ05rQWtzh0TAqxq4AbwAple7qBNX9pNV8rl0ZWQoj1EFZlFaUpNePjcTaCM1AEqN7xzEMwpODS+I4uNLEBFHReuy0OkF7cGkkeW6j2K2yoBBo73rWjwqC6NqxWxGhO5adL9IA6X7PN+6/wjslPFWCZP7y3k84do6V9Tycrzg5ntPVkd5HXD9miwKpEaypCn0mZ+yamTCThvlclU6oetvBGxYgb6P9qCA/S9xp1ixDx+PmlLnr+Xr1DCeCx5iHgTomcnb0lUddGZDRUI5COveTIIuTZtLbKGYR0szAG0MoBPCdeOPJO2c8mZ0w9z0P4jmNFDP4OCsvdcEidBzPNyybjn7p2fSRc12C+dIJgUKBmaBHNm0mPcZwjYYtE67K3Dm65O58s+NMe6d8+/AZX599TCM9h74lSkJx/DodcpoXHPiOd+fnLELP3eqSVWr4fvcNhmFOmjkww9Jti2JXxDz4OhOrxGHTcb+52DHOgigzP1CNlXu2wt7IlNGnwTzBlWsWoWPpWwCqKtFXigW3z6QnePfJFWQCOss8uXfKcbPh24fPeL9+yVorToYFAEdhTR4Zr89TTaaQzD3KYJ6567lXX3DkNzyuTljlGY8OV/xvF+gPD7AqTtYfmzyTBqBSHsxXPGgu+Gr9nKfVC861IUreKQDKmEEZdPEjFq0FtJfM3PUsfcvStTiUO/WaF7MFl7WNrZ9prGjaPKgR0kLxdd7NajgxHGVAzmPoCMwvXEdvnsF5nOmOaO5EOQprPEqUXEbDtSbp2HH1kI4b4vq4YN1te63LmBRRHA5AjxLLeUflEk7KaKWXcjhRIrBwHcd+XRRkAY/SEgseDTwKZyzdhpXOeJkPWGlDGjuuWhmbexXoEVU/wMnJ9S7jWp/2GbERKRTK+NKW0ZrNjc64TP5cFX8FoB80oObw46y8Fx0J6VdGGHzplaW5x+L1f98TFqtGaEHWAT0WHtQr7oZLBvM8S0e0VrHWCjXHaZ6XuQugt1B8Ua55OSyY+YHHMYIrkz6v0gFneUbSMlRnlbK+H8kxUn8yv/b2z6QKcgNIJ5gJR37DnVFBZ+Pc6nrM8t40+dxZ4DzNyLgy34rQm2etFZscdxZIVIYlgKCzcO18xQmr+XEYpS+vfC+ueBROWWtNa5FLrVlrRTbH3PVjk9Cxyg2DBVqNXKYKgLXWXI5jnMV3GV0KtH2EwX0aPLtmmUxBpkrYQLwUzOAP6v/jsV/zXGtO85xX+YCL3ABwP5zztficS6v4mT4qgyup4WW74CLUfNwcESWz1nqXH110Fe15jbv0hdR5lRlyjTIpHuSHYkH9UKKTAq3F3VGsxe9yn7XWrLThLM05HxouhopePS+HBY0bxm1ZsdGKbgjQO1wvuKGMnku225MHWduy/OWG6rzmhT/gnw//muNmw1nX0PaRPnm6tsIUYv1H1FUiZcfmssYGB53Dbwrx4cPFA6QaiVUGJEd8HlicCfWJcfRhT7gY8B+9It2WzqptNoRffET8bQ3yLs/m93lRg+8Ko0wyNGlPh1HAZzjaFA7iVVMwF/bUOw8YVKtCB549H6j/+9fY6oI8wczGtKWGWoFex9HKQgHet26uUoFhe85eO1/+SDkpexLW7lDDcsYm8EH/D7Br4yv25pCWAAAAAElFTkSuQmCC\" y=\"-35.498357\"/>\n   </g>\n   <g id=\"patch_18\">\n    <path d=\"M 268.974286 107.498357 \nL 268.974286 35.7555 \n\" style=\"fill:none;stroke:#000000;stroke-linecap:square;stroke-linejoin:miter;stroke-width:0.8;\"/>\n   </g>\n   <g id=\"patch_19\">\n    <path d=\"M 340.717143 107.498357 \nL 340.717143 35.7555 \n\" style=\"fill:none;stroke:#000000;stroke-linecap:square;stroke-linejoin:miter;stroke-width:0.8;\"/>\n   </g>\n   <g id=\"patch_20\">\n    <path d=\"M 268.974286 107.498357 \nL 340.717143 107.498357 \n\" style=\"fill:none;stroke:#000000;stroke-linecap:square;stroke-linejoin:miter;stroke-width:0.8;\"/>\n   </g>\n   <g id=\"patch_21\">\n    <path d=\"M 268.974286 35.7555 \nL 340.717143 35.7555 \n\" style=\"fill:none;stroke:#000000;stroke-linecap:square;stroke-linejoin:miter;stroke-width:0.8;\"/>\n   </g>\n   <g id=\"text_4\">\n    <!-- trouser -->\n    <g transform=\"translate(283.404152 16.318125)scale(0.12 -0.12)\">\n     <use xlink:href=\"#DejaVuSans-116\"/>\n     <use x=\"39.208984\" xlink:href=\"#DejaVuSans-114\"/>\n     <use x=\"78.072266\" xlink:href=\"#DejaVuSans-111\"/>\n     <use x=\"139.253906\" xlink:href=\"#DejaVuSans-117\"/>\n     <use x=\"202.632812\" xlink:href=\"#DejaVuSans-115\"/>\n     <use x=\"254.732422\" xlink:href=\"#DejaVuSans-101\"/>\n     <use x=\"316.255859\" xlink:href=\"#DejaVuSans-114\"/>\n    </g>\n    <!-- trouser -->\n    <g transform=\"translate(283.404152 29.7555)scale(0.12 -0.12)\">\n     <use xlink:href=\"#DejaVuSans-116\"/>\n     <use x=\"39.208984\" xlink:href=\"#DejaVuSans-114\"/>\n     <use x=\"78.072266\" xlink:href=\"#DejaVuSans-111\"/>\n     <use x=\"139.253906\" xlink:href=\"#DejaVuSans-117\"/>\n     <use x=\"202.632812\" xlink:href=\"#DejaVuSans-115\"/>\n     <use x=\"254.732422\" xlink:href=\"#DejaVuSans-101\"/>\n     <use x=\"316.255859\" xlink:href=\"#DejaVuSans-114\"/>\n    </g>\n   </g>\n  </g>\n  <g id=\"axes_5\">\n   <g id=\"patch_22\">\n    <path d=\"M 355.065714 107.498357 \nL 426.808571 107.498357 \nL 426.808571 35.7555 \nL 355.065714 35.7555 \nz\n\" style=\"fill:#ffffff;\"/>\n   </g>\n   <g clip-path=\"url(#p01f13be9ba)\">\n    <image height=\"72\" id=\"image2f14156780\" transform=\"scale(1 -1)translate(0 -72)\" width=\"72\" x=\"355.065714\" xlink:href=\"data:image/png;base64,\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\" y=\"-35.498357\"/>\n   </g>\n   <g id=\"patch_23\">\n    <path d=\"M 355.065714 107.498357 \nL 355.065714 35.7555 \n\" style=\"fill:none;stroke:#000000;stroke-linecap:square;stroke-linejoin:miter;stroke-width:0.8;\"/>\n   </g>\n   <g id=\"patch_24\">\n    <path d=\"M 426.808571 107.498357 \nL 426.808571 35.7555 \n\" style=\"fill:none;stroke:#000000;stroke-linecap:square;stroke-linejoin:miter;stroke-width:0.8;\"/>\n   </g>\n   <g id=\"patch_25\">\n    <path d=\"M 355.065714 107.498357 \nL 426.808571 107.498357 \n\" style=\"fill:none;stroke:#000000;stroke-linecap:square;stroke-linejoin:miter;stroke-width:0.8;\"/>\n   </g>\n   <g id=\"patch_26\">\n    <path d=\"M 355.065714 35.7555 \nL 426.808571 35.7555 \n\" style=\"fill:none;stroke:#000000;stroke-linecap:square;stroke-linejoin:miter;stroke-width:0.8;\"/>\n   </g>\n   <g id=\"text_5\">\n    <!-- shirt -->\n    <g transform=\"translate(377.523393 16.318125)scale(0.12 -0.12)\">\n     <defs>\n      <path d=\"M 54.890625 33.015625 \nL 54.890625 0 \nL 45.90625 0 \nL 45.90625 32.71875 \nQ 45.90625 40.484375 42.875 44.328125 \nQ 39.84375 48.1875 33.796875 48.1875 \nQ 26.515625 48.1875 22.3125 43.546875 \nQ 18.109375 38.921875 18.109375 30.90625 \nL 18.109375 0 \nL 9.078125 0 \nL 9.078125 75.984375 \nL 18.109375 75.984375 \nL 18.109375 46.1875 \nQ 21.34375 51.125 25.703125 53.5625 \nQ 30.078125 56 35.796875 56 \nQ 45.21875 56 50.046875 50.171875 \nQ 54.890625 44.34375 54.890625 33.015625 \nz\n\" id=\"DejaVuSans-104\"/>\n      <path d=\"M 9.421875 54.6875 \nL 18.40625 54.6875 \nL 18.40625 0 \nL 9.421875 0 \nz\nM 9.421875 75.984375 \nL 18.40625 75.984375 \nL 18.40625 64.59375 \nL 9.421875 64.59375 \nz\n\" id=\"DejaVuSans-105\"/>\n     </defs>\n     <use xlink:href=\"#DejaVuSans-115\"/>\n     <use x=\"52.099609\" xlink:href=\"#DejaVuSans-104\"/>\n     <use x=\"115.478516\" xlink:href=\"#DejaVuSans-105\"/>\n     <use x=\"143.261719\" xlink:href=\"#DejaVuSans-114\"/>\n     <use x=\"184.375\" xlink:href=\"#DejaVuSans-116\"/>\n    </g>\n    <!-- shirt -->\n    <g transform=\"translate(377.523393 29.7555)scale(0.12 -0.12)\">\n     <use xlink:href=\"#DejaVuSans-115\"/>\n     <use x=\"52.099609\" xlink:href=\"#DejaVuSans-104\"/>\n     <use x=\"115.478516\" xlink:href=\"#DejaVuSans-105\"/>\n     <use x=\"143.261719\" xlink:href=\"#DejaVuSans-114\"/>\n     <use x=\"184.375\" xlink:href=\"#DejaVuSans-116\"/>\n    </g>\n   </g>\n  </g>\n  <g id=\"axes_6\">\n   <g id=\"patch_27\">\n    <path d=\"M 441.157143 107.498357 \nL 512.9 107.498357 \nL 512.9 35.7555 \nL 441.157143 35.7555 \nz\n\" style=\"fill:#ffffff;\"/>\n   </g>\n   <g clip-path=\"url(#pe8d64dae83)\">\n    <image height=\"72\" id=\"image3eebb546b0\" transform=\"scale(1 -1)translate(0 -72)\" width=\"72\" x=\"441.157143\" xlink:href=\"data:image/png;base64,\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\" y=\"-35.498357\"/>\n   </g>\n   <g id=\"patch_28\">\n    <path d=\"M 441.157143 107.498357 \nL 441.157143 35.7555 \n\" style=\"fill:none;stroke:#000000;stroke-linecap:square;stroke-linejoin:miter;stroke-width:0.8;\"/>\n   </g>\n   <g id=\"patch_29\">\n    <path d=\"M 512.9 107.498357 \nL 512.9 35.7555 \n\" style=\"fill:none;stroke:#000000;stroke-linecap:square;stroke-linejoin:miter;stroke-width:0.8;\"/>\n   </g>\n   <g id=\"patch_30\">\n    <path d=\"M 441.157143 107.498357 \nL 512.9 107.498357 \n\" style=\"fill:none;stroke:#000000;stroke-linecap:square;stroke-linejoin:miter;stroke-width:0.8;\"/>\n   </g>\n   <g id=\"patch_31\">\n    <path d=\"M 441.157143 35.7555 \nL 512.9 35.7555 \n\" style=\"fill:none;stroke:#000000;stroke-linecap:square;stroke-linejoin:miter;stroke-width:0.8;\"/>\n   </g>\n   <g id=\"text_6\">\n    <!-- trouser -->\n    <g transform=\"translate(455.587009 16.318125)scale(0.12 -0.12)\">\n     <use xlink:href=\"#DejaVuSans-116\"/>\n     <use x=\"39.208984\" xlink:href=\"#DejaVuSans-114\"/>\n     <use x=\"78.072266\" xlink:href=\"#DejaVuSans-111\"/>\n     <use x=\"139.253906\" xlink:href=\"#DejaVuSans-117\"/>\n     <use x=\"202.632812\" xlink:href=\"#DejaVuSans-115\"/>\n     <use x=\"254.732422\" xlink:href=\"#DejaVuSans-101\"/>\n     <use x=\"316.255859\" xlink:href=\"#DejaVuSans-114\"/>\n    </g>\n    <!-- trouser -->\n    <g transform=\"translate(455.587009 29.7555)scale(0.12 -0.12)\">\n     <use xlink:href=\"#DejaVuSans-116\"/>\n     <use x=\"39.208984\" xlink:href=\"#DejaVuSans-114\"/>\n     <use x=\"78.072266\" xlink:href=\"#DejaVuSans-111\"/>\n     <use x=\"139.253906\" xlink:href=\"#DejaVuSans-117\"/>\n     <use x=\"202.632812\" xlink:href=\"#DejaVuSans-115\"/>\n     <use x=\"254.732422\" xlink:href=\"#DejaVuSans-101\"/>\n     <use x=\"316.255859\" xlink:href=\"#DejaVuSans-114\"/>\n    </g>\n   </g>\n  </g>\n </g>\n <defs>\n  <clipPath id=\"p36bff5cf10\">\n   <rect height=\"71.742857\" width=\"71.742857\" x=\"10.7\" y=\"35.7555\"/>\n  </clipPath>\n  <clipPath id=\"pcc6a92c95a\">\n   <rect height=\"71.742857\" width=\"71.742857\" x=\"96.791429\" y=\"35.7555\"/>\n  </clipPath>\n  <clipPath id=\"pec528040c7\">\n   <rect height=\"71.742857\" width=\"71.742857\" x=\"182.882857\" y=\"35.7555\"/>\n  </clipPath>\n  <clipPath id=\"p3e9901c5f0\">\n   <rect height=\"71.742857\" width=\"71.742857\" x=\"268.974286\" y=\"35.7555\"/>\n  </clipPath>\n  <clipPath id=\"p01f13be9ba\">\n   <rect height=\"71.742857\" width=\"71.742857\" x=\"355.065714\" y=\"35.7555\"/>\n  </clipPath>\n  <clipPath id=\"pe8d64dae83\">\n   <rect height=\"71.742857\" width=\"71.742857\" x=\"441.157143\" y=\"35.7555\"/>\n  </clipPath>\n </defs>\n</svg>\n"
          },
          "metadata": {
            "needs_background": "light"
          }
        }
      ]
    },
    {
      "cell_type": "markdown",
      "source": [
        "### 3-1-2 utilizing python library"
      ],
      "metadata": {
        "id": "aGgHW9ZIyVOG"
      }
    },
    {
      "cell_type": "code",
      "source": [
        "import torch\n",
        "from torch import nn\n",
        "from d2l import torch as d2l\n",
        "\n",
        "batch_size = 256\n",
        "train_iter, test_iter = d2l.load_data_fashion_mnist(batch_size)"
      ],
      "metadata": {
        "colab": {
          "base_uri": "https://localhost:8080/"
        },
        "id": "p_koaO-EyZ2-",
        "outputId": "872bb4b4-2648-4455-bbe0-9c365039d7c4"
      },
      "execution_count": 74,
      "outputs": [
        {
          "output_type": "stream",
          "name": "stderr",
          "text": [
            "/usr/local/lib/python3.7/dist-packages/torch/utils/data/dataloader.py:481: UserWarning: This DataLoader will create 4 worker processes in total. Our suggested max number of worker in current system is 2, which is smaller than what this DataLoader is going to create. Please be aware that excessive worker creation might get DataLoader running slow or even freeze, lower the worker number to avoid potential slowness/freeze if necessary.\n",
            "  cpuset_checked))\n"
          ]
        }
      ]
    },
    {
      "cell_type": "code",
      "source": [
        "# PyTorch does not implicitly reshape the inputs. Thus we define the flatten\n",
        "# layer to reshape the inputs before the linear layer in our network\n",
        "net = nn.Sequential(nn.Flatten(), nn.Linear(784, 10))\n",
        "\n",
        "def init_weights(m):\n",
        "    if type(m) == nn.Linear:\n",
        "        nn.init.normal_(m.weight, std=0.01)\n",
        "\n",
        "net.apply(init_weights);"
      ],
      "metadata": {
        "id": "6W8TY78YzLJL"
      },
      "execution_count": 75,
      "outputs": []
    },
    {
      "cell_type": "code",
      "source": [
        "loss = nn.CrossEntropyLoss(reduction='none')\n",
        "trainer = torch.optim.SGD(net.parameters(), lr=0.1)"
      ],
      "metadata": {
        "id": "I4Tj1ElwzU5Z"
      },
      "execution_count": 76,
      "outputs": []
    },
    {
      "cell_type": "code",
      "source": [
        "num_epochs = 10\n",
        "d2l.train_ch3(net, train_iter, test_iter, loss, num_epochs, trainer)"
      ],
      "metadata": {
        "colab": {
          "base_uri": "https://localhost:8080/",
          "height": 262
        },
        "id": "rkNxJ-0bzaqr",
        "outputId": "08cfb54c-5f85-4cfe-b038-02243f960827"
      },
      "execution_count": 77,
      "outputs": [
        {
          "output_type": "display_data",
          "data": {
            "text/plain": [
              "<Figure size 252x180 with 1 Axes>"
            ],
            "image/svg+xml": "<?xml version=\"1.0\" encoding=\"utf-8\" standalone=\"no\"?>\n<!DOCTYPE svg PUBLIC \"-//W3C//DTD SVG 1.1//EN\"\n  \"http://www.w3.org/Graphics/SVG/1.1/DTD/svg11.dtd\">\n<!-- Created with matplotlib (https://matplotlib.org/) -->\n<svg height=\"180.65625pt\" version=\"1.1\" viewBox=\"0 0 238.965625 180.65625\" width=\"238.965625pt\" xmlns=\"http://www.w3.org/2000/svg\" xmlns:xlink=\"http://www.w3.org/1999/xlink\">\n <metadata>\n  <rdf:RDF xmlns:cc=\"http://creativecommons.org/ns#\" xmlns:dc=\"http://purl.org/dc/elements/1.1/\" xmlns:rdf=\"http://www.w3.org/1999/02/22-rdf-syntax-ns#\">\n   <cc:Work>\n    <dc:type rdf:resource=\"http://purl.org/dc/dcmitype/StillImage\"/>\n    <dc:date>2022-02-04T03:37:22.193142</dc:date>\n    <dc:format>image/svg+xml</dc:format>\n    <dc:creator>\n     <cc:Agent>\n      <dc:title>Matplotlib v3.3.3, https://matplotlib.org/</dc:title>\n     </cc:Agent>\n    </dc:creator>\n   </cc:Work>\n  </rdf:RDF>\n </metadata>\n <defs>\n  <style type=\"text/css\">*{stroke-linecap:butt;stroke-linejoin:round;}</style>\n </defs>\n <g id=\"figure_1\">\n  <g id=\"patch_1\">\n   <path d=\"M 0 180.65625 \nL 238.965625 180.65625 \nL 238.965625 0 \nL 0 0 \nz\n\" style=\"fill:none;\"/>\n  </g>\n  <g id=\"axes_1\">\n   <g id=\"patch_2\">\n    <path d=\"M 30.103125 143.1 \nL 225.403125 143.1 \nL 225.403125 7.2 \nL 30.103125 7.2 \nz\n\" style=\"fill:#ffffff;\"/>\n   </g>\n   <g id=\"matplotlib.axis_1\">\n    <g id=\"xtick_1\">\n     <g id=\"line2d_1\">\n      <path clip-path=\"url(#p708cf1e2ea)\" d=\"M 51.803125 143.1 \nL 51.803125 7.2 \n\" style=\"fill:none;stroke:#b0b0b0;stroke-linecap:square;stroke-width:0.8;\"/>\n     </g>\n     <g id=\"line2d_2\">\n      <defs>\n       <path d=\"M 0 0 \nL 0 3.5 \n\" id=\"m30b42c856c\" style=\"stroke:#000000;stroke-width:0.8;\"/>\n      </defs>\n      <g>\n       <use style=\"stroke:#000000;stroke-width:0.8;\" x=\"51.803125\" xlink:href=\"#m30b42c856c\" y=\"143.1\"/>\n      </g>\n     </g>\n     <g id=\"text_1\">\n      <!-- 2 -->\n      <g transform=\"translate(48.621875 157.698438)scale(0.1 -0.1)\">\n       <defs>\n        <path d=\"M 19.1875 8.296875 \nL 53.609375 8.296875 \nL 53.609375 0 \nL 7.328125 0 \nL 7.328125 8.296875 \nQ 12.9375 14.109375 22.625 23.890625 \nQ 32.328125 33.6875 34.8125 36.53125 \nQ 39.546875 41.84375 41.421875 45.53125 \nQ 43.3125 49.21875 43.3125 52.78125 \nQ 43.3125 58.59375 39.234375 62.25 \nQ 35.15625 65.921875 28.609375 65.921875 \nQ 23.96875 65.921875 18.8125 64.3125 \nQ 13.671875 62.703125 7.8125 59.421875 \nL 7.8125 69.390625 \nQ 13.765625 71.78125 18.9375 73 \nQ 24.125 74.21875 28.421875 74.21875 \nQ 39.75 74.21875 46.484375 68.546875 \nQ 53.21875 62.890625 53.21875 53.421875 \nQ 53.21875 48.921875 51.53125 44.890625 \nQ 49.859375 40.875 45.40625 35.40625 \nQ 44.1875 33.984375 37.640625 27.21875 \nQ 31.109375 20.453125 19.1875 8.296875 \nz\n\" id=\"DejaVuSans-50\"/>\n       </defs>\n       <use xlink:href=\"#DejaVuSans-50\"/>\n      </g>\n     </g>\n    </g>\n    <g id=\"xtick_2\">\n     <g id=\"line2d_3\">\n      <path clip-path=\"url(#p708cf1e2ea)\" d=\"M 95.203125 143.1 \nL 95.203125 7.2 \n\" style=\"fill:none;stroke:#b0b0b0;stroke-linecap:square;stroke-width:0.8;\"/>\n     </g>\n     <g id=\"line2d_4\">\n      <g>\n       <use style=\"stroke:#000000;stroke-width:0.8;\" x=\"95.203125\" xlink:href=\"#m30b42c856c\" y=\"143.1\"/>\n      </g>\n     </g>\n     <g id=\"text_2\">\n      <!-- 4 -->\n      <g transform=\"translate(92.021875 157.698438)scale(0.1 -0.1)\">\n       <defs>\n        <path d=\"M 37.796875 64.3125 \nL 12.890625 25.390625 \nL 37.796875 25.390625 \nz\nM 35.203125 72.90625 \nL 47.609375 72.90625 \nL 47.609375 25.390625 \nL 58.015625 25.390625 \nL 58.015625 17.1875 \nL 47.609375 17.1875 \nL 47.609375 0 \nL 37.796875 0 \nL 37.796875 17.1875 \nL 4.890625 17.1875 \nL 4.890625 26.703125 \nz\n\" id=\"DejaVuSans-52\"/>\n       </defs>\n       <use xlink:href=\"#DejaVuSans-52\"/>\n      </g>\n     </g>\n    </g>\n    <g id=\"xtick_3\">\n     <g id=\"line2d_5\">\n      <path clip-path=\"url(#p708cf1e2ea)\" d=\"M 138.603125 143.1 \nL 138.603125 7.2 \n\" style=\"fill:none;stroke:#b0b0b0;stroke-linecap:square;stroke-width:0.8;\"/>\n     </g>\n     <g id=\"line2d_6\">\n      <g>\n       <use style=\"stroke:#000000;stroke-width:0.8;\" x=\"138.603125\" xlink:href=\"#m30b42c856c\" y=\"143.1\"/>\n      </g>\n     </g>\n     <g id=\"text_3\">\n      <!-- 6 -->\n      <g transform=\"translate(135.421875 157.698438)scale(0.1 -0.1)\">\n       <defs>\n        <path d=\"M 33.015625 40.375 \nQ 26.375 40.375 22.484375 35.828125 \nQ 18.609375 31.296875 18.609375 23.390625 \nQ 18.609375 15.53125 22.484375 10.953125 \nQ 26.375 6.390625 33.015625 6.390625 \nQ 39.65625 6.390625 43.53125 10.953125 \nQ 47.40625 15.53125 47.40625 23.390625 \nQ 47.40625 31.296875 43.53125 35.828125 \nQ 39.65625 40.375 33.015625 40.375 \nz\nM 52.59375 71.296875 \nL 52.59375 62.3125 \nQ 48.875 64.0625 45.09375 64.984375 \nQ 41.3125 65.921875 37.59375 65.921875 \nQ 27.828125 65.921875 22.671875 59.328125 \nQ 17.53125 52.734375 16.796875 39.40625 \nQ 19.671875 43.65625 24.015625 45.921875 \nQ 28.375 48.1875 33.59375 48.1875 \nQ 44.578125 48.1875 50.953125 41.515625 \nQ 57.328125 34.859375 57.328125 23.390625 \nQ 57.328125 12.15625 50.6875 5.359375 \nQ 44.046875 -1.421875 33.015625 -1.421875 \nQ 20.359375 -1.421875 13.671875 8.265625 \nQ 6.984375 17.96875 6.984375 36.375 \nQ 6.984375 53.65625 15.1875 63.9375 \nQ 23.390625 74.21875 37.203125 74.21875 \nQ 40.921875 74.21875 44.703125 73.484375 \nQ 48.484375 72.75 52.59375 71.296875 \nz\n\" id=\"DejaVuSans-54\"/>\n       </defs>\n       <use xlink:href=\"#DejaVuSans-54\"/>\n      </g>\n     </g>\n    </g>\n    <g id=\"xtick_4\">\n     <g id=\"line2d_7\">\n      <path clip-path=\"url(#p708cf1e2ea)\" d=\"M 182.003125 143.1 \nL 182.003125 7.2 \n\" style=\"fill:none;stroke:#b0b0b0;stroke-linecap:square;stroke-width:0.8;\"/>\n     </g>\n     <g id=\"line2d_8\">\n      <g>\n       <use style=\"stroke:#000000;stroke-width:0.8;\" x=\"182.003125\" xlink:href=\"#m30b42c856c\" y=\"143.1\"/>\n      </g>\n     </g>\n     <g id=\"text_4\">\n      <!-- 8 -->\n      <g transform=\"translate(178.821875 157.698438)scale(0.1 -0.1)\">\n       <defs>\n        <path d=\"M 31.78125 34.625 \nQ 24.75 34.625 20.71875 30.859375 \nQ 16.703125 27.09375 16.703125 20.515625 \nQ 16.703125 13.921875 20.71875 10.15625 \nQ 24.75 6.390625 31.78125 6.390625 \nQ 38.8125 6.390625 42.859375 10.171875 \nQ 46.921875 13.96875 46.921875 20.515625 \nQ 46.921875 27.09375 42.890625 30.859375 \nQ 38.875 34.625 31.78125 34.625 \nz\nM 21.921875 38.8125 \nQ 15.578125 40.375 12.03125 44.71875 \nQ 8.5 49.078125 8.5 55.328125 \nQ 8.5 64.0625 14.71875 69.140625 \nQ 20.953125 74.21875 31.78125 74.21875 \nQ 42.671875 74.21875 48.875 69.140625 \nQ 55.078125 64.0625 55.078125 55.328125 \nQ 55.078125 49.078125 51.53125 44.71875 \nQ 48 40.375 41.703125 38.8125 \nQ 48.828125 37.15625 52.796875 32.3125 \nQ 56.78125 27.484375 56.78125 20.515625 \nQ 56.78125 9.90625 50.3125 4.234375 \nQ 43.84375 -1.421875 31.78125 -1.421875 \nQ 19.734375 -1.421875 13.25 4.234375 \nQ 6.78125 9.90625 6.78125 20.515625 \nQ 6.78125 27.484375 10.78125 32.3125 \nQ 14.796875 37.15625 21.921875 38.8125 \nz\nM 18.3125 54.390625 \nQ 18.3125 48.734375 21.84375 45.5625 \nQ 25.390625 42.390625 31.78125 42.390625 \nQ 38.140625 42.390625 41.71875 45.5625 \nQ 45.3125 48.734375 45.3125 54.390625 \nQ 45.3125 60.0625 41.71875 63.234375 \nQ 38.140625 66.40625 31.78125 66.40625 \nQ 25.390625 66.40625 21.84375 63.234375 \nQ 18.3125 60.0625 18.3125 54.390625 \nz\n\" id=\"DejaVuSans-56\"/>\n       </defs>\n       <use xlink:href=\"#DejaVuSans-56\"/>\n      </g>\n     </g>\n    </g>\n    <g id=\"xtick_5\">\n     <g id=\"line2d_9\">\n      <path clip-path=\"url(#p708cf1e2ea)\" d=\"M 225.403125 143.1 \nL 225.403125 7.2 \n\" style=\"fill:none;stroke:#b0b0b0;stroke-linecap:square;stroke-width:0.8;\"/>\n     </g>\n     <g id=\"line2d_10\">\n      <g>\n       <use style=\"stroke:#000000;stroke-width:0.8;\" x=\"225.403125\" xlink:href=\"#m30b42c856c\" y=\"143.1\"/>\n      </g>\n     </g>\n     <g id=\"text_5\">\n      <!-- 10 -->\n      <g transform=\"translate(219.040625 157.698438)scale(0.1 -0.1)\">\n       <defs>\n        <path d=\"M 12.40625 8.296875 \nL 28.515625 8.296875 \nL 28.515625 63.921875 \nL 10.984375 60.40625 \nL 10.984375 69.390625 \nL 28.421875 72.90625 \nL 38.28125 72.90625 \nL 38.28125 8.296875 \nL 54.390625 8.296875 \nL 54.390625 0 \nL 12.40625 0 \nz\n\" id=\"DejaVuSans-49\"/>\n        <path d=\"M 31.78125 66.40625 \nQ 24.171875 66.40625 20.328125 58.90625 \nQ 16.5 51.421875 16.5 36.375 \nQ 16.5 21.390625 20.328125 13.890625 \nQ 24.171875 6.390625 31.78125 6.390625 \nQ 39.453125 6.390625 43.28125 13.890625 \nQ 47.125 21.390625 47.125 36.375 \nQ 47.125 51.421875 43.28125 58.90625 \nQ 39.453125 66.40625 31.78125 66.40625 \nz\nM 31.78125 74.21875 \nQ 44.046875 74.21875 50.515625 64.515625 \nQ 56.984375 54.828125 56.984375 36.375 \nQ 56.984375 17.96875 50.515625 8.265625 \nQ 44.046875 -1.421875 31.78125 -1.421875 \nQ 19.53125 -1.421875 13.0625 8.265625 \nQ 6.59375 17.96875 6.59375 36.375 \nQ 6.59375 54.828125 13.0625 64.515625 \nQ 19.53125 74.21875 31.78125 74.21875 \nz\n\" id=\"DejaVuSans-48\"/>\n       </defs>\n       <use xlink:href=\"#DejaVuSans-49\"/>\n       <use x=\"63.623047\" xlink:href=\"#DejaVuSans-48\"/>\n      </g>\n     </g>\n    </g>\n    <g id=\"text_6\">\n     <!-- epoch -->\n     <g transform=\"translate(112.525 171.376563)scale(0.1 -0.1)\">\n      <defs>\n       <path d=\"M 56.203125 29.59375 \nL 56.203125 25.203125 \nL 14.890625 25.203125 \nQ 15.484375 15.921875 20.484375 11.0625 \nQ 25.484375 6.203125 34.421875 6.203125 \nQ 39.59375 6.203125 44.453125 7.46875 \nQ 49.3125 8.734375 54.109375 11.28125 \nL 54.109375 2.78125 \nQ 49.265625 0.734375 44.1875 -0.34375 \nQ 39.109375 -1.421875 33.890625 -1.421875 \nQ 20.796875 -1.421875 13.15625 6.1875 \nQ 5.515625 13.8125 5.515625 26.8125 \nQ 5.515625 40.234375 12.765625 48.109375 \nQ 20.015625 56 32.328125 56 \nQ 43.359375 56 49.78125 48.890625 \nQ 56.203125 41.796875 56.203125 29.59375 \nz\nM 47.21875 32.234375 \nQ 47.125 39.59375 43.09375 43.984375 \nQ 39.0625 48.390625 32.421875 48.390625 \nQ 24.90625 48.390625 20.390625 44.140625 \nQ 15.875 39.890625 15.1875 32.171875 \nz\n\" id=\"DejaVuSans-101\"/>\n       <path d=\"M 18.109375 8.203125 \nL 18.109375 -20.796875 \nL 9.078125 -20.796875 \nL 9.078125 54.6875 \nL 18.109375 54.6875 \nL 18.109375 46.390625 \nQ 20.953125 51.265625 25.265625 53.625 \nQ 29.59375 56 35.59375 56 \nQ 45.5625 56 51.78125 48.09375 \nQ 58.015625 40.1875 58.015625 27.296875 \nQ 58.015625 14.40625 51.78125 6.484375 \nQ 45.5625 -1.421875 35.59375 -1.421875 \nQ 29.59375 -1.421875 25.265625 0.953125 \nQ 20.953125 3.328125 18.109375 8.203125 \nz\nM 48.6875 27.296875 \nQ 48.6875 37.203125 44.609375 42.84375 \nQ 40.53125 48.484375 33.40625 48.484375 \nQ 26.265625 48.484375 22.1875 42.84375 \nQ 18.109375 37.203125 18.109375 27.296875 \nQ 18.109375 17.390625 22.1875 11.75 \nQ 26.265625 6.109375 33.40625 6.109375 \nQ 40.53125 6.109375 44.609375 11.75 \nQ 48.6875 17.390625 48.6875 27.296875 \nz\n\" id=\"DejaVuSans-112\"/>\n       <path d=\"M 30.609375 48.390625 \nQ 23.390625 48.390625 19.1875 42.75 \nQ 14.984375 37.109375 14.984375 27.296875 \nQ 14.984375 17.484375 19.15625 11.84375 \nQ 23.34375 6.203125 30.609375 6.203125 \nQ 37.796875 6.203125 41.984375 11.859375 \nQ 46.1875 17.53125 46.1875 27.296875 \nQ 46.1875 37.015625 41.984375 42.703125 \nQ 37.796875 48.390625 30.609375 48.390625 \nz\nM 30.609375 56 \nQ 42.328125 56 49.015625 48.375 \nQ 55.71875 40.765625 55.71875 27.296875 \nQ 55.71875 13.875 49.015625 6.21875 \nQ 42.328125 -1.421875 30.609375 -1.421875 \nQ 18.84375 -1.421875 12.171875 6.21875 \nQ 5.515625 13.875 5.515625 27.296875 \nQ 5.515625 40.765625 12.171875 48.375 \nQ 18.84375 56 30.609375 56 \nz\n\" id=\"DejaVuSans-111\"/>\n       <path d=\"M 48.78125 52.59375 \nL 48.78125 44.1875 \nQ 44.96875 46.296875 41.140625 47.34375 \nQ 37.3125 48.390625 33.40625 48.390625 \nQ 24.65625 48.390625 19.8125 42.84375 \nQ 14.984375 37.3125 14.984375 27.296875 \nQ 14.984375 17.28125 19.8125 11.734375 \nQ 24.65625 6.203125 33.40625 6.203125 \nQ 37.3125 6.203125 41.140625 7.25 \nQ 44.96875 8.296875 48.78125 10.40625 \nL 48.78125 2.09375 \nQ 45.015625 0.34375 40.984375 -0.53125 \nQ 36.96875 -1.421875 32.421875 -1.421875 \nQ 20.0625 -1.421875 12.78125 6.34375 \nQ 5.515625 14.109375 5.515625 27.296875 \nQ 5.515625 40.671875 12.859375 48.328125 \nQ 20.21875 56 33.015625 56 \nQ 37.15625 56 41.109375 55.140625 \nQ 45.0625 54.296875 48.78125 52.59375 \nz\n\" id=\"DejaVuSans-99\"/>\n       <path d=\"M 54.890625 33.015625 \nL 54.890625 0 \nL 45.90625 0 \nL 45.90625 32.71875 \nQ 45.90625 40.484375 42.875 44.328125 \nQ 39.84375 48.1875 33.796875 48.1875 \nQ 26.515625 48.1875 22.3125 43.546875 \nQ 18.109375 38.921875 18.109375 30.90625 \nL 18.109375 0 \nL 9.078125 0 \nL 9.078125 75.984375 \nL 18.109375 75.984375 \nL 18.109375 46.1875 \nQ 21.34375 51.125 25.703125 53.5625 \nQ 30.078125 56 35.796875 56 \nQ 45.21875 56 50.046875 50.171875 \nQ 54.890625 44.34375 54.890625 33.015625 \nz\n\" id=\"DejaVuSans-104\"/>\n      </defs>\n      <use xlink:href=\"#DejaVuSans-101\"/>\n      <use x=\"61.523438\" xlink:href=\"#DejaVuSans-112\"/>\n      <use x=\"125\" xlink:href=\"#DejaVuSans-111\"/>\n      <use x=\"186.181641\" xlink:href=\"#DejaVuSans-99\"/>\n      <use x=\"241.162109\" xlink:href=\"#DejaVuSans-104\"/>\n     </g>\n    </g>\n   </g>\n   <g id=\"matplotlib.axis_2\">\n    <g id=\"ytick_1\">\n     <g id=\"line2d_11\">\n      <path clip-path=\"url(#p708cf1e2ea)\" d=\"M 30.103125 120.45 \nL 225.403125 120.45 \n\" style=\"fill:none;stroke:#b0b0b0;stroke-linecap:square;stroke-width:0.8;\"/>\n     </g>\n     <g id=\"line2d_12\">\n      <defs>\n       <path d=\"M 0 0 \nL -3.5 0 \n\" id=\"m1ec4412423\" style=\"stroke:#000000;stroke-width:0.8;\"/>\n      </defs>\n      <g>\n       <use style=\"stroke:#000000;stroke-width:0.8;\" x=\"30.103125\" xlink:href=\"#m1ec4412423\" y=\"120.45\"/>\n      </g>\n     </g>\n     <g id=\"text_7\">\n      <!-- 0.4 -->\n      <g transform=\"translate(7.2 124.249219)scale(0.1 -0.1)\">\n       <defs>\n        <path d=\"M 10.6875 12.40625 \nL 21 12.40625 \nL 21 0 \nL 10.6875 0 \nz\n\" id=\"DejaVuSans-46\"/>\n       </defs>\n       <use xlink:href=\"#DejaVuSans-48\"/>\n       <use x=\"63.623047\" xlink:href=\"#DejaVuSans-46\"/>\n       <use x=\"95.410156\" xlink:href=\"#DejaVuSans-52\"/>\n      </g>\n     </g>\n    </g>\n    <g id=\"ytick_2\">\n     <g id=\"line2d_13\">\n      <path clip-path=\"url(#p708cf1e2ea)\" d=\"M 30.103125 75.15 \nL 225.403125 75.15 \n\" style=\"fill:none;stroke:#b0b0b0;stroke-linecap:square;stroke-width:0.8;\"/>\n     </g>\n     <g id=\"line2d_14\">\n      <g>\n       <use style=\"stroke:#000000;stroke-width:0.8;\" x=\"30.103125\" xlink:href=\"#m1ec4412423\" y=\"75.15\"/>\n      </g>\n     </g>\n     <g id=\"text_8\">\n      <!-- 0.6 -->\n      <g transform=\"translate(7.2 78.949219)scale(0.1 -0.1)\">\n       <use xlink:href=\"#DejaVuSans-48\"/>\n       <use x=\"63.623047\" xlink:href=\"#DejaVuSans-46\"/>\n       <use x=\"95.410156\" xlink:href=\"#DejaVuSans-54\"/>\n      </g>\n     </g>\n    </g>\n    <g id=\"ytick_3\">\n     <g id=\"line2d_15\">\n      <path clip-path=\"url(#p708cf1e2ea)\" d=\"M 30.103125 29.85 \nL 225.403125 29.85 \n\" style=\"fill:none;stroke:#b0b0b0;stroke-linecap:square;stroke-width:0.8;\"/>\n     </g>\n     <g id=\"line2d_16\">\n      <g>\n       <use style=\"stroke:#000000;stroke-width:0.8;\" x=\"30.103125\" xlink:href=\"#m1ec4412423\" y=\"29.85\"/>\n      </g>\n     </g>\n     <g id=\"text_9\">\n      <!-- 0.8 -->\n      <g transform=\"translate(7.2 33.649219)scale(0.1 -0.1)\">\n       <use xlink:href=\"#DejaVuSans-48\"/>\n       <use x=\"63.623047\" xlink:href=\"#DejaVuSans-46\"/>\n       <use x=\"95.410156\" xlink:href=\"#DejaVuSans-56\"/>\n      </g>\n     </g>\n    </g>\n   </g>\n   <g id=\"line2d_17\">\n    <path clip-path=\"url(#p708cf1e2ea)\" d=\"M 30.103125 33.255691 \nL 51.803125 81.924526 \nL 73.503125 92.033202 \nL 95.203125 97.490554 \nL 116.903125 101.310032 \nL 138.603125 103.715042 \nL 160.303125 105.730668 \nL 182.003125 107.099442 \nL 203.703125 108.853311 \nL 225.403125 109.735757 \n\" style=\"fill:none;stroke:#1f77b4;stroke-linecap:square;stroke-width:1.5;\"/>\n   </g>\n   <g id=\"line2d_18\">\n    <path clip-path=\"url(#p708cf1e2ea)\" d=\"M 30.103125 41.2958 \nL 51.803125 27.0716 \nL 73.503125 24.1724 \nL 95.203125 22.451 \nL 116.903125 21.465725 \nL 138.603125 20.937225 \nL 160.303125 20.19355 \nL 182.003125 19.8085 \nL 203.703125 19.253575 \nL 225.403125 19.117675 \n\" style=\"fill:none;stroke:#bf00bf;stroke-dasharray:5.55,2.4;stroke-dashoffset:0;stroke-width:1.5;\"/>\n   </g>\n   <g id=\"line2d_19\">\n    <path clip-path=\"url(#p708cf1e2ea)\" d=\"M 30.103125 34.38 \nL 51.803125 32.45475 \nL 73.503125 28.83075 \nL 95.203125 24.79905 \nL 116.903125 24.16485 \nL 138.603125 23.6892 \nL 160.303125 22.8738 \nL 182.003125 23.2362 \nL 203.703125 25.7277 \nL 225.403125 22.35285 \n\" style=\"fill:none;stroke:#008000;stroke-dasharray:9.6,2.4,1.5,2.4;stroke-dashoffset:0;stroke-width:1.5;\"/>\n   </g>\n   <g id=\"patch_3\">\n    <path d=\"M 30.103125 143.1 \nL 30.103125 7.2 \n\" style=\"fill:none;stroke:#000000;stroke-linecap:square;stroke-linejoin:miter;stroke-width:0.8;\"/>\n   </g>\n   <g id=\"patch_4\">\n    <path d=\"M 225.403125 143.1 \nL 225.403125 7.2 \n\" style=\"fill:none;stroke:#000000;stroke-linecap:square;stroke-linejoin:miter;stroke-width:0.8;\"/>\n   </g>\n   <g id=\"patch_5\">\n    <path d=\"M 30.103125 143.1 \nL 225.403125 143.1 \n\" style=\"fill:none;stroke:#000000;stroke-linecap:square;stroke-linejoin:miter;stroke-width:0.8;\"/>\n   </g>\n   <g id=\"patch_6\">\n    <path d=\"M 30.103125 7.2 \nL 225.403125 7.2 \n\" style=\"fill:none;stroke:#000000;stroke-linecap:square;stroke-linejoin:miter;stroke-width:0.8;\"/>\n   </g>\n   <g id=\"legend_1\">\n    <g id=\"patch_7\">\n     <path d=\"M 140.634375 98.667187 \nL 218.403125 98.667187 \nQ 220.403125 98.667187 220.403125 96.667187 \nL 220.403125 53.632812 \nQ 220.403125 51.632812 218.403125 51.632812 \nL 140.634375 51.632812 \nQ 138.634375 51.632812 138.634375 53.632812 \nL 138.634375 96.667187 \nQ 138.634375 98.667187 140.634375 98.667187 \nz\n\" style=\"fill:#ffffff;opacity:0.8;stroke:#cccccc;stroke-linejoin:miter;\"/>\n    </g>\n    <g id=\"line2d_20\">\n     <path d=\"M 142.634375 59.73125 \nL 162.634375 59.73125 \n\" style=\"fill:none;stroke:#1f77b4;stroke-linecap:square;stroke-width:1.5;\"/>\n    </g>\n    <g id=\"line2d_21\"/>\n    <g id=\"text_10\">\n     <!-- train loss -->\n     <g transform=\"translate(170.634375 63.23125)scale(0.1 -0.1)\">\n      <defs>\n       <path d=\"M 18.3125 70.21875 \nL 18.3125 54.6875 \nL 36.8125 54.6875 \nL 36.8125 47.703125 \nL 18.3125 47.703125 \nL 18.3125 18.015625 \nQ 18.3125 11.328125 20.140625 9.421875 \nQ 21.96875 7.515625 27.59375 7.515625 \nL 36.8125 7.515625 \nL 36.8125 0 \nL 27.59375 0 \nQ 17.1875 0 13.234375 3.875 \nQ 9.28125 7.765625 9.28125 18.015625 \nL 9.28125 47.703125 \nL 2.6875 47.703125 \nL 2.6875 54.6875 \nL 9.28125 54.6875 \nL 9.28125 70.21875 \nz\n\" id=\"DejaVuSans-116\"/>\n       <path d=\"M 41.109375 46.296875 \nQ 39.59375 47.171875 37.8125 47.578125 \nQ 36.03125 48 33.890625 48 \nQ 26.265625 48 22.1875 43.046875 \nQ 18.109375 38.09375 18.109375 28.8125 \nL 18.109375 0 \nL 9.078125 0 \nL 9.078125 54.6875 \nL 18.109375 54.6875 \nL 18.109375 46.1875 \nQ 20.953125 51.171875 25.484375 53.578125 \nQ 30.03125 56 36.53125 56 \nQ 37.453125 56 38.578125 55.875 \nQ 39.703125 55.765625 41.0625 55.515625 \nz\n\" id=\"DejaVuSans-114\"/>\n       <path d=\"M 34.28125 27.484375 \nQ 23.390625 27.484375 19.1875 25 \nQ 14.984375 22.515625 14.984375 16.5 \nQ 14.984375 11.71875 18.140625 8.90625 \nQ 21.296875 6.109375 26.703125 6.109375 \nQ 34.1875 6.109375 38.703125 11.40625 \nQ 43.21875 16.703125 43.21875 25.484375 \nL 43.21875 27.484375 \nz\nM 52.203125 31.203125 \nL 52.203125 0 \nL 43.21875 0 \nL 43.21875 8.296875 \nQ 40.140625 3.328125 35.546875 0.953125 \nQ 30.953125 -1.421875 24.3125 -1.421875 \nQ 15.921875 -1.421875 10.953125 3.296875 \nQ 6 8.015625 6 15.921875 \nQ 6 25.140625 12.171875 29.828125 \nQ 18.359375 34.515625 30.609375 34.515625 \nL 43.21875 34.515625 \nL 43.21875 35.40625 \nQ 43.21875 41.609375 39.140625 45 \nQ 35.0625 48.390625 27.6875 48.390625 \nQ 23 48.390625 18.546875 47.265625 \nQ 14.109375 46.140625 10.015625 43.890625 \nL 10.015625 52.203125 \nQ 14.9375 54.109375 19.578125 55.046875 \nQ 24.21875 56 28.609375 56 \nQ 40.484375 56 46.34375 49.84375 \nQ 52.203125 43.703125 52.203125 31.203125 \nz\n\" id=\"DejaVuSans-97\"/>\n       <path d=\"M 9.421875 54.6875 \nL 18.40625 54.6875 \nL 18.40625 0 \nL 9.421875 0 \nz\nM 9.421875 75.984375 \nL 18.40625 75.984375 \nL 18.40625 64.59375 \nL 9.421875 64.59375 \nz\n\" id=\"DejaVuSans-105\"/>\n       <path d=\"M 54.890625 33.015625 \nL 54.890625 0 \nL 45.90625 0 \nL 45.90625 32.71875 \nQ 45.90625 40.484375 42.875 44.328125 \nQ 39.84375 48.1875 33.796875 48.1875 \nQ 26.515625 48.1875 22.3125 43.546875 \nQ 18.109375 38.921875 18.109375 30.90625 \nL 18.109375 0 \nL 9.078125 0 \nL 9.078125 54.6875 \nL 18.109375 54.6875 \nL 18.109375 46.1875 \nQ 21.34375 51.125 25.703125 53.5625 \nQ 30.078125 56 35.796875 56 \nQ 45.21875 56 50.046875 50.171875 \nQ 54.890625 44.34375 54.890625 33.015625 \nz\n\" id=\"DejaVuSans-110\"/>\n       <path id=\"DejaVuSans-32\"/>\n       <path d=\"M 9.421875 75.984375 \nL 18.40625 75.984375 \nL 18.40625 0 \nL 9.421875 0 \nz\n\" id=\"DejaVuSans-108\"/>\n       <path d=\"M 44.28125 53.078125 \nL 44.28125 44.578125 \nQ 40.484375 46.53125 36.375 47.5 \nQ 32.28125 48.484375 27.875 48.484375 \nQ 21.1875 48.484375 17.84375 46.4375 \nQ 14.5 44.390625 14.5 40.28125 \nQ 14.5 37.15625 16.890625 35.375 \nQ 19.28125 33.59375 26.515625 31.984375 \nL 29.59375 31.296875 \nQ 39.15625 29.25 43.1875 25.515625 \nQ 47.21875 21.78125 47.21875 15.09375 \nQ 47.21875 7.46875 41.1875 3.015625 \nQ 35.15625 -1.421875 24.609375 -1.421875 \nQ 20.21875 -1.421875 15.453125 -0.5625 \nQ 10.6875 0.296875 5.421875 2 \nL 5.421875 11.28125 \nQ 10.40625 8.6875 15.234375 7.390625 \nQ 20.0625 6.109375 24.8125 6.109375 \nQ 31.15625 6.109375 34.5625 8.28125 \nQ 37.984375 10.453125 37.984375 14.40625 \nQ 37.984375 18.0625 35.515625 20.015625 \nQ 33.0625 21.96875 24.703125 23.78125 \nL 21.578125 24.515625 \nQ 13.234375 26.265625 9.515625 29.90625 \nQ 5.8125 33.546875 5.8125 39.890625 \nQ 5.8125 47.609375 11.28125 51.796875 \nQ 16.75 56 26.8125 56 \nQ 31.78125 56 36.171875 55.265625 \nQ 40.578125 54.546875 44.28125 53.078125 \nz\n\" id=\"DejaVuSans-115\"/>\n      </defs>\n      <use xlink:href=\"#DejaVuSans-116\"/>\n      <use x=\"39.208984\" xlink:href=\"#DejaVuSans-114\"/>\n      <use x=\"80.322266\" xlink:href=\"#DejaVuSans-97\"/>\n      <use x=\"141.601562\" xlink:href=\"#DejaVuSans-105\"/>\n      <use x=\"169.384766\" xlink:href=\"#DejaVuSans-110\"/>\n      <use x=\"232.763672\" xlink:href=\"#DejaVuSans-32\"/>\n      <use x=\"264.550781\" xlink:href=\"#DejaVuSans-108\"/>\n      <use x=\"292.333984\" xlink:href=\"#DejaVuSans-111\"/>\n      <use x=\"353.515625\" xlink:href=\"#DejaVuSans-115\"/>\n      <use x=\"405.615234\" xlink:href=\"#DejaVuSans-115\"/>\n     </g>\n    </g>\n    <g id=\"line2d_22\">\n     <path d=\"M 142.634375 74.409375 \nL 162.634375 74.409375 \n\" style=\"fill:none;stroke:#bf00bf;stroke-dasharray:5.55,2.4;stroke-dashoffset:0;stroke-width:1.5;\"/>\n    </g>\n    <g id=\"line2d_23\"/>\n    <g id=\"text_11\">\n     <!-- train acc -->\n     <g transform=\"translate(170.634375 77.909375)scale(0.1 -0.1)\">\n      <use xlink:href=\"#DejaVuSans-116\"/>\n      <use x=\"39.208984\" xlink:href=\"#DejaVuSans-114\"/>\n      <use x=\"80.322266\" xlink:href=\"#DejaVuSans-97\"/>\n      <use x=\"141.601562\" xlink:href=\"#DejaVuSans-105\"/>\n      <use x=\"169.384766\" xlink:href=\"#DejaVuSans-110\"/>\n      <use x=\"232.763672\" xlink:href=\"#DejaVuSans-32\"/>\n      <use x=\"264.550781\" xlink:href=\"#DejaVuSans-97\"/>\n      <use x=\"325.830078\" xlink:href=\"#DejaVuSans-99\"/>\n      <use x=\"380.810547\" xlink:href=\"#DejaVuSans-99\"/>\n     </g>\n    </g>\n    <g id=\"line2d_24\">\n     <path d=\"M 142.634375 89.0875 \nL 162.634375 89.0875 \n\" style=\"fill:none;stroke:#008000;stroke-dasharray:9.6,2.4,1.5,2.4;stroke-dashoffset:0;stroke-width:1.5;\"/>\n    </g>\n    <g id=\"line2d_25\"/>\n    <g id=\"text_12\">\n     <!-- test acc -->\n     <g transform=\"translate(170.634375 92.5875)scale(0.1 -0.1)\">\n      <use xlink:href=\"#DejaVuSans-116\"/>\n      <use x=\"39.208984\" xlink:href=\"#DejaVuSans-101\"/>\n      <use x=\"100.732422\" xlink:href=\"#DejaVuSans-115\"/>\n      <use x=\"152.832031\" xlink:href=\"#DejaVuSans-116\"/>\n      <use x=\"192.041016\" xlink:href=\"#DejaVuSans-32\"/>\n      <use x=\"223.828125\" xlink:href=\"#DejaVuSans-97\"/>\n      <use x=\"285.107422\" xlink:href=\"#DejaVuSans-99\"/>\n      <use x=\"340.087891\" xlink:href=\"#DejaVuSans-99\"/>\n     </g>\n    </g>\n   </g>\n  </g>\n </g>\n <defs>\n  <clipPath id=\"p708cf1e2ea\">\n   <rect height=\"135.9\" width=\"195.3\" x=\"30.103125\" y=\"7.2\"/>\n  </clipPath>\n </defs>\n</svg>\n"
          },
          "metadata": {
            "needs_background": "light"
          }
        }
      ]
    }
  ]
}