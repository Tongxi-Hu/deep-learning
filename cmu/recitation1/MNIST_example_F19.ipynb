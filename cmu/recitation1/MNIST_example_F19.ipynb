{
  "cells": [
    {
      "cell_type": "markdown",
      "metadata": {
        "id": "8Rnupwni9C3B"
      },
      "source": [
        "# PyTorch MNIST Example"
      ]
    },
    {
      "cell_type": "markdown",
      "metadata": {
        "id": "9vH0OH3f9C3B"
      },
      "source": [
        "The MNIST dataset is a large database of handwritten digits that is commonly used for training various image processing systems. The database is also widely used for training and testing in the field of machine learning. \n",
        "\n",
        "It consists of 60,000 training images and 10,000 testing images.\n",
        "\n",
        "![MNIST Examples](https://github.com/Tongxi-Hu/deep-learning/blob/main/cmu/recitation1/mnist.png?raw=1)"
      ]
    },
    {
      "cell_type": "markdown",
      "metadata": {
        "id": "zFjsCTb-9C3C"
      },
      "source": [
        "## Import all the necesary libraries"
      ]
    },
    {
      "cell_type": "code",
      "execution_count": 1,
      "metadata": {
        "id": "6Viyoeg79C3C",
        "outputId": "ea5b4bef-2c45-444e-f736-d2404d9ef50a",
        "colab": {
          "base_uri": "https://localhost:8080/"
        }
      },
      "outputs": [
        {
          "output_type": "execute_result",
          "data": {
            "text/plain": [
              "True"
            ]
          },
          "metadata": {},
          "execution_count": 1
        }
      ],
      "source": [
        "import numpy as np\n",
        "import torch\n",
        "import sys\n",
        "import torch.nn as nn\n",
        "import torch.nn.functional as F\n",
        "import torch.optim as optim\n",
        "\n",
        "from torch.utils import data\n",
        "from torchvision import transforms\n",
        "from torchvision.datasets import MNIST\n",
        "\n",
        "import matplotlib.pyplot as plt\n",
        "import time\n",
        "\n",
        "cuda = torch.cuda.is_available()\n",
        "cuda"
      ]
    },
    {
      "cell_type": "markdown",
      "metadata": {
        "id": "TYDtr07t9C3D"
      },
      "source": [
        "## Download the MNIST Train and Test set & Compute basic data statistics\n",
        "It is always important to know the shape of the data, as well as the min/max and mean/variance"
      ]
    },
    {
      "cell_type": "code",
      "execution_count": 3,
      "metadata": {
        "id": "NAKy_eyX9C3D",
        "outputId": "59de1891-1fa9-483b-f6bd-031a28fbb9f6",
        "colab": {
          "base_uri": "https://localhost:8080/"
        }
      },
      "outputs": [
        {
          "output_type": "stream",
          "name": "stderr",
          "text": [
            "/usr/local/lib/python3.7/dist-packages/torchvision/datasets/mnist.py:62: UserWarning: train_data has been renamed data\n",
            "  warnings.warn(\"train_data has been renamed data\")\n"
          ]
        },
        {
          "output_type": "stream",
          "name": "stdout",
          "text": [
            "[Train Data]\n",
            " - Numpy Shape: (28, 60000, 28)\n",
            " - Tensor Shape: torch.Size([28, 60000, 28])\n",
            " - min: tensor(0.)\n",
            " - max: tensor(1.)\n",
            " - mean: tensor(0.1307)\n",
            " - std: tensor(0.3081)\n",
            " - var: tensor(0.0949)\n",
            "\n",
            "[Train Labels]\n",
            " - Numpy Shape: (60000,)\n",
            " - Tensor Shape: torch.Size([60000])\n"
          ]
        },
        {
          "output_type": "stream",
          "name": "stderr",
          "text": [
            "/usr/local/lib/python3.7/dist-packages/torchvision/datasets/mnist.py:52: UserWarning: train_labels has been renamed targets\n",
            "  warnings.warn(\"train_labels has been renamed targets\")\n"
          ]
        }
      ],
      "source": [
        "train = MNIST('./data', train=True, download=True, transform=transforms.ToTensor())\n",
        "\n",
        "test = MNIST('./data', train=False, download=True, transform=transforms.ToTensor())\n",
        "train_data = train.train_data\n",
        "train_data = train.transform(train_data.numpy())\n",
        "\n",
        "print('[Train Data]')\n",
        "print(' - Numpy Shape:', train_data.cpu().numpy().shape)\n",
        "print(' - Tensor Shape:', train_data.size())\n",
        "print(' - min:', torch.min(train_data))\n",
        "print(' - max:', torch.max(train_data))\n",
        "print(' - mean:', torch.mean(train_data))\n",
        "print(' - std:', torch.std(train_data))\n",
        "print(' - var:', torch.var(train_data))\n",
        "\n",
        "print('\\n[Train Labels]')\n",
        "print(' - Numpy Shape:', train.train_labels.cpu().numpy().shape)\n",
        "print(' - Tensor Shape:', train.train_labels.size())"
      ]
    },
    {
      "cell_type": "markdown",
      "metadata": {
        "id": "lDp5mmVo9C3E"
      },
      "source": [
        "## Visualize a few training samples\n",
        "Using the matplotlib.pyplot library, we can visualize our input data.\n"
      ]
    },
    {
      "cell_type": "code",
      "execution_count": 6,
      "metadata": {
        "id": "ShpgWXVN9C3E",
        "outputId": "6bc0d27c-c9c0-4dc9-84d3-85624efbf30d",
        "colab": {
          "base_uri": "https://localhost:8080/",
          "height": 372
        }
      },
      "outputs": [
        {
          "output_type": "stream",
          "name": "stdout",
          "text": [
            "(28, 28)\n",
            "5\n"
          ]
        },
        {
          "output_type": "stream",
          "name": "stderr",
          "text": [
            "/usr/local/lib/python3.7/dist-packages/torchvision/datasets/mnist.py:62: UserWarning: train_data has been renamed data\n",
            "  warnings.warn(\"train_data has been renamed data\")\n",
            "/usr/local/lib/python3.7/dist-packages/torchvision/datasets/mnist.py:52: UserWarning: train_labels has been renamed targets\n",
            "  warnings.warn(\"train_labels has been renamed targets\")\n"
          ]
        },
        {
          "output_type": "display_data",
          "data": {
            "image/png": "[encoded data removed]",
            "text/plain": [
              "<Figure size 432x288 with 1 Axes>"
            ]
          },
          "metadata": {
            "needs_background": "light"
          }
        }
      ],
      "source": [
        "# Visualize a training instance with matplotlib\n",
        "print(train.train_data.cpu().numpy()[0].shape)\n",
        "plt.imshow(train.train_data.cpu().numpy()[0], cmap='gray')\n",
        "print (train.train_labels.cpu().numpy()[0])"
      ]
    },
    {
      "cell_type": "code",
      "execution_count": 7,
      "metadata": {
        "id": "g8xHFmAV9C3E",
        "outputId": "c2b32ef1-e70f-4582-afdb-58ab17681360",
        "colab": {
          "base_uri": "https://localhost:8080/",
          "height": 354
        }
      },
      "outputs": [
        {
          "output_type": "stream",
          "name": "stdout",
          "text": [
            "0\n"
          ]
        },
        {
          "output_type": "stream",
          "name": "stderr",
          "text": [
            "/usr/local/lib/python3.7/dist-packages/torchvision/datasets/mnist.py:62: UserWarning: train_data has been renamed data\n",
            "  warnings.warn(\"train_data has been renamed data\")\n",
            "/usr/local/lib/python3.7/dist-packages/torchvision/datasets/mnist.py:52: UserWarning: train_labels has been renamed targets\n",
            "  warnings.warn(\"train_labels has been renamed targets\")\n"
          ]
        },
        {
          "output_type": "display_data",
          "data": {
            "image/png": "[encoded data removed]",
            "text/plain": [
              "<Figure size 432x288 with 1 Axes>"
            ]
          },
          "metadata": {
            "needs_background": "light"
          }
        }
      ],
      "source": [
        "plt.imshow(train.train_data.cpu().numpy()[1], cmap='gray')\n",
        "print (train.train_labels.cpu().numpy()[1])"
      ]
    },
    {
      "cell_type": "markdown",
      "metadata": {
        "id": "oSW-PWXj9C3F"
      },
      "source": [
        "## Dataloader"
      ]
    },
    {
      "cell_type": "code",
      "execution_count": 8,
      "metadata": {
        "id": "3AHTPEN99C3F"
      },
      "outputs": [],
      "source": [
        "class MyDataset(data.Dataset):\n",
        "    def __init__(self, X, Y):\n",
        "        self.X = X\n",
        "        self.Y = Y\n",
        "\n",
        "    def __len__(self):\n",
        "        return len(self.Y)\n",
        "\n",
        "    def __getitem__(self,index):\n",
        "        X = self.X[index].float().reshape(-1) #flatten the input\n",
        "        Y = self.Y[index].long()\n",
        "        return X,Y"
      ]
    },
    {
      "cell_type": "markdown",
      "metadata": {
        "id": "20GlUhqW9C3F"
      },
      "source": [
        "Using the torch.utils.data DataLoader, we shuffle the data and set the batch size to be 256"
      ]
    },
    {
      "cell_type": "code",
      "execution_count": 9,
      "metadata": {
        "id": "oECOWrz09C3F",
        "outputId": "34934f15-efab-4c16-ce7a-9769ff4bdcb6",
        "colab": {
          "base_uri": "https://localhost:8080/"
        }
      },
      "outputs": [
        {
          "output_type": "stream",
          "name": "stderr",
          "text": [
            "/usr/local/lib/python3.7/dist-packages/torchvision/datasets/mnist.py:62: UserWarning: train_data has been renamed data\n",
            "  warnings.warn(\"train_data has been renamed data\")\n",
            "/usr/local/lib/python3.7/dist-packages/torchvision/datasets/mnist.py:52: UserWarning: train_labels has been renamed targets\n",
            "  warnings.warn(\"train_labels has been renamed targets\")\n",
            "/usr/local/lib/python3.7/dist-packages/torch/utils/data/dataloader.py:481: UserWarning: This DataLoader will create 8 worker processes in total. Our suggested max number of worker in current system is 2, which is smaller than what this DataLoader is going to create. Please be aware that excessive worker creation might get DataLoader running slow or even freeze, lower the worker number to avoid potential slowness/freeze if necessary.\n",
            "  cpuset_checked))\n",
            "/usr/local/lib/python3.7/dist-packages/torchvision/datasets/mnist.py:67: UserWarning: test_data has been renamed data\n",
            "  warnings.warn(\"test_data has been renamed data\")\n",
            "/usr/local/lib/python3.7/dist-packages/torchvision/datasets/mnist.py:57: UserWarning: test_labels has been renamed targets\n",
            "  warnings.warn(\"test_labels has been renamed targets\")\n"
          ]
        }
      ],
      "source": [
        "num_workers = 8 if cuda else 0 \n",
        "    \n",
        "# Training\n",
        "train_dataset = MyDataset(train.train_data, train.train_labels)\n",
        "\n",
        "train_loader_args = dict(shuffle=True, batch_size=256, num_workers=num_workers, pin_memory=True) if cuda\\\n",
        "                    else dict(shuffle=True, batch_size=64)\n",
        "train_loader = data.DataLoader(train_dataset, **train_loader_args)\n",
        "\n",
        "# Testing\n",
        "test_dataset = MyDataset(test.test_data, test.test_labels)\n",
        "\n",
        "test_loader_args = dict(shuffle=False, batch_size=256, num_workers=num_workers, pin_memory=True) if cuda\\\n",
        "                    else dict(shuffle=False, batch_size=1)\n",
        "test_loader = data.DataLoader(test_dataset, **test_loader_args)"
      ]
    },
    {
      "cell_type": "code",
      "execution_count": null,
      "metadata": {
        "id": "aXONnKq29C3G"
      },
      "outputs": [],
      "source": [
        "# train_loader = dataloader.DataLoader(train, **train_loader_args) \n",
        "# test_loader = dataloader.DataLoader(test, **test_loader_args)"
      ]
    },
    {
      "cell_type": "markdown",
      "metadata": {
        "id": "Ywkr5kBF9C3G"
      },
      "source": [
        "## Define our Neural Network Model \n",
        "We define our model using the torch.nn.Module class"
      ]
    },
    {
      "cell_type": "code",
      "execution_count": 10,
      "metadata": {
        "id": "UWrSMbXV9C3G"
      },
      "outputs": [],
      "source": [
        "# SIMPLE MODEL DEFINITION\n",
        "class Simple_MLP(nn.Module):\n",
        "    def __init__(self, size_list):\n",
        "        super(Simple_MLP, self).__init__()\n",
        "        layers = []\n",
        "        self.size_list = size_list\n",
        "        for i in range(len(size_list) - 2):\n",
        "            layers.append(nn.Linear(size_list[i],size_list[i+1]))\n",
        "            layers.append(nn.ReLU())\n",
        "        layers.append(nn.Linear(size_list[-2], size_list[-1]))\n",
        "        self.net = nn.Sequential(*layers)\n",
        "\n",
        "    def forward(self, x):\n",
        "        return self.net(x)\n",
        "\n"
      ]
    },
    {
      "cell_type": "markdown",
      "metadata": {
        "id": "xp260AvX9C3G"
      },
      "source": [
        "## Create the model and define the Loss and Optimizer\n",
        "We create an instance of our Simple_MLP model by passing it a list of layer sizes. The input layer contains 28*28 = 784 neurons. We define a single hidden layer of size 256, and our output will be the class probabilities for each of the 10 digits (0-9). \n",
        "\n",
        "Since this is a classification task, we will use Cross Entropy Loss. We define our criterion using the torch.nn.CrossEntropyLoss.\n",
        "\n",
        "In order to train our network, we use the torch.optim.SGD optimizer."
      ]
    },
    {
      "cell_type": "code",
      "execution_count": 11,
      "metadata": {
        "id": "GFLRymFY9C3G",
        "outputId": "7e2edf79-8be8-4dab-87b5-8d9456bee4ed",
        "colab": {
          "base_uri": "https://localhost:8080/"
        }
      },
      "outputs": [
        {
          "output_type": "stream",
          "name": "stdout",
          "text": [
            "Simple_MLP(\n",
            "  (net): Sequential(\n",
            "    (0): Linear(in_features=784, out_features=256, bias=True)\n",
            "    (1): ReLU()\n",
            "    (2): Linear(in_features=256, out_features=10, bias=True)\n",
            "  )\n",
            ")\n"
          ]
        }
      ],
      "source": [
        "model = Simple_MLP([784, 256, 10])\n",
        "criterion = nn.CrossEntropyLoss()\n",
        "optimizer = optim.Adam(model.parameters())\n",
        "device = torch.device(\"cuda\" if cuda else \"cpu\")\n",
        "model.to(device)\n",
        "print(model)"
      ]
    },
    {
      "cell_type": "markdown",
      "metadata": {
        "id": "7-_-4ZnO9C3H"
      },
      "source": [
        "## Create a function that will train the network for one epoch"
      ]
    },
    {
      "cell_type": "code",
      "execution_count": 12,
      "metadata": {
        "id": "SYvUyQy09C3H"
      },
      "outputs": [],
      "source": [
        "def train_epoch(model, train_loader, criterion, optimizer):\n",
        "    model.train()\n",
        "\n",
        "    running_loss = 0.0\n",
        "    \n",
        "    start_time = time.time()\n",
        "    for batch_idx, (data, target) in enumerate(train_loader):   \n",
        "        optimizer.zero_grad()   # .backward() accumulates gradients\n",
        "        data = data.to(device)\n",
        "        target = target.to(device) # all data & model on same device\n",
        "\n",
        "        outputs = model(data)\n",
        "        loss = criterion(outputs, target)\n",
        "        running_loss += loss.item()\n",
        "\n",
        "        loss.backward()\n",
        "        optimizer.step()\n",
        "    \n",
        "    end_time = time.time()\n",
        "    \n",
        "    running_loss /= len(train_loader)\n",
        "    print('Training Loss: ', running_loss, 'Time: ',end_time - start_time, 's')\n",
        "    return running_loss"
      ]
    },
    {
      "cell_type": "markdown",
      "metadata": {
        "id": "65dpwrH29C3H"
      },
      "source": [
        "## Create a function that will evaluate our network's performance on the test set"
      ]
    },
    {
      "cell_type": "code",
      "execution_count": 13,
      "metadata": {
        "id": "MFYF3XeP9C3H"
      },
      "outputs": [],
      "source": [
        "def test_model(model, test_loader, criterion):\n",
        "    with torch.no_grad():\n",
        "        model.eval()\n",
        "\n",
        "        running_loss = 0.0\n",
        "        total_predictions = 0.0\n",
        "        correct_predictions = 0.0\n",
        "\n",
        "        for batch_idx, (data, target) in enumerate(test_loader):   \n",
        "            data = data.to(device)\n",
        "            target = target.to(device)\n",
        "\n",
        "            outputs = model(data)\n",
        "\n",
        "            _, predicted = torch.max(outputs.data, 1)\n",
        "            total_predictions += target.size(0)\n",
        "            correct_predictions += (predicted == target).sum().item()\n",
        "\n",
        "            loss = criterion(outputs, target).detach()\n",
        "            running_loss += loss.item()\n",
        "\n",
        "\n",
        "        running_loss /= len(test_loader)\n",
        "        acc = (correct_predictions/total_predictions)*100.0\n",
        "        print('Testing Loss: ', running_loss)\n",
        "        print('Testing Accuracy: ', acc, '%')\n",
        "        return running_loss, acc\n"
      ]
    },
    {
      "cell_type": "markdown",
      "metadata": {
        "id": "vAywJQjB9C3H"
      },
      "source": [
        "## Train the model for N epochs\n",
        "We call our training and testing functions in a loop, while keeping track of the losses and accuracy. "
      ]
    },
    {
      "cell_type": "code",
      "execution_count": 14,
      "metadata": {
        "id": "faEUm83q9C3H",
        "outputId": "789c27bc-35a9-4d02-ccfd-f08a9a497ebf",
        "colab": {
          "base_uri": "https://localhost:8080/"
        }
      },
      "outputs": [
        {
          "output_type": "stream",
          "name": "stderr",
          "text": [
            "/usr/local/lib/python3.7/dist-packages/torch/utils/data/dataloader.py:481: UserWarning: This DataLoader will create 8 worker processes in total. Our suggested max number of worker in current system is 2, which is smaller than what this DataLoader is going to create. Please be aware that excessive worker creation might get DataLoader running slow or even freeze, lower the worker number to avoid potential slowness/freeze if necessary.\n",
            "  cpuset_checked))\n"
          ]
        },
        {
          "output_type": "stream",
          "name": "stdout",
          "text": [
            "Training Loss:  1.0655856600308673 Time:  2.32538104057312 s\n",
            "Testing Loss:  0.2295126497047022\n",
            "Testing Accuracy:  93.76 %\n",
            "====================\n",
            "Training Loss:  0.15305021210236752 Time:  2.191591262817383 s\n",
            "Testing Loss:  0.172979021188803\n",
            "Testing Accuracy:  95.53 %\n",
            "====================\n",
            "Training Loss:  0.09862491078674793 Time:  2.1924874782562256 s\n",
            "Testing Loss:  0.1582361724722432\n",
            "Testing Accuracy:  95.89 %\n",
            "====================\n",
            "Training Loss:  0.06934682804536312 Time:  2.2393805980682373 s\n",
            "Testing Loss:  0.1512956600286998\n",
            "Testing Accuracy:  96.32 %\n",
            "====================\n",
            "Training Loss:  0.05583359264035491 Time:  2.2174267768859863 s\n",
            "Testing Loss:  0.15175311809580308\n",
            "Testing Accuracy:  96.41 %\n",
            "====================\n",
            "Training Loss:  0.047284177595630604 Time:  2.1905252933502197 s\n",
            "Testing Loss:  0.15070858401704754\n",
            "Testing Accuracy:  96.69 %\n",
            "====================\n",
            "Training Loss:  0.04590319839127837 Time:  2.2741308212280273 s\n",
            "Testing Loss:  0.1491380286999629\n",
            "Testing Accuracy:  96.61 %\n",
            "====================\n",
            "Training Loss:  0.050806376516343434 Time:  2.210190773010254 s\n",
            "Testing Loss:  0.17167409588000737\n",
            "Testing Accuracy:  96.6 %\n",
            "====================\n",
            "Training Loss:  0.055930346924256774 Time:  2.1953587532043457 s\n",
            "Testing Loss:  0.18086049252810882\n",
            "Testing Accuracy:  96.39999999999999 %\n",
            "====================\n",
            "Training Loss:  0.05990209770289824 Time:  2.2075836658477783 s\n",
            "Testing Loss:  0.1862598096486181\n",
            "Testing Accuracy:  96.45 %\n",
            "====================\n"
          ]
        }
      ],
      "source": [
        "n_epochs = 10\n",
        "Train_loss = []\n",
        "Test_loss = []\n",
        "Test_acc = []\n",
        "\n",
        "for i in range(n_epochs):\n",
        "    train_loss = train_epoch(model, train_loader, criterion, optimizer)\n",
        "    test_loss, test_acc = test_model(model, test_loader, criterion)\n",
        "    Train_loss.append(train_loss)\n",
        "    Test_loss.append(test_loss)\n",
        "    Test_acc.append(test_acc)\n",
        "    print('='*20)"
      ]
    },
    {
      "cell_type": "markdown",
      "metadata": {
        "id": "NoLPmz2x9C3H"
      },
      "source": [
        "## Visualize Training Data"
      ]
    },
    {
      "cell_type": "code",
      "execution_count": 15,
      "metadata": {
        "scrolled": true,
        "id": "zgWseNyK9C3H",
        "outputId": "c50a5409-fd72-4387-ac2e-e268fc16a112",
        "colab": {
          "base_uri": "https://localhost:8080/",
          "height": 313
        }
      },
      "outputs": [
        {
          "output_type": "execute_result",
          "data": {
            "text/plain": [
              "[<matplotlib.lines.Line2D at 0x7f865b639e50>]"
            ]
          },
          "metadata": {},
          "execution_count": 15
        },
        {
          "output_type": "display_data",
          "data": {
            "image/png": "[encoded data removed]",
            "text/plain": [
              "<Figure size 432x288 with 1 Axes>"
            ]
          },
          "metadata": {
            "needs_background": "light"
          }
        }
      ],
      "source": [
        "plt.title('Training Loss')\n",
        "plt.xlabel('Epoch Number')\n",
        "plt.ylabel('Loss')\n",
        "plt.plot(Train_loss)"
      ]
    },
    {
      "cell_type": "code",
      "execution_count": 16,
      "metadata": {
        "id": "DkWaf6nS9C3H",
        "outputId": "b66a3fc7-6158-4634-9fcf-e6535fb24c62",
        "colab": {
          "base_uri": "https://localhost:8080/",
          "height": 313
        }
      },
      "outputs": [
        {
          "output_type": "execute_result",
          "data": {
            "text/plain": [
              "[<matplotlib.lines.Line2D at 0x7f865dfc2490>]"
            ]
          },
          "metadata": {},
          "execution_count": 16
        },
        {
          "output_type": "display_data",
          "data": {
            "image/png": "[encoded data removed]",
            "text/plain": [
              "<Figure size 432x288 with 1 Axes>"
            ]
          },
          "metadata": {
            "needs_background": "light"
          }
        }
      ],
      "source": [
        "plt.title('Test Loss')\n",
        "plt.xlabel('Epoch Number')\n",
        "plt.ylabel('Loss')\n",
        "plt.plot(Test_loss)\n"
      ]
    },
    {
      "cell_type": "code",
      "execution_count": 17,
      "metadata": {
        "scrolled": true,
        "id": "Z8IBOJmL9C3I",
        "outputId": "a0b05e35-5d25-44e3-ac62-168d9f7be36e",
        "colab": {
          "base_uri": "https://localhost:8080/",
          "height": 313
        }
      },
      "outputs": [
        {
          "output_type": "execute_result",
          "data": {
            "text/plain": [
              "[<matplotlib.lines.Line2D at 0x7f86b80ce250>]"
            ]
          },
          "metadata": {},
          "execution_count": 17
        },
        {
          "output_type": "display_data",
          "data": {
            "image/png": "[encoded data removed]",
            "text/plain": [
              "<Figure size 432x288 with 1 Axes>"
            ]
          },
          "metadata": {
            "needs_background": "light"
          }
        }
      ],
      "source": [
        "plt.title('Test Accuracy')\n",
        "plt.xlabel('Epoch Number')\n",
        "plt.ylabel('Accuracy (%)')\n",
        "plt.plot(Test_acc)\n",
        "\n"
      ]
    }
  ],
  "metadata": {
    "kernelspec": {
      "display_name": "Python 3",
      "language": "python",
      "name": "python3"
    },
    "language_info": {
      "codemirror_mode": {
        "name": "ipython",
        "version": 3
      },
      "file_extension": ".py",
      "mimetype": "text/x-python",
      "name": "python",
      "nbconvert_exporter": "python",
      "pygments_lexer": "ipython3",
      "version": "3.6.5"
    },
    "colab": {
      "name": "MNIST_example_F19.ipynb",
      "provenance": []
    },
    "accelerator": "GPU"
  },
  "nbformat": 4,
  "nbformat_minor": 0
}