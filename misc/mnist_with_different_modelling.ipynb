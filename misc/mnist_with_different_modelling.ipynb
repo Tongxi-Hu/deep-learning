{
  "nbformat": 4,
  "nbformat_minor": 0,
  "metadata": {
    "colab": {
      "name": "Untitled0.ipynb",
      "provenance": [],
      "authorship_tag": "ABX9TyNtYwmKi94KO8E8sMMnCAM2",
      "include_colab_link": true
    },
    "kernelspec": {
      "name": "python3",
      "display_name": "Python 3"
    },
    "language_info": {
      "name": "python"
    },
    "accelerator": "GPU"
  },
  "cells": [
    {
      "cell_type": "markdown",
      "metadata": {
        "id": "view-in-github",
        "colab_type": "text"
      },
      "source": [
        "<a href=\"https://colab.research.google.com/github/Tongxi-Hu/deep-learning/blob/main/misc/mnist_with_different_modelling.ipynb\" target=\"_parent\"><img src=\"https://colab.research.google.com/assets/colab-badge.svg\" alt=\"Open In Colab\"/></a>"
      ]
    },
    {
      "cell_type": "code",
      "execution_count": 1,
      "metadata": {
        "id": "EQhK5wWfK-7b"
      },
      "outputs": [],
      "source": [
        "import torch\n",
        "import torch.nn as nn\n",
        "import torch.optim as optim\n",
        "import torch.nn.functional as F\n",
        "from torch.utils.data import DataLoader\n",
        "import torchvision.datasets as datasets\n",
        "import torchvision.transforms as transforms"
      ]
    },
    {
      "cell_type": "markdown",
      "source": [
        "### 1-linear regression"
      ],
      "metadata": {
        "id": "O7xMIiXXM7qG"
      }
    },
    {
      "cell_type": "code",
      "source": [
        "class NN(nn.Module):\n",
        "    def __init__(self,input_size,num_classes) -> None:\n",
        "        super(NN,self).__init__()\n",
        "        self.fc1=nn.Linear(input_size,50)\n",
        "        self.fc2=nn.Linear(50,num_classes)\n",
        "    \n",
        "    def forward(self,x):\n",
        "        x=F.relu(self.fc1(x))\n",
        "        x=self.fc2(x)\n",
        "        return x\n",
        "\n",
        "model=NN(784,10)\n",
        "x=torch.randn(64,784)\n",
        "model(x).shape"
      ],
      "metadata": {
        "colab": {
          "base_uri": "https://localhost:8080/"
        },
        "id": "2vI4U2GHLj9r",
        "outputId": "c83d9812-afe6-4711-bb32-056fc7b77d38"
      },
      "execution_count": null,
      "outputs": [
        {
          "output_type": "execute_result",
          "data": {
            "text/plain": [
              "torch.Size([64, 10])"
            ]
          },
          "metadata": {},
          "execution_count": 2
        }
      ]
    },
    {
      "cell_type": "code",
      "source": [
        "device = torch.device('cuda' if torch.cuda.is_available else 'cpu')\n",
        "input_size=784\n",
        "num_classes=10\n",
        "learning_rate=0.001\n",
        "batch_size=64\n",
        "num_epochs=1"
      ],
      "metadata": {
        "id": "9w-SPemZMiVO"
      },
      "execution_count": null,
      "outputs": []
    },
    {
      "cell_type": "code",
      "source": [
        "train_dataset=datasets.MNIST(root='dataset/',train=True,transform=transforms.ToTensor(),download=True)\n",
        "train_loader=DataLoader(dataset=train_dataset,batch_size=batch_size,shuffle=True)\n",
        "test_dataset=datasets.MNIST(root='dataset/',train=False,transform=transforms.ToTensor(),download=True)\n",
        "test_loader=DataLoader(dataset=test_dataset,batch_size=batch_size,shuffle=True)"
      ],
      "metadata": {
        "id": "1G47qZzhNEy9"
      },
      "execution_count": null,
      "outputs": []
    },
    {
      "cell_type": "code",
      "source": [
        "model=NN(input_size=input_size,num_classes=num_classes).to(device)\n",
        "criterion=nn.CrossEntropyLoss()\n",
        "optimizer=optim.Adam(model.parameters(),lr=learning_rate)"
      ],
      "metadata": {
        "id": "pUL8L2C5NxjD"
      },
      "execution_count": null,
      "outputs": []
    },
    {
      "cell_type": "code",
      "source": [
        "for epoch in range(num_epochs):\n",
        "    for batch_idx, (data, targets) in enumerate(train_loader):\n",
        "        data=data.to(device=device).reshape(data.shape[0],-1)\n",
        "        targets=targets.to(device=device)\n",
        "        scores=model(data)\n",
        "        loss=criterion(scores,targets)\n",
        "        optimizer.zero_grad()\n",
        "        loss.backward()\n",
        "        optimizer.step()"
      ],
      "metadata": {
        "id": "631iPu9dOLRa"
      },
      "execution_count": null,
      "outputs": []
    },
    {
      "cell_type": "code",
      "source": [
        "def check_accuracy(loader,model):\n",
        "    num_correct=0\n",
        "    num_samples=0\n",
        "    model.eval()\n",
        "    with torch.no_grad():\n",
        "        for x, y in loader:\n",
        "            x=x.to(device=device).reshape(x.shape[0],-1)\n",
        "            y=y.to(device=device)\n",
        "            scores=model(x)\n",
        "            _,prediction=scores.max(1)\n",
        "            num_correct+=(prediction==y).sum()\n",
        "            num_samples+=prediction.size(0)\n",
        "        print(f'{float(num_correct)/float(num_samples)}')\n",
        "\n",
        "check_accuracy(train_loader,model)\n",
        "check_accuracy(test_loader,model)"
      ],
      "metadata": {
        "colab": {
          "base_uri": "https://localhost:8080/"
        },
        "id": "nYlADNoVPVJT",
        "outputId": "44c05f3b-3cab-4152-cf5d-156e8ddf0068"
      },
      "execution_count": null,
      "outputs": [
        {
          "output_type": "stream",
          "name": "stdout",
          "text": [
            "0.9272333333333334\n",
            "0.927\n"
          ]
        }
      ]
    },
    {
      "cell_type": "markdown",
      "source": [
        "### 2-CNN\n",
        "\n",
        "\n"
      ],
      "metadata": {
        "id": "idT9Uw30JQsY"
      }
    },
    {
      "cell_type": "code",
      "source": [
        "class CNN(nn.Module):\n",
        "    def __init__(self,in_channels=1,num_classes=10) -> None:\n",
        "        super(CNN,self).__init__()\n",
        "        self.conv1=nn.Conv2d(in_channels=1,out_channels=8,kernel_size=(3,3),stride=(1,1),padding=(1,1))\n",
        "        self.pool=nn.MaxPool2d(kernel_size=(2,2),stride=(2,2))\n",
        "        self.conv2=nn.Conv2d(in_channels=8,out_channels=16,kernel_size=(3,3),stride=(1,1),padding=(1,1))\n",
        "        self.fc1=nn.Linear(16*7*7,num_classes)\n",
        "    def forward(self,x):\n",
        "        x=F.relu(self.conv1(x))\n",
        "        x=self.pool(x)\n",
        "        x=F.relu(self.conv2(x))\n",
        "        x=self.pool(x)\n",
        "        x=x.reshape(x.shape[0],-1)\n",
        "        x=self.fc1(x)\n",
        "        return x\n",
        "\n",
        "model=CNN()\n",
        "x=torch.randn(64,1,28,28)\n",
        "model(x).shape"
      ],
      "metadata": {
        "id": "AjhGScTsJtMV",
        "outputId": "7e2909d4-b0d4-4f4a-c05f-fa11bd6ac894",
        "colab": {
          "base_uri": "https://localhost:8080/"
        }
      },
      "execution_count": 4,
      "outputs": [
        {
          "output_type": "execute_result",
          "data": {
            "text/plain": [
              "torch.Size([64, 10])"
            ]
          },
          "metadata": {},
          "execution_count": 4
        }
      ]
    },
    {
      "cell_type": "code",
      "source": [
        "device = torch.device('cuda' if torch.cuda.is_available else 'cpu')\n",
        "in_channel=1\n",
        "num_classes=10\n",
        "learning_rate=0.001\n",
        "batch_size=64\n",
        "num_epochs=1"
      ],
      "metadata": {
        "id": "MUz51CKaLm4_"
      },
      "execution_count": 5,
      "outputs": []
    },
    {
      "cell_type": "code",
      "source": [
        "model=CNN(in_channels=in_channel,num_classes=num_classes).to(device)\n",
        "criterion=nn.CrossEntropyLoss()\n",
        "optimizer=optim.Adam(model.parameters(),lr=learning_rate)"
      ],
      "metadata": {
        "id": "jZi5yNXBL49A"
      },
      "execution_count": 7,
      "outputs": []
    },
    {
      "cell_type": "code",
      "source": [
        "for epoch in range(num_epochs):\n",
        "    for batch_idx, (data, targets) in enumerate(train_loader):\n",
        "        data=data.to(device=device)\n",
        "        targets=targets.to(device=device)\n",
        "        scores=model(data)\n",
        "        loss=criterion(scores,targets)\n",
        "        optimizer.zero_grad()\n",
        "        loss.backward()\n",
        "        optimizer.step()"
      ],
      "metadata": {
        "id": "CyaXnzvHMMFu"
      },
      "execution_count": 8,
      "outputs": []
    },
    {
      "cell_type": "code",
      "source": [
        "check_accuracy(train_loader,model)\n",
        "check_accuracy(test_loader,model)"
      ],
      "metadata": {
        "id": "lT5vnEJXMThg",
        "outputId": "164d4c94-d8ec-47ea-c2a7-b5383dd33a9c",
        "colab": {
          "base_uri": "https://localhost:8080/"
        }
      },
      "execution_count": 9,
      "outputs": [
        {
          "output_type": "stream",
          "name": "stdout",
          "text": [
            "0.9679166666666666\n",
            "0.9709\n"
          ]
        }
      ]
    },
    {
      "cell_type": "markdown",
      "source": [
        "### 3-RNN"
      ],
      "metadata": {
        "id": "DzUQyebSMeqj"
      }
    },
    {
      "cell_type": "code",
      "source": [
        "class RNN(nn.Module):\n",
        "    def __init__(self,input_size,hidden_size,num_layers,num_classes) -> None:\n",
        "        super(RNN,self).__init__()\n",
        "        self.hidden_size=hidden_size\n",
        "        self.num_layers=num_layers\n",
        "        self.rnn=nn.RNN(input_size,hidden_size,num_layers,batch_first=True)\n",
        "        self.fc=nn.Linear(hidden_size*sequence_length,num_classes)\n",
        "    \n",
        "    def forward(self,x):\n",
        "        h0=torch.zeros(self.num_layers,x.size(0),self.hidden_size).to(device)\n",
        "        out,_=self.rnn(x,h0)\n",
        "        out=out.reshape(out.shape[0],-1)\n",
        "        out=self.fc(out)\n",
        "        return out"
      ],
      "metadata": {
        "id": "BsHvuk7TNUXS"
      },
      "execution_count": 10,
      "outputs": []
    },
    {
      "cell_type": "code",
      "source": [
        "device = torch.device('cuda' if torch.cuda.is_available else 'cpu')\n",
        "input_size=28\n",
        "sequence_length=28\n",
        "num_layers=2\n",
        "hidden_size=256\n",
        "num_classes=10\n",
        "learning_rate=0.001\n",
        "batch_size=64\n",
        "num_epochs=2"
      ],
      "metadata": {
        "id": "XTdmWzj2M07i"
      },
      "execution_count": 11,
      "outputs": []
    },
    {
      "cell_type": "code",
      "source": [
        "model=RNN(input_size,hidden_size,num_layers,num_classes).to(device)\n",
        "criterion=nn.CrossEntropyLoss()\n",
        "optimizer=optim.Adam(model.parameters(),lr=learning_rate)"
      ],
      "metadata": {
        "id": "yrf2zeB9Oq2P"
      },
      "execution_count": 13,
      "outputs": []
    },
    {
      "cell_type": "code",
      "source": [
        "for epoch in range(num_epochs):\n",
        "    for batch_idx, (data, targets) in enumerate(train_loader):\n",
        "        data=data.to(device=device).squeeze(1)\n",
        "        targets=targets.to(device=device)\n",
        "        scores=model(data)\n",
        "        loss=criterion(scores,targets)\n",
        "        optimizer.zero_grad()\n",
        "        loss.backward()\n",
        "        optimizer.step()"
      ],
      "metadata": {
        "id": "WbhVVaY6O6g2"
      },
      "execution_count": 14,
      "outputs": []
    },
    {
      "cell_type": "code",
      "source": [
        "check_accuracy(train_loader,model)\n",
        "check_accuracy(test_loader,model)"
      ],
      "metadata": {
        "id": "sRu3fmHLPJHy",
        "outputId": "aea0253f-7e48-4fb2-c564-d9fcc0c1417a",
        "colab": {
          "base_uri": "https://localhost:8080/"
        }
      },
      "execution_count": 16,
      "outputs": [
        {
          "output_type": "stream",
          "name": "stdout",
          "text": [
            "0.9651833333333333\n",
            "0.9635\n"
          ]
        }
      ]
    },
    {
      "cell_type": "markdown",
      "source": [
        "### 4-GRU"
      ],
      "metadata": {
        "id": "6ffXJlmNPa_y"
      }
    },
    {
      "cell_type": "code",
      "source": [
        "class GRU(nn.Module):\n",
        "    def __init__(self,input_size,hidden_size,num_layers,num_classes) -> None:\n",
        "        super(GRU,self).__init__()\n",
        "        self.hidden_size=hidden_size\n",
        "        self.num_layers=num_layers\n",
        "        self.gru=nn.GRU(input_size,hidden_size,num_layers,batch_first=True)\n",
        "        self.fc=nn.Linear(hidden_size*sequence_length,num_classes)\n",
        "    \n",
        "    def forward(self,x):\n",
        "        h0=torch.zeros(self.num_layers,x.size(0),self.hidden_size).to(device)\n",
        "        out,_=self.gru(x,h0)\n",
        "        out=out.reshape(out.shape[0],-1)\n",
        "        out=self.fc(out)\n",
        "        return out"
      ],
      "metadata": {
        "id": "9x7CWuUuPmE6"
      },
      "execution_count": 17,
      "outputs": []
    },
    {
      "cell_type": "code",
      "source": [
        "model=GRU(input_size,hidden_size,num_layers,num_classes).to(device)\n",
        "criterion=nn.CrossEntropyLoss()\n",
        "optimizer=optim.Adam(model.parameters(),lr=learning_rate)"
      ],
      "metadata": {
        "id": "wgmUKlYfP3Ax"
      },
      "execution_count": 18,
      "outputs": []
    },
    {
      "cell_type": "code",
      "source": [
        "for epoch in range(num_epochs):\n",
        "    for batch_idx, (data, targets) in enumerate(train_loader):\n",
        "        data=data.to(device=device).squeeze(1)\n",
        "        targets=targets.to(device=device)\n",
        "        scores=model(data)\n",
        "        loss=criterion(scores,targets)\n",
        "        optimizer.zero_grad()\n",
        "        loss.backward()\n",
        "        optimizer.step()"
      ],
      "metadata": {
        "id": "tCHKJ06RP77o"
      },
      "execution_count": 19,
      "outputs": []
    },
    {
      "cell_type": "code",
      "source": [
        "check_accuracy(train_loader,model)\n",
        "check_accuracy(test_loader,model)"
      ],
      "metadata": {
        "id": "52mns9G0P_14",
        "outputId": "ea1a5f95-7b72-4e8d-d037-dd43a3fd3dc5",
        "colab": {
          "base_uri": "https://localhost:8080/"
        }
      },
      "execution_count": 20,
      "outputs": [
        {
          "output_type": "stream",
          "name": "stdout",
          "text": [
            "0.9843666666666666\n",
            "0.9835\n"
          ]
        }
      ]
    },
    {
      "cell_type": "markdown",
      "source": [
        "### 5-LSTM"
      ],
      "metadata": {
        "id": "7VvZjFHPQiix"
      }
    },
    {
      "cell_type": "code",
      "source": [
        "class LSTM(nn.Module):\n",
        "    def __init__(self,input_size,hidden_size,num_layers,num_classes) -> None:\n",
        "        super(LSTM,self).__init__()\n",
        "        self.hidden_size=hidden_size\n",
        "        self.num_layers=num_layers\n",
        "        self.lstm=nn.LSTM(input_size,hidden_size,num_layers,batch_first=True)\n",
        "        self.fc=nn.Linear(hidden_size*sequence_length,num_classes)\n",
        "    \n",
        "    def forward(self,x):\n",
        "        h0=torch.zeros(self.num_layers,x.size(0),self.hidden_size).to(device)\n",
        "        c0=torch.zeros(self.num_layers,x.size(0),self.hidden_size).to(device)\n",
        "        out,_=self.lstm(x,(h0,c0))\n",
        "        out=out.reshape(out.shape[0],-1)\n",
        "        out=self.fc(out)\n",
        "        return out"
      ],
      "metadata": {
        "id": "2oyOkRNrQkd7"
      },
      "execution_count": 21,
      "outputs": []
    },
    {
      "cell_type": "code",
      "source": [
        "model=LSTM(input_size,hidden_size,num_layers,num_classes).to(device)\n",
        "criterion=nn.CrossEntropyLoss()\n",
        "optimizer=optim.Adam(model.parameters(),lr=learning_rate)"
      ],
      "metadata": {
        "id": "V4_cEmrgQ65o"
      },
      "execution_count": 22,
      "outputs": []
    },
    {
      "cell_type": "code",
      "source": [
        "for epoch in range(num_epochs):\n",
        "    for batch_idx, (data, targets) in enumerate(train_loader):\n",
        "        data=data.to(device=device).squeeze(1)\n",
        "        targets=targets.to(device=device)\n",
        "        scores=model(data)\n",
        "        loss=criterion(scores,targets)\n",
        "        optimizer.zero_grad()\n",
        "        loss.backward()\n",
        "        optimizer.step()"
      ],
      "metadata": {
        "id": "s-TuyAecQ9Yv"
      },
      "execution_count": 23,
      "outputs": []
    },
    {
      "cell_type": "code",
      "source": [
        "check_accuracy(train_loader,model)\n",
        "check_accuracy(test_loader,model)"
      ],
      "metadata": {
        "id": "bVCN9wBDQ_0u",
        "outputId": "c7127db2-cf60-4fe5-d1e9-f7e0b61131b2",
        "colab": {
          "base_uri": "https://localhost:8080/"
        }
      },
      "execution_count": 24,
      "outputs": [
        {
          "output_type": "stream",
          "name": "stdout",
          "text": [
            "0.9858833333333333\n",
            "0.9853\n"
          ]
        }
      ]
    }
  ]
}