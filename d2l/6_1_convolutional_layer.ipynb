{
  "nbformat": 4,
  "nbformat_minor": 0,
  "metadata": {
    "colab": {
      "name": "Untitled0.ipynb",
      "provenance": [],
      "authorship_tag": "ABX9TyM+gmD9YS6WYiZ9LDXhtPCU",
      "include_colab_link": true
    },
    "kernelspec": {
      "name": "python3",
      "display_name": "Python 3"
    },
    "language_info": {
      "name": "python"
    }
  },
  "cells": [
    {
      "cell_type": "markdown",
      "metadata": {
        "id": "view-in-github",
        "colab_type": "text"
      },
      "source": [
        "<a href=\"https://colab.research.google.com/github/Tongxi-Hu/deep-learning/blob/main/d2l/6_1_convolutional_layer.ipynb\" target=\"_parent\"><img src=\"https://colab.research.google.com/assets/colab-badge.svg\" alt=\"Open In Colab\"/></a>"
      ]
    },
    {
      "cell_type": "markdown",
      "source": [
        "# 6-1 2d-convolution"
      ],
      "metadata": {
        "id": "0uwkWac9-jvz"
      }
    },
    {
      "cell_type": "markdown",
      "source": [
        "###6-1-1 construction convolutional layer"
      ],
      "metadata": {
        "id": "fwFRkYITCAAi"
      }
    },
    {
      "cell_type": "code",
      "execution_count": null,
      "metadata": {
        "id": "RWEt8FM_-isj"
      },
      "outputs": [],
      "source": [
        "!pip3 install d2l\n",
        "import torch\n",
        "from torch import nn\n",
        "from d2l import torch as d2l"
      ]
    },
    {
      "cell_type": "code",
      "source": [
        "def corr2d(X,K):\n",
        "    \"\"\"Compute 2D cross-correlation.\"\"\"\n",
        "    h,w=K.shape\n",
        "    Y=torch.zeros((X.shape[0]-h+1,X.shape[1]-w+1))\n",
        "    for i in range(Y.shape[0]):\n",
        "        for j in range(Y.shape[1]):\n",
        "            Y[i,j]=(X[i:i+h,j:j+w]*K).sum()\n",
        "    return Y"
      ],
      "metadata": {
        "id": "Zwt0WBrQ_HdL"
      },
      "execution_count": 6,
      "outputs": []
    },
    {
      "cell_type": "code",
      "source": [
        "X = torch.tensor([[0.0, 1.0, 2.0], [3.0, 4.0, 5.0], [6.0, 7.0, 8.0]])\n",
        "K = torch.tensor([[0.0, 1.0], [2.0, 3.0]])\n",
        "corr2d(X, K)"
      ],
      "metadata": {
        "colab": {
          "base_uri": "https://localhost:8080/"
        },
        "id": "jAFey8Fn_3o_",
        "outputId": "a470c6fe-0494-48b0-ee27-b75ad1c5f1f9"
      },
      "execution_count": 7,
      "outputs": [
        {
          "output_type": "execute_result",
          "data": {
            "text/plain": [
              "tensor([[19., 25.],\n",
              "        [37., 43.]])"
            ]
          },
          "metadata": {},
          "execution_count": 7
        }
      ]
    },
    {
      "cell_type": "code",
      "source": [
        "#convolutional layer\n",
        "class Conv2D(nn.Module):\n",
        "    def __init__(self,kernel_size) -> None:\n",
        "        super().__init__()\n",
        "        self.weight=nn.Parameter(torch.rand(kernel_size))\n",
        "        self.bias=nn.Parameter(torch.zero(1))\n",
        "    def forward(self,x):\n",
        "        return corr2d(x,self.weight)+self.bias"
      ],
      "metadata": {
        "id": "UI2kM61xAQRi"
      },
      "execution_count": 8,
      "outputs": []
    },
    {
      "cell_type": "code",
      "source": [
        "X=torch.ones((6,8))\n",
        "X[:,2:6]=0\n",
        "X"
      ],
      "metadata": {
        "colab": {
          "base_uri": "https://localhost:8080/"
        },
        "id": "b_cVzMqABA0j",
        "outputId": "baa343da-3913-47b2-ffd3-3021a98bcdb2"
      },
      "execution_count": 9,
      "outputs": [
        {
          "output_type": "execute_result",
          "data": {
            "text/plain": [
              "tensor([[1., 1., 0., 0., 0., 0., 1., 1.],\n",
              "        [1., 1., 0., 0., 0., 0., 1., 1.],\n",
              "        [1., 1., 0., 0., 0., 0., 1., 1.],\n",
              "        [1., 1., 0., 0., 0., 0., 1., 1.],\n",
              "        [1., 1., 0., 0., 0., 0., 1., 1.],\n",
              "        [1., 1., 0., 0., 0., 0., 1., 1.]])"
            ]
          },
          "metadata": {},
          "execution_count": 9
        }
      ]
    },
    {
      "cell_type": "code",
      "source": [
        "K=torch.tensor([[1.0,-1.0]])\n",
        "#if horizontally adjacent elements are the same, the output is 0,\n",
        "#Otherwise, the output is non-zero.\n",
        "#we detect 1 for the edge from white to black and -1 for the edge from black to white. \n",
        "#All other outputs take value 0.\n",
        "Y=corr2d(X,K)\n",
        "Y"
      ],
      "metadata": {
        "colab": {
          "base_uri": "https://localhost:8080/"
        },
        "id": "Uk-QXbpMBJD4",
        "outputId": "50aaa754-4209-4768-8311-f6069193fd25"
      },
      "execution_count": 11,
      "outputs": [
        {
          "output_type": "execute_result",
          "data": {
            "text/plain": [
              "tensor([[ 0.,  1.,  0.,  0.,  0., -1.,  0.],\n",
              "        [ 0.,  1.,  0.,  0.,  0., -1.,  0.],\n",
              "        [ 0.,  1.,  0.,  0.,  0., -1.,  0.],\n",
              "        [ 0.,  1.,  0.,  0.,  0., -1.,  0.],\n",
              "        [ 0.,  1.,  0.,  0.,  0., -1.,  0.],\n",
              "        [ 0.,  1.,  0.,  0.,  0., -1.,  0.]])"
            ]
          },
          "metadata": {},
          "execution_count": 11
        }
      ]
    },
    {
      "cell_type": "code",
      "source": [
        "corr2d(X.t(), K)\n",
        "#The kernel K only detects vertical edges."
      ],
      "metadata": {
        "colab": {
          "base_uri": "https://localhost:8080/"
        },
        "id": "uj6kULMpB02d",
        "outputId": "80517c9f-a0c2-4ba0-a626-ceb3deb6d263"
      },
      "execution_count": 12,
      "outputs": [
        {
          "output_type": "execute_result",
          "data": {
            "text/plain": [
              "tensor([[0., 0., 0., 0., 0.],\n",
              "        [0., 0., 0., 0., 0.],\n",
              "        [0., 0., 0., 0., 0.],\n",
              "        [0., 0., 0., 0., 0.],\n",
              "        [0., 0., 0., 0., 0.],\n",
              "        [0., 0., 0., 0., 0.],\n",
              "        [0., 0., 0., 0., 0.],\n",
              "        [0., 0., 0., 0., 0.]])"
            ]
          },
          "metadata": {},
          "execution_count": 12
        }
      ]
    },
    {
      "cell_type": "code",
      "source": [
        "#Learning a Kernel\n",
        "conv2d=nn.Conv2d(1,1,kernel_size=(1,2),bias=False)\n",
        "X=X.reshape(1,1,6,8)\n",
        "Y=Y.reshape(1,1,6,7)\n",
        "for i in range(10):\n",
        "    Y_hat=conv2d(X)\n",
        "    l=(Y_hat-Y)**2\n",
        "    conv2d.zero_grad()\n",
        "    l.sum().backward()\n",
        "    conv2d.weight.data[:]-=3e-2*conv2d.weight.grad\n",
        "    if(i+1)%2==0:\n",
        "        print(f'batch{i+1}, loss{l.sum():.3f}')\n",
        "print(conv2d.weight.data.reshape((1,2)))"
      ],
      "metadata": {
        "colab": {
          "base_uri": "https://localhost:8080/"
        },
        "id": "9gFCfZtYCIC2",
        "outputId": "d5ed6e97-9939-4f75-beef-d8d5b7e7dfc0"
      },
      "execution_count": 16,
      "outputs": [
        {
          "output_type": "stream",
          "name": "stdout",
          "text": [
            "batch2, loss2.238\n",
            "batch4, loss0.397\n",
            "batch6, loss0.075\n",
            "batch8, loss0.016\n",
            "batch10, loss0.004\n",
            "tensor([[ 0.9975, -0.9872]])\n"
          ]
        }
      ]
    },
    {
      "cell_type": "markdown",
      "source": [
        "###6-1-2 Padding and Stride"
      ],
      "metadata": {
        "id": "bK2JbBtrGdJH"
      }
    },
    {
      "cell_type": "code",
      "source": [
        "import torch \n",
        "from torch import nn\n",
        "#padding to preserve size\n",
        "def comp_conv2d(cov2d,X):\n",
        "    X=X.reshape((1,1)+X.shape)\n",
        "    Y=cov2d(X)\n",
        "    return Y.reshape(Y.shape[2:])\n",
        "conv2d=nn.Conv2d(1,1,kernel_size=3,padding=1)\n",
        "X=torch.rand((8,8))\n",
        "comp_conv2d(conv2d,X).shape"
      ],
      "metadata": {
        "colab": {
          "base_uri": "https://localhost:8080/"
        },
        "id": "SjphA4JaGc2Y",
        "outputId": "fdad8440-1381-43a5-bb38-000670724977"
      },
      "execution_count": 17,
      "outputs": [
        {
          "output_type": "execute_result",
          "data": {
            "text/plain": [
              "torch.Size([8, 8])"
            ]
          },
          "metadata": {},
          "execution_count": 17
        }
      ]
    },
    {
      "cell_type": "code",
      "source": [
        "# Here, we use a convolution kernel with a height of 5 and a width of 3. The\n",
        "# padding numbers on either side of the height and width are 2 and 1,\n",
        "# respectively\n",
        "conv2d = nn.Conv2d(1, 1, kernel_size=(5, 3), padding=(2, 1))\n",
        "comp_conv2d(conv2d, X).shape"
      ],
      "metadata": {
        "colab": {
          "base_uri": "https://localhost:8080/"
        },
        "id": "H5CSZh-sLyt1",
        "outputId": "6ea06ec1-4453-422e-d96d-4fad4170cb4f"
      },
      "execution_count": 19,
      "outputs": [
        {
          "output_type": "execute_result",
          "data": {
            "text/plain": [
              "torch.Size([8, 8])"
            ]
          },
          "metadata": {},
          "execution_count": 19
        }
      ]
    },
    {
      "cell_type": "code",
      "source": [
        "#stride to shrink size\n",
        "conv2d = nn.Conv2d(1, 1, kernel_size=3, padding=1, stride=2)\n",
        "comp_conv2d(conv2d, X).shape"
      ],
      "metadata": {
        "colab": {
          "base_uri": "https://localhost:8080/"
        },
        "id": "1RW-PQfPLfu-",
        "outputId": "e4496fae-a089-4bb5-8e2e-ad6cbb45247f"
      },
      "execution_count": 18,
      "outputs": [
        {
          "output_type": "execute_result",
          "data": {
            "text/plain": [
              "torch.Size([4, 4])"
            ]
          },
          "metadata": {},
          "execution_count": 18
        }
      ]
    },
    {
      "cell_type": "code",
      "source": [
        "conv2d=nn.Conv2d(1,1,kernel_size=(3,5),padding=(0,1),stride=(3,4))\n",
        "comp_conv2d(conv2d,X).shape"
      ],
      "metadata": {
        "colab": {
          "base_uri": "https://localhost:8080/"
        },
        "id": "SGS2BNfOLnPK",
        "outputId": "5eb6932a-db00-41af-eb3a-2b7265873225"
      },
      "execution_count": 20,
      "outputs": [
        {
          "output_type": "execute_result",
          "data": {
            "text/plain": [
              "torch.Size([2, 2])"
            ]
          },
          "metadata": {},
          "execution_count": 20
        }
      ]
    }
  ]
}